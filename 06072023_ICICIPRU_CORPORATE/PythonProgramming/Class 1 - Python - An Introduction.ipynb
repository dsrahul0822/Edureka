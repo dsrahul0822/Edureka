{
 "cells": [
  {
   "cell_type": "markdown",
   "id": "26cb67a9",
   "metadata": {},
   "source": [
    "# Class 1 - Python - An Introduction "
   ]
  },
  {
   "cell_type": "code",
   "execution_count": 7,
   "id": "bb639b46",
   "metadata": {},
   "outputs": [],
   "source": [
    "#Python - An open source programming language \n",
    "#Multi purpose programming language \n",
    "#\t1) Desktop Application \n",
    "#\t2) Web Application (Django/Flask) \n",
    "#\t3) Data Application\n",
    "#\t4) Network Application\n",
    "#\t5) Data Analytics or Data Science \n",
    "#\t\ta) Machine Learning\n",
    "#\t\tb) Artificial Intelligence\n",
    "#\t6) IoT Application\n",
    "#\t7) Automation\n",
    "#\t8) Integratable with Various other programming languages\n",
    "\t\n",
    "#Challenges \n",
    "#\t1) Slow programming language\n",
    "#\t2) Mobile Application\n",
    "\t\n",
    "#It is very easy to understand, its like an english language \n",
    "\n",
    "#3 ways to install Python \n",
    "#\ta) Python.org\n",
    "#\tb) Anaconda.com (Prefer) \n",
    "#\tc) Google Colab \n",
    "\n",
    "#pip - Package management system \n",
    "#\tInstallation and uninstallation of the packages \n",
    "\n",
    "#To get the list of packages \n",
    "#pip list \n",
    "\n",
    "#To install any package\n",
    "#pip install packagename \n",
    "#For ex: pip install seaborn \n",
    "#conda install packagename\n",
    "#For ex: conda install seaborn \n",
    "\n",
    "#To uninstall any package\n",
    "#pip uninstall packagename\n",
    "#For ex: pip uninstall seaborn\n",
    "#conda uninstall packagename\n",
    "#For ex: conda uninstall seaborn\n",
    "\n",
    "#Anaconda Navigator\n",
    "#It helps to launch the ides (Integrated development environment) \n",
    "#Jupyter Notebook (We will use this)  \n",
    "#Pycharm \n",
    "#Spyder\n",
    "#Jupyter Lab "
   ]
  },
  {
   "cell_type": "markdown",
   "id": "9a06615a",
   "metadata": {},
   "source": [
    "**Generate 6 digits OTP number - 10 times** "
   ]
  },
  {
   "cell_type": "code",
   "execution_count": 9,
   "id": "4ee7c503",
   "metadata": {},
   "outputs": [
    {
     "name": "stdout",
     "output_type": "stream",
     "text": [
      "5 5 8 4 8 9\n",
      "2 6 7 1 7 3\n",
      "3 9 1 7 7 3\n",
      "8 9 7 9 7 6\n",
      "4 6 0 1 0 6\n",
      "5 4 9 4 0 2\n",
      "5 8 5 4 6 6\n",
      "4 2 6 0 3 4\n",
      "3 1 0 7 8 3\n",
      "0 2 2 2 1 5\n"
     ]
    }
   ],
   "source": [
    "from random import *\n",
    "for i in range(0,10):\n",
    "    print(randint(0,9),randint(0,9),randint(0,9),randint(0,9),randint(0,9),randint(0,9))"
   ]
  },
  {
   "cell_type": "code",
   "execution_count": 19,
   "id": "89b2dd35",
   "metadata": {},
   "outputs": [],
   "source": [
    "company_name = \"ICICI PRU\""
   ]
  },
  {
   "cell_type": "code",
   "execution_count": 15,
   "id": "952f83bc",
   "metadata": {},
   "outputs": [
    {
     "data": {
      "text/plain": [
       "str"
      ]
     },
     "execution_count": 15,
     "metadata": {},
     "output_type": "execute_result"
    }
   ],
   "source": [
    "#Identifier/Variable name\n",
    "type(company_name)"
   ]
  },
  {
   "cell_type": "code",
   "execution_count": 21,
   "id": "fae25c10",
   "metadata": {},
   "outputs": [
    {
     "data": {
      "text/plain": [
       "float"
      ]
     },
     "execution_count": 21,
     "metadata": {},
     "output_type": "execute_result"
    }
   ],
   "source": [
    "age = 23.5\n",
    "type(age)"
   ]
  },
  {
   "cell_type": "code",
   "execution_count": 20,
   "id": "fb234cc3",
   "metadata": {},
   "outputs": [
    {
     "data": {
      "text/plain": [
       "23"
      ]
     },
     "execution_count": 20,
     "metadata": {},
     "output_type": "execute_result"
    }
   ],
   "source": [
    "age"
   ]
  },
  {
   "cell_type": "code",
   "execution_count": 23,
   "id": "58013e5b",
   "metadata": {},
   "outputs": [],
   "source": [
    "sales = 150.5\n",
    "a = sales>100"
   ]
  },
  {
   "cell_type": "code",
   "execution_count": 25,
   "id": "8d3aa3d4",
   "metadata": {},
   "outputs": [
    {
     "data": {
      "text/plain": [
       "bool"
      ]
     },
     "execution_count": 25,
     "metadata": {},
     "output_type": "execute_result"
    }
   ],
   "source": [
    "type(a)"
   ]
  },
  {
   "cell_type": "code",
   "execution_count": 26,
   "id": "39bcab73",
   "metadata": {},
   "outputs": [],
   "source": [
    "#Dynamically typed programming language "
   ]
  },
  {
   "cell_type": "code",
   "execution_count": 27,
   "id": "e5b0cf24",
   "metadata": {},
   "outputs": [],
   "source": [
    "#String - Str\n",
    "#Integer - Int\n",
    "#Decimals - Float \n",
    "#Boolean - Bool"
   ]
  },
  {
   "cell_type": "code",
   "execution_count": 41,
   "id": "3cae7675",
   "metadata": {},
   "outputs": [],
   "source": [
    "#instructor_name\n",
    "#instructor$name\n",
    "#instructor~name = 'Rahul'\n",
    "#We cannot use any other special characters except _ (underscore) while giving the variable name\n",
    "#Alphabets - Small or capital anywhere\n",
    "#Numbers - It cannot be at the start\n",
    "#Case senstive programming language"
   ]
  },
  {
   "cell_type": "code",
   "execution_count": 38,
   "id": "6b28b40a",
   "metadata": {},
   "outputs": [],
   "source": [
    "cust = 'John'\n",
    "CUST = 'James'"
   ]
  },
  {
   "cell_type": "code",
   "execution_count": 39,
   "id": "1b211fa4",
   "metadata": {},
   "outputs": [
    {
     "data": {
      "text/plain": [
       "'John'"
      ]
     },
     "execution_count": 39,
     "metadata": {},
     "output_type": "execute_result"
    }
   ],
   "source": [
    "cust"
   ]
  },
  {
   "cell_type": "code",
   "execution_count": 40,
   "id": "d66b3e52",
   "metadata": {},
   "outputs": [
    {
     "data": {
      "text/plain": [
       "'James'"
      ]
     },
     "execution_count": 40,
     "metadata": {},
     "output_type": "execute_result"
    }
   ],
   "source": [
    "CUST"
   ]
  },
  {
   "cell_type": "code",
   "execution_count": 42,
   "id": "ceeccb95",
   "metadata": {},
   "outputs": [
    {
     "ename": "SyntaxError",
     "evalue": "invalid syntax (2387721947.py, line 1)",
     "output_type": "error",
     "traceback": [
      "\u001b[1;36m  File \u001b[1;32m\"C:\\Users\\rahul\\AppData\\Local\\Temp\\ipykernel_40596\\2387721947.py\"\u001b[1;36m, line \u001b[1;32m1\u001b[0m\n\u001b[1;33m    import = 'RAhul'\u001b[0m\n\u001b[1;37m           ^\u001b[0m\n\u001b[1;31mSyntaxError\u001b[0m\u001b[1;31m:\u001b[0m invalid syntax\n"
     ]
    }
   ],
   "source": [
    "import = 'Rahul'"
   ]
  },
  {
   "cell_type": "code",
   "execution_count": 44,
   "id": "74f7f565",
   "metadata": {},
   "outputs": [
    {
     "data": {
      "text/plain": [
       "36"
      ]
     },
     "execution_count": 44,
     "metadata": {},
     "output_type": "execute_result"
    }
   ],
   "source": [
    "import keyword \n",
    "len(keyword.kwlist)"
   ]
  },
  {
   "cell_type": "code",
   "execution_count": 45,
   "id": "4f778771",
   "metadata": {},
   "outputs": [
    {
     "data": {
      "text/plain": [
       "['False',\n",
       " 'None',\n",
       " 'True',\n",
       " '__peg_parser__',\n",
       " 'and',\n",
       " 'as',\n",
       " 'assert',\n",
       " 'async',\n",
       " 'await',\n",
       " 'break',\n",
       " 'class',\n",
       " 'continue',\n",
       " 'def',\n",
       " 'del',\n",
       " 'elif',\n",
       " 'else',\n",
       " 'except',\n",
       " 'finally',\n",
       " 'for',\n",
       " 'from',\n",
       " 'global',\n",
       " 'if',\n",
       " 'import',\n",
       " 'in',\n",
       " 'is',\n",
       " 'lambda',\n",
       " 'nonlocal',\n",
       " 'not',\n",
       " 'or',\n",
       " 'pass',\n",
       " 'raise',\n",
       " 'return',\n",
       " 'try',\n",
       " 'while',\n",
       " 'with',\n",
       " 'yield']"
      ]
     },
     "execution_count": 45,
     "metadata": {},
     "output_type": "execute_result"
    }
   ],
   "source": [
    "keyword.kwlist"
   ]
  },
  {
   "cell_type": "markdown",
   "id": "e397d0cb",
   "metadata": {},
   "source": [
    "**Slicing** "
   ]
  },
  {
   "cell_type": "markdown",
   "id": "8da22454",
   "metadata": {},
   "source": [
    "**While slicing we use square**"
   ]
  },
  {
   "cell_type": "code",
   "execution_count": 54,
   "id": "88159f03",
   "metadata": {},
   "outputs": [],
   "source": [
    "company_name = 'ICICI PRU'"
   ]
  },
  {
   "cell_type": "code",
   "execution_count": 56,
   "id": "a9bd9054",
   "metadata": {},
   "outputs": [
    {
     "data": {
      "text/plain": [
       "'ICICI PRU'"
      ]
     },
     "execution_count": 56,
     "metadata": {},
     "output_type": "execute_result"
    }
   ],
   "source": [
    "company_name\n",
    "#By pressing tab you can get all the values starting with co - Intellisense"
   ]
  },
  {
   "cell_type": "code",
   "execution_count": 57,
   "id": "ed1d1aa7",
   "metadata": {},
   "outputs": [
    {
     "data": {
      "text/plain": [
       "'ICICI PRU'"
      ]
     },
     "execution_count": 57,
     "metadata": {},
     "output_type": "execute_result"
    }
   ],
   "source": [
    "company_name"
   ]
  },
  {
   "cell_type": "code",
   "execution_count": 67,
   "id": "7da9f6d9",
   "metadata": {},
   "outputs": [
    {
     "data": {
      "text/plain": [
       "'U'"
      ]
     },
     "execution_count": 67,
     "metadata": {},
     "output_type": "execute_result"
    }
   ],
   "source": [
    "company_name[8]"
   ]
  },
  {
   "cell_type": "code",
   "execution_count": 77,
   "id": "69721d78",
   "metadata": {},
   "outputs": [
    {
     "data": {
      "text/plain": [
       "'IIP'"
      ]
     },
     "execution_count": 77,
     "metadata": {},
     "output_type": "execute_result"
    }
   ],
   "source": [
    "company_name[2:8:2]"
   ]
  },
  {
   "cell_type": "code",
   "execution_count": 76,
   "id": "03030b83",
   "metadata": {},
   "outputs": [
    {
     "data": {
      "text/plain": [
       "'R '"
      ]
     },
     "execution_count": 76,
     "metadata": {},
     "output_type": "execute_result"
    }
   ],
   "source": [
    "company_name[7:3:-2]"
   ]
  },
  {
   "cell_type": "code",
   "execution_count": 78,
   "id": "2c1e44a6",
   "metadata": {},
   "outputs": [
    {
     "data": {
      "text/plain": [
       "'I'"
      ]
     },
     "execution_count": 78,
     "metadata": {},
     "output_type": "execute_result"
    }
   ],
   "source": [
    "company_name[4]"
   ]
  },
  {
   "cell_type": "code",
   "execution_count": 79,
   "id": "452bfbd0",
   "metadata": {},
   "outputs": [
    {
     "data": {
      "text/plain": [
       "'I'"
      ]
     },
     "execution_count": 79,
     "metadata": {},
     "output_type": "execute_result"
    }
   ],
   "source": [
    "company_name[-5]"
   ]
  },
  {
   "cell_type": "code",
   "execution_count": 80,
   "id": "72a305ea",
   "metadata": {},
   "outputs": [
    {
     "data": {
      "text/plain": [
       "'CICI P'"
      ]
     },
     "execution_count": 80,
     "metadata": {},
     "output_type": "execute_result"
    }
   ],
   "source": [
    "company_name[-8:-2]"
   ]
  },
  {
   "cell_type": "code",
   "execution_count": 81,
   "id": "cad522f7",
   "metadata": {},
   "outputs": [
    {
     "data": {
      "text/plain": [
       "'CICI P'"
      ]
     },
     "execution_count": 81,
     "metadata": {},
     "output_type": "execute_result"
    }
   ],
   "source": [
    "company_name[-8:7]"
   ]
  },
  {
   "cell_type": "code",
   "execution_count": 82,
   "id": "b22862e0",
   "metadata": {},
   "outputs": [
    {
     "data": {
      "text/plain": [
       "'ICI P'"
      ]
     },
     "execution_count": 82,
     "metadata": {},
     "output_type": "execute_result"
    }
   ],
   "source": [
    "company_name[2:-2]"
   ]
  },
  {
   "cell_type": "code",
   "execution_count": 84,
   "id": "3c490e37",
   "metadata": {},
   "outputs": [
    {
     "data": {
      "text/plain": [
       "'RP ICI'"
      ]
     },
     "execution_count": 84,
     "metadata": {},
     "output_type": "execute_result"
    }
   ],
   "source": [
    "company_name[7:-8:-1]"
   ]
  },
  {
   "cell_type": "markdown",
   "id": "ef31b1f4",
   "metadata": {},
   "source": [
    "# Python Collection datatypes - Data Structures"
   ]
  },
  {
   "cell_type": "markdown",
   "id": "32aaa575",
   "metadata": {},
   "source": [
    "# **Lists**"
   ]
  },
  {
   "cell_type": "markdown",
   "id": "931f60da",
   "metadata": {},
   "source": [
    "**While creating a list we use square bracket as well**"
   ]
  },
  {
   "cell_type": "code",
   "execution_count": 137,
   "id": "3217bbac",
   "metadata": {},
   "outputs": [],
   "source": [
    "ages = [21,23,43,23,22,12,11,44,33,22]"
   ]
  },
  {
   "cell_type": "code",
   "execution_count": 87,
   "id": "c8a70e90",
   "metadata": {},
   "outputs": [
    {
     "data": {
      "text/plain": [
       "list"
      ]
     },
     "execution_count": 87,
     "metadata": {},
     "output_type": "execute_result"
    }
   ],
   "source": [
    "type(ages)"
   ]
  },
  {
   "cell_type": "code",
   "execution_count": 89,
   "id": "37654a45",
   "metadata": {},
   "outputs": [
    {
     "data": {
      "text/plain": [
       "10"
      ]
     },
     "execution_count": 89,
     "metadata": {},
     "output_type": "execute_result"
    }
   ],
   "source": [
    "len(ages)"
   ]
  },
  {
   "cell_type": "markdown",
   "id": "e098593d",
   "metadata": {},
   "source": [
    "**Whenever we are using any function we will have to use () normal brackets**"
   ]
  },
  {
   "cell_type": "code",
   "execution_count": 99,
   "id": "46c59b78",
   "metadata": {},
   "outputs": [
    {
     "data": {
      "text/plain": [
       "12"
      ]
     },
     "execution_count": 99,
     "metadata": {},
     "output_type": "execute_result"
    }
   ],
   "source": [
    "ages[-5]"
   ]
  },
  {
   "cell_type": "code",
   "execution_count": 95,
   "id": "25e1670f",
   "metadata": {},
   "outputs": [
    {
     "data": {
      "text/plain": [
       "[22, 44]"
      ]
     },
     "execution_count": 95,
     "metadata": {},
     "output_type": "execute_result"
    }
   ],
   "source": [
    "ages[9:5:-2]"
   ]
  },
  {
   "cell_type": "code",
   "execution_count": 96,
   "id": "3b5f678d",
   "metadata": {},
   "outputs": [],
   "source": [
    "del ages"
   ]
  },
  {
   "cell_type": "code",
   "execution_count": 102,
   "id": "6910c77c",
   "metadata": {},
   "outputs": [
    {
     "data": {
      "text/plain": [
       "25.4"
      ]
     },
     "execution_count": 102,
     "metadata": {},
     "output_type": "execute_result"
    }
   ],
   "source": [
    "sum(ages)/len(ages)"
   ]
  },
  {
   "cell_type": "code",
   "execution_count": 103,
   "id": "16be703d",
   "metadata": {},
   "outputs": [
    {
     "data": {
      "text/plain": [
       "11"
      ]
     },
     "execution_count": 103,
     "metadata": {},
     "output_type": "execute_result"
    }
   ],
   "source": [
    "min(ages)"
   ]
  },
  {
   "cell_type": "code",
   "execution_count": 104,
   "id": "817ecbeb",
   "metadata": {},
   "outputs": [
    {
     "data": {
      "text/plain": [
       "44"
      ]
     },
     "execution_count": 104,
     "metadata": {},
     "output_type": "execute_result"
    }
   ],
   "source": [
    "max(ages)"
   ]
  },
  {
   "cell_type": "code",
   "execution_count": 114,
   "id": "45ae41ea",
   "metadata": {},
   "outputs": [],
   "source": [
    "#Properties of the list\n",
    "#    -1. Duplicates are allowed\n",
    "#    -2. Heterogeneous data allowed\n",
    "#    -3. Mutable in nature\n",
    "#    -4. Square bracket to create the list \n",
    "#    -5. Growable in nature"
   ]
  },
  {
   "cell_type": "code",
   "execution_count": 105,
   "id": "25da5906",
   "metadata": {},
   "outputs": [],
   "source": [
    "list1 = ['A',11,13.5,True]"
   ]
  },
  {
   "cell_type": "code",
   "execution_count": 110,
   "id": "38cb0111",
   "metadata": {},
   "outputs": [
    {
     "data": {
      "text/plain": [
       "bool"
      ]
     },
     "execution_count": 110,
     "metadata": {},
     "output_type": "execute_result"
    }
   ],
   "source": [
    "type(list1[3])"
   ]
  },
  {
   "cell_type": "code",
   "execution_count": 111,
   "id": "b03dacd6",
   "metadata": {},
   "outputs": [],
   "source": [
    "list1[0] = 'Rahul'"
   ]
  },
  {
   "cell_type": "code",
   "execution_count": 112,
   "id": "e9d011e6",
   "metadata": {},
   "outputs": [
    {
     "data": {
      "text/plain": [
       "['Rahul', 11, 13.5, True]"
      ]
     },
     "execution_count": 112,
     "metadata": {},
     "output_type": "execute_result"
    }
   ],
   "source": [
    "list1"
   ]
  },
  {
   "cell_type": "markdown",
   "id": "06b26269",
   "metadata": {},
   "source": [
    "**Functions of lists**"
   ]
  },
  {
   "cell_type": "markdown",
   "id": "c030a965",
   "metadata": {},
   "source": [
    "**append** - It will append a single value in the list at the last, however, if you want to add the multiple values you can add as a list in the append, it will not act as a single entity"
   ]
  },
  {
   "cell_type": "code",
   "execution_count": 116,
   "id": "e7c0e38d",
   "metadata": {},
   "outputs": [],
   "source": [
    "ages.append(100)"
   ]
  },
  {
   "cell_type": "code",
   "execution_count": 119,
   "id": "692525b8",
   "metadata": {},
   "outputs": [],
   "source": [
    "ages.append([101,102,103])"
   ]
  },
  {
   "cell_type": "code",
   "execution_count": 121,
   "id": "1108b823",
   "metadata": {},
   "outputs": [
    {
     "data": {
      "text/plain": [
       "[21, 23, 43, 23, 22, 12, 11, 44, 33, 22, 100, [101, 102, 103]]"
      ]
     },
     "execution_count": 121,
     "metadata": {},
     "output_type": "execute_result"
    }
   ],
   "source": [
    "#List inside the list\n",
    "ages"
   ]
  },
  {
   "cell_type": "code",
   "execution_count": 123,
   "id": "9585f8e2",
   "metadata": {},
   "outputs": [
    {
     "data": {
      "text/plain": [
       "102"
      ]
     },
     "execution_count": 123,
     "metadata": {},
     "output_type": "execute_result"
    }
   ],
   "source": [
    "ages[11][1]"
   ]
  },
  {
   "cell_type": "code",
   "execution_count": 124,
   "id": "4e944d67",
   "metadata": {},
   "outputs": [],
   "source": [
    "del ages[11]"
   ]
  },
  {
   "cell_type": "markdown",
   "id": "6cb567d1",
   "metadata": {},
   "source": [
    "**extend** - If we want to add multiple values in the list as an individual elements we can go with extend"
   ]
  },
  {
   "cell_type": "code",
   "execution_count": 127,
   "id": "93416036",
   "metadata": {},
   "outputs": [],
   "source": [
    "ages.extend([101,102,103])"
   ]
  },
  {
   "cell_type": "code",
   "execution_count": 128,
   "id": "8a9033eb",
   "metadata": {},
   "outputs": [
    {
     "data": {
      "text/plain": [
       "[21, 23, 43, 23, 22, 12, 11, 44, 33, 22, 100, 101, 102, 103]"
      ]
     },
     "execution_count": 128,
     "metadata": {},
     "output_type": "execute_result"
    }
   ],
   "source": [
    "ages"
   ]
  },
  {
   "cell_type": "code",
   "execution_count": 129,
   "id": "c7a07cc2",
   "metadata": {},
   "outputs": [
    {
     "data": {
      "text/plain": [
       "103"
      ]
     },
     "execution_count": 129,
     "metadata": {},
     "output_type": "execute_result"
    }
   ],
   "source": [
    "ages[13]"
   ]
  },
  {
   "cell_type": "markdown",
   "id": "f16aacd6",
   "metadata": {},
   "source": [
    "**clear** - Clear will clear the entire list, that means it will remove all the values from the list and the list will still be there as an empty list"
   ]
  },
  {
   "cell_type": "code",
   "execution_count": 135,
   "id": "f565c738",
   "metadata": {},
   "outputs": [],
   "source": [
    "ages.clear()"
   ]
  },
  {
   "cell_type": "markdown",
   "id": "3b2e9966",
   "metadata": {},
   "source": [
    "**copy** - Copy will create the proper backup, if any changes will happen in the original list there will not be any change in the copied list"
   ]
  },
  {
   "cell_type": "code",
   "execution_count": 143,
   "id": "59c8497e",
   "metadata": {},
   "outputs": [],
   "source": [
    "ages1 = ages.copy()"
   ]
  },
  {
   "cell_type": "code",
   "execution_count": 149,
   "id": "ef76d12e",
   "metadata": {},
   "outputs": [
    {
     "data": {
      "text/plain": [
       "[21, 23, 43, 23, 22, 12, 11, 44, 33, 22]"
      ]
     },
     "execution_count": 149,
     "metadata": {},
     "output_type": "execute_result"
    }
   ],
   "source": [
    "ages1"
   ]
  },
  {
   "cell_type": "code",
   "execution_count": 152,
   "id": "38c3f487",
   "metadata": {},
   "outputs": [
    {
     "data": {
      "text/plain": [
       "[22, 23, 43, 23, 22, 12, 11, 44, 33, 22]"
      ]
     },
     "execution_count": 152,
     "metadata": {},
     "output_type": "execute_result"
    }
   ],
   "source": [
    "ages"
   ]
  },
  {
   "cell_type": "code",
   "execution_count": 144,
   "id": "5f8fc7eb",
   "metadata": {},
   "outputs": [],
   "source": [
    "ages2 = ages"
   ]
  },
  {
   "cell_type": "code",
   "execution_count": 151,
   "id": "fc4f0a5d",
   "metadata": {},
   "outputs": [],
   "source": [
    "del ages2"
   ]
  },
  {
   "cell_type": "code",
   "execution_count": 147,
   "id": "66cdbe6a",
   "metadata": {},
   "outputs": [],
   "source": [
    "ages[0]=22"
   ]
  },
  {
   "cell_type": "code",
   "execution_count": 154,
   "id": "4e1852fc",
   "metadata": {},
   "outputs": [
    {
     "data": {
      "text/plain": [
       "[22, 23, 43, 23, 22, 12, 11, 44, 33, 22]"
      ]
     },
     "execution_count": 154,
     "metadata": {},
     "output_type": "execute_result"
    }
   ],
   "source": [
    "ages"
   ]
  },
  {
   "cell_type": "markdown",
   "id": "c4784178",
   "metadata": {},
   "source": [
    "**count** - count will count the instance of a single value in the list, for example how many 22's are there in the list"
   ]
  },
  {
   "cell_type": "code",
   "execution_count": 155,
   "id": "4b256219",
   "metadata": {},
   "outputs": [
    {
     "data": {
      "text/plain": [
       "3"
      ]
     },
     "execution_count": 155,
     "metadata": {},
     "output_type": "execute_result"
    }
   ],
   "source": [
    "ages.count(22)"
   ]
  },
  {
   "cell_type": "markdown",
   "id": "dd526714",
   "metadata": {},
   "source": [
    "**index** - Index will give the first instance index of a value passed in the function, for example index of 22, it will give the first index of 22"
   ]
  },
  {
   "cell_type": "code",
   "execution_count": 156,
   "id": "5c1f2289",
   "metadata": {},
   "outputs": [
    {
     "data": {
      "text/plain": [
       "0"
      ]
     },
     "execution_count": 156,
     "metadata": {},
     "output_type": "execute_result"
    }
   ],
   "source": [
    "ages.index(22)"
   ]
  },
  {
   "cell_type": "markdown",
   "id": "f4a99f43",
   "metadata": {},
   "source": [
    "**insert** - It inserts any particular value at any particular index, we cannot add multiple values"
   ]
  },
  {
   "cell_type": "code",
   "execution_count": 161,
   "id": "b8026ab0",
   "metadata": {},
   "outputs": [],
   "source": [
    "ages.insert(6,10)"
   ]
  },
  {
   "cell_type": "code",
   "execution_count": 162,
   "id": "dc11d5ca",
   "metadata": {},
   "outputs": [
    {
     "data": {
      "text/plain": [
       "[22, 23, 43, 23, 22, 12, 10, 10, 11, 44, 33, 22]"
      ]
     },
     "execution_count": 162,
     "metadata": {},
     "output_type": "execute_result"
    }
   ],
   "source": [
    "ages"
   ]
  },
  {
   "cell_type": "markdown",
   "id": "7a6bd947",
   "metadata": {},
   "source": [
    "**pop** - Pop removes the last value if nothing is passed inside the bracket, however if we are passing the index it will remove that index value"
   ]
  },
  {
   "cell_type": "code",
   "execution_count": 166,
   "id": "a7788c4e",
   "metadata": {},
   "outputs": [
    {
     "data": {
      "text/plain": [
       "22"
      ]
     },
     "execution_count": 166,
     "metadata": {},
     "output_type": "execute_result"
    }
   ],
   "source": [
    "ages.pop(4)"
   ]
  },
  {
   "cell_type": "markdown",
   "id": "078dd1e6",
   "metadata": {},
   "source": [
    "**remove** - It remove the value which we are passing inside the bracket, unlike pop, in pop we were passing the index to remove that index value. Remove only remove the first instance of that value"
   ]
  },
  {
   "cell_type": "code",
   "execution_count": 169,
   "id": "d0dfa239",
   "metadata": {},
   "outputs": [],
   "source": [
    "ages.remove(43)"
   ]
  },
  {
   "cell_type": "code",
   "execution_count": 172,
   "id": "4d775378",
   "metadata": {},
   "outputs": [],
   "source": [
    "ages.remove(10)"
   ]
  },
  {
   "cell_type": "markdown",
   "id": "fead8b59",
   "metadata": {},
   "source": [
    "**reverse** - It will just flip the list "
   ]
  },
  {
   "cell_type": "code",
   "execution_count": 174,
   "id": "9326acf7",
   "metadata": {},
   "outputs": [],
   "source": [
    "ages.reverse()"
   ]
  },
  {
   "cell_type": "markdown",
   "id": "39504f6c",
   "metadata": {},
   "source": [
    "**sort** - It sorts the values in the list in an ascending order, however, if you want it to be descending order you can pass one argument inside the function as reverse = True"
   ]
  },
  {
   "cell_type": "code",
   "execution_count": 176,
   "id": "77c65305",
   "metadata": {},
   "outputs": [],
   "source": [
    "ages.sort()"
   ]
  },
  {
   "cell_type": "code",
   "execution_count": 178,
   "id": "a36d8834",
   "metadata": {},
   "outputs": [],
   "source": [
    "ages.sort(reverse=True)"
   ]
  },
  {
   "cell_type": "code",
   "execution_count": 179,
   "id": "2a9a530e",
   "metadata": {},
   "outputs": [
    {
     "data": {
      "text/plain": [
       "[44, 23, 23, 22, 12, 11, 10]"
      ]
     },
     "execution_count": 179,
     "metadata": {},
     "output_type": "execute_result"
    }
   ],
   "source": [
    "ages"
   ]
  },
  {
   "cell_type": "markdown",
   "id": "5005721d",
   "metadata": {},
   "source": [
    "# Tuples"
   ]
  },
  {
   "cell_type": "code",
   "execution_count": 181,
   "id": "8b22b326",
   "metadata": {},
   "outputs": [],
   "source": [
    "#Properties of the Tuple\n",
    "#    -1. Duplicates are allowed\n",
    "#    -2. Heterogeneous data allowed\n",
    "#    -3. Immutable in nature\n",
    "#    -4. Normal bracket to create the list "
   ]
  },
  {
   "cell_type": "code",
   "execution_count": 182,
   "id": "da62f9e5",
   "metadata": {},
   "outputs": [],
   "source": [
    "salary = (21,22,33,22,22,11,22)"
   ]
  },
  {
   "cell_type": "code",
   "execution_count": 184,
   "id": "f544a095",
   "metadata": {},
   "outputs": [
    {
     "data": {
      "text/plain": [
       "tuple"
      ]
     },
     "execution_count": 184,
     "metadata": {},
     "output_type": "execute_result"
    }
   ],
   "source": [
    "type(salary)"
   ]
  },
  {
   "cell_type": "code",
   "execution_count": 185,
   "id": "845aba00",
   "metadata": {},
   "outputs": [
    {
     "data": {
      "text/plain": [
       "7"
      ]
     },
     "execution_count": 185,
     "metadata": {},
     "output_type": "execute_result"
    }
   ],
   "source": [
    "len(salary)"
   ]
  },
  {
   "cell_type": "code",
   "execution_count": 186,
   "id": "0d9d1873",
   "metadata": {},
   "outputs": [
    {
     "data": {
      "text/plain": [
       "153"
      ]
     },
     "execution_count": 186,
     "metadata": {},
     "output_type": "execute_result"
    }
   ],
   "source": [
    "sum(salary)"
   ]
  },
  {
   "cell_type": "code",
   "execution_count": 187,
   "id": "92924c11",
   "metadata": {},
   "outputs": [
    {
     "data": {
      "text/plain": [
       "11"
      ]
     },
     "execution_count": 187,
     "metadata": {},
     "output_type": "execute_result"
    }
   ],
   "source": [
    "min(salary)"
   ]
  },
  {
   "cell_type": "code",
   "execution_count": 188,
   "id": "da035546",
   "metadata": {},
   "outputs": [
    {
     "data": {
      "text/plain": [
       "33"
      ]
     },
     "execution_count": 188,
     "metadata": {},
     "output_type": "execute_result"
    }
   ],
   "source": [
    "max(salary)"
   ]
  },
  {
   "cell_type": "code",
   "execution_count": 194,
   "id": "607c00a1",
   "metadata": {},
   "outputs": [
    {
     "ename": "TypeError",
     "evalue": "'tuple' object does not support item assignment",
     "output_type": "error",
     "traceback": [
      "\u001b[1;31m---------------------------------------------------------------------------\u001b[0m",
      "\u001b[1;31mTypeError\u001b[0m                                 Traceback (most recent call last)",
      "\u001b[1;32m~\\AppData\\Local\\Temp\\ipykernel_40596\\3205747959.py\u001b[0m in \u001b[0;36m<module>\u001b[1;34m\u001b[0m\n\u001b[1;32m----> 1\u001b[1;33m \u001b[0msalary\u001b[0m\u001b[1;33m[\u001b[0m\u001b[1;36m0\u001b[0m\u001b[1;33m]\u001b[0m\u001b[1;33m=\u001b[0m\u001b[1;36m22\u001b[0m\u001b[1;33m\u001b[0m\u001b[1;33m\u001b[0m\u001b[0m\n\u001b[0m",
      "\u001b[1;31mTypeError\u001b[0m: 'tuple' object does not support item assignment"
     ]
    }
   ],
   "source": [
    "salary[0]=22"
   ]
  },
  {
   "cell_type": "markdown",
   "id": "5884e12e",
   "metadata": {},
   "source": [
    "**count** - count will count the instance of a single value in the tuple, for example how many 22's are there in the tuple"
   ]
  },
  {
   "cell_type": "code",
   "execution_count": 195,
   "id": "1d37fb7f",
   "metadata": {},
   "outputs": [
    {
     "data": {
      "text/plain": [
       "4"
      ]
     },
     "execution_count": 195,
     "metadata": {},
     "output_type": "execute_result"
    }
   ],
   "source": [
    "salary.count(22)"
   ]
  },
  {
   "cell_type": "markdown",
   "id": "4b962ebb",
   "metadata": {},
   "source": [
    "**index** - Index will give the first instance index of a value passed in the function, for example index of 22, it will give the first index of 22"
   ]
  },
  {
   "cell_type": "code",
   "execution_count": 196,
   "id": "e3692a42",
   "metadata": {},
   "outputs": [
    {
     "data": {
      "text/plain": [
       "1"
      ]
     },
     "execution_count": 196,
     "metadata": {},
     "output_type": "execute_result"
    }
   ],
   "source": [
    "salary.index(22)"
   ]
  },
  {
   "cell_type": "markdown",
   "id": "e33c657d",
   "metadata": {},
   "source": [
    "**How to change the values in the tuples**"
   ]
  },
  {
   "cell_type": "code",
   "execution_count": 197,
   "id": "861002e5",
   "metadata": {},
   "outputs": [],
   "source": [
    "tuple1 = (21,33,22,11,22)"
   ]
  },
  {
   "cell_type": "code",
   "execution_count": 202,
   "id": "f01374f0",
   "metadata": {},
   "outputs": [
    {
     "data": {
      "text/plain": [
       "(21, 33, 22, 11, 22)"
      ]
     },
     "execution_count": 202,
     "metadata": {},
     "output_type": "execute_result"
    }
   ],
   "source": [
    "tuple1"
   ]
  },
  {
   "cell_type": "code",
   "execution_count": 206,
   "id": "0aa2798d",
   "metadata": {},
   "outputs": [
    {
     "data": {
      "text/plain": [
       "2727501857632"
      ]
     },
     "execution_count": 206,
     "metadata": {},
     "output_type": "execute_result"
    }
   ],
   "source": [
    "id(tuple1)"
   ]
  },
  {
   "cell_type": "code",
   "execution_count": 199,
   "id": "4372a977",
   "metadata": {},
   "outputs": [],
   "source": [
    "#The process will be\n",
    "#    1) Convert Tuple to a List\n",
    "#    2) Update the list \n",
    "#    3) Convert List back to Tuple"
   ]
  },
  {
   "cell_type": "code",
   "execution_count": 200,
   "id": "46d3c573",
   "metadata": {},
   "outputs": [],
   "source": [
    "list1 = list(tuple1)"
   ]
  },
  {
   "cell_type": "code",
   "execution_count": 209,
   "id": "925fbc90",
   "metadata": {},
   "outputs": [
    {
     "data": {
      "text/plain": [
       "2727538355840"
      ]
     },
     "execution_count": 209,
     "metadata": {},
     "output_type": "execute_result"
    }
   ],
   "source": [
    "id(list1)"
   ]
  },
  {
   "cell_type": "code",
   "execution_count": 210,
   "id": "75698534",
   "metadata": {},
   "outputs": [],
   "source": [
    "list1[0]=100"
   ]
  },
  {
   "cell_type": "code",
   "execution_count": 212,
   "id": "cbd804be",
   "metadata": {},
   "outputs": [
    {
     "data": {
      "text/plain": [
       "2727538355840"
      ]
     },
     "execution_count": 212,
     "metadata": {},
     "output_type": "execute_result"
    }
   ],
   "source": [
    "id(list1)"
   ]
  },
  {
   "cell_type": "code",
   "execution_count": 207,
   "id": "8db05db7",
   "metadata": {},
   "outputs": [],
   "source": [
    "tuple1 = tuple(list1)"
   ]
  },
  {
   "cell_type": "code",
   "execution_count": 208,
   "id": "e50a93fe",
   "metadata": {},
   "outputs": [
    {
     "data": {
      "text/plain": [
       "2727544940800"
      ]
     },
     "execution_count": 208,
     "metadata": {},
     "output_type": "execute_result"
    }
   ],
   "source": [
    "id(tuple1)"
   ]
  },
  {
   "cell_type": "markdown",
   "id": "68586aad",
   "metadata": {},
   "source": [
    "**Mutability means - We are updating the values in the object without overwriting the object. However, when we are converting the tuple to list and list to tuple we are overwriting the old tuple**"
   ]
  },
  {
   "cell_type": "markdown",
   "id": "ca491edd",
   "metadata": {},
   "source": [
    "# Sets"
   ]
  },
  {
   "cell_type": "code",
   "execution_count": 217,
   "id": "31eb26eb",
   "metadata": {},
   "outputs": [],
   "source": [
    "#Properties of the Set\n",
    "#    -1. Duplicates are not allowed\n",
    "#    -2. Heterogeneous data allowed\n",
    "#    -3. Mutable in nature\n",
    "#    -4. Curly bracket to create the list \n",
    "#    -5. Values are always sorted in the ascending order\n",
    "#    -6. We cannot slice the sets as there is no index"
   ]
  },
  {
   "cell_type": "code",
   "execution_count": 304,
   "id": "c9889ba0",
   "metadata": {},
   "outputs": [],
   "source": [
    "set1 = {10,11,14,10,12,100,45,12,16}"
   ]
  },
  {
   "cell_type": "code",
   "execution_count": 216,
   "id": "8746929c",
   "metadata": {},
   "outputs": [
    {
     "ename": "TypeError",
     "evalue": "'set' object is not subscriptable",
     "output_type": "error",
     "traceback": [
      "\u001b[1;31m---------------------------------------------------------------------------\u001b[0m",
      "\u001b[1;31mTypeError\u001b[0m                                 Traceback (most recent call last)",
      "\u001b[1;32m~\\AppData\\Local\\Temp\\ipykernel_40596\\2367749814.py\u001b[0m in \u001b[0;36m<module>\u001b[1;34m\u001b[0m\n\u001b[1;32m----> 1\u001b[1;33m \u001b[0mset1\u001b[0m\u001b[1;33m[\u001b[0m\u001b[1;36m2\u001b[0m\u001b[1;33m]\u001b[0m\u001b[1;33m\u001b[0m\u001b[1;33m\u001b[0m\u001b[0m\n\u001b[0m",
      "\u001b[1;31mTypeError\u001b[0m: 'set' object is not subscriptable"
     ]
    }
   ],
   "source": [
    "set1[2]"
   ]
  },
  {
   "cell_type": "code",
   "execution_count": 219,
   "id": "1b90918f",
   "metadata": {},
   "outputs": [
    {
     "data": {
      "text/plain": [
       "7"
      ]
     },
     "execution_count": 219,
     "metadata": {},
     "output_type": "execute_result"
    }
   ],
   "source": [
    "len(set1)"
   ]
  },
  {
   "cell_type": "code",
   "execution_count": 220,
   "id": "efb1d268",
   "metadata": {},
   "outputs": [
    {
     "data": {
      "text/plain": [
       "208"
      ]
     },
     "execution_count": 220,
     "metadata": {},
     "output_type": "execute_result"
    }
   ],
   "source": [
    "sum(set1)"
   ]
  },
  {
   "cell_type": "code",
   "execution_count": 221,
   "id": "cad50d7d",
   "metadata": {},
   "outputs": [
    {
     "data": {
      "text/plain": [
       "10"
      ]
     },
     "execution_count": 221,
     "metadata": {},
     "output_type": "execute_result"
    }
   ],
   "source": [
    "min(set1)"
   ]
  },
  {
   "cell_type": "code",
   "execution_count": 222,
   "id": "4406047b",
   "metadata": {},
   "outputs": [
    {
     "data": {
      "text/plain": [
       "100"
      ]
     },
     "execution_count": 222,
     "metadata": {},
     "output_type": "execute_result"
    }
   ],
   "source": [
    "max(set1)"
   ]
  },
  {
   "cell_type": "markdown",
   "id": "d1ad9af9",
   "metadata": {},
   "source": [
    "**add** - Add will add the single value in the set based on the order"
   ]
  },
  {
   "cell_type": "code",
   "execution_count": 225,
   "id": "6fd9658b",
   "metadata": {},
   "outputs": [],
   "source": [
    "set1.add(13)"
   ]
  },
  {
   "cell_type": "code",
   "execution_count": 227,
   "id": "c4e17b81",
   "metadata": {},
   "outputs": [
    {
     "ename": "TypeError",
     "evalue": "unhashable type: 'list'",
     "output_type": "error",
     "traceback": [
      "\u001b[1;31m---------------------------------------------------------------------------\u001b[0m",
      "\u001b[1;31mTypeError\u001b[0m                                 Traceback (most recent call last)",
      "\u001b[1;32m~\\AppData\\Local\\Temp\\ipykernel_40596\\2639906811.py\u001b[0m in \u001b[0;36m<module>\u001b[1;34m\u001b[0m\n\u001b[1;32m----> 1\u001b[1;33m \u001b[0mset1\u001b[0m\u001b[1;33m.\u001b[0m\u001b[0madd\u001b[0m\u001b[1;33m(\u001b[0m\u001b[1;33m[\u001b[0m\u001b[1;36m120\u001b[0m\u001b[1;33m,\u001b[0m\u001b[1;36m130\u001b[0m\u001b[1;33m,\u001b[0m\u001b[1;36m140\u001b[0m\u001b[1;33m]\u001b[0m\u001b[1;33m)\u001b[0m\u001b[1;33m\u001b[0m\u001b[1;33m\u001b[0m\u001b[0m\n\u001b[0m",
      "\u001b[1;31mTypeError\u001b[0m: unhashable type: 'list'"
     ]
    }
   ],
   "source": [
    "set1.add([120,130,140])"
   ]
  },
  {
   "cell_type": "markdown",
   "id": "ed849be1",
   "metadata": {},
   "source": [
    "**update** - It adds multiple values based on the order"
   ]
  },
  {
   "cell_type": "code",
   "execution_count": 228,
   "id": "63ec12fc",
   "metadata": {},
   "outputs": [],
   "source": [
    "set1.update([120,130,140])"
   ]
  },
  {
   "cell_type": "code",
   "execution_count": 229,
   "id": "85d5532c",
   "metadata": {},
   "outputs": [
    {
     "data": {
      "text/plain": [
       "{10, 11, 12, 13, 14, 16, 45, 100, 120, 130, 140}"
      ]
     },
     "execution_count": 229,
     "metadata": {},
     "output_type": "execute_result"
    }
   ],
   "source": [
    "set1"
   ]
  },
  {
   "cell_type": "markdown",
   "id": "c737f572",
   "metadata": {},
   "source": [
    "**clear** - Clear will clear the entire set, that means it will remove all the values from the set and the set will still be there as an empty set"
   ]
  },
  {
   "cell_type": "code",
   "execution_count": 232,
   "id": "adef9f87",
   "metadata": {},
   "outputs": [],
   "source": [
    "set1.clear()"
   ]
  },
  {
   "cell_type": "code",
   "execution_count": 233,
   "id": "6cf08382",
   "metadata": {},
   "outputs": [
    {
     "data": {
      "text/plain": [
       "set()"
      ]
     },
     "execution_count": 233,
     "metadata": {},
     "output_type": "execute_result"
    }
   ],
   "source": [
    "set1"
   ]
  },
  {
   "cell_type": "markdown",
   "id": "dd1fbdeb",
   "metadata": {},
   "source": [
    "**copy** - Copy will create the proper backup, if any changes will happen in the original set there will not be any change in the copied set"
   ]
  },
  {
   "cell_type": "code",
   "execution_count": 236,
   "id": "77f5640a",
   "metadata": {},
   "outputs": [],
   "source": [
    "set2 = set1.copy()"
   ]
  },
  {
   "cell_type": "code",
   "execution_count": 241,
   "id": "91bbed13",
   "metadata": {},
   "outputs": [],
   "source": [
    "set1.add(1000)"
   ]
  },
  {
   "cell_type": "code",
   "execution_count": 242,
   "id": "8cb2e092",
   "metadata": {},
   "outputs": [
    {
     "data": {
      "text/plain": [
       "{10, 11, 12, 14, 16, 45, 100, 1000}"
      ]
     },
     "execution_count": 242,
     "metadata": {},
     "output_type": "execute_result"
    }
   ],
   "source": [
    "set1"
   ]
  },
  {
   "cell_type": "code",
   "execution_count": 239,
   "id": "df636e22",
   "metadata": {},
   "outputs": [
    {
     "data": {
      "text/plain": [
       "2727547818048"
      ]
     },
     "execution_count": 239,
     "metadata": {},
     "output_type": "execute_result"
    }
   ],
   "source": [
    "id(set1)"
   ]
  },
  {
   "cell_type": "code",
   "execution_count": 240,
   "id": "d920ef3d",
   "metadata": {},
   "outputs": [
    {
     "data": {
      "text/plain": [
       "2727546961696"
      ]
     },
     "execution_count": 240,
     "metadata": {},
     "output_type": "execute_result"
    }
   ],
   "source": [
    "id(set2)"
   ]
  },
  {
   "cell_type": "code",
   "execution_count": 243,
   "id": "2ebfd980",
   "metadata": {},
   "outputs": [
    {
     "data": {
      "text/plain": [
       "{10, 11, 12, 14, 16, 45, 100}"
      ]
     },
     "execution_count": 243,
     "metadata": {},
     "output_type": "execute_result"
    }
   ],
   "source": [
    "set2"
   ]
  },
  {
   "cell_type": "markdown",
   "id": "9d04ee9f",
   "metadata": {},
   "source": [
    "**discard** - It removes the value from the set, discard if we run again when the value is not there, it will still run but does not have any impact on the set plus there will will not be any error"
   ]
  },
  {
   "cell_type": "code",
   "execution_count": 278,
   "id": "07471623",
   "metadata": {},
   "outputs": [],
   "source": [
    "set1.discard(1000)"
   ]
  },
  {
   "cell_type": "markdown",
   "id": "fbcf4838",
   "metadata": {},
   "source": [
    "**remove** - It removes the value from the set, if the value is not there it will throw the error"
   ]
  },
  {
   "cell_type": "code",
   "execution_count": 280,
   "id": "940b2b6e",
   "metadata": {},
   "outputs": [
    {
     "ename": "KeyError",
     "evalue": "100",
     "output_type": "error",
     "traceback": [
      "\u001b[1;31m---------------------------------------------------------------------------\u001b[0m",
      "\u001b[1;31mKeyError\u001b[0m                                  Traceback (most recent call last)",
      "\u001b[1;32m~\\AppData\\Local\\Temp\\ipykernel_40596\\1200921940.py\u001b[0m in \u001b[0;36m<module>\u001b[1;34m\u001b[0m\n\u001b[1;32m----> 1\u001b[1;33m \u001b[0mset1\u001b[0m\u001b[1;33m.\u001b[0m\u001b[0mremove\u001b[0m\u001b[1;33m(\u001b[0m\u001b[1;36m100\u001b[0m\u001b[1;33m)\u001b[0m\u001b[1;33m\u001b[0m\u001b[1;33m\u001b[0m\u001b[0m\n\u001b[0m",
      "\u001b[1;31mKeyError\u001b[0m: 100"
     ]
    }
   ],
   "source": [
    "set1.remove(100)"
   ]
  },
  {
   "cell_type": "markdown",
   "id": "5392e966",
   "metadata": {},
   "source": [
    "**pop** - By default it removes the first value from the set, as set does not have index we cannot pass any values inside the function bracket of pop"
   ]
  },
  {
   "cell_type": "markdown",
   "id": "82590556",
   "metadata": {},
   "source": [
    "**Need to check why it was removing the 16 and then 100 and after that removing the values from the start**"
   ]
  },
  {
   "cell_type": "code",
   "execution_count": 286,
   "id": "7217a13c",
   "metadata": {},
   "outputs": [
    {
     "data": {
      "text/plain": [
       "12"
      ]
     },
     "execution_count": 286,
     "metadata": {},
     "output_type": "execute_result"
    }
   ],
   "source": [
    "set1.pop()"
   ]
  },
  {
   "cell_type": "code",
   "execution_count": 305,
   "id": "f4998755",
   "metadata": {},
   "outputs": [
    {
     "data": {
      "text/plain": [
       "{10, 11, 12, 14, 16, 45, 100}"
      ]
     },
     "execution_count": 305,
     "metadata": {},
     "output_type": "execute_result"
    }
   ],
   "source": [
    "set1"
   ]
  },
  {
   "cell_type": "code",
   "execution_count": 306,
   "id": "1cf6e359",
   "metadata": {},
   "outputs": [
    {
     "data": {
      "text/plain": [
       "16"
      ]
     },
     "execution_count": 306,
     "metadata": {},
     "output_type": "execute_result"
    }
   ],
   "source": [
    "set1.pop()"
   ]
  },
  {
   "cell_type": "code",
   "execution_count": 303,
   "id": "2c103b3c",
   "metadata": {},
   "outputs": [
    {
     "data": {
      "text/plain": [
       "14"
      ]
     },
     "execution_count": 303,
     "metadata": {},
     "output_type": "execute_result"
    }
   ],
   "source": [
    "set1.pop()"
   ]
  },
  {
   "cell_type": "code",
   "execution_count": 322,
   "id": "215f0ca4",
   "metadata": {},
   "outputs": [],
   "source": [
    "set1 = {1,2,3,4,5,6}\n",
    "set2 = {4,5,6}\n",
    "set3 = {5,6,7,8,9}\n",
    "set4 = {100,200}"
   ]
  },
  {
   "cell_type": "markdown",
   "id": "a4296e1b",
   "metadata": {},
   "source": [
    "**difference** - It will give all the unmatched values from the left set, i.e. whichever set comes first in the below example set1 is the left set"
   ]
  },
  {
   "cell_type": "code",
   "execution_count": 309,
   "id": "9c666752",
   "metadata": {},
   "outputs": [
    {
     "data": {
      "text/plain": [
       "{1, 2, 3, 4}"
      ]
     },
     "execution_count": 309,
     "metadata": {},
     "output_type": "execute_result"
    }
   ],
   "source": [
    "set1.difference(set3)"
   ]
  },
  {
   "cell_type": "markdown",
   "id": "71ff7335",
   "metadata": {},
   "source": [
    "**difference_update** - It will update the left set, i.e. whichever set comes first in the below example set1 is the left set, it will update the values based on the difference of set1 and set3"
   ]
  },
  {
   "cell_type": "code",
   "execution_count": 312,
   "id": "a282f85c",
   "metadata": {},
   "outputs": [],
   "source": [
    "set1.difference_update(set3)"
   ]
  },
  {
   "cell_type": "code",
   "execution_count": 313,
   "id": "d58e07e6",
   "metadata": {},
   "outputs": [
    {
     "data": {
      "text/plain": [
       "{1, 2, 3, 4}"
      ]
     },
     "execution_count": 313,
     "metadata": {},
     "output_type": "execute_result"
    }
   ],
   "source": [
    "set1"
   ]
  },
  {
   "cell_type": "markdown",
   "id": "e0e7ff74",
   "metadata": {},
   "source": [
    "**symmetric_difference** - It will give all the unmatched values from the both the sets"
   ]
  },
  {
   "cell_type": "code",
   "execution_count": 310,
   "id": "896717d9",
   "metadata": {},
   "outputs": [
    {
     "data": {
      "text/plain": [
       "{1, 2, 3, 4, 7, 8, 9}"
      ]
     },
     "execution_count": 310,
     "metadata": {},
     "output_type": "execute_result"
    }
   ],
   "source": [
    "set1.symmetric_difference(set3)"
   ]
  },
  {
   "cell_type": "markdown",
   "id": "fc4e4c0c",
   "metadata": {},
   "source": [
    "**symmetric_difference_update** - It will update the left set in the below example set1 with all the unmatched values from the both the sets"
   ]
  },
  {
   "cell_type": "code",
   "execution_count": 316,
   "id": "9b967f2f",
   "metadata": {},
   "outputs": [],
   "source": [
    "set1.symmetric_difference_update(set3)"
   ]
  },
  {
   "cell_type": "code",
   "execution_count": 317,
   "id": "981049b3",
   "metadata": {},
   "outputs": [
    {
     "data": {
      "text/plain": [
       "{1, 2, 3, 4, 7, 8, 9}"
      ]
     },
     "execution_count": 317,
     "metadata": {},
     "output_type": "execute_result"
    }
   ],
   "source": [
    "set1"
   ]
  },
  {
   "cell_type": "markdown",
   "id": "b5402630",
   "metadata": {},
   "source": [
    "**intersection** - It will give the common values between the sets"
   ]
  },
  {
   "cell_type": "code",
   "execution_count": 319,
   "id": "bd3dac21",
   "metadata": {},
   "outputs": [
    {
     "data": {
      "text/plain": [
       "{5, 6}"
      ]
     },
     "execution_count": 319,
     "metadata": {},
     "output_type": "execute_result"
    }
   ],
   "source": [
    "set1.intersection(set3)"
   ]
  },
  {
   "cell_type": "markdown",
   "id": "dcede3e9",
   "metadata": {},
   "source": [
    "**intersection_update** - It will update the left set, in the below example set1 is the left set, it will update the values as per the insersection i.e. common values "
   ]
  },
  {
   "cell_type": "code",
   "execution_count": 320,
   "id": "554ca1fe",
   "metadata": {},
   "outputs": [],
   "source": [
    "set1.intersection_update(set3)"
   ]
  },
  {
   "cell_type": "code",
   "execution_count": 321,
   "id": "a5194d64",
   "metadata": {},
   "outputs": [
    {
     "data": {
      "text/plain": [
       "{5, 6}"
      ]
     },
     "execution_count": 321,
     "metadata": {},
     "output_type": "execute_result"
    }
   ],
   "source": [
    "set1"
   ]
  },
  {
   "cell_type": "markdown",
   "id": "6ae4d47b",
   "metadata": {},
   "source": [
    "**isdisjoint** - If there are no common values in the sets then it will considered as disjoint set and the outcome of the function will be True else False"
   ]
  },
  {
   "cell_type": "code",
   "execution_count": 323,
   "id": "4f79de49",
   "metadata": {},
   "outputs": [
    {
     "data": {
      "text/plain": [
       "True"
      ]
     },
     "execution_count": 323,
     "metadata": {},
     "output_type": "execute_result"
    }
   ],
   "source": [
    "set1.isdisjoint(set4)"
   ]
  },
  {
   "cell_type": "markdown",
   "id": "32865008",
   "metadata": {},
   "source": [
    "**issubset** - If all the values of left set i.e. set2 in the below example are present in set 1 then the output will be True else False"
   ]
  },
  {
   "cell_type": "code",
   "execution_count": 324,
   "id": "347a36d0",
   "metadata": {},
   "outputs": [
    {
     "data": {
      "text/plain": [
       "True"
      ]
     },
     "execution_count": 324,
     "metadata": {},
     "output_type": "execute_result"
    }
   ],
   "source": [
    "set2.issubset(set1)"
   ]
  },
  {
   "cell_type": "markdown",
   "id": "4c16429e",
   "metadata": {},
   "source": [
    "**issuperset** - If all the values of the right set i.e. set2 in the below example are present in set1 then the output will be True else False"
   ]
  },
  {
   "cell_type": "code",
   "execution_count": 325,
   "id": "e5b3f316",
   "metadata": {},
   "outputs": [
    {
     "data": {
      "text/plain": [
       "True"
      ]
     },
     "execution_count": 325,
     "metadata": {},
     "output_type": "execute_result"
    }
   ],
   "source": [
    "set1.issuperset(set2)"
   ]
  },
  {
   "cell_type": "markdown",
   "id": "4030fc3c",
   "metadata": {},
   "source": [
    "**union** - It will combine all the values from both the sets, it is only throwing the output, it is not overwriting any set. If you want all the combined values in one set, you can create a finalset and it will add all the values in that set"
   ]
  },
  {
   "cell_type": "code",
   "execution_count": 329,
   "id": "f684f329",
   "metadata": {},
   "outputs": [],
   "source": [
    "finalset = set1.union(set3)"
   ]
  },
  {
   "cell_type": "code",
   "execution_count": 327,
   "id": "72bac648",
   "metadata": {},
   "outputs": [
    {
     "data": {
      "text/plain": [
       "{1, 2, 3, 4, 5, 6}"
      ]
     },
     "execution_count": 327,
     "metadata": {},
     "output_type": "execute_result"
    }
   ],
   "source": [
    "set1"
   ]
  },
  {
   "cell_type": "code",
   "execution_count": 328,
   "id": "3698e044",
   "metadata": {},
   "outputs": [
    {
     "data": {
      "text/plain": [
       "{5, 6, 7, 8, 9}"
      ]
     },
     "execution_count": 328,
     "metadata": {},
     "output_type": "execute_result"
    }
   ],
   "source": [
    "set3"
   ]
  },
  {
   "cell_type": "code",
   "execution_count": 330,
   "id": "8bc32ed9",
   "metadata": {},
   "outputs": [
    {
     "data": {
      "text/plain": [
       "{1, 2, 3, 4, 5, 6, 7, 8, 9}"
      ]
     },
     "execution_count": 330,
     "metadata": {},
     "output_type": "execute_result"
    }
   ],
   "source": [
    "finalset"
   ]
  },
  {
   "cell_type": "markdown",
   "id": "be67ae63",
   "metadata": {},
   "source": [
    "**Frozen sets are immutable in nature**"
   ]
  },
  {
   "cell_type": "code",
   "execution_count": 332,
   "id": "22bce1e9",
   "metadata": {},
   "outputs": [],
   "source": [
    "fsset = frozenset(set1)"
   ]
  },
  {
   "cell_type": "code",
   "execution_count": 334,
   "id": "ea418d47",
   "metadata": {},
   "outputs": [
    {
     "data": {
      "text/plain": [
       "frozenset({1, 2, 3, 4, 5, 6})"
      ]
     },
     "execution_count": 334,
     "metadata": {},
     "output_type": "execute_result"
    }
   ],
   "source": [
    "fsset"
   ]
  },
  {
   "cell_type": "markdown",
   "id": "e2582878",
   "metadata": {},
   "source": [
    "**Lists** - We can use lists where we know that the values will keep on changing over the period of time\n",
    "\n",
    "**Tuples** - We can use tuples where we know that the values will never change or less frequently change over the period of time\n",
    "\n",
    "**Sets** - We can use sets where if we have a set of values where there can be duplicate we can get the unique values from the data by using sets as sets does not entertain duplicates"
   ]
  }
 ],
 "metadata": {
  "kernelspec": {
   "display_name": "Python 3 (ipykernel)",
   "language": "python",
   "name": "python3"
  },
  "language_info": {
   "codemirror_mode": {
    "name": "ipython",
    "version": 3
   },
   "file_extension": ".py",
   "mimetype": "text/x-python",
   "name": "python",
   "nbconvert_exporter": "python",
   "pygments_lexer": "ipython3",
   "version": "3.9.13"
  }
 },
 "nbformat": 4,
 "nbformat_minor": 5
}
