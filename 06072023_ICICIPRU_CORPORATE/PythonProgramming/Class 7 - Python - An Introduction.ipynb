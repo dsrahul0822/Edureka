{
 "cells": [
  {
   "cell_type": "markdown",
   "id": "3168e1d5",
   "metadata": {},
   "source": [
    "# Object Oriented Programming (OOPs)"
   ]
  },
  {
   "cell_type": "markdown",
   "id": "52f4b89f",
   "metadata": {},
   "source": [
    "**Funtional Programming Language**"
   ]
  },
  {
   "cell_type": "code",
   "execution_count": 3,
   "id": "b89a4736",
   "metadata": {},
   "outputs": [],
   "source": [
    "def celtofer(c):\n",
    "    f = (c*9/5)+32\n",
    "    return f"
   ]
  },
  {
   "cell_type": "code",
   "execution_count": 4,
   "id": "6daf2fdf",
   "metadata": {},
   "outputs": [
    {
     "data": {
      "text/plain": [
       "50.0"
      ]
     },
     "execution_count": 4,
     "metadata": {},
     "output_type": "execute_result"
    }
   ],
   "source": [
    "celtofer(10)"
   ]
  },
  {
   "cell_type": "markdown",
   "id": "bfacb97f",
   "metadata": {},
   "source": [
    "**Object Oriented Programming (OOPs)**"
   ]
  },
  {
   "cell_type": "markdown",
   "id": "033b946e",
   "metadata": {},
   "source": [
    "**Python is an object oriented programming language**"
   ]
  },
  {
   "cell_type": "markdown",
   "id": "78443edf",
   "metadata": {},
   "source": [
    "**CeltoFer is a class where the entire logic is present, its like a floor plan developed by the builder**"
   ]
  },
  {
   "cell_type": "markdown",
   "id": "518eb532",
   "metadata": {},
   "source": [
    "**Lets Break this code**\n",
    "    \n",
    "    1) __init__ - It is known as constructor, the purpose of constructor is to initialize the variables, in the below example it is initializing c. Whenever you are calling the constructor the name should be __init__ only. If we are not defining the constructor then python internally creates one constructor. For every object the constructor will run only once. At the time of defining the object at that time constructor will run, that's it. It will never run again for that object\n",
    "    \n",
    "    2) ctof, append, clear, copy there are methods as we call them methods in the Object oriented programming\n",
    "    \n",
    "    3) Self - In place of self we can write somethings else also like i, j, your name whatever, but as a good programming practice we write self. We are not passing the value of self, why? __init__() takes 2 positional arguments but 3 were given, Python interally passes one value for the self and that is the reason we don't pass any value.\n",
    "    \n",
    "    4) Self is like memory location where we can store the value of the variables passed in the class. For example for C1 object the value of C is 10 and let's assume the value of self is 'ABC' given by Python. Same way for C2 object the value of C is 20 and let's assume the value of self is 'PQR' given by Python. Now whenever, we will call c1.Ctof() it will hit the corresponding self and get the corresponding value of C. If we are calling c1.ctof() it will hit 'ABC'.c = 10 as we have assigned the value of c as self.c = c\n",
    "    "
   ]
  },
  {
   "cell_type": "markdown",
   "id": "e77823a9",
   "metadata": {},
   "source": [
    "**Cel to Fer**"
   ]
  },
  {
   "cell_type": "code",
   "execution_count": 14,
   "id": "bb59004d",
   "metadata": {},
   "outputs": [],
   "source": [
    "class CeltoFer:\n",
    "    def __init__(self,c):\n",
    "        self.Cel = c \n",
    "    def ctof(self):\n",
    "        f = (self.Cel*9/5)+32\n",
    "        print(f)"
   ]
  },
  {
   "cell_type": "markdown",
   "id": "3244cb0e",
   "metadata": {},
   "source": [
    "**c1 is an object where its like a flat developed by the builder using floor plan, so all the property of the floor plan will be with c1**"
   ]
  },
  {
   "cell_type": "code",
   "execution_count": 15,
   "id": "0418703d",
   "metadata": {},
   "outputs": [
    {
     "name": "stdout",
     "output_type": "stream",
     "text": [
      "50.0\n"
     ]
    }
   ],
   "source": [
    "c1 = CeltoFer(10)\n",
    "c1.ctof()"
   ]
  },
  {
   "cell_type": "code",
   "execution_count": 8,
   "id": "3c787a82",
   "metadata": {},
   "outputs": [
    {
     "name": "stdout",
     "output_type": "stream",
     "text": [
      "68.0\n"
     ]
    }
   ],
   "source": [
    "c2 = CeltoFer(20)\n",
    "c2.ctof()"
   ]
  },
  {
   "cell_type": "code",
   "execution_count": 16,
   "id": "f20b7a64",
   "metadata": {},
   "outputs": [
    {
     "name": "stdout",
     "output_type": "stream",
     "text": [
      "<class 'list'>\n"
     ]
    }
   ],
   "source": [
    "list1 = [1,2,3,4]\n",
    "print(type(list1))"
   ]
  },
  {
   "cell_type": "markdown",
   "id": "fd193bbe",
   "metadata": {},
   "source": [
    "**Employees**"
   ]
  },
  {
   "cell_type": "code",
   "execution_count": 85,
   "id": "87a9c4d0",
   "metadata": {},
   "outputs": [],
   "source": [
    "class Employee:\n",
    "    company_name = 'ICICI PRU LIFE'\n",
    "    def __init__(self, eid, efname, elname, esalary, elocation):\n",
    "        self.eid = eid\n",
    "        self.efname = efname\n",
    "        self.elname = elname\n",
    "        self.esalary = esalary\n",
    "        self.elocation = elocation\n",
    "        \n",
    "    def display(self):\n",
    "        print('Your employee id is: ', self.eid)\n",
    "        print('Your name is: ', self.efname + ' ' + self.elname)\n",
    "        print('Your salary is: ', self.esalary)\n",
    "        print('Your location is: ', self.elocation)\n",
    "        print('Your company name is: ', Employee.company_name)\n",
    "        #print('Your total hike is: ', hike)\n",
    "        \n",
    "    def tax_calc(self):\n",
    "        if self.esalary<=2500:\n",
    "            print('Your total tax is: ', self.esalary*0.00)\n",
    "        elif self.esalary>2500 and self.esalary<=5000:\n",
    "            print('Your total tax is: ', self.esalary*0.05)\n",
    "        elif self.esalary>5000 and self.esalary<=10000:\n",
    "            print('Your total tax is: ', self.esalary*0.10)\n",
    "        else:\n",
    "            print('Your total tax is: ', self.esalary*0.15)\n",
    "            \n",
    "    def bonus_calc(self):\n",
    "        if self.elocation=='Delhi':\n",
    "            print('The bonus you will get is: ', 0.5*self.esalary)\n",
    "        else:\n",
    "            print('You will not get any bonus')\n",
    "            \n",
    "    def hike_calc(self):\n",
    "        hike = 0.30\n",
    "        if self.esalary<5000:\n",
    "            print('Your total hike is: ', self.esalary*hike)\n",
    "        else:\n",
    "            print('Your total hike is: ', self.esalary)"
   ]
  },
  {
   "cell_type": "markdown",
   "id": "0ad84dba",
   "metadata": {},
   "source": [
    "**Object Level variables or Instance variables** - Whenever we are calling an object and passing the variable like eid, elname, and so on these variables will change per object also these variables are called using self because for every object the value of self is different. That is why these types of variable which are called at the time of object declaration or called with self are known as object level variables or instance variables (One object is one instance)\n",
    "\n",
    "**Class Level variables or Static variables** - For example company name 'ICICI PRU LIFE' it is hardcoded by the developer, because the employee class which we have created is belonging to same company. All the employees are of same company\n",
    "\n",
    "**Method Level variables or Local variables** - For example hike variable which we created in the hike_calc, it can only be accessed inside the hike_calc method, we cannot access this outside that method"
   ]
  },
  {
   "cell_type": "code",
   "execution_count": 86,
   "id": "f0c98621",
   "metadata": {},
   "outputs": [],
   "source": [
    "emp1 = Employee(1, 'Ankur', 'Shukla', 2000, 'Delhi')"
   ]
  },
  {
   "cell_type": "code",
   "execution_count": 87,
   "id": "73c9c011",
   "metadata": {},
   "outputs": [
    {
     "data": {
      "text/plain": [
       "<__main__.Employee at 0x26e2ec6b0a0>"
      ]
     },
     "execution_count": 87,
     "metadata": {},
     "output_type": "execute_result"
    }
   ],
   "source": [
    "emp1"
   ]
  },
  {
   "cell_type": "code",
   "execution_count": 88,
   "id": "c305f99a",
   "metadata": {},
   "outputs": [
    {
     "name": "stdout",
     "output_type": "stream",
     "text": [
      "Your employee id is:  1\n",
      "Your name is:  Ankur Shukla\n",
      "Your salary is:  2000\n",
      "Your location is:  Delhi\n",
      "Your company name is:  ICICI PRU LIFE\n"
     ]
    }
   ],
   "source": [
    "emp1.display()"
   ]
  },
  {
   "cell_type": "code",
   "execution_count": 71,
   "id": "ede3abbf",
   "metadata": {},
   "outputs": [
    {
     "name": "stdout",
     "output_type": "stream",
     "text": [
      "Your total tax is:  0.0\n"
     ]
    }
   ],
   "source": [
    "emp1.tax_calc()"
   ]
  },
  {
   "cell_type": "code",
   "execution_count": 72,
   "id": "b60c5c93",
   "metadata": {},
   "outputs": [
    {
     "name": "stdout",
     "output_type": "stream",
     "text": [
      "The bonus you will get is:  1000.0\n"
     ]
    }
   ],
   "source": [
    "emp1.bonus_calc()"
   ]
  },
  {
   "cell_type": "code",
   "execution_count": 73,
   "id": "e689d1f8",
   "metadata": {},
   "outputs": [
    {
     "name": "stdout",
     "output_type": "stream",
     "text": [
      "Your total hike is:  600.0\n"
     ]
    }
   ],
   "source": [
    "emp1.hike_calc()"
   ]
  },
  {
   "cell_type": "code",
   "execution_count": 74,
   "id": "c64fbedb",
   "metadata": {},
   "outputs": [],
   "source": [
    "emp2 = Employee(2, 'Riddhi', 'Shah', 15000, 'Surat')"
   ]
  },
  {
   "cell_type": "code",
   "execution_count": 75,
   "id": "5d5eae30",
   "metadata": {},
   "outputs": [
    {
     "data": {
      "text/plain": [
       "<__main__.Employee at 0x26e30558b20>"
      ]
     },
     "execution_count": 75,
     "metadata": {},
     "output_type": "execute_result"
    }
   ],
   "source": [
    "emp2"
   ]
  },
  {
   "cell_type": "code",
   "execution_count": 76,
   "id": "af235422",
   "metadata": {},
   "outputs": [
    {
     "name": "stdout",
     "output_type": "stream",
     "text": [
      "Your employee id is:  2\n",
      "Your name is:  Riddhi Shah\n",
      "Your salary is:  15000\n",
      "Your location is:  Surat\n",
      "Your company name is:  ICICI PRU LIFE\n"
     ]
    }
   ],
   "source": [
    "emp2.display()"
   ]
  },
  {
   "cell_type": "code",
   "execution_count": 77,
   "id": "0608f767",
   "metadata": {},
   "outputs": [
    {
     "name": "stdout",
     "output_type": "stream",
     "text": [
      "Your total tax is:  2250.0\n"
     ]
    }
   ],
   "source": [
    "emp2.tax_calc()"
   ]
  },
  {
   "cell_type": "code",
   "execution_count": 78,
   "id": "3d3f3598",
   "metadata": {},
   "outputs": [
    {
     "name": "stdout",
     "output_type": "stream",
     "text": [
      "You will not get any bonus\n"
     ]
    }
   ],
   "source": [
    "emp2.bonus_calc()"
   ]
  },
  {
   "cell_type": "code",
   "execution_count": 79,
   "id": "35cc26e6",
   "metadata": {},
   "outputs": [
    {
     "name": "stdout",
     "output_type": "stream",
     "text": [
      "Your total hike is:  15000\n"
     ]
    }
   ],
   "source": [
    "emp2.hike_calc()"
   ]
  },
  {
   "cell_type": "markdown",
   "id": "a8e46dce",
   "metadata": {},
   "source": [
    "**Members of one class inside the another class**\n",
    "\n",
    "    Composition(Has a relationship) - We are calling a class inside the another class by creating an object. For example: \n",
    "    class Interest_Calc:\n",
    "    def __init__(self,cid,cloan_amt,cltype):\n",
    "        self.cid = cid\n",
    "        self.cloan_amt = cloan_amt\n",
    "        self.cltype = cltype\n",
    "        **self.icicib = ICICIBANK()**\n",
    "        \n",
    "    Here we are calling the ICICIBANK class inside the Interest_Calc class\n",
    "\n",
    "\n",
    "    Inheritance(Is a relationship)"
   ]
  },
  {
   "cell_type": "markdown",
   "id": "b86b2f94",
   "metadata": {},
   "source": [
    "**Composition**"
   ]
  },
  {
   "cell_type": "code",
   "execution_count": 89,
   "id": "6330b397",
   "metadata": {},
   "outputs": [],
   "source": [
    "class Engine: \n",
    "    a = 10 \n",
    "    def __init__(self):\n",
    "        self.b = 20\n",
    "    def m1(self):\n",
    "        print('Engine specific functionality')\n",
    "        \n",
    "        \n",
    "class Car:\n",
    "    def __init__(self):\n",
    "        self.engine = Engine()\n",
    "        \n",
    "    def m2(self):\n",
    "        print('Class car using engine class functionality')\n",
    "        print(self.engine.a)\n",
    "        print(self.engine.b)\n",
    "        self.engine.m1()"
   ]
  },
  {
   "cell_type": "code",
   "execution_count": 90,
   "id": "24be5636",
   "metadata": {},
   "outputs": [
    {
     "name": "stdout",
     "output_type": "stream",
     "text": [
      "Class car using engine class functionality\n",
      "10\n",
      "20\n",
      "Engine specific functionality\n"
     ]
    }
   ],
   "source": [
    "c1 = Car()\n",
    "c1.m2()"
   ]
  },
  {
   "cell_type": "markdown",
   "id": "b8700bde",
   "metadata": {},
   "source": [
    "**Banking Application**"
   ]
  },
  {
   "cell_type": "markdown",
   "id": "3d9c8d1e",
   "metadata": {},
   "source": [
    "**Benefit** - If we have to make some changes in the interest rates we will go ahead and update the ICICIBANK class and rest will be taken care automatically"
   ]
  },
  {
   "cell_type": "code",
   "execution_count": 99,
   "id": "74a2bd57",
   "metadata": {},
   "outputs": [],
   "source": [
    "class ICICIBANK:\n",
    "    interest_rate_home_loans = 0.05\n",
    "    interest_rate_car_loans = 0.095\n",
    "    interest_rate_personal_loans = 0.15"
   ]
  },
  {
   "cell_type": "code",
   "execution_count": 100,
   "id": "fa9b0f0b",
   "metadata": {},
   "outputs": [],
   "source": [
    "class Interest_Calc:\n",
    "    def __init__(self,cid,cloan_amt,cltype):\n",
    "        self.cid = cid\n",
    "        self.cloan_amt = cloan_amt\n",
    "        self.cltype = cltype\n",
    "        self.icicib = ICICIBANK()\n",
    "        \n",
    "    def interest_calc(self):\n",
    "        if self.cltype == 'Home':\n",
    "            print('Your total interest is: ', self.icicib.interest_rate_home_loans*self.cloan_amt)\n",
    "        elif self.cltype == 'Car':\n",
    "            print('Your total interest is: ', self.icicib.interest_rate_car_loans*self.cloan_amt)\n",
    "        else:\n",
    "            print('Your total interest is: ', self.icicib.interest_rate_personal_loans*self.cloan_amt)"
   ]
  },
  {
   "cell_type": "code",
   "execution_count": 102,
   "id": "7c203707",
   "metadata": {},
   "outputs": [
    {
     "name": "stdout",
     "output_type": "stream",
     "text": [
      "Your total interest is:  500.0\n"
     ]
    }
   ],
   "source": [
    "cust1 = Interest_Calc(1,10000,'Home')\n",
    "cust1.interest_calc()"
   ]
  },
  {
   "cell_type": "markdown",
   "id": "a248e415",
   "metadata": {},
   "source": [
    "**Inheritance**"
   ]
  },
  {
   "cell_type": "markdown",
   "id": "46b5a2d1",
   "metadata": {},
   "source": [
    "**Inheritance** - I will give my property to my son, I am inheriting my property\n",
    "\n",
    "**Types of Inheritance**\n",
    "\n",
    "    1) Single Inheritance - One Parent giving the property to one child, One class giving property to another class. Property can be a variable, function or whatever that class has.\n",
    "    \n",
    "    \n",
    "    2) Multilevel Inheritance - Once parent has one child and that child has one more child and so on... We normally prefer to have maximum 5 layers. Parent --> Child --> Sub Child --> Sub Sub Child --> Sub Sub Sub Child\n",
    "    \n",
    "\n",
    "    3) Hierarchical Inheritance - One parent has two or more than two childs, One class has two or more than two childs class \n",
    "    \n",
    "    \n",
    "    4) Multiple Inheritance - One child has two or more than two parents, one class has two or more than two parents"
   ]
  },
  {
   "cell_type": "markdown",
   "id": "18f39856",
   "metadata": {},
   "source": [
    "**Single Inheritance**"
   ]
  },
  {
   "cell_type": "code",
   "execution_count": 112,
   "id": "aa18e218",
   "metadata": {},
   "outputs": [
    {
     "name": "stdout",
     "output_type": "stream",
     "text": [
      "Child Method\n",
      "Parent Method\n"
     ]
    }
   ],
   "source": [
    "class P:\n",
    "    def m1(self):\n",
    "        print('Parent Method')\n",
    "    \n",
    "class C(P):\n",
    "    def m2(self):\n",
    "        print('Child Method')\n",
    "        \n",
    "c1 = C()\n",
    "c1.m2()\n",
    "c1.m1()"
   ]
  },
  {
   "cell_type": "code",
   "execution_count": 104,
   "id": "5201e311",
   "metadata": {},
   "outputs": [],
   "source": [
    "class ICICIBANK: \n",
    "    interest_rate = 0.08\n",
    "    def display(self):\n",
    "        print('The interest rate is: ', ICICIBANK.interest_rate)"
   ]
  },
  {
   "cell_type": "code",
   "execution_count": 107,
   "id": "7d589dc6",
   "metadata": {},
   "outputs": [],
   "source": [
    "class Home_Loan(ICICIBANK):\n",
    "    def __init__(self,cid,cname,cloan_amount):\n",
    "        self.cid = cid\n",
    "        self.cname = cname\n",
    "        self.cloan_amount = cloan_amount\n",
    "        \n",
    "    def interest_calc(self):\n",
    "        print('Total Interest is: ', self.cloan_amount*ICICIBANK.interest_rate)"
   ]
  },
  {
   "cell_type": "code",
   "execution_count": 110,
   "id": "ff4ffbc7",
   "metadata": {},
   "outputs": [
    {
     "name": "stdout",
     "output_type": "stream",
     "text": [
      "Total Interest is:  800.0\n",
      "The interest rate is:  0.08\n"
     ]
    }
   ],
   "source": [
    "home_loan1 = Home_Loan(1,'A',10000)\n",
    "home_loan1.interest_calc()\n",
    "home_loan1.interest_rate\n",
    "home_loan1.display()"
   ]
  },
  {
   "cell_type": "markdown",
   "id": "97771387",
   "metadata": {},
   "source": [
    "**Multilevel Inheritance**"
   ]
  },
  {
   "cell_type": "code",
   "execution_count": 114,
   "id": "fa380768",
   "metadata": {},
   "outputs": [
    {
     "name": "stdout",
     "output_type": "stream",
     "text": [
      "Method M1\n",
      "Method M2\n",
      "Method M3\n"
     ]
    }
   ],
   "source": [
    "class P:\n",
    "    def m1(self):\n",
    "        print('Method M1')\n",
    "        \n",
    "class C(P):\n",
    "    def m2(self):\n",
    "        print('Method M2')\n",
    "        \n",
    "class SC(C):\n",
    "    def m3(self):\n",
    "        print('Method M3')\n",
    "        \n",
    "sc1 = SC()\n",
    "sc1.m1()\n",
    "sc1.m2()\n",
    "sc1.m3()"
   ]
  },
  {
   "cell_type": "markdown",
   "id": "8b66a84f",
   "metadata": {},
   "source": [
    "**Hierachical Inheritance**"
   ]
  },
  {
   "cell_type": "code",
   "execution_count": 115,
   "id": "0c4a2418",
   "metadata": {},
   "outputs": [],
   "source": [
    "class P:\n",
    "    def m1(self):\n",
    "        print('M1 Method')\n",
    "        \n",
    "class C1(P):\n",
    "    def m2(self):\n",
    "        print('M2 Method')\n",
    "        \n",
    "class C2(P):\n",
    "    def m3(self):\n",
    "        print('M3 Method')"
   ]
  },
  {
   "cell_type": "code",
   "execution_count": 122,
   "id": "1d7d71b8",
   "metadata": {},
   "outputs": [
    {
     "name": "stdout",
     "output_type": "stream",
     "text": [
      "M2 Method\n",
      "M1 Method\n"
     ]
    }
   ],
   "source": [
    "c1_1 = C1()\n",
    "c1_1.m2()\n",
    "c1_1.m1()"
   ]
  },
  {
   "cell_type": "code",
   "execution_count": 121,
   "id": "82d2e0b1",
   "metadata": {},
   "outputs": [
    {
     "name": "stdout",
     "output_type": "stream",
     "text": [
      "M3 Method\n",
      "M1 Method\n"
     ]
    }
   ],
   "source": [
    "c2_1 = C2()\n",
    "c2_1.m3()\n",
    "c2_1.m1()"
   ]
  },
  {
   "cell_type": "markdown",
   "id": "34adefac",
   "metadata": {},
   "source": [
    "**Multiple Inheritance**"
   ]
  },
  {
   "cell_type": "code",
   "execution_count": 123,
   "id": "62e3023e",
   "metadata": {},
   "outputs": [],
   "source": [
    "class P1:\n",
    "    def m1(self):\n",
    "        print('M1 Method')\n",
    "        \n",
    "class P2:\n",
    "    def m2(self):\n",
    "        print('M2 Method')\n",
    "        \n",
    "class C(P1,P2):\n",
    "    def m3(self):\n",
    "        print('M3 Method')"
   ]
  },
  {
   "cell_type": "code",
   "execution_count": 124,
   "id": "3039e7d9",
   "metadata": {},
   "outputs": [
    {
     "name": "stdout",
     "output_type": "stream",
     "text": [
      "M1 Method\n",
      "M2 Method\n",
      "M3 Method\n"
     ]
    }
   ],
   "source": [
    "c1 = C()\n",
    "c1.m1()\n",
    "c1.m2()\n",
    "c1.m3()"
   ]
  },
  {
   "cell_type": "markdown",
   "id": "8635a667",
   "metadata": {},
   "source": [
    "**What if the method names are same for both the parents**"
   ]
  },
  {
   "cell_type": "code",
   "execution_count": 125,
   "id": "e6e7b09e",
   "metadata": {},
   "outputs": [],
   "source": [
    "class P1:\n",
    "    def m1(self):\n",
    "        print('M1 Method')\n",
    "        \n",
    "class P2:\n",
    "    def m1(self):\n",
    "        print('M2 Method')\n",
    "        \n",
    "class C(P1,P2):\n",
    "    def m3(self):\n",
    "        print('M3 Method')"
   ]
  },
  {
   "cell_type": "code",
   "execution_count": 126,
   "id": "c1411917",
   "metadata": {},
   "outputs": [
    {
     "name": "stdout",
     "output_type": "stream",
     "text": [
      "M1 Method\n"
     ]
    }
   ],
   "source": [
    "c1 = C()\n",
    "c1.m1()"
   ]
  },
  {
   "cell_type": "code",
   "execution_count": 127,
   "id": "9bdb7d2d",
   "metadata": {},
   "outputs": [],
   "source": [
    "class P1:\n",
    "    def m1(self):\n",
    "        print('M1 Method')\n",
    "        \n",
    "class P2:\n",
    "    def m1(self):\n",
    "        print('M2 Method')\n",
    "        \n",
    "class C(P2,P1):\n",
    "    def m3(self):\n",
    "        print('M3 Method')"
   ]
  },
  {
   "cell_type": "code",
   "execution_count": 128,
   "id": "101ebc45",
   "metadata": {},
   "outputs": [
    {
     "name": "stdout",
     "output_type": "stream",
     "text": [
      "M2 Method\n"
     ]
    }
   ],
   "source": [
    "c1 = C()\n",
    "c1.m1()"
   ]
  },
  {
   "cell_type": "markdown",
   "id": "412a1698",
   "metadata": {},
   "source": [
    "# Introduction to Machine Learning"
   ]
  },
  {
   "cell_type": "markdown",
   "id": "a12c6615",
   "metadata": {},
   "source": [
    "**Machine Learning:** We are going to provide the data to the machine so that machine will learn from that data and do the predictions for the new data points\n",
    "\n",
    "**Types of Machine Learning**\n",
    "\n",
    "    1) Supervised Machine Learning - We have certain data which can be used for testing the model, if the predictions are coming correct or not. We can check the accuracies based on the test data.\n",
    "    \n",
    "        a) Regression - When there is a dataset Dn, where we have xi's and yi such that xi's E (Belongs to) real valued number and yi E (Belongs to) real valued number, for example: We want to predict the car price based on the features of the car\n",
    "        \n",
    "        b) Classification - When there is a dataset Dn, where we have xi's and yi such that xi's E (Belongs to) real valued number and yi E {Belongs to) 0 or 1 that means no or yes. For example: We want to predict if my customer will purchase the product or not. What is the probability for the same. \n",
    "    \n",
    "    \n",
    "    2) Unsupervised Machine Learning\n",
    "    \n",
    "        a) Clustering - There will not be any y in the clustering, We have to create a cluster based on the similarity. For example: Based on the income and spending score, if I want to market people who can purchase expensive products, and my marketing budget is less, I will target the customers who are having high income and high spending score. As there is no Y we cannot split the data into train and test. We cannot check the accuracies of the model as there is not test data. There are some measure which can help me to get confidence that the model is doing a good job.\n",
    "    \n",
    "    \n",
    "    3) Reinforcement Machine Learning - Teaching a computer how to do something by giving it rewards or punishments. "
   ]
  }
 ],
 "metadata": {
  "kernelspec": {
   "display_name": "Python 3 (ipykernel)",
   "language": "python",
   "name": "python3"
  },
  "language_info": {
   "codemirror_mode": {
    "name": "ipython",
    "version": 3
   },
   "file_extension": ".py",
   "mimetype": "text/x-python",
   "name": "python",
   "nbconvert_exporter": "python",
   "pygments_lexer": "ipython3",
   "version": "3.9.13"
  }
 },
 "nbformat": 4,
 "nbformat_minor": 5
}
