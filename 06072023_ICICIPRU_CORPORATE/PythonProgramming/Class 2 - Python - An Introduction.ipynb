{
 "cells": [
  {
   "cell_type": "markdown",
   "id": "4437bfd3",
   "metadata": {},
   "source": [
    "# Dictionary"
   ]
  },
  {
   "cell_type": "markdown",
   "id": "430dc191",
   "metadata": {},
   "source": [
    "**Dictionary is a key value pair concept where keys and values are separated by : colon**"
   ]
  },
  {
   "cell_type": "markdown",
   "id": "fda378d9",
   "metadata": {},
   "source": [
    "One key and one value"
   ]
  },
  {
   "cell_type": "code",
   "execution_count": 5,
   "id": "9e226ce6",
   "metadata": {},
   "outputs": [],
   "source": [
    "student_details = {'sid':1}"
   ]
  },
  {
   "cell_type": "code",
   "execution_count": 2,
   "id": "0e3facd9",
   "metadata": {},
   "outputs": [
    {
     "data": {
      "text/plain": [
       "dict"
      ]
     },
     "execution_count": 2,
     "metadata": {},
     "output_type": "execute_result"
    }
   ],
   "source": [
    "type(student_details)"
   ]
  },
  {
   "cell_type": "code",
   "execution_count": 6,
   "id": "495420ef",
   "metadata": {},
   "outputs": [
    {
     "data": {
      "text/plain": [
       "{'sid': 1}"
      ]
     },
     "execution_count": 6,
     "metadata": {},
     "output_type": "execute_result"
    }
   ],
   "source": [
    "student_details"
   ]
  },
  {
   "cell_type": "markdown",
   "id": "0c79a0f0",
   "metadata": {},
   "source": [
    "Multiple keys and Multiple values"
   ]
  },
  {
   "cell_type": "code",
   "execution_count": 7,
   "id": "51f0f046",
   "metadata": {},
   "outputs": [],
   "source": [
    "student_details = {'sid':1, 'sname':'John', 'sregion':'APAC'}"
   ]
  },
  {
   "cell_type": "code",
   "execution_count": 4,
   "id": "8ec56c64",
   "metadata": {},
   "outputs": [
    {
     "data": {
      "text/plain": [
       "dict"
      ]
     },
     "execution_count": 4,
     "metadata": {},
     "output_type": "execute_result"
    }
   ],
   "source": [
    "type(student_details)"
   ]
  },
  {
   "cell_type": "code",
   "execution_count": 8,
   "id": "463e8df4",
   "metadata": {},
   "outputs": [
    {
     "data": {
      "text/plain": [
       "{'sid': 1, 'sname': 'John', 'sregion': 'APAC'}"
      ]
     },
     "execution_count": 8,
     "metadata": {},
     "output_type": "execute_result"
    }
   ],
   "source": [
    "student_details"
   ]
  },
  {
   "cell_type": "markdown",
   "id": "1c03a9b1",
   "metadata": {},
   "source": [
    "Multiple Keys and Multiple values in that multiple keys"
   ]
  },
  {
   "cell_type": "markdown",
   "id": "8510e214",
   "metadata": {},
   "source": [
    "**We can pass Lists or Tuples or Sets in the values**"
   ]
  },
  {
   "cell_type": "code",
   "execution_count": 31,
   "id": "d1360f08",
   "metadata": {},
   "outputs": [],
   "source": [
    "student_details = {'sid':[1,2,3,4,5], 'sname':['A','B','C','D','E'], 'sregion':['N','S','S','E','W']}"
   ]
  },
  {
   "cell_type": "code",
   "execution_count": 10,
   "id": "3f1a270b",
   "metadata": {},
   "outputs": [
    {
     "data": {
      "text/plain": [
       "{'sid': [1, 2, 3, 4, 5],\n",
       " 'sname': ['A', 'B', 'C', 'D', 'E'],\n",
       " 'sregion': ['N', 'S', 'S', 'E', 'W']}"
      ]
     },
     "execution_count": 10,
     "metadata": {},
     "output_type": "execute_result"
    }
   ],
   "source": [
    "student_details"
   ]
  },
  {
   "cell_type": "markdown",
   "id": "4fa615ec",
   "metadata": {},
   "source": [
    "We cannot have multiple values in a single key"
   ]
  },
  {
   "cell_type": "code",
   "execution_count": 11,
   "id": "684d99d5",
   "metadata": {},
   "outputs": [
    {
     "ename": "TypeError",
     "evalue": "unhashable type: 'list'",
     "output_type": "error",
     "traceback": [
      "\u001b[1;31m---------------------------------------------------------------------------\u001b[0m",
      "\u001b[1;31mTypeError\u001b[0m                                 Traceback (most recent call last)",
      "\u001b[1;32m~\\AppData\\Local\\Temp\\ipykernel_2620\\3794215543.py\u001b[0m in \u001b[0;36m<module>\u001b[1;34m\u001b[0m\n\u001b[1;32m----> 1\u001b[1;33m \u001b[0mstudent_details\u001b[0m \u001b[1;33m=\u001b[0m \u001b[1;33m{\u001b[0m\u001b[1;33m[\u001b[0m\u001b[1;34m'Sid'\u001b[0m\u001b[1;33m,\u001b[0m\u001b[1;34m'Sname'\u001b[0m\u001b[1;33m,\u001b[0m\u001b[1;34m'Sregion'\u001b[0m\u001b[1;33m]\u001b[0m\u001b[1;33m:\u001b[0m \u001b[1;33m[\u001b[0m\u001b[1;36m1\u001b[0m\u001b[1;33m,\u001b[0m\u001b[1;36m2\u001b[0m\u001b[1;33m,\u001b[0m\u001b[1;36m3\u001b[0m\u001b[1;33m,\u001b[0m\u001b[1;36m4\u001b[0m\u001b[1;33m]\u001b[0m\u001b[1;33m}\u001b[0m\u001b[1;33m\u001b[0m\u001b[1;33m\u001b[0m\u001b[0m\n\u001b[0m",
      "\u001b[1;31mTypeError\u001b[0m: unhashable type: 'list'"
     ]
    }
   ],
   "source": [
    "student_details = {['Sid','Sname','Sregion']: [1,2,3,4]}"
   ]
  },
  {
   "cell_type": "markdown",
   "id": "577b4eda",
   "metadata": {},
   "source": [
    "We will get 3 because there are 3 key value pairs"
   ]
  },
  {
   "cell_type": "code",
   "execution_count": 13,
   "id": "2f17eb3f",
   "metadata": {},
   "outputs": [
    {
     "data": {
      "text/plain": [
       "3"
      ]
     },
     "execution_count": 13,
     "metadata": {},
     "output_type": "execute_result"
    }
   ],
   "source": [
    "len(student_details)"
   ]
  },
  {
   "cell_type": "code",
   "execution_count": 14,
   "id": "dc1d06dd",
   "metadata": {},
   "outputs": [
    {
     "data": {
      "text/plain": [
       "{'sid': [1, 2, 3, 4, 5],\n",
       " 'sname': ['A', 'B', 'C', 'D', 'E'],\n",
       " 'sregion': ['N', 'S', 'S', 'E', 'W']}"
      ]
     },
     "execution_count": 14,
     "metadata": {},
     "output_type": "execute_result"
    }
   ],
   "source": [
    "student_details"
   ]
  },
  {
   "cell_type": "code",
   "execution_count": 25,
   "id": "943c1316",
   "metadata": {},
   "outputs": [
    {
     "data": {
      "text/plain": [
       "['A', 'B', 'C', 'D', 'E']"
      ]
     },
     "execution_count": 25,
     "metadata": {},
     "output_type": "execute_result"
    }
   ],
   "source": [
    "student_details['sname']"
   ]
  },
  {
   "cell_type": "markdown",
   "id": "fce67449",
   "metadata": {},
   "source": [
    "**clear() - It will clear the dictionary**"
   ]
  },
  {
   "cell_type": "code",
   "execution_count": 16,
   "id": "d6c05ada",
   "metadata": {},
   "outputs": [],
   "source": [
    "student_details.clear()"
   ]
  },
  {
   "cell_type": "code",
   "execution_count": 17,
   "id": "e72fd30f",
   "metadata": {},
   "outputs": [
    {
     "data": {
      "text/plain": [
       "{}"
      ]
     },
     "execution_count": 17,
     "metadata": {},
     "output_type": "execute_result"
    }
   ],
   "source": [
    "student_details"
   ]
  },
  {
   "cell_type": "markdown",
   "id": "32787757",
   "metadata": {},
   "source": [
    "**copy() - It will create the backup of the existing dictionary**"
   ]
  },
  {
   "cell_type": "code",
   "execution_count": 20,
   "id": "6646c725",
   "metadata": {},
   "outputs": [],
   "source": [
    "a = student_details.copy()"
   ]
  },
  {
   "cell_type": "code",
   "execution_count": 21,
   "id": "5c0629a3",
   "metadata": {},
   "outputs": [
    {
     "data": {
      "text/plain": [
       "{'sid': [1, 2, 3, 4, 5],\n",
       " 'sname': ['A', 'B', 'C', 'D', 'E'],\n",
       " 'sregion': ['N', 'S', 'S', 'E', 'W']}"
      ]
     },
     "execution_count": 21,
     "metadata": {},
     "output_type": "execute_result"
    }
   ],
   "source": [
    "a"
   ]
  },
  {
   "cell_type": "code",
   "execution_count": 22,
   "id": "1e0208f8",
   "metadata": {},
   "outputs": [
    {
     "data": {
      "text/plain": [
       "2132289131776"
      ]
     },
     "execution_count": 22,
     "metadata": {},
     "output_type": "execute_result"
    }
   ],
   "source": [
    "id(a)"
   ]
  },
  {
   "cell_type": "code",
   "execution_count": 23,
   "id": "2b93135b",
   "metadata": {},
   "outputs": [
    {
     "data": {
      "text/plain": [
       "2132289353088"
      ]
     },
     "execution_count": 23,
     "metadata": {},
     "output_type": "execute_result"
    }
   ],
   "source": [
    "id(student_details)"
   ]
  },
  {
   "cell_type": "markdown",
   "id": "811a643d",
   "metadata": {},
   "source": [
    "**get() - It gives the values by passing the cosserponding keys**"
   ]
  },
  {
   "cell_type": "code",
   "execution_count": 24,
   "id": "14838fc4",
   "metadata": {},
   "outputs": [
    {
     "data": {
      "text/plain": [
       "['A', 'B', 'C', 'D', 'E']"
      ]
     },
     "execution_count": 24,
     "metadata": {},
     "output_type": "execute_result"
    }
   ],
   "source": [
    "student_details.get('sname')"
   ]
  },
  {
   "cell_type": "code",
   "execution_count": 26,
   "id": "f0b027f8",
   "metadata": {},
   "outputs": [
    {
     "data": {
      "text/plain": [
       "['A', 'B', 'C', 'D', 'E']"
      ]
     },
     "execution_count": 26,
     "metadata": {},
     "output_type": "execute_result"
    }
   ],
   "source": [
    "student_details['sname']"
   ]
  },
  {
   "cell_type": "markdown",
   "id": "7b87eeb4",
   "metadata": {},
   "source": [
    "**items() - We will get all the keys and values together**"
   ]
  },
  {
   "cell_type": "code",
   "execution_count": 27,
   "id": "fd6a0c4f",
   "metadata": {},
   "outputs": [
    {
     "data": {
      "text/plain": [
       "dict_items([('sid', [1, 2, 3, 4, 5]), ('sname', ['A', 'B', 'C', 'D', 'E']), ('sregion', ['N', 'S', 'S', 'E', 'W'])])"
      ]
     },
     "execution_count": 27,
     "metadata": {},
     "output_type": "execute_result"
    }
   ],
   "source": [
    "student_details.items()"
   ]
  },
  {
   "cell_type": "markdown",
   "id": "d8c54f0f",
   "metadata": {},
   "source": [
    "**pop() - Pop command needs the key, and when we pass the key it will remove that key value pair**"
   ]
  },
  {
   "cell_type": "code",
   "execution_count": 29,
   "id": "0dafb545",
   "metadata": {},
   "outputs": [
    {
     "data": {
      "text/plain": [
       "['N', 'S', 'S', 'E', 'W']"
      ]
     },
     "execution_count": 29,
     "metadata": {},
     "output_type": "execute_result"
    }
   ],
   "source": [
    "student_details.pop('sregion')"
   ]
  },
  {
   "cell_type": "markdown",
   "id": "1a3047fa",
   "metadata": {},
   "source": [
    "**In the below command it is renaming the key from sregion to s_region, using the pop command**"
   ]
  },
  {
   "cell_type": "code",
   "execution_count": 33,
   "id": "bb9fd0cd",
   "metadata": {},
   "outputs": [],
   "source": [
    "student_details['s_region'] = student_details.pop('sregion')"
   ]
  },
  {
   "cell_type": "code",
   "execution_count": 34,
   "id": "e2266752",
   "metadata": {},
   "outputs": [
    {
     "data": {
      "text/plain": [
       "{'sid': [1, 2, 3, 4, 5],\n",
       " 'sname': ['A', 'B', 'C', 'D', 'E'],\n",
       " 's_region': ['N', 'S', 'S', 'E', 'W']}"
      ]
     },
     "execution_count": 34,
     "metadata": {},
     "output_type": "execute_result"
    }
   ],
   "source": [
    "student_details"
   ]
  },
  {
   "cell_type": "markdown",
   "id": "6f73b97d",
   "metadata": {},
   "source": [
    "**popitem() - It does not take any input, it by default removes the last key value pair**"
   ]
  },
  {
   "cell_type": "code",
   "execution_count": 35,
   "id": "1d428028",
   "metadata": {},
   "outputs": [
    {
     "data": {
      "text/plain": [
       "('s_region', ['N', 'S', 'S', 'E', 'W'])"
      ]
     },
     "execution_count": 35,
     "metadata": {},
     "output_type": "execute_result"
    }
   ],
   "source": [
    "student_details.popitem()"
   ]
  },
  {
   "cell_type": "code",
   "execution_count": 36,
   "id": "1628347e",
   "metadata": {},
   "outputs": [
    {
     "data": {
      "text/plain": [
       "{'sid': [1, 2, 3, 4, 5], 'sname': ['A', 'B', 'C', 'D', 'E']}"
      ]
     },
     "execution_count": 36,
     "metadata": {},
     "output_type": "execute_result"
    }
   ],
   "source": [
    "student_details"
   ]
  },
  {
   "cell_type": "markdown",
   "id": "9d730944",
   "metadata": {},
   "source": [
    "**setdefault() - It helps us to create the placeholder or a key without any value assigned to it, we can assign the values later once we know the values**"
   ]
  },
  {
   "cell_type": "code",
   "execution_count": 37,
   "id": "098fd230",
   "metadata": {},
   "outputs": [],
   "source": [
    "student_details.setdefault('sregion')"
   ]
  },
  {
   "cell_type": "markdown",
   "id": "5b9b260d",
   "metadata": {},
   "source": [
    "How we will assign the values, so below is the command to do that"
   ]
  },
  {
   "cell_type": "code",
   "execution_count": 39,
   "id": "d42773cf",
   "metadata": {},
   "outputs": [],
   "source": [
    "student_details['sregion'] = ['N','S','S','E','W']"
   ]
  },
  {
   "cell_type": "code",
   "execution_count": 40,
   "id": "305babea",
   "metadata": {},
   "outputs": [
    {
     "data": {
      "text/plain": [
       "{'sid': [1, 2, 3, 4, 5],\n",
       " 'sname': ['A', 'B', 'C', 'D', 'E'],\n",
       " 'sregion': ['N', 'S', 'S', 'E', 'W']}"
      ]
     },
     "execution_count": 40,
     "metadata": {},
     "output_type": "execute_result"
    }
   ],
   "source": [
    "student_details"
   ]
  },
  {
   "cell_type": "markdown",
   "id": "035d6e37",
   "metadata": {},
   "source": [
    "**keys() - It will give me all the keys in the dictionary**"
   ]
  },
  {
   "cell_type": "code",
   "execution_count": 43,
   "id": "cf65e053",
   "metadata": {},
   "outputs": [
    {
     "data": {
      "text/plain": [
       "dict_keys(['sid', 'sname', 'sregion'])"
      ]
     },
     "execution_count": 43,
     "metadata": {},
     "output_type": "execute_result"
    }
   ],
   "source": [
    "student_details.keys()"
   ]
  },
  {
   "cell_type": "markdown",
   "id": "28c22d49",
   "metadata": {},
   "source": [
    "**values() - Values will give me all the values in the dictionary**"
   ]
  },
  {
   "cell_type": "code",
   "execution_count": 44,
   "id": "275b4f2d",
   "metadata": {},
   "outputs": [
    {
     "data": {
      "text/plain": [
       "dict_values([[1, 2, 3, 4, 5], ['A', 'B', 'C', 'D', 'E'], ['N', 'S', 'S', 'E', 'W']])"
      ]
     },
     "execution_count": 44,
     "metadata": {},
     "output_type": "execute_result"
    }
   ],
   "source": [
    "student_details.values()"
   ]
  },
  {
   "cell_type": "markdown",
   "id": "5a33e1a7",
   "metadata": {},
   "source": [
    "**update() - It will update the dict1 using dict2 as per the below command, in a dictionary there will not be any duplicate keys. The value of Key 1 gets updated to 10 and 11:20 gets added in the dict1** "
   ]
  },
  {
   "cell_type": "code",
   "execution_count": 46,
   "id": "04655118",
   "metadata": {},
   "outputs": [],
   "source": [
    "dict1 = {1:3,5:7,8:9}\n",
    "dict2 = {1:10, 11:20}"
   ]
  },
  {
   "cell_type": "code",
   "execution_count": 47,
   "id": "02a7dcc8",
   "metadata": {},
   "outputs": [],
   "source": [
    "dict1.update(dict2)"
   ]
  },
  {
   "cell_type": "code",
   "execution_count": 48,
   "id": "6ce94a11",
   "metadata": {},
   "outputs": [
    {
     "data": {
      "text/plain": [
       "{1: 10, 5: 7, 8: 9, 11: 20}"
      ]
     },
     "execution_count": 48,
     "metadata": {},
     "output_type": "execute_result"
    }
   ],
   "source": [
    "dict1"
   ]
  },
  {
   "cell_type": "markdown",
   "id": "637c18fc",
   "metadata": {},
   "source": [
    "**How to update the values**"
   ]
  },
  {
   "cell_type": "code",
   "execution_count": 49,
   "id": "2204df79",
   "metadata": {},
   "outputs": [
    {
     "data": {
      "text/plain": [
       "{'sid': [1, 2, 3, 4, 5],\n",
       " 'sname': ['A', 'B', 'C', 'D', 'E'],\n",
       " 'sregion': ['N', 'S', 'S', 'E', 'W']}"
      ]
     },
     "execution_count": 49,
     "metadata": {},
     "output_type": "execute_result"
    }
   ],
   "source": [
    "student_details"
   ]
  },
  {
   "cell_type": "markdown",
   "id": "3bc56880",
   "metadata": {},
   "source": [
    "**Here in the below dictionary the value got updated as the values are in the list**"
   ]
  },
  {
   "cell_type": "code",
   "execution_count": 52,
   "id": "668f8f80",
   "metadata": {},
   "outputs": [],
   "source": [
    "student_details['sid'][2]=10"
   ]
  },
  {
   "cell_type": "code",
   "execution_count": 53,
   "id": "612064f8",
   "metadata": {},
   "outputs": [
    {
     "data": {
      "text/plain": [
       "{'sid': [1, 2, 10, 4, 5],\n",
       " 'sname': ['A', 'B', 'C', 'D', 'E'],\n",
       " 'sregion': ['N', 'S', 'S', 'E', 'W']}"
      ]
     },
     "execution_count": 53,
     "metadata": {},
     "output_type": "execute_result"
    }
   ],
   "source": [
    "student_details"
   ]
  },
  {
   "cell_type": "markdown",
   "id": "307c3ea7",
   "metadata": {},
   "source": [
    "**Here in the below dictionary the value did not get updated as the values are in the tuple**"
   ]
  },
  {
   "cell_type": "code",
   "execution_count": 54,
   "id": "f7e4c6b8",
   "metadata": {},
   "outputs": [],
   "source": [
    "student_details = {'sid':(1,2,3,4,5), 'sname':('A','B','C','D','E'), 'sregion':('N','S','S','E','W')}"
   ]
  },
  {
   "cell_type": "code",
   "execution_count": 58,
   "id": "bdf31350",
   "metadata": {},
   "outputs": [
    {
     "ename": "TypeError",
     "evalue": "'tuple' object does not support item assignment",
     "output_type": "error",
     "traceback": [
      "\u001b[1;31m---------------------------------------------------------------------------\u001b[0m",
      "\u001b[1;31mTypeError\u001b[0m                                 Traceback (most recent call last)",
      "\u001b[1;32m~\\AppData\\Local\\Temp\\ipykernel_2620\\3211879819.py\u001b[0m in \u001b[0;36m<module>\u001b[1;34m\u001b[0m\n\u001b[1;32m----> 1\u001b[1;33m \u001b[0mstudent_details\u001b[0m\u001b[1;33m[\u001b[0m\u001b[1;34m'sid'\u001b[0m\u001b[1;33m]\u001b[0m\u001b[1;33m[\u001b[0m\u001b[1;36m2\u001b[0m\u001b[1;33m]\u001b[0m\u001b[1;33m=\u001b[0m\u001b[1;36m10\u001b[0m\u001b[1;33m\u001b[0m\u001b[1;33m\u001b[0m\u001b[0m\n\u001b[0m",
      "\u001b[1;31mTypeError\u001b[0m: 'tuple' object does not support item assignment"
     ]
    }
   ],
   "source": [
    "student_details['sid'][2]=10"
   ]
  },
  {
   "cell_type": "markdown",
   "id": "097e2ee5",
   "metadata": {},
   "source": [
    "**Can we convert the dictionary to a table (Dataframes)**"
   ]
  },
  {
   "cell_type": "markdown",
   "id": "74e5b6d0",
   "metadata": {},
   "source": [
    "pd is an alias"
   ]
  },
  {
   "cell_type": "code",
   "execution_count": 60,
   "id": "cd18cf66",
   "metadata": {},
   "outputs": [],
   "source": [
    "import pandas as pd"
   ]
  },
  {
   "cell_type": "code",
   "execution_count": 62,
   "id": "fc18b1bd",
   "metadata": {},
   "outputs": [],
   "source": [
    "df = pd.DataFrame(student_details)"
   ]
  },
  {
   "cell_type": "code",
   "execution_count": 64,
   "id": "713d9ad0",
   "metadata": {},
   "outputs": [
    {
     "data": {
      "text/plain": [
       "pandas.core.frame.DataFrame"
      ]
     },
     "execution_count": 64,
     "metadata": {},
     "output_type": "execute_result"
    }
   ],
   "source": [
    "type(df)"
   ]
  },
  {
   "cell_type": "code",
   "execution_count": 65,
   "id": "5ad94a5e",
   "metadata": {},
   "outputs": [
    {
     "data": {
      "text/html": [
       "<div>\n",
       "<style scoped>\n",
       "    .dataframe tbody tr th:only-of-type {\n",
       "        vertical-align: middle;\n",
       "    }\n",
       "\n",
       "    .dataframe tbody tr th {\n",
       "        vertical-align: top;\n",
       "    }\n",
       "\n",
       "    .dataframe thead th {\n",
       "        text-align: right;\n",
       "    }\n",
       "</style>\n",
       "<table border=\"1\" class=\"dataframe\">\n",
       "  <thead>\n",
       "    <tr style=\"text-align: right;\">\n",
       "      <th></th>\n",
       "      <th>sid</th>\n",
       "      <th>sname</th>\n",
       "      <th>sregion</th>\n",
       "    </tr>\n",
       "  </thead>\n",
       "  <tbody>\n",
       "    <tr>\n",
       "      <th>0</th>\n",
       "      <td>1</td>\n",
       "      <td>A</td>\n",
       "      <td>N</td>\n",
       "    </tr>\n",
       "    <tr>\n",
       "      <th>1</th>\n",
       "      <td>2</td>\n",
       "      <td>B</td>\n",
       "      <td>S</td>\n",
       "    </tr>\n",
       "    <tr>\n",
       "      <th>2</th>\n",
       "      <td>3</td>\n",
       "      <td>C</td>\n",
       "      <td>S</td>\n",
       "    </tr>\n",
       "    <tr>\n",
       "      <th>3</th>\n",
       "      <td>4</td>\n",
       "      <td>D</td>\n",
       "      <td>E</td>\n",
       "    </tr>\n",
       "    <tr>\n",
       "      <th>4</th>\n",
       "      <td>5</td>\n",
       "      <td>E</td>\n",
       "      <td>W</td>\n",
       "    </tr>\n",
       "  </tbody>\n",
       "</table>\n",
       "</div>"
      ],
      "text/plain": [
       "   sid sname sregion\n",
       "0    1     A       N\n",
       "1    2     B       S\n",
       "2    3     C       S\n",
       "3    4     D       E\n",
       "4    5     E       W"
      ]
     },
     "execution_count": 65,
     "metadata": {},
     "output_type": "execute_result"
    }
   ],
   "source": [
    "df"
   ]
  },
  {
   "cell_type": "markdown",
   "id": "6f0edee7",
   "metadata": {},
   "source": [
    "# Range"
   ]
  },
  {
   "cell_type": "markdown",
   "id": "ac112046",
   "metadata": {},
   "source": [
    "**Range function generates the number in the certain range given by the user, the range should be an int**"
   ]
  },
  {
   "cell_type": "code",
   "execution_count": 71,
   "id": "b25cf673",
   "metadata": {},
   "outputs": [
    {
     "data": {
      "text/plain": [
       "[0, 1, 2, 3, 4, 5, 6, 7, 8, 9]"
      ]
     },
     "execution_count": 71,
     "metadata": {},
     "output_type": "execute_result"
    }
   ],
   "source": [
    "list(range(0,10))"
   ]
  },
  {
   "cell_type": "code",
   "execution_count": 69,
   "id": "70979716",
   "metadata": {},
   "outputs": [
    {
     "ename": "TypeError",
     "evalue": "'float' object cannot be interpreted as an integer",
     "output_type": "error",
     "traceback": [
      "\u001b[1;31m---------------------------------------------------------------------------\u001b[0m",
      "\u001b[1;31mTypeError\u001b[0m                                 Traceback (most recent call last)",
      "\u001b[1;32m~\\AppData\\Local\\Temp\\ipykernel_2620\\2105896347.py\u001b[0m in \u001b[0;36m<module>\u001b[1;34m\u001b[0m\n\u001b[1;32m----> 1\u001b[1;33m \u001b[0mlist\u001b[0m\u001b[1;33m(\u001b[0m\u001b[0mrange\u001b[0m\u001b[1;33m(\u001b[0m\u001b[1;36m5.5\u001b[0m\u001b[1;33m,\u001b[0m\u001b[1;36m10\u001b[0m\u001b[1;33m)\u001b[0m\u001b[1;33m)\u001b[0m\u001b[1;33m\u001b[0m\u001b[1;33m\u001b[0m\u001b[0m\n\u001b[0m",
      "\u001b[1;31mTypeError\u001b[0m: 'float' object cannot be interpreted as an integer"
     ]
    }
   ],
   "source": [
    "list(range(5.5,10))"
   ]
  },
  {
   "cell_type": "markdown",
   "id": "224ca6c3",
   "metadata": {},
   "source": [
    "**3 is a jump**"
   ]
  },
  {
   "cell_type": "code",
   "execution_count": 73,
   "id": "a945e18b",
   "metadata": {},
   "outputs": [
    {
     "data": {
      "text/plain": [
       "[0, 3, 6, 9]"
      ]
     },
     "execution_count": 73,
     "metadata": {},
     "output_type": "execute_result"
    }
   ],
   "source": [
    "list(range(0,10,3))"
   ]
  },
  {
   "cell_type": "markdown",
   "id": "7ddd5e7f",
   "metadata": {},
   "source": [
    "**If we pass the number from bigger to smaller we wil get an empty list, however, if we pass -1 after the smaller number we will get the reverse order list**"
   ]
  },
  {
   "cell_type": "code",
   "execution_count": 75,
   "id": "cf1d4b03",
   "metadata": {},
   "outputs": [
    {
     "data": {
      "text/plain": [
       "[10, 9, 8, 7, 6, 5, 4, 3, 2, 1]"
      ]
     },
     "execution_count": 75,
     "metadata": {},
     "output_type": "execute_result"
    }
   ],
   "source": [
    "list(range(10,0,-1))"
   ]
  },
  {
   "cell_type": "markdown",
   "id": "f8f9e43d",
   "metadata": {},
   "source": [
    "**Nonetype**"
   ]
  },
  {
   "cell_type": "code",
   "execution_count": 76,
   "id": "5905b9e2",
   "metadata": {},
   "outputs": [],
   "source": [
    "customer_name = None"
   ]
  },
  {
   "cell_type": "code",
   "execution_count": 78,
   "id": "d0dc4d76",
   "metadata": {},
   "outputs": [
    {
     "data": {
      "text/plain": [
       "NoneType"
      ]
     },
     "execution_count": 78,
     "metadata": {},
     "output_type": "execute_result"
    }
   ],
   "source": [
    "type(customer_name)"
   ]
  },
  {
   "cell_type": "markdown",
   "id": "4b928563",
   "metadata": {},
   "source": [
    "# Operators in Python"
   ]
  },
  {
   "cell_type": "markdown",
   "id": "6f40094a",
   "metadata": {},
   "source": [
    "**Arithmetic** "
   ]
  },
  {
   "cell_type": "markdown",
   "id": "3b645692",
   "metadata": {},
   "source": [
    "**+ - Addition - Sums up two or more than two values**\n",
    "\n",
    "**- - Subtraction - Subtracts two or more than two values**\n",
    "\n",
    "*** - Multiplication - Multiplies two or more than two values**\n",
    "\n",
    "**/ - Division - Divides two or more than two values** \n",
    "\n",
    "**// - Floor Division - Its a Quotient**\n",
    "\n",
    "**% - Modulo - Its a remainder**\n",
    "\n",
    "**** - Power - Exponent**"
   ]
  },
  {
   "cell_type": "code",
   "execution_count": 82,
   "id": "a1b0d33c",
   "metadata": {},
   "outputs": [
    {
     "name": "stdout",
     "output_type": "stream",
     "text": [
      "num1+num2: 13\n",
      "num1-num2: 7\n",
      "num1*num2: 30\n",
      "num1/num2: 3.3333333333333335\n",
      "num1//num2: 3\n",
      "num1%num2: 1\n",
      "num1**num2: 1000\n"
     ]
    }
   ],
   "source": [
    "num1 = 10\n",
    "num2 = 3\n",
    "\n",
    "print('num1+num2:', num1+num2)\n",
    "print('num1-num2:', num1-num2)\n",
    "print('num1*num2:', num1*num2)\n",
    "print('num1/num2:', num1/num2)\n",
    "print('num1//num2:', num1//num2)\n",
    "print('num1%num2:', num1%num2)\n",
    "print('num1**num2:', num1**num2)"
   ]
  },
  {
   "cell_type": "markdown",
   "id": "c41a6b75",
   "metadata": {},
   "source": [
    "**Concat the strings in Python**"
   ]
  },
  {
   "cell_type": "code",
   "execution_count": 83,
   "id": "b69132d6",
   "metadata": {},
   "outputs": [
    {
     "data": {
      "text/plain": [
       "'rahultiwari'"
      ]
     },
     "execution_count": 83,
     "metadata": {},
     "output_type": "execute_result"
    }
   ],
   "source": [
    "'rahul' + 'tiwari'"
   ]
  },
  {
   "cell_type": "markdown",
   "id": "d4aa2f53",
   "metadata": {},
   "source": [
    "**Type casting - Converting one datatype to another**"
   ]
  },
  {
   "cell_type": "code",
   "execution_count": 85,
   "id": "6d98b7df",
   "metadata": {},
   "outputs": [
    {
     "data": {
      "text/plain": [
       "30"
      ]
     },
     "execution_count": 85,
     "metadata": {},
     "output_type": "execute_result"
    }
   ],
   "source": [
    "int('10') + int('20')"
   ]
  },
  {
   "cell_type": "markdown",
   "id": "d99bc295",
   "metadata": {},
   "source": [
    "**Relational or Comparision**"
   ]
  },
  {
   "cell_type": "markdown",
   "id": "55daa26d",
   "metadata": {},
   "source": [
    "**< - Less than** \n",
    "\n",
    "**> - More than**\n",
    "\n",
    "**<= - Less than equal to** \n",
    "\n",
    "**>= - More than equal to**"
   ]
  },
  {
   "cell_type": "code",
   "execution_count": 89,
   "id": "ec8c0e0a",
   "metadata": {},
   "outputs": [
    {
     "name": "stdout",
     "output_type": "stream",
     "text": [
      "num1<num2: False\n",
      "num1<=num2: False\n",
      "num1>num2: True\n",
      "num1>=num2: True\n"
     ]
    }
   ],
   "source": [
    "num1 = 10 \n",
    "num2 = 3\n",
    "print('num1<num2:', num1<num2)\n",
    "print('num1<=num2:', num1<=num2)\n",
    "print('num1>num2:', num1>num2)\n",
    "print('num1>=num2:', num1>=num2)"
   ]
  },
  {
   "cell_type": "markdown",
   "id": "1eba4db1",
   "metadata": {},
   "source": [
    "**Equality**"
   ]
  },
  {
   "cell_type": "markdown",
   "id": "9f3ac857",
   "metadata": {},
   "source": [
    "**== - Equals to** \n",
    "\n",
    "**!= - Not equals to**"
   ]
  },
  {
   "cell_type": "markdown",
   "id": "551e1f4a",
   "metadata": {},
   "source": [
    "**= - Single equal to sign is an assignment operator, we can assign the values, if we write num1=num2, then num1 will become num2**"
   ]
  },
  {
   "cell_type": "code",
   "execution_count": 91,
   "id": "e1a1cfaf",
   "metadata": {},
   "outputs": [
    {
     "name": "stdout",
     "output_type": "stream",
     "text": [
      "num1==num2: False\n",
      "num1!=num2: True\n"
     ]
    }
   ],
   "source": [
    "num1 = 10\n",
    "num2 = 3\n",
    "print('num1==num2:', num1==num2)\n",
    "print('num1!=num2:', num1!=num2)"
   ]
  },
  {
   "cell_type": "markdown",
   "id": "8ff31af0",
   "metadata": {},
   "source": [
    "**Assignment**"
   ]
  },
  {
   "cell_type": "markdown",
   "id": "dec12b2f",
   "metadata": {},
   "source": [
    "**+= - num1 = 100, num1+=50 means num1 = num1+50**\n",
    "\n",
    "**-= - num1 = 100, num1-=50 means num1 = num1-50**\n",
    "\n",
    "***= - num1 = 100, num1*=50 means num1 = num1*50**\n",
    "\n",
    "**/= - num1 = 100, num1/=50 means num1 = num1/50**\n",
    "\n",
    "**//= - num1 = 100, num1//=50 means num1 = num1//50**\n",
    "\n",
    "**%= - num1 = 100, num1%=50 means num1 = num1%50**\n",
    "\n",
    "****= - num1 = 100, num1******=2 means num1 = num1****2**"
   ]
  },
  {
   "cell_type": "code",
   "execution_count": 92,
   "id": "c5af924a",
   "metadata": {},
   "outputs": [
    {
     "data": {
      "text/plain": [
       "150"
      ]
     },
     "execution_count": 92,
     "metadata": {},
     "output_type": "execute_result"
    }
   ],
   "source": [
    "num1 = 100\n",
    "num1 +=50\n",
    "num1"
   ]
  },
  {
   "cell_type": "code",
   "execution_count": 93,
   "id": "46b83517",
   "metadata": {},
   "outputs": [
    {
     "data": {
      "text/plain": [
       "50"
      ]
     },
     "execution_count": 93,
     "metadata": {},
     "output_type": "execute_result"
    }
   ],
   "source": [
    "num1 = 100\n",
    "num1 -=50\n",
    "num1"
   ]
  },
  {
   "cell_type": "code",
   "execution_count": 95,
   "id": "05ae9fc0",
   "metadata": {},
   "outputs": [
    {
     "data": {
      "text/plain": [
       "5000"
      ]
     },
     "execution_count": 95,
     "metadata": {},
     "output_type": "execute_result"
    }
   ],
   "source": [
    "num1 = 100\n",
    "num1 *=50\n",
    "num1"
   ]
  },
  {
   "cell_type": "code",
   "execution_count": 96,
   "id": "2fb17bc5",
   "metadata": {},
   "outputs": [
    {
     "data": {
      "text/plain": [
       "2.0"
      ]
     },
     "execution_count": 96,
     "metadata": {},
     "output_type": "execute_result"
    }
   ],
   "source": [
    "num1 = 100\n",
    "num1 /=50\n",
    "num1"
   ]
  },
  {
   "cell_type": "code",
   "execution_count": 97,
   "id": "536de854",
   "metadata": {},
   "outputs": [
    {
     "data": {
      "text/plain": [
       "2"
      ]
     },
     "execution_count": 97,
     "metadata": {},
     "output_type": "execute_result"
    }
   ],
   "source": [
    "num1 = 100\n",
    "num1 //=50\n",
    "num1"
   ]
  },
  {
   "cell_type": "code",
   "execution_count": 98,
   "id": "91e1accb",
   "metadata": {},
   "outputs": [
    {
     "data": {
      "text/plain": [
       "0"
      ]
     },
     "execution_count": 98,
     "metadata": {},
     "output_type": "execute_result"
    }
   ],
   "source": [
    "num1 = 100\n",
    "num1 %=50\n",
    "num1"
   ]
  },
  {
   "cell_type": "code",
   "execution_count": 100,
   "id": "73e14130",
   "metadata": {},
   "outputs": [
    {
     "data": {
      "text/plain": [
       "10000"
      ]
     },
     "execution_count": 100,
     "metadata": {},
     "output_type": "execute_result"
    }
   ],
   "source": [
    "num1 = 100\n",
    "num1 **=2\n",
    "num1"
   ]
  },
  {
   "cell_type": "markdown",
   "id": "1887c096",
   "metadata": {},
   "source": [
    "**Ternary**"
   ]
  },
  {
   "cell_type": "code",
   "execution_count": 101,
   "id": "36a9ff6e",
   "metadata": {},
   "outputs": [
    {
     "data": {
      "text/plain": [
       "40"
      ]
     },
     "execution_count": 101,
     "metadata": {},
     "output_type": "execute_result"
    }
   ],
   "source": [
    "30 if 10>20 else 40"
   ]
  },
  {
   "cell_type": "code",
   "execution_count": 102,
   "id": "9b8a6105",
   "metadata": {},
   "outputs": [
    {
     "data": {
      "text/plain": [
       "5"
      ]
     },
     "execution_count": 102,
     "metadata": {},
     "output_type": "execute_result"
    }
   ],
   "source": [
    "num1 = 7\n",
    "num2 = 4\n",
    "num3 = 5\n",
    "num1 if num1>num2>num3 else num2 if num2>num3 else num3"
   ]
  },
  {
   "cell_type": "code",
   "execution_count": 103,
   "id": "8aca26a4",
   "metadata": {},
   "outputs": [
    {
     "data": {
      "text/plain": [
       "7"
      ]
     },
     "execution_count": 103,
     "metadata": {},
     "output_type": "execute_result"
    }
   ],
   "source": [
    "num1 = 7\n",
    "num2 = 6\n",
    "num3 = 5\n",
    "num1 if num1>num2>num3 else num2 if num2>num3 else num3"
   ]
  },
  {
   "cell_type": "code",
   "execution_count": 104,
   "id": "08db1fa6",
   "metadata": {},
   "outputs": [
    {
     "data": {
      "text/plain": [
       "6"
      ]
     },
     "execution_count": 104,
     "metadata": {},
     "output_type": "execute_result"
    }
   ],
   "source": [
    "num1 = 3\n",
    "num2 = 6\n",
    "num3 = 5\n",
    "num1 if num1>num2>num3 else num2 if num2>num3 else num3"
   ]
  },
  {
   "cell_type": "code",
   "execution_count": 107,
   "id": "e1f716e4",
   "metadata": {},
   "outputs": [
    {
     "data": {
      "text/plain": [
       "5"
      ]
     },
     "execution_count": 107,
     "metadata": {},
     "output_type": "execute_result"
    }
   ],
   "source": [
    "num1 = 7\n",
    "num2 = 4\n",
    "num3 = 5\n",
    "num1 if num1>num2 and num2>num3 else num2 if num2>num3 else num3"
   ]
  },
  {
   "cell_type": "code",
   "execution_count": 106,
   "id": "d4d52dff",
   "metadata": {},
   "outputs": [
    {
     "data": {
      "text/plain": [
       "7"
      ]
     },
     "execution_count": 106,
     "metadata": {},
     "output_type": "execute_result"
    }
   ],
   "source": [
    "num1 = 7\n",
    "num2 = 4\n",
    "num3 = 5\n",
    "num1 if num1>num2 or num2>num3 else num2 if num2>num3 else num3"
   ]
  },
  {
   "cell_type": "markdown",
   "id": "674fd813",
   "metadata": {},
   "source": [
    "**Special**"
   ]
  },
  {
   "cell_type": "markdown",
   "id": "78d79570",
   "metadata": {},
   "source": [
    "**Identity Operator**\n",
    "\n",
    "**is - When the memory locations are same, is will give us true**\n",
    "\n",
    "**is not - When the memory locations are different, is not will give us true**"
   ]
  },
  {
   "cell_type": "markdown",
   "id": "27fa577c",
   "metadata": {},
   "source": [
    "**Python by default generates number from -5 to 256 internally while launched, so if we are creating any number between this range it will use the initialied number that is why the memory location coming as same, however if we are going outside the range it will create seperate numbers for every instance and -5 to 256 range holds true only for the integers, it will not hold true for floats as there will be various infinte numbers between two numbers like 250.5 and 250.6 we can can have many numbers between this range**"
   ]
  },
  {
   "cell_type": "code",
   "execution_count": 110,
   "id": "a3ff0a9a",
   "metadata": {},
   "outputs": [
    {
     "name": "stdout",
     "output_type": "stream",
     "text": [
      "True\n",
      "2132167649872\n",
      "2132167649872\n"
     ]
    }
   ],
   "source": [
    "num1 = 10 \n",
    "num2 = 10\n",
    "print(num1 is num2)\n",
    "print(id(num1))\n",
    "print(id(num2))"
   ]
  },
  {
   "cell_type": "code",
   "execution_count": 117,
   "id": "1a8c8f41",
   "metadata": {},
   "outputs": [
    {
     "name": "stdout",
     "output_type": "stream",
     "text": [
      "True\n",
      "2132317255312\n",
      "2132317255344\n"
     ]
    }
   ],
   "source": [
    "num1 = 250.5\n",
    "num2 = 250.5\n",
    "print(num1 is not num2)\n",
    "print(id(num1))\n",
    "print(id(num2))"
   ]
  },
  {
   "cell_type": "markdown",
   "id": "477e8426",
   "metadata": {},
   "source": [
    "**Membership Operator**\n",
    "\n",
    "**in - It checks if the value is present in the list or any other object or not, if it present in will give True** \n",
    "\n",
    "**not in - It checks if the values is not present in the list or any other object, if it not present it will give True**"
   ]
  },
  {
   "cell_type": "code",
   "execution_count": 120,
   "id": "b8279381",
   "metadata": {},
   "outputs": [
    {
     "data": {
      "text/plain": [
       "True"
      ]
     },
     "execution_count": 120,
     "metadata": {},
     "output_type": "execute_result"
    }
   ],
   "source": [
    "list1 = [10,20,30,40,50]\n",
    "60 not in list1"
   ]
  },
  {
   "cell_type": "code",
   "execution_count": 121,
   "id": "762180cd",
   "metadata": {},
   "outputs": [
    {
     "data": {
      "text/plain": [
       "True"
      ]
     },
     "execution_count": 121,
     "metadata": {},
     "output_type": "execute_result"
    }
   ],
   "source": [
    "list1 = [10,20,30,40,50]\n",
    "50 in list1"
   ]
  },
  {
   "cell_type": "markdown",
   "id": "190f96b1",
   "metadata": {},
   "source": [
    "# Input and output"
   ]
  },
  {
   "cell_type": "markdown",
   "id": "90422129",
   "metadata": {},
   "source": [
    "**Input command by default stores the value in the string format, and if you want to convert we can do the type casting**"
   ]
  },
  {
   "cell_type": "code",
   "execution_count": 140,
   "id": "200e7462",
   "metadata": {},
   "outputs": [
    {
     "name": "stdout",
     "output_type": "stream",
     "text": [
      "Enter your age: 35\n"
     ]
    }
   ],
   "source": [
    "age = int(input('Enter your age: '))"
   ]
  },
  {
   "cell_type": "code",
   "execution_count": 141,
   "id": "82969f41",
   "metadata": {},
   "outputs": [
    {
     "data": {
      "text/plain": [
       "int"
      ]
     },
     "execution_count": 141,
     "metadata": {},
     "output_type": "execute_result"
    }
   ],
   "source": [
    "type(age)"
   ]
  },
  {
   "cell_type": "code",
   "execution_count": 142,
   "id": "f49a7c31",
   "metadata": {},
   "outputs": [
    {
     "data": {
      "text/plain": [
       "35"
      ]
     },
     "execution_count": 142,
     "metadata": {},
     "output_type": "execute_result"
    }
   ],
   "source": [
    "age"
   ]
  },
  {
   "cell_type": "markdown",
   "id": "81716fcb",
   "metadata": {},
   "source": [
    "**\\n - New line character, by default end will take \\n** "
   ]
  },
  {
   "cell_type": "code",
   "execution_count": 154,
   "id": "600a2819",
   "metadata": {},
   "outputs": [
    {
     "name": "stdout",
     "output_type": "stream",
     "text": [
      "Hello Students How are you?\n"
     ]
    }
   ],
   "source": [
    "print('Hello',end=' ')\n",
    "print('Students',end=' ')\n",
    "print('How are you?',end='\\n')"
   ]
  },
  {
   "cell_type": "code",
   "execution_count": 148,
   "id": "ab32ae61",
   "metadata": {},
   "outputs": [
    {
     "name": "stdout",
     "output_type": "stream",
     "text": [
      "Hello Students How are you?\n"
     ]
    }
   ],
   "source": [
    "print('Hello Students How are you?')"
   ]
  },
  {
   "cell_type": "markdown",
   "id": "ab3801ba",
   "metadata": {},
   "source": [
    "**Sep - By default it passes space, however we can pass any other seperator like -/$**"
   ]
  },
  {
   "cell_type": "code",
   "execution_count": 161,
   "id": "c6b26d49",
   "metadata": {},
   "outputs": [
    {
     "name": "stdout",
     "output_type": "stream",
     "text": [
      "10$ -20$ -30\n"
     ]
    }
   ],
   "source": [
    "a = 10\n",
    "b = 20 \n",
    "c = 30\n",
    "print(a,b,c,sep='$ -')"
   ]
  },
  {
   "cell_type": "markdown",
   "id": "82c90163",
   "metadata": {},
   "source": [
    "**If you are not passing the print, it will give us the last line, in the below example it will only print b**"
   ]
  },
  {
   "cell_type": "code",
   "execution_count": 146,
   "id": "e22988f2",
   "metadata": {},
   "outputs": [
    {
     "name": "stdout",
     "output_type": "stream",
     "text": [
      "Hello\n",
      "Hi\n"
     ]
    }
   ],
   "source": [
    "a = 'Hello'\n",
    "b = 'Hi'\n",
    "print(a)\n",
    "print(b)"
   ]
  },
  {
   "cell_type": "markdown",
   "id": "c8c46c34",
   "metadata": {},
   "source": [
    "**Different way of printing**"
   ]
  },
  {
   "cell_type": "code",
   "execution_count": 164,
   "id": "135da868",
   "metadata": {},
   "outputs": [
    {
     "name": "stdout",
     "output_type": "stream",
     "text": [
      "Hello Rahul You salary is:  10000 Your company is:  Deloitte\n"
     ]
    }
   ],
   "source": [
    "name = 'Rahul'\n",
    "Salary = 10000\n",
    "Company = 'Deloitte'\n",
    "print('Hello', name, 'You salary is: ', Salary, 'Your company is: ', Company)"
   ]
  },
  {
   "cell_type": "code",
   "execution_count": 165,
   "id": "1ce74c6c",
   "metadata": {},
   "outputs": [
    {
     "name": "stdout",
     "output_type": "stream",
     "text": [
      "Hello Rahul, your salary is 10000 and your company is Deloitte\n"
     ]
    }
   ],
   "source": [
    "print('Hello {}, your salary is {} and your company is {}'.format(name,Salary,Company))"
   ]
  },
  {
   "cell_type": "code",
   "execution_count": 166,
   "id": "826f4d4e",
   "metadata": {},
   "outputs": [
    {
     "name": "stdout",
     "output_type": "stream",
     "text": [
      "Hello Deloitte, your salary is Rahul and your company is 10000\n"
     ]
    }
   ],
   "source": [
    "print('Hello {}, your salary is {} and your company is {}'.format(Company,name,Salary))"
   ]
  },
  {
   "cell_type": "code",
   "execution_count": 167,
   "id": "d6db60d7",
   "metadata": {},
   "outputs": [
    {
     "name": "stdout",
     "output_type": "stream",
     "text": [
      "Hello Rahul, your salary is 10000 and your company is Deloitte\n"
     ]
    }
   ],
   "source": [
    "print('Hello {1}, your salary is {2} and your company is {0}'.format(Company,name,Salary))"
   ]
  },
  {
   "cell_type": "code",
   "execution_count": 168,
   "id": "bb6bc027",
   "metadata": {},
   "outputs": [
    {
     "name": "stdout",
     "output_type": "stream",
     "text": [
      "Hello Rahul, your salary is 10000 and your company is Deloitte\n"
     ]
    }
   ],
   "source": [
    "print('Hello {n}, your salary is {s} and your company is {c}'.format(c=Company,n=name,s=Salary))"
   ]
  },
  {
   "cell_type": "markdown",
   "id": "7920b84d",
   "metadata": {},
   "source": [
    "# Flow Control"
   ]
  },
  {
   "cell_type": "markdown",
   "id": "ff4bafb8",
   "metadata": {},
   "source": [
    "**if and else - Based on the satisfying conditions we can get the output**"
   ]
  },
  {
   "cell_type": "code",
   "execution_count": null,
   "id": "469b0e12",
   "metadata": {},
   "outputs": [],
   "source": [
    "if condition:\n",
    "    getoutput\n",
    "else:\n",
    "    getanotheroutput"
   ]
  },
  {
   "cell_type": "markdown",
   "id": "8ccc06ca",
   "metadata": {},
   "source": [
    "**The gap is known as tab indentation and it is mandatory, if we are not giving the gap we will get the IndentationError: expected an indented block**\n"
   ]
  },
  {
   "cell_type": "markdown",
   "id": "1bfb4c2a",
   "metadata": {},
   "source": [
    "**In the below code, Hi will always print not matter you passed or failed**"
   ]
  },
  {
   "cell_type": "code",
   "execution_count": 176,
   "id": "292c882d",
   "metadata": {},
   "outputs": [
    {
     "name": "stdout",
     "output_type": "stream",
     "text": [
      "Enter the marks: 54\n",
      "You passed the exam\n",
      "Hi\n"
     ]
    }
   ],
   "source": [
    "marks = int(input('Enter the marks: '))\n",
    "if marks<40:\n",
    "    print('You failed the exam')\n",
    "else:\n",
    "    print('You passed the exam')\n",
    "print('Hi')"
   ]
  },
  {
   "cell_type": "markdown",
   "id": "718705c8",
   "metadata": {},
   "source": [
    "**In the below code, we will get Hi when we pass the exam**"
   ]
  },
  {
   "cell_type": "code",
   "execution_count": 178,
   "id": "fde5d9af",
   "metadata": {},
   "outputs": [
    {
     "name": "stdout",
     "output_type": "stream",
     "text": [
      "Enter the marks: 21\n",
      "You failed the exam\n"
     ]
    }
   ],
   "source": [
    "marks = int(input('Enter the marks: '))\n",
    "if marks<40:\n",
    "    print('You failed the exam')\n",
    "else:\n",
    "    print('You passed the exam')\n",
    "    print('Hi')"
   ]
  },
  {
   "cell_type": "markdown",
   "id": "0c49117b",
   "metadata": {},
   "source": [
    "**We will get Hi when we fail the exam**"
   ]
  },
  {
   "cell_type": "code",
   "execution_count": 179,
   "id": "2cea4b64",
   "metadata": {},
   "outputs": [
    {
     "name": "stdout",
     "output_type": "stream",
     "text": [
      "Enter the marks: 21\n",
      "You failed the exam\n",
      "Hi\n"
     ]
    }
   ],
   "source": [
    "marks = int(input('Enter the marks: '))\n",
    "if marks<40:\n",
    "    print('You failed the exam')\n",
    "    print('Hi')\n",
    "else:\n",
    "    print('You passed the exam')"
   ]
  },
  {
   "cell_type": "markdown",
   "id": "58516bea",
   "metadata": {},
   "source": [
    "**Multiple conditions**"
   ]
  },
  {
   "cell_type": "code",
   "execution_count": 182,
   "id": "afac52fb",
   "metadata": {},
   "outputs": [
    {
     "name": "stdout",
     "output_type": "stream",
     "text": [
      "Enter the marks: 87\n",
      "You got an excellent marks\n"
     ]
    }
   ],
   "source": [
    "marks = int(input('Enter the marks: '))\n",
    "if marks<40:\n",
    "    print('You failed the exam')\n",
    "elif marks>=40 and marks<=60:\n",
    "    print('You got an average marks')\n",
    "else:\n",
    "    print('You got an excellent marks')"
   ]
  },
  {
   "cell_type": "markdown",
   "id": "44ad8a76",
   "metadata": {},
   "source": [
    "**Banking Examples for if and else**"
   ]
  },
  {
   "cell_type": "markdown",
   "id": "d30acaad",
   "metadata": {},
   "source": [
    "Account balance check"
   ]
  },
  {
   "cell_type": "code",
   "execution_count": 184,
   "id": "e93fa3e0",
   "metadata": {},
   "outputs": [
    {
     "name": "stdout",
     "output_type": "stream",
     "text": [
      "Enter the account balance: -100\n",
      "Your account balance is negative, please take action\n"
     ]
    }
   ],
   "source": [
    "account_balance = int(input('Enter the account balance: '))\n",
    "if account_balance>=0:\n",
    "    print('Your account is in good standing')\n",
    "else:\n",
    "    print('Your account balance is negative, please take action')"
   ]
  },
  {
   "cell_type": "markdown",
   "id": "4d25778a",
   "metadata": {},
   "source": [
    "Loan eligibilty"
   ]
  },
  {
   "cell_type": "code",
   "execution_count": 188,
   "id": "d9b7a384",
   "metadata": {},
   "outputs": [
    {
     "name": "stdout",
     "output_type": "stream",
     "text": [
      "Enter the income: 60000\n",
      "Enter the credit score: 780\n",
      "You are eligible for the loan, congratulations!!!\n"
     ]
    }
   ],
   "source": [
    "income = int(input('Enter the income: '))\n",
    "credit_score = int(input('Enter the credit score: '))\n",
    "\n",
    "if credit_score>700 and income>50000:\n",
    "    print('You are eligible for the loan, congratulations!!!')\n",
    "else:\n",
    "    print('You are not eligible for the loan, sorry!!!')"
   ]
  },
  {
   "cell_type": "markdown",
   "id": "ef0e70d0",
   "metadata": {},
   "source": [
    "Withdrawal limit check"
   ]
  },
  {
   "cell_type": "code",
   "execution_count": 190,
   "id": "0ba59e5b",
   "metadata": {},
   "outputs": [
    {
     "name": "stdout",
     "output_type": "stream",
     "text": [
      "Enter the amount you want to withdraw: 1200\n",
      "Withdrawal amount exceeds the daily limit\n"
     ]
    }
   ],
   "source": [
    "withdrawal_amount = int(input('Enter the amount you want to withdraw: '))\n",
    "Daily_limit = 1000\n",
    "\n",
    "if withdrawal_amount<=Daily_limit:\n",
    "    print('Withdrawal successful')\n",
    "else:\n",
    "    print('Withdrawal amount exceeds the daily limit')"
   ]
  },
  {
   "cell_type": "markdown",
   "id": "019c3ca7",
   "metadata": {},
   "source": [
    "Transaction Fees Calculation - Nested if else"
   ]
  },
  {
   "cell_type": "code",
   "execution_count": 196,
   "id": "75f80c23",
   "metadata": {},
   "outputs": [
    {
     "name": "stdout",
     "output_type": "stream",
     "text": [
      "Enter the transaction amount: 1000\n",
      "Enter the transaction type: Withdawwwl\n",
      "There is an error\n",
      "Total amount:  1000\n"
     ]
    }
   ],
   "source": [
    "transaction_amount = int(input('Enter the transaction amount: '))\n",
    "transaction_type = input('Enter the transaction type: ')\n",
    "\n",
    "if transaction_type == 'withdrawal':\n",
    "    if transaction_amount>1000:\n",
    "        transaction_fee = 5\n",
    "    elif transaction_amount<=1000:\n",
    "        transaction_fee = 2\n",
    "elif transaction_type=='deposit':\n",
    "    transaction_fee = 0\n",
    "else:\n",
    "    print('There is an error')\n",
    "\n",
    "total_amount = transaction_amount+transaction_fee\n",
    "print('Total amount: ', total_amount)"
   ]
  },
  {
   "cell_type": "code",
   "execution_count": 200,
   "id": "995d71bd",
   "metadata": {},
   "outputs": [
    {
     "name": "stdout",
     "output_type": "stream",
     "text": [
      "Enter the transaction amount: 1322\n",
      "Enter the transaction type: wd\n",
      "There is an error\n"
     ]
    }
   ],
   "source": [
    "transaction_amount = int(input('Enter the transaction amount: '))\n",
    "transaction_type = input('Enter the transaction type: ')\n",
    "\n",
    "if transaction_type == 'withdrawal':\n",
    "    if transaction_amount>1000:\n",
    "        transaction_fee = 5\n",
    "        total_amount = transaction_amount+transaction_fee\n",
    "        print('Total amount: ', total_amount)\n",
    "    elif transaction_amount<=1000:\n",
    "        transaction_fee = 2\n",
    "        total_amount = transaction_amount+transaction_fee\n",
    "        print('Total amount: ', total_amount)\n",
    "elif transaction_type=='deposit':\n",
    "    transaction_fee = 0\n",
    "    total_amount = transaction_amount+transaction_fee\n",
    "    print('Total amount: ', total_amount)\n",
    "else:\n",
    "    print('There is an error')"
   ]
  },
  {
   "cell_type": "markdown",
   "id": "e2abe1b2",
   "metadata": {},
   "source": [
    "**For loops - When you want to iterate on something, for example: Lists, Tuples, Sets etc**"
   ]
  },
  {
   "cell_type": "code",
   "execution_count": 201,
   "id": "a86c0d7f",
   "metadata": {},
   "outputs": [
    {
     "name": "stdout",
     "output_type": "stream",
     "text": [
      "0\n",
      "1\n",
      "2\n",
      "3\n",
      "4\n",
      "5\n",
      "6\n",
      "7\n",
      "8\n",
      "9\n"
     ]
    }
   ],
   "source": [
    "for i in range(0,10):\n",
    "    print(i)"
   ]
  },
  {
   "cell_type": "code",
   "execution_count": 207,
   "id": "b5cdc96e",
   "metadata": {},
   "outputs": [
    {
     "name": "stdout",
     "output_type": "stream",
     "text": [
      "I\n",
      "C\n",
      "I\n",
      "C\n",
      "I\n",
      " \n",
      "P\n",
      "R\n",
      "U\n"
     ]
    }
   ],
   "source": [
    "import time\n",
    "company = 'ICICI PRU'\n",
    "for i in list(range(0,len(company))):\n",
    "    print(company[i])\n",
    "    time.sleep(2)"
   ]
  },
  {
   "cell_type": "code",
   "execution_count": 208,
   "id": "16e62e3e",
   "metadata": {},
   "outputs": [
    {
     "name": "stdout",
     "output_type": "stream",
     "text": [
      "0.10028028651510433\n",
      "0.05468399820708202\n",
      "0.09902597402597403\n",
      "0.19164619164619165\n"
     ]
    }
   ],
   "source": [
    "sales = [3211,2231,1232,1221]\n",
    "profit = [322,122,122,234]\n",
    "for i in range(0,len(sales)):\n",
    "    print(profit[i]/sales[i])"
   ]
  },
  {
   "cell_type": "markdown",
   "id": "1810379e",
   "metadata": {},
   "source": [
    "**Banking examples for For Loops**"
   ]
  },
  {
   "cell_type": "markdown",
   "id": "36edbccb",
   "metadata": {},
   "source": [
    "Transaction History"
   ]
  },
  {
   "cell_type": "code",
   "execution_count": 210,
   "id": "4317c77b",
   "metadata": {},
   "outputs": [
    {
     "name": "stdout",
     "output_type": "stream",
     "text": [
      "Transaction History\n",
      "Deposit:  50\n",
      "Withdrawal:  20\n",
      "Deposit:  100\n",
      "Withdrawal:  30\n",
      "Withdrawal:  10\n"
     ]
    }
   ],
   "source": [
    "transaction_history = [50,-20,100,-30,-10]\n",
    "print('Transaction History')\n",
    "for x in transaction_history:\n",
    "    if x>0:\n",
    "        print('Deposit: ', x)\n",
    "    else:\n",
    "        print('Withdrawal: ', abs(x))"
   ]
  },
  {
   "cell_type": "markdown",
   "id": "4c9c1cda",
   "metadata": {},
   "source": [
    "Account Summation"
   ]
  },
  {
   "cell_type": "code",
   "execution_count": 212,
   "id": "ee191233",
   "metadata": {},
   "outputs": [
    {
     "name": "stdout",
     "output_type": "stream",
     "text": [
      "Total account balance:  18000\n"
     ]
    }
   ],
   "source": [
    "account_balances = [1000,2000,3000,4000,5000,3000]\n",
    "total_balance = 0 \n",
    "for balance in account_balances:\n",
    "    total_balance +=balance\n",
    "    \n",
    "print('Total account balance: ', total_balance)"
   ]
  },
  {
   "cell_type": "markdown",
   "id": "a1f3040c",
   "metadata": {},
   "source": [
    "Interest Calculation"
   ]
  },
  {
   "cell_type": "code",
   "execution_count": 213,
   "id": "e1716b92",
   "metadata": {},
   "outputs": [
    {
     "name": "stdout",
     "output_type": "stream",
     "text": [
      "Updated account balances:  [1050.0, 2100.0, 3150.0, 4200.0, 5250.0, 3150.0]\n"
     ]
    }
   ],
   "source": [
    "account_balances = [1000,2000,3000,4000,5000,3000]\n",
    "interest_rate = 0.05\n",
    "\n",
    "for i in range(len(account_balances)):\n",
    "    interest = account_balances[i] * interest_rate\n",
    "    account_balances[i]+=interest\n",
    "print('Updated account balances: ', account_balances)"
   ]
  },
  {
   "cell_type": "markdown",
   "id": "51494570",
   "metadata": {},
   "source": [
    "Account Closure"
   ]
  },
  {
   "cell_type": "code",
   "execution_count": 216,
   "id": "8e3c5c17",
   "metadata": {},
   "outputs": [
    {
     "name": "stdout",
     "output_type": "stream",
     "text": [
      "Which account you want to close: 345678\n",
      "Account not found\n",
      "Account not found\n",
      "Closing account:  345678\n",
      "Remaining accounts: [123456, 789012, 901234]\n"
     ]
    }
   ],
   "source": [
    "account_numbers = [123456, 789012, 345678, 901234]\n",
    "account_to_close = int(input('Which account you want to close: '))\n",
    "\n",
    "for account in account_numbers:\n",
    "    if account == account_to_close:\n",
    "        print('Closing account: ', account)\n",
    "        account_numbers.remove(account)\n",
    "        break\n",
    "    else:\n",
    "        print('Account not found')\n",
    "print('Remaining accounts:', account_numbers)"
   ]
  },
  {
   "cell_type": "code",
   "execution_count": 218,
   "id": "03f54b55",
   "metadata": {},
   "outputs": [
    {
     "name": "stdout",
     "output_type": "stream",
     "text": [
      "Which account you want to close: 345678\n",
      "Closing account:  345678\n",
      "Remaining accounts: [123456, 789012, 901234]\n"
     ]
    }
   ],
   "source": [
    "account_numbers = [123456, 789012, 345678, 901234]\n",
    "account_to_close = int(input('Which account you want to close: '))\n",
    "\n",
    "for account in account_numbers:\n",
    "    if account == account_to_close:\n",
    "        print('Closing account: ', account)\n",
    "        account_numbers.remove(account)\n",
    "        break\n",
    "\n",
    "print('Remaining accounts:', account_numbers)"
   ]
  },
  {
   "cell_type": "code",
   "execution_count": 223,
   "id": "e1bf86ee",
   "metadata": {},
   "outputs": [
    {
     "name": "stdout",
     "output_type": "stream",
     "text": [
      "Which account you want to close: 345678\n",
      "Account not found\n",
      "Account not found\n",
      "Closing account:  345678\n",
      "Remaining accounts: [123456, 789012, 901234]\n"
     ]
    }
   ],
   "source": [
    "account_numbers = [123456, 789012, 345678, 901234]\n",
    "account_to_close = int(input('Which account you want to close: '))\n",
    "\n",
    "for account in account_numbers:\n",
    "    if account == account_to_close:\n",
    "        print('Closing account: ', account)\n",
    "        account_numbers.remove(account)\n",
    "    else:\n",
    "        print('Account not found')    \n",
    "\n",
    "print('Remaining accounts:', account_numbers)"
   ]
  },
  {
   "cell_type": "markdown",
   "id": "28148bd9",
   "metadata": {},
   "source": [
    "Account Statement"
   ]
  },
  {
   "cell_type": "code",
   "execution_count": 224,
   "id": "ff07df5d",
   "metadata": {},
   "outputs": [],
   "source": [
    "account_transactions = [{\"date\":\"2023-07-01\",\"type\":\"Deposit\",\"amount\":100},\n",
    "                        {\"date\":\"2023-07-02\",\"type\":\"Withdrawal\",\"amount\":50},\n",
    "                        {\"date\":\"2023-07-03\",\"type\":\"Deposit\",\"amount\":200},\n",
    "                        {\"date\":\"2023-07-04\",\"type\":\"Withdrawal\",\"amount\":75}]"
   ]
  },
  {
   "cell_type": "code",
   "execution_count": 230,
   "id": "ea62f6fa",
   "metadata": {},
   "outputs": [
    {
     "name": "stdout",
     "output_type": "stream",
     "text": [
      "Account Statement\n",
      "2023-07-01 - Deposit - 100\n",
      "2023-07-02 - Withdrawal - 50\n",
      "2023-07-03 - Deposit - 200\n",
      "2023-07-04 - Withdrawal - 75\n"
     ]
    }
   ],
   "source": [
    "print(\"Account Statement\")\n",
    "for transaction in account_transactions:\n",
    "    print(transaction['date'], \"-\", transaction['type'], \"-\", transaction['amount'])"
   ]
  },
  {
   "cell_type": "code",
   "execution_count": 232,
   "id": "b10fe913",
   "metadata": {},
   "outputs": [
    {
     "name": "stdout",
     "output_type": "stream",
     "text": [
      "2023-07-01 - Deposit - 100\n",
      "2023-07-02 - Withdrawal - 50\n",
      "2023-07-03 - Deposit - 200\n",
      "2023-07-04 - Withdrawal - 75\n"
     ]
    }
   ],
   "source": [
    "transaction_date = [\"2023-07-01\", \"2023-07-02\",\"2023-07-03\",\"2023-07-04\"]\n",
    "transaction_type = [\"Deposit\",\"Withdrawal\",\"Deposit\",\"Withdrawal\"]\n",
    "transaction_amount = [100,50,200,75]\n",
    "\n",
    "for (td,tt,ta) in zip(transaction_date,transaction_type,transaction_amount):\n",
    "    print(td, '-', tt, '-', ta)"
   ]
  },
  {
   "cell_type": "markdown",
   "id": "a8b28ffc",
   "metadata": {},
   "source": [
    "# While Loops"
   ]
  },
  {
   "cell_type": "code",
   "execution_count": null,
   "id": "ece3a852",
   "metadata": {},
   "outputs": [],
   "source": [
    "while condition:\n",
    "    getoutput"
   ]
  },
  {
   "cell_type": "markdown",
   "id": "289af3ed",
   "metadata": {},
   "source": [
    "Python discount"
   ]
  },
  {
   "cell_type": "markdown",
   "id": "1c2db354",
   "metadata": {},
   "source": [
    "**This is an infinite loop, because the condition will always be true**"
   ]
  },
  {
   "cell_type": "code",
   "execution_count": null,
   "id": "131113c4",
   "metadata": {},
   "outputs": [],
   "source": [
    "coupouns = 5\n",
    "utilized = 0 \n",
    "while utilized<coupouns:\n",
    "    print('The total coupouns left are: ', coupouns-utilized)"
   ]
  },
  {
   "cell_type": "code",
   "execution_count": 233,
   "id": "e4a9d952",
   "metadata": {},
   "outputs": [
    {
     "name": "stdout",
     "output_type": "stream",
     "text": [
      "The total coupouns left are:  5\n",
      "The total coupouns left are:  4\n",
      "The total coupouns left are:  3\n",
      "The total coupouns left are:  2\n",
      "The total coupouns left are:  1\n",
      "No coupouns left\n"
     ]
    }
   ],
   "source": [
    "coupouns = 5\n",
    "utilized = 0 \n",
    "while utilized<coupouns:\n",
    "    print('The total coupouns left are: ', coupouns-utilized)\n",
    "    utilized+=1\n",
    "print('No coupouns left')"
   ]
  },
  {
   "cell_type": "markdown",
   "id": "c8b69145",
   "metadata": {},
   "source": [
    "Factorial of a number"
   ]
  },
  {
   "cell_type": "code",
   "execution_count": 239,
   "id": "f15e2fef",
   "metadata": {},
   "outputs": [
    {
     "name": "stdout",
     "output_type": "stream",
     "text": [
      "Factorial of number: -5\n",
      "There is no factorial of the negative number\n"
     ]
    }
   ],
   "source": [
    "number = int(input('Factorial of number: '))\n",
    "if number<0:\n",
    "    print('There is no factorial of the negative number')\n",
    "else:\n",
    "    result = 1 \n",
    "    while number>0:\n",
    "        result = result*number\n",
    "        number-=1\n",
    "    print(result)"
   ]
  },
  {
   "cell_type": "code",
   "execution_count": 240,
   "id": "2de6a10d",
   "metadata": {},
   "outputs": [],
   "source": [
    "while False:\n",
    "    print('Hi')"
   ]
  },
  {
   "cell_type": "markdown",
   "id": "a6abc07e",
   "metadata": {},
   "source": [
    "**This code will always give me 1 as we are resetting the value of result to 1 in every iteration**"
   ]
  },
  {
   "cell_type": "code",
   "execution_count": 243,
   "id": "51e99d20",
   "metadata": {},
   "outputs": [
    {
     "name": "stdout",
     "output_type": "stream",
     "text": [
      "1\n"
     ]
    }
   ],
   "source": [
    "number = 5\n",
    "while number>0:\n",
    "    result = 1 \n",
    "    result = result*number\n",
    "    number-=1\n",
    "print(result)"
   ]
  },
  {
   "cell_type": "code",
   "execution_count": 244,
   "id": "f1b45b5e",
   "metadata": {},
   "outputs": [
    {
     "name": "stdout",
     "output_type": "stream",
     "text": [
      "5\n",
      "20\n",
      "60\n",
      "120\n",
      "120\n"
     ]
    }
   ],
   "source": [
    "number = 5\n",
    "result = 1\n",
    "while number>0:\n",
    "    result = result*number\n",
    "    number-=1\n",
    "    print(result)"
   ]
  }
 ],
 "metadata": {
  "kernelspec": {
   "display_name": "Python 3 (ipykernel)",
   "language": "python",
   "name": "python3"
  },
  "language_info": {
   "codemirror_mode": {
    "name": "ipython",
    "version": 3
   },
   "file_extension": ".py",
   "mimetype": "text/x-python",
   "name": "python",
   "nbconvert_exporter": "python",
   "pygments_lexer": "ipython3",
   "version": "3.9.13"
  }
 },
 "nbformat": 4,
 "nbformat_minor": 5
}
