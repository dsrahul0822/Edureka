{
 "cells": [
  {
   "cell_type": "markdown",
   "id": "0577b635",
   "metadata": {},
   "source": [
    "# While Loops"
   ]
  },
  {
   "cell_type": "markdown",
   "id": "82bb1506",
   "metadata": {},
   "source": [
    "1) Pin Validation"
   ]
  },
  {
   "cell_type": "code",
   "execution_count": 2,
   "id": "56b4ac80",
   "metadata": {},
   "outputs": [
    {
     "name": "stdout",
     "output_type": "stream",
     "text": [
      "Enter your pin: 1234\n",
      "Pin Accepted, Access Granted\n"
     ]
    }
   ],
   "source": [
    "correct_pin = 1234\n",
    "max_attempts = 3\n",
    "attempts = 0\n",
    "\n",
    "while attempts<max_attempts:\n",
    "    pin = int(input(\"Enter your pin: \"))\n",
    "    if pin == correct_pin:\n",
    "        print(\"Pin Accepted, Access Granted\")\n",
    "        break\n",
    "    else:\n",
    "        attempts+=1\n",
    "        print('Incorrect Pin, Attempts remaining: ', max_attempts-attempts)\n",
    "    \n",
    "if attempts == max_attempts:\n",
    "    print('Max attempts reached, Access Denied')"
   ]
  },
  {
   "cell_type": "markdown",
   "id": "c7536684",
   "metadata": {},
   "source": [
    "2) Account Creation with unique account number"
   ]
  },
  {
   "cell_type": "code",
   "execution_count": 28,
   "id": "4977c5fd",
   "metadata": {},
   "outputs": [
    {
     "name": "stdout",
     "output_type": "stream",
     "text": [
      "Account Created Successfully, Account number: 5\n"
     ]
    }
   ],
   "source": [
    "import random\n",
    "existing_account_numbers = [1,2,3,4]\n",
    "new_account_number = random.randint(1,9)\n",
    "\n",
    "while new_account_number in existing_account_numbers:\n",
    "    new_account_number = random.randint(1,9)\n",
    "    \n",
    "print(\"Account Created Successfully, Account number:\", new_account_number)"
   ]
  },
  {
   "cell_type": "markdown",
   "id": "48d1394c",
   "metadata": {},
   "source": [
    "3) Money Withdrawal with Balance validation"
   ]
  },
  {
   "cell_type": "code",
   "execution_count": 30,
   "id": "0c3faa6b",
   "metadata": {},
   "outputs": [
    {
     "name": "stdout",
     "output_type": "stream",
     "text": [
      "Enter the amount to withdraw150\n",
      "Withdrawal successful, remaining balance:  850.0\n"
     ]
    }
   ],
   "source": [
    "account_balance = 1000\n",
    "min_balance = 100\n",
    "\n",
    "withdrawal_amount = float(input('Enter the amount to withdraw'))\n",
    "\n",
    "while withdrawal_amount>account_balance or withdrawal_amount<min_balance:\n",
    "    if withdrawal_amount>account_balance:\n",
    "        print(\"Insufficient balance, available balance: \", account_balance)\n",
    "    else:\n",
    "        print(\"Invalid withdrawal Amount, minimum withdrawal amount:\", min_balance)\n",
    "    withdrawal_amount = float(input(\"Enter the amount to withdraw: \"))\n",
    "    \n",
    "account_balance -= withdrawal_amount\n",
    "print(\"Withdrawal successful, remaining balance: \", account_balance)"
   ]
  },
  {
   "cell_type": "markdown",
   "id": "b3cf5dcf",
   "metadata": {},
   "source": [
    "4) Interest calculation with maximum iterations"
   ]
  },
  {
   "cell_type": "code",
   "execution_count": 31,
   "id": "3555a504",
   "metadata": {},
   "outputs": [
    {
     "name": "stdout",
     "output_type": "stream",
     "text": [
      "Final account balance after:  10 iterations:  8144.473133887207\n"
     ]
    }
   ],
   "source": [
    "account_balance = 5000\n",
    "interest_rate = 0.05\n",
    "max_iterations = 10\n",
    "iteration = 1\n",
    "\n",
    "while iteration<=max_iterations:\n",
    "    interest = account_balance*interest_rate\n",
    "    account_balance+=interest\n",
    "    iteration+=1\n",
    "    \n",
    "print(\"Final account balance after: \", max_iterations, \"iterations: \", account_balance)"
   ]
  },
  {
   "cell_type": "markdown",
   "id": "db05e759",
   "metadata": {},
   "source": [
    "# Functions"
   ]
  },
  {
   "cell_type": "markdown",
   "id": "0458ef4a",
   "metadata": {},
   "source": [
    "**Functions are reusable codes, which we can reuse in our big codes, it reduces the lines of code**\n"
   ]
  },
  {
   "cell_type": "markdown",
   "id": "417408ed",
   "metadata": {},
   "source": [
    "**def - Means we are defining the function**\n",
    "\n",
    "**greeting() - Function name, The purpose of the bracket is we can add any of the input parameter in the function, if requred.**  "
   ]
  },
  {
   "cell_type": "markdown",
   "id": "6030fc9d",
   "metadata": {},
   "source": [
    "**Below function with no input parameter**"
   ]
  },
  {
   "cell_type": "code",
   "execution_count": 32,
   "id": "e70d3c36",
   "metadata": {},
   "outputs": [],
   "source": [
    "def greeting():\n",
    "    print('Good Morning')"
   ]
  },
  {
   "cell_type": "code",
   "execution_count": 34,
   "id": "788f5fbb",
   "metadata": {},
   "outputs": [
    {
     "name": "stdout",
     "output_type": "stream",
     "text": [
      "Good Morning\n",
      "Good Morning\n",
      "Good Morning\n",
      "Good Morning\n",
      "Good Morning\n",
      "Good Morning\n",
      "Good Morning\n",
      "Good Morning\n",
      "Good Morning\n",
      "Good Morning\n",
      "Good Morning\n",
      "Good Morning\n",
      "Good Morning\n",
      "Good Morning\n",
      "Good Morning\n"
     ]
    }
   ],
   "source": [
    "for i in range(0,15):\n",
    "    greeting()"
   ]
  },
  {
   "cell_type": "markdown",
   "id": "411f8fc7",
   "metadata": {},
   "source": [
    "**Below function with one input parameter**"
   ]
  },
  {
   "cell_type": "code",
   "execution_count": 35,
   "id": "3451cf6f",
   "metadata": {},
   "outputs": [],
   "source": [
    "def greeting(name):\n",
    "    print('Good Morning', name)"
   ]
  },
  {
   "cell_type": "code",
   "execution_count": 37,
   "id": "92521e31",
   "metadata": {},
   "outputs": [
    {
     "name": "stdout",
     "output_type": "stream",
     "text": [
      "Good Morning Riddhi\n"
     ]
    }
   ],
   "source": [
    "greeting('Riddhi')"
   ]
  },
  {
   "cell_type": "code",
   "execution_count": 38,
   "id": "5e21488f",
   "metadata": {},
   "outputs": [
    {
     "name": "stdout",
     "output_type": "stream",
     "text": [
      "Good Morning A\n",
      "Good Morning B\n",
      "Good Morning C\n",
      "Good Morning D\n",
      "Good Morning E\n"
     ]
    }
   ],
   "source": [
    "learners = ['A','B','C','D','E']\n",
    "for i in learners:\n",
    "    greeting(i)"
   ]
  },
  {
   "cell_type": "markdown",
   "id": "b673226c",
   "metadata": {},
   "source": [
    "**Below function with one input parameter and with a default value**"
   ]
  },
  {
   "cell_type": "code",
   "execution_count": 45,
   "id": "1f515453",
   "metadata": {},
   "outputs": [],
   "source": [
    "def greeting(name='Learner'):\n",
    "    ''''This function is wishing good morning and taking name as an input, the default value of name is learner'''\n",
    "    print('Good Morning', name)"
   ]
  },
  {
   "cell_type": "code",
   "execution_count": 41,
   "id": "b969524f",
   "metadata": {},
   "outputs": [
    {
     "name": "stdout",
     "output_type": "stream",
     "text": [
      "Good Morning Learner\n",
      "Good Morning Sanket\n"
     ]
    }
   ],
   "source": [
    "greeting()\n",
    "greeting('Sanket')"
   ]
  },
  {
   "cell_type": "markdown",
   "id": "b9509454",
   "metadata": {},
   "source": [
    "**Calculator - Printing the outputs**"
   ]
  },
  {
   "cell_type": "code",
   "execution_count": 53,
   "id": "2113f526",
   "metadata": {},
   "outputs": [],
   "source": [
    "def calculator(num1,num2,operation='all'):\n",
    "    '''In the operation you can pass all i.e. default, sum,sub,mul,div'''\n",
    "    if operation=='all':\n",
    "        print(num1+num2)\n",
    "        print(num1-num2)\n",
    "        print(num1*num2)\n",
    "        print(num1/num2)\n",
    "        \n",
    "    elif operation=='sum':\n",
    "        print(num1+num2)\n",
    "        \n",
    "    elif operation=='sub':\n",
    "        print(num1-num2)\n",
    "        \n",
    "    elif operation=='mul':\n",
    "        print(num1*num2)\n",
    "    \n",
    "    elif operation=='div':\n",
    "        print(num1/num2)\n",
    "    \n",
    "    else:\n",
    "        print('Please pass the correct option')  "
   ]
  },
  {
   "cell_type": "code",
   "execution_count": 55,
   "id": "bada4c12",
   "metadata": {},
   "outputs": [
    {
     "name": "stdout",
     "output_type": "stream",
     "text": [
      "13\n"
     ]
    }
   ],
   "source": [
    "output = calculator(10,3,'sum')"
   ]
  },
  {
   "cell_type": "code",
   "execution_count": 57,
   "id": "cf87e32d",
   "metadata": {},
   "outputs": [
    {
     "data": {
      "text/plain": [
       "NoneType"
      ]
     },
     "execution_count": 57,
     "metadata": {},
     "output_type": "execute_result"
    }
   ],
   "source": [
    "type(output)"
   ]
  },
  {
   "cell_type": "markdown",
   "id": "c46af35c",
   "metadata": {},
   "source": [
    "**We cannot use return one below another**"
   ]
  },
  {
   "cell_type": "code",
   "execution_count": 58,
   "id": "cbae6aac",
   "metadata": {},
   "outputs": [],
   "source": [
    "def calculator(num1,num2,operation='all'):\n",
    "    '''In the operation you can pass all i.e. default, sum,sub,mul,div'''\n",
    "    if operation=='all':\n",
    "        return num1+num2\n",
    "        return num1-num2\n",
    "        return num1*num2\n",
    "        return num1/num2\n",
    "        \n",
    "    elif operation=='sum':\n",
    "        return num1+num2\n",
    "        \n",
    "    elif operation=='sub':\n",
    "        return num1-num2\n",
    "        \n",
    "    elif operation=='mul':\n",
    "        return num1*num2\n",
    "    \n",
    "    elif operation=='div':\n",
    "        return num1/num2\n",
    "    \n",
    "    else:\n",
    "        return 'Please pass the correct option'"
   ]
  },
  {
   "cell_type": "code",
   "execution_count": 59,
   "id": "98136a89",
   "metadata": {},
   "outputs": [
    {
     "data": {
      "text/plain": [
       "13"
      ]
     },
     "execution_count": 59,
     "metadata": {},
     "output_type": "execute_result"
    }
   ],
   "source": [
    "calculator(10,3)"
   ]
  },
  {
   "cell_type": "code",
   "execution_count": 60,
   "id": "0310b581",
   "metadata": {},
   "outputs": [],
   "source": [
    "def calculator(num1,num2,operation='all'):\n",
    "    '''In the operation you can pass all i.e. default, sum,sub,mul,div'''\n",
    "    if operation=='all':\n",
    "        return (num1+num2, num1-num2, num1*num2, num1/num2)\n",
    "        \n",
    "    elif operation=='sum':\n",
    "        return num1+num2\n",
    "        \n",
    "    elif operation=='sub':\n",
    "        return num1-num2\n",
    "        \n",
    "    elif operation=='mul':\n",
    "        return num1*num2\n",
    "    \n",
    "    elif operation=='div':\n",
    "        return num1/num2\n",
    "    \n",
    "    else:\n",
    "        return 'Please pass the correct option'"
   ]
  },
  {
   "cell_type": "code",
   "execution_count": 63,
   "id": "d4d07e85",
   "metadata": {},
   "outputs": [
    {
     "data": {
      "text/plain": [
       "(13, 7, 30, 3.3333333333333335)"
      ]
     },
     "execution_count": 63,
     "metadata": {},
     "output_type": "execute_result"
    }
   ],
   "source": [
    "calculator(10,3)"
   ]
  },
  {
   "cell_type": "code",
   "execution_count": 64,
   "id": "0864c0ac",
   "metadata": {},
   "outputs": [],
   "source": [
    "def calculator(num1,num2,operation='all'):\n",
    "    '''In the operation you can pass all i.e. default, sum,sub,mul,div'''\n",
    "    if operation=='all':\n",
    "        return {'addition':num1+num2, 'Subtraction':num1-num2, 'multiplication':num1*num2, 'division':num1/num2}\n",
    "        \n",
    "    elif operation=='sum':\n",
    "        return num1+num2\n",
    "        \n",
    "    elif operation=='sub':\n",
    "        return num1-num2\n",
    "        \n",
    "    elif operation=='mul':\n",
    "        return num1*num2\n",
    "    \n",
    "    elif operation=='div':\n",
    "        return num1/num2\n",
    "    \n",
    "    else:\n",
    "        return 'Please pass the correct option'"
   ]
  },
  {
   "cell_type": "code",
   "execution_count": 82,
   "id": "539e6e86",
   "metadata": {},
   "outputs": [],
   "source": [
    "output = calculator(10,3,'sub')"
   ]
  },
  {
   "cell_type": "code",
   "execution_count": 83,
   "id": "165838f2",
   "metadata": {},
   "outputs": [
    {
     "data": {
      "text/plain": [
       "7"
      ]
     },
     "execution_count": 83,
     "metadata": {},
     "output_type": "execute_result"
    }
   ],
   "source": [
    "output"
   ]
  },
  {
   "cell_type": "code",
   "execution_count": 88,
   "id": "7b973685",
   "metadata": {},
   "outputs": [
    {
     "name": "stdout",
     "output_type": "stream",
     "text": [
      "Enter the first number:10\n",
      "Enter the second number: 22\n"
     ]
    },
    {
     "data": {
      "text/plain": [
       "{'addition': 32,\n",
       " 'Subtraction': -12,\n",
       " 'multiplication': 220,\n",
       " 'division': 0.45454545454545453}"
      ]
     },
     "execution_count": 88,
     "metadata": {},
     "output_type": "execute_result"
    }
   ],
   "source": [
    "num1 = int(input('Enter the first number:'))\n",
    "num2 = int(input('Enter the second number: '))\n",
    "calculator(num1,num2)"
   ]
  },
  {
   "cell_type": "code",
   "execution_count": 113,
   "id": "e5944579",
   "metadata": {},
   "outputs": [
    {
     "name": "stdout",
     "output_type": "stream",
     "text": [
      "Enter the number1a\n",
      "Enter the number2b\n",
      "Its a string\n"
     ]
    }
   ],
   "source": [
    "num1 = input(\"Enter the number1\")\n",
    "num2 = input(\"Enter the number2\")\n",
    "\n",
    "if isinstance(num1,int) and isinstance(num2,int):\n",
    "    def calculator(num1,num2,operation='all'):\n",
    "        '''In the operation you can pass all i.e. default, sum,sub,mul,div'''\n",
    "        if operation=='all':\n",
    "            return {'addition':num1+num2, 'Subtraction':num1-num2, 'multiplication':num1*num2, 'division':num1/num2}\n",
    "        \n",
    "        elif operation=='sum':\n",
    "            return num1+num2\n",
    "        \n",
    "        elif operation=='sub':\n",
    "            return num1-num2\n",
    "        \n",
    "        elif operation=='mul':\n",
    "            return num1*num2\n",
    "    \n",
    "        elif operation=='div':\n",
    "            return num1/num2\n",
    "    \n",
    "        else:\n",
    "            return 'Please pass the correct option'\n",
    "        \n",
    "else:\n",
    "    print(\"Its a string\")"
   ]
  },
  {
   "cell_type": "code",
   "execution_count": 114,
   "id": "de067dc3",
   "metadata": {},
   "outputs": [],
   "source": [
    "def factorial(num1):\n",
    "    if num1<0:\n",
    "        print(\"There is no factorial of the negative number\")\n",
    "    else:\n",
    "        result = 1\n",
    "        while num1>=1:\n",
    "            result = result*num1\n",
    "            num1 = num1-1\n",
    "        return result"
   ]
  },
  {
   "cell_type": "code",
   "execution_count": 117,
   "id": "5cc1eebd",
   "metadata": {},
   "outputs": [
    {
     "data": {
      "text/plain": [
       "120"
      ]
     },
     "execution_count": 117,
     "metadata": {},
     "output_type": "execute_result"
    }
   ],
   "source": [
    "factorial(5)"
   ]
  },
  {
   "cell_type": "markdown",
   "id": "c6519cbb",
   "metadata": {},
   "source": [
    "**Problem: It will ask us to put the pin only once and then iterate 3 times and deny the access**"
   ]
  },
  {
   "cell_type": "code",
   "execution_count": 118,
   "id": "d6e53281",
   "metadata": {},
   "outputs": [],
   "source": [
    "def pin_check(pin):\n",
    "    correct_pin = 1234\n",
    "    max_attempts = 3\n",
    "    attempts = 0\n",
    "\n",
    "    while attempts<max_attempts:\n",
    "    #pin = int(input(\"Enter your pin: \"))\n",
    "        if pin == correct_pin:\n",
    "            print(\"Pin Accepted, Access Granted\")\n",
    "            break\n",
    "        else:\n",
    "            attempts+=1\n",
    "            print('Incorrect Pin, Attempts remaining: ', max_attempts-attempts)\n",
    "    \n",
    "    if attempts == max_attempts:\n",
    "        print('Max attempts reached, Access Denied')"
   ]
  },
  {
   "cell_type": "code",
   "execution_count": 119,
   "id": "0c056116",
   "metadata": {},
   "outputs": [
    {
     "name": "stdout",
     "output_type": "stream",
     "text": [
      "Incorrect Pin, Attempts remaining:  2\n",
      "Incorrect Pin, Attempts remaining:  1\n",
      "Incorrect Pin, Attempts remaining:  0\n",
      "Max attempts reached, Access Denied\n"
     ]
    }
   ],
   "source": [
    "pin_check(1322)"
   ]
  },
  {
   "cell_type": "markdown",
   "id": "2f177e39",
   "metadata": {},
   "source": [
    "**Solution: We can use the input command inside the function and will not use the function input parameter**"
   ]
  },
  {
   "cell_type": "code",
   "execution_count": 121,
   "id": "43dafaa4",
   "metadata": {},
   "outputs": [],
   "source": [
    "def pin_check():\n",
    "    correct_pin = 1234\n",
    "    max_attempts = 3\n",
    "    attempts = 0\n",
    "\n",
    "    while attempts<max_attempts:\n",
    "        pin = int(input(\"Enter your pin: \"))\n",
    "        if pin == correct_pin:\n",
    "            print(\"Pin Accepted, Access Granted\")\n",
    "            break\n",
    "        else:\n",
    "            attempts+=1\n",
    "            print('Incorrect Pin, Attempts remaining: ', max_attempts-attempts)\n",
    "    \n",
    "    if attempts == max_attempts:\n",
    "        print('Max attempts reached, Access Denied')"
   ]
  },
  {
   "cell_type": "code",
   "execution_count": 122,
   "id": "2eeb34e3",
   "metadata": {},
   "outputs": [
    {
     "name": "stdout",
     "output_type": "stream",
     "text": [
      "Enter your pin: 1322\n",
      "Incorrect Pin, Attempts remaining:  2\n",
      "Enter your pin: 22\n",
      "Incorrect Pin, Attempts remaining:  1\n",
      "Enter your pin: 1234\n",
      "Pin Accepted, Access Granted\n"
     ]
    }
   ],
   "source": [
    "pin_check()"
   ]
  },
  {
   "cell_type": "markdown",
   "id": "4314dfe1",
   "metadata": {},
   "source": [
    "**All the default arguments go at the end**"
   ]
  },
  {
   "cell_type": "code",
   "execution_count": 123,
   "id": "4fce5ec4",
   "metadata": {},
   "outputs": [
    {
     "ename": "SyntaxError",
     "evalue": "non-default argument follows default argument (1714696955.py, line 1)",
     "output_type": "error",
     "traceback": [
      "\u001b[1;36m  File \u001b[1;32m\"C:\\Users\\rahul\\AppData\\Local\\Temp\\ipykernel_35512\\1714696955.py\"\u001b[1;36m, line \u001b[1;32m1\u001b[0m\n\u001b[1;33m    def interest_calculator(interest = 0.05, amount):\u001b[0m\n\u001b[1;37m                                                   ^\u001b[0m\n\u001b[1;31mSyntaxError\u001b[0m\u001b[1;31m:\u001b[0m non-default argument follows default argument\n"
     ]
    }
   ],
   "source": [
    "def interest_calculator(interest = 0.05, amount):\n",
    "    print(amount*interest)"
   ]
  },
  {
   "cell_type": "code",
   "execution_count": 124,
   "id": "d4648635",
   "metadata": {},
   "outputs": [],
   "source": [
    "def interest_calculator(amount, interest = 0.05):\n",
    "    print(amount*interest)"
   ]
  },
  {
   "cell_type": "code",
   "execution_count": 125,
   "id": "91e0abfa",
   "metadata": {},
   "outputs": [
    {
     "name": "stdout",
     "output_type": "stream",
     "text": [
      "50.0\n"
     ]
    }
   ],
   "source": [
    "interest_calculator(1000)"
   ]
  },
  {
   "cell_type": "markdown",
   "id": "4ab10691",
   "metadata": {},
   "source": [
    "**Variable Length Argument - Input Argument will vary i.e. today we are adding 3 numbers tomorrow we may add 5 numbers and so on**"
   ]
  },
  {
   "cell_type": "code",
   "execution_count": 126,
   "id": "1fe8ea3b",
   "metadata": {},
   "outputs": [],
   "source": [
    "def addition(num1,num2):\n",
    "    print(num1+num2)"
   ]
  },
  {
   "cell_type": "code",
   "execution_count": 127,
   "id": "a10e4b6c",
   "metadata": {},
   "outputs": [
    {
     "name": "stdout",
     "output_type": "stream",
     "text": [
      "13\n"
     ]
    }
   ],
   "source": [
    "addition(10,3)"
   ]
  },
  {
   "cell_type": "markdown",
   "id": "27850d18",
   "metadata": {},
   "source": [
    "*** Denotes its a variable length argument - Whatever inputs user is passing all the values will get stored in the form of a tuple**"
   ]
  },
  {
   "cell_type": "code",
   "execution_count": 129,
   "id": "f004b90e",
   "metadata": {},
   "outputs": [],
   "source": [
    "def addition(*num): #(1,2,3,4,5,6,7,8)\n",
    "    result = 0 \n",
    "    for i in num:\n",
    "        result = result + i\n",
    "    print(result) "
   ]
  },
  {
   "cell_type": "code",
   "execution_count": 134,
   "id": "f52a6a1a",
   "metadata": {},
   "outputs": [
    {
     "name": "stdout",
     "output_type": "stream",
     "text": [
      "11\n"
     ]
    }
   ],
   "source": [
    "addition(2,4,5)"
   ]
  },
  {
   "cell_type": "markdown",
   "id": "e78746d6",
   "metadata": {},
   "source": [
    "**Types of variables in the function**\n",
    "\n",
    "    1) Global - Any variable which we are declaring anywhere but not in the function \n",
    "    2) Local - Any variable which we are declaring inside the function, which can be accessed inside the function only"
   ]
  },
  {
   "cell_type": "code",
   "execution_count": 135,
   "id": "2a59efef",
   "metadata": {},
   "outputs": [
    {
     "name": "stdout",
     "output_type": "stream",
     "text": [
      "F1: 10\n",
      "F2: 10\n"
     ]
    }
   ],
   "source": [
    "a = 10 \n",
    "\n",
    "def f1():\n",
    "    print('F1:', a)\n",
    "    \n",
    "f1()\n",
    "\n",
    "def f2():\n",
    "    print('F2:', a)\n",
    "    \n",
    "f2()"
   ]
  },
  {
   "cell_type": "code",
   "execution_count": 140,
   "id": "6333853c",
   "metadata": {},
   "outputs": [
    {
     "name": "stdout",
     "output_type": "stream",
     "text": [
      "F1: 100\n",
      "F2: 10\n"
     ]
    }
   ],
   "source": [
    "a = 10 #Global variable - To access this variable we can access from anywhere\n",
    "\n",
    "def f1():\n",
    "    a = 100 #Local variable - Local to the function - To access this variable we have to access this function\n",
    "    print('F1:', a)\n",
    "    \n",
    "f1()\n",
    "\n",
    "def f2():\n",
    "    print('F2:', a)\n",
    "    \n",
    "f2()"
   ]
  },
  {
   "cell_type": "code",
   "execution_count": 139,
   "id": "b6b00b77",
   "metadata": {},
   "outputs": [
    {
     "data": {
      "text/plain": [
       "10"
      ]
     },
     "execution_count": 139,
     "metadata": {},
     "output_type": "execute_result"
    }
   ],
   "source": [
    "a"
   ]
  },
  {
   "cell_type": "markdown",
   "id": "1fd3af79",
   "metadata": {},
   "source": [
    "**While we are declaring the local variable a = 100 in the function F1, it should update the global variable a = 10 to a = 100 as well**"
   ]
  },
  {
   "cell_type": "code",
   "execution_count": 141,
   "id": "6f2128f2",
   "metadata": {},
   "outputs": [
    {
     "name": "stdout",
     "output_type": "stream",
     "text": [
      "F1: 100\n",
      "F2: 100\n"
     ]
    }
   ],
   "source": [
    "a = 10 \n",
    "\n",
    "def f1():\n",
    "    global a\n",
    "    a = 100 \n",
    "    print('F1:', a)\n",
    "    \n",
    "f1()\n",
    "\n",
    "def f2():\n",
    "    print('F2:', a)\n",
    "    \n",
    "f2()"
   ]
  },
  {
   "cell_type": "code",
   "execution_count": 142,
   "id": "bdd60a4b",
   "metadata": {},
   "outputs": [
    {
     "data": {
      "text/plain": [
       "100"
      ]
     },
     "execution_count": 142,
     "metadata": {},
     "output_type": "execute_result"
    }
   ],
   "source": [
    "a"
   ]
  },
  {
   "cell_type": "code",
   "execution_count": 147,
   "id": "f464934b",
   "metadata": {},
   "outputs": [
    {
     "name": "stdout",
     "output_type": "stream",
     "text": [
      "F1: 10\n",
      "F2: 90\n"
     ]
    }
   ],
   "source": [
    "a = 10 \n",
    "\n",
    "def f1():\n",
    "    print('F1:', a)\n",
    "    \n",
    "f1()\n",
    "\n",
    "def f2():\n",
    "    global a\n",
    "    a = 90\n",
    "    print('F2:', a)\n",
    "    \n",
    "f2()"
   ]
  },
  {
   "cell_type": "markdown",
   "id": "fe7b4689",
   "metadata": {},
   "source": [
    "# Lambda Functions"
   ]
  },
  {
   "cell_type": "markdown",
   "id": "8ac4c1a4",
   "metadata": {},
   "source": [
    "**Lambda Function also known as Nameless Function, Anonymous Function, Without Name**"
   ]
  },
  {
   "cell_type": "markdown",
   "id": "178438b8",
   "metadata": {},
   "source": [
    "1) Square of a number"
   ]
  },
  {
   "cell_type": "markdown",
   "id": "b3e3e642",
   "metadata": {},
   "source": [
    "**We are assigning the function to the variable named as square**"
   ]
  },
  {
   "cell_type": "code",
   "execution_count": 149,
   "id": "92887490",
   "metadata": {},
   "outputs": [
    {
     "data": {
      "text/plain": [
       "4"
      ]
     },
     "execution_count": 149,
     "metadata": {},
     "output_type": "execute_result"
    }
   ],
   "source": [
    "square = lambda x:x**2\n",
    "square(2)"
   ]
  },
  {
   "cell_type": "markdown",
   "id": "680f71d1",
   "metadata": {},
   "source": [
    "2) Addition of a number"
   ]
  },
  {
   "cell_type": "code",
   "execution_count": 150,
   "id": "859dcb7a",
   "metadata": {},
   "outputs": [
    {
     "data": {
      "text/plain": [
       "12"
      ]
     },
     "execution_count": 150,
     "metadata": {},
     "output_type": "execute_result"
    }
   ],
   "source": [
    "addition = lambda a,b:a+b\n",
    "addition(10,2)"
   ]
  },
  {
   "cell_type": "markdown",
   "id": "fc3fd68c",
   "metadata": {},
   "source": [
    "3) Interest calculations"
   ]
  },
  {
   "cell_type": "code",
   "execution_count": 151,
   "id": "54594006",
   "metadata": {},
   "outputs": [
    {
     "name": "stdout",
     "output_type": "stream",
     "text": [
      "Interest:  50.0\n"
     ]
    }
   ],
   "source": [
    "calculate_interest = lambda amount,rate : amount*rate\n",
    "\n",
    "principal = 1000\n",
    "interest_rate = 0.05\n",
    "\n",
    "interest = calculate_interest(principal,interest_rate)\n",
    "print('Interest: ', interest)"
   ]
  },
  {
   "cell_type": "markdown",
   "id": "f31bf99c",
   "metadata": {},
   "source": [
    "4) Account Sorting"
   ]
  },
  {
   "cell_type": "code",
   "execution_count": 152,
   "id": "515caf7f",
   "metadata": {},
   "outputs": [],
   "source": [
    "accounts = [{\"account_number\":1234,\"Balance\":5000},{\"account_number\":2222,\"Balance\":3000},{\"account_number\":9999,\"Balance\":7000}]"
   ]
  },
  {
   "cell_type": "code",
   "execution_count": 154,
   "id": "c1d6eac2",
   "metadata": {},
   "outputs": [
    {
     "name": "stdout",
     "output_type": "stream",
     "text": [
      "[{'account_number': 2222, 'Balance': 3000}, {'account_number': 1234, 'Balance': 5000}, {'account_number': 9999, 'Balance': 7000}]\n"
     ]
    }
   ],
   "source": [
    "accounts.sort(key=lambda acc:acc[\"Balance\"])\n",
    "print(accounts)"
   ]
  },
  {
   "cell_type": "markdown",
   "id": "87021b45",
   "metadata": {},
   "source": [
    "5) Maximum account balance"
   ]
  },
  {
   "cell_type": "code",
   "execution_count": 155,
   "id": "51a8c210",
   "metadata": {},
   "outputs": [
    {
     "name": "stdout",
     "output_type": "stream",
     "text": [
      "Maximum balance:  7000\n"
     ]
    }
   ],
   "source": [
    "account_balance = [5000,3000,7000,2000]\n",
    "max_balance = max(account_balance,key=lambda balance:balance)\n",
    "print(\"Maximum balance: \", max_balance)"
   ]
  },
  {
   "cell_type": "markdown",
   "id": "1a02b45c",
   "metadata": {},
   "source": [
    "6) Transaction Fee calculation"
   ]
  },
  {
   "cell_type": "code",
   "execution_count": 157,
   "id": "c1bf4abf",
   "metadata": {},
   "outputs": [
    {
     "name": "stdout",
     "output_type": "stream",
     "text": [
      "Transaction Fee:  5\n"
     ]
    }
   ],
   "source": [
    "calculate_fee = lambda amount : 5 if amount>1000 else 2\n",
    "\n",
    "transaction_amount = 2000\n",
    "transaction_fee = calculate_fee(transaction_amount)\n",
    "print(\"Transaction Fee: \", transaction_fee)"
   ]
  },
  {
   "cell_type": "markdown",
   "id": "9eecd8f1",
   "metadata": {},
   "source": [
    "**Filter() - filter(function,list) - It will filter out the values based on the condition, In filter if we are passing 5 inputs the output can be 5 or less than 5**\n",
    "\n",
    "**Map() - map(function,list) - In map if we are passing 5 inputs, the output will always be 5**\n",
    "\n",
    "**Reduce() - reduce(function,list) - In reduce if we are passing 5 inputs the output will be 1, we can pass the third arguement when we want to initialize the value**\n",
    "\n",
    "**In the functions which we need to pass in the filter, map and reduce we can pass either lambda function or normal functions**"
   ]
  },
  {
   "cell_type": "markdown",
   "id": "a267dff7",
   "metadata": {},
   "source": [
    "**Getting the even numbers from the list using filter command**"
   ]
  },
  {
   "cell_type": "markdown",
   "id": "e3663761",
   "metadata": {},
   "source": [
    "**Filter**"
   ]
  },
  {
   "cell_type": "code",
   "execution_count": 161,
   "id": "525a98e2",
   "metadata": {},
   "outputs": [
    {
     "data": {
      "text/plain": [
       "[10, 14, 32, 22]"
      ]
     },
     "execution_count": 161,
     "metadata": {},
     "output_type": "execute_result"
    }
   ],
   "source": [
    "list_num = [10,11,14,21,23,32,22]\n",
    "list(filter(lambda x: x%2==0, list_num))"
   ]
  },
  {
   "cell_type": "code",
   "execution_count": 162,
   "id": "e39f6f3c",
   "metadata": {},
   "outputs": [],
   "source": [
    "accounts = [{\"account_number\":1234,\"Balance\":5000},{\"account_number\":2222,\"Balance\":3000},{\"account_number\":9999,\"Balance\":7000}]"
   ]
  },
  {
   "cell_type": "code",
   "execution_count": 164,
   "id": "b45391f7",
   "metadata": {},
   "outputs": [],
   "source": [
    "filtered_accounts = list(filter(lambda acc:acc['Balance']>4000,accounts))"
   ]
  },
  {
   "cell_type": "code",
   "execution_count": 165,
   "id": "3c31e26d",
   "metadata": {},
   "outputs": [
    {
     "data": {
      "text/plain": [
       "[{'account_number': 1234, 'Balance': 5000},\n",
       " {'account_number': 9999, 'Balance': 7000}]"
      ]
     },
     "execution_count": 165,
     "metadata": {},
     "output_type": "execute_result"
    }
   ],
   "source": [
    "filtered_accounts"
   ]
  },
  {
   "cell_type": "markdown",
   "id": "c572d09f",
   "metadata": {},
   "source": [
    "**Map**"
   ]
  },
  {
   "cell_type": "markdown",
   "id": "243c7fd3",
   "metadata": {},
   "source": [
    "1) Double the numbers"
   ]
  },
  {
   "cell_type": "code",
   "execution_count": 166,
   "id": "0ce41999",
   "metadata": {},
   "outputs": [
    {
     "data": {
      "text/plain": [
       "[10, 11, 14, 21, 23, 32, 22]"
      ]
     },
     "execution_count": 166,
     "metadata": {},
     "output_type": "execute_result"
    }
   ],
   "source": [
    "list_num"
   ]
  },
  {
   "cell_type": "code",
   "execution_count": 167,
   "id": "cfc2c181",
   "metadata": {},
   "outputs": [],
   "source": [
    "def double(x):\n",
    "    return 2*x"
   ]
  },
  {
   "cell_type": "code",
   "execution_count": 168,
   "id": "e6df881d",
   "metadata": {},
   "outputs": [
    {
     "data": {
      "text/plain": [
       "[20, 22, 28, 42, 46, 64, 44]"
      ]
     },
     "execution_count": 168,
     "metadata": {},
     "output_type": "execute_result"
    }
   ],
   "source": [
    "list(map(double,list_num))"
   ]
  },
  {
   "cell_type": "markdown",
   "id": "63409de8",
   "metadata": {},
   "source": [
    "2) Interest calculation"
   ]
  },
  {
   "cell_type": "code",
   "execution_count": 170,
   "id": "fcdf9407",
   "metadata": {},
   "outputs": [
    {
     "name": "stdout",
     "output_type": "stream",
     "text": [
      "[50.0, 100.0, 75.0, 250.0, 100.0, 150.0]\n"
     ]
    }
   ],
   "source": [
    "account_balances = [1000,2000,1500,5000,2000,3000]\n",
    "interest_rate = 0.05\n",
    "\n",
    "calculate_interest = lambda balance:balance*interest_rate\n",
    "\n",
    "interests = list(map(calculate_interest,account_balances))\n",
    "print(interests)"
   ]
  },
  {
   "cell_type": "markdown",
   "id": "0b118705",
   "metadata": {},
   "source": [
    "**Reduce**"
   ]
  },
  {
   "cell_type": "markdown",
   "id": "0800970f",
   "metadata": {},
   "source": [
    "1) Adding the numbers in the list"
   ]
  },
  {
   "cell_type": "code",
   "execution_count": 172,
   "id": "e9b67b6d",
   "metadata": {},
   "outputs": [
    {
     "data": {
      "text/plain": [
       "[10, 11, 14, 21, 23, 32, 22]"
      ]
     },
     "execution_count": 172,
     "metadata": {},
     "output_type": "execute_result"
    }
   ],
   "source": [
    "list_num"
   ]
  },
  {
   "cell_type": "code",
   "execution_count": 171,
   "id": "da6c7233",
   "metadata": {},
   "outputs": [
    {
     "data": {
      "text/plain": [
       "133"
      ]
     },
     "execution_count": 171,
     "metadata": {},
     "output_type": "execute_result"
    }
   ],
   "source": [
    "from functools import *\n",
    "list_num\n",
    "reduce(lambda x,y : x+y, list_num)"
   ]
  },
  {
   "cell_type": "markdown",
   "id": "3cebeda4",
   "metadata": {},
   "source": [
    "2) Total account balance"
   ]
  },
  {
   "cell_type": "code",
   "execution_count": 173,
   "id": "bbd61679",
   "metadata": {},
   "outputs": [
    {
     "name": "stdout",
     "output_type": "stream",
     "text": [
      "Total Balance:  12500\n"
     ]
    }
   ],
   "source": [
    "account_balance = [1000,2000,3000,5000,1500]\n",
    "total_balance = reduce(lambda acc1,acc2 : acc1+acc2, account_balance)\n",
    "print(\"Total Balance: \", total_balance)"
   ]
  },
  {
   "cell_type": "markdown",
   "id": "22ae7a97",
   "metadata": {},
   "source": [
    "3) Maximum Account Balance"
   ]
  },
  {
   "cell_type": "code",
   "execution_count": 175,
   "id": "fc28799b",
   "metadata": {},
   "outputs": [
    {
     "name": "stdout",
     "output_type": "stream",
     "text": [
      "Maximum Balance:  5000\n"
     ]
    }
   ],
   "source": [
    "account_balance\n",
    "max_balance = reduce(lambda acc1,acc2:max(acc1,acc2), account_balance)\n",
    "print(\"Maximum Balance: \", max_balance)"
   ]
  },
  {
   "cell_type": "markdown",
   "id": "f73714bf",
   "metadata": {},
   "source": [
    "4) Accumulated Interest Calculation"
   ]
  },
  {
   "cell_type": "code",
   "execution_count": 178,
   "id": "92829ef6",
   "metadata": {},
   "outputs": [
    {
     "name": "stdout",
     "output_type": "stream",
     "text": [
      "[1000, 2000, 3000, 5000, 1500]\n",
      "Total Interest:  625.0\n"
     ]
    }
   ],
   "source": [
    "print(account_balance)\n",
    "interest = 0.05\n",
    "\n",
    "accumulate_interest = lambda acc1,acc2 : acc1 + (acc2*interest_rate)\n",
    "\n",
    "total_interest = reduce(accumulate_interest,account_balance,0)\n",
    "\n",
    "print(\"Total Interest: \", total_interest)"
   ]
  },
  {
   "cell_type": "markdown",
   "id": "d62b73db",
   "metadata": {},
   "source": [
    "5) Account Balance Deduction - As per the function logic things are fine, but don't know if it will make sense for business point of view"
   ]
  },
  {
   "cell_type": "code",
   "execution_count": 182,
   "id": "3afcd899",
   "metadata": {},
   "outputs": [
    {
     "name": "stdout",
     "output_type": "stream",
     "text": [
      "[1000, 2000, 3000, 5000, 1500]\n",
      "Final Balance:  14000\n"
     ]
    }
   ],
   "source": [
    "print(account_balance)\n",
    "account_balance = [-1000,-2000,-3000,-5000,-1500]\n",
    "withdrawal_amount = 1500\n",
    "\n",
    "deduct_balance = lambda balance, withdrawal : balance - withdrawal\n",
    "\n",
    "final_balance = reduce(deduct_balance, account_balance, withdrawal_amount)\n",
    "print(\"Final Balance: \", final_balance)"
   ]
  },
  {
   "cell_type": "markdown",
   "id": "de03abe5",
   "metadata": {},
   "source": [
    "**Nested Function - Function inside the function**"
   ]
  },
  {
   "cell_type": "markdown",
   "id": "57d15851",
   "metadata": {},
   "source": [
    "**inner() function is local to the outer function and can be accessed inside the outer function only**"
   ]
  },
  {
   "cell_type": "code",
   "execution_count": 185,
   "id": "ba86e362",
   "metadata": {},
   "outputs": [
    {
     "name": "stdout",
     "output_type": "stream",
     "text": [
      "Outer function is running\n",
      "Inner function is running\n"
     ]
    }
   ],
   "source": [
    "def outer():\n",
    "    print('Outer function is running')\n",
    "    def inner():\n",
    "        print('Inner function is running')\n",
    "    inner()\n",
    "    \n",
    "outer()"
   ]
  },
  {
   "cell_type": "markdown",
   "id": "847fd11b",
   "metadata": {},
   "source": [
    "1) Calculator"
   ]
  },
  {
   "cell_type": "code",
   "execution_count": 186,
   "id": "9ccd4fcd",
   "metadata": {},
   "outputs": [
    {
     "name": "stdout",
     "output_type": "stream",
     "text": [
      "Addition:  12\n",
      "Subtract:  8\n",
      "Multiply:  20\n",
      "Divide:  5.0\n"
     ]
    }
   ],
   "source": [
    "def calculator():\n",
    "    def add(num1,num2):\n",
    "        return num1+num2\n",
    "    \n",
    "    def subtract(num1,num2):\n",
    "        return num1 - num2\n",
    "    \n",
    "    def multiply(num1,num2):\n",
    "        return num1*num2\n",
    "    \n",
    "    def divide(num1,num2):\n",
    "        return num1/num2\n",
    "    \n",
    "    num1 = 10\n",
    "    num2 = 2\n",
    "    \n",
    "    print(\"Addition: \", add(num1,num2))\n",
    "    print(\"Subtract: \", subtract(num1,num2))\n",
    "    print(\"Multiply: \", multiply(num1,num2))\n",
    "    print(\"Divide: \", divide(num1,num2))\n",
    "    \n",
    "calculator()"
   ]
  },
  {
   "cell_type": "markdown",
   "id": "f3694d4b",
   "metadata": {},
   "source": [
    "2) Voting eligibility check"
   ]
  },
  {
   "cell_type": "code",
   "execution_count": 188,
   "id": "790b0fc4",
   "metadata": {},
   "outputs": [
    {
     "name": "stdout",
     "output_type": "stream",
     "text": [
      "You are eligible for voting\n",
      "You are not eligible for voting\n"
     ]
    }
   ],
   "source": [
    "def check_voting_eligibility(age):\n",
    "    def is_eligible():\n",
    "        return age>=18\n",
    "    \n",
    "    if is_eligible():\n",
    "        print('You are eligible for voting')\n",
    "    else:\n",
    "        print('You are not eligible for voting')\n",
    "\n",
    "check_voting_eligibility(35)\n",
    "check_voting_eligibility(15)"
   ]
  },
  {
   "cell_type": "markdown",
   "id": "c6af8b7e",
   "metadata": {},
   "source": [
    "3) Currency conversion"
   ]
  },
  {
   "cell_type": "code",
   "execution_count": 190,
   "id": "1eed5aa8",
   "metadata": {},
   "outputs": [
    {
     "name": "stdout",
     "output_type": "stream",
     "text": [
      "Converted Amount:  11850\n"
     ]
    }
   ],
   "source": [
    "def convert_currency(amount,rate):\n",
    "    def apply_conversion():\n",
    "        return amount * rate\n",
    "    \n",
    "    converted_amount = apply_conversion()\n",
    "    print(\"Converted Amount: \", converted_amount)\n",
    "    \n",
    "convert_currency(150,79)"
   ]
  },
  {
   "cell_type": "markdown",
   "id": "5b361189",
   "metadata": {},
   "source": [
    "4) Password Generator"
   ]
  },
  {
   "cell_type": "code",
   "execution_count": 234,
   "id": "fd49561e",
   "metadata": {},
   "outputs": [],
   "source": [
    "import random\n",
    "\n",
    "def generate_password():\n",
    "    def generate_random_digit():\n",
    "        return random.randint(0,9)\n",
    "    \n",
    "    def generate_random_letter():\n",
    "        return chr(random.randint(97,122))\n",
    "    \n",
    "    password = \"\"\n",
    "    for i in range(6):\n",
    "        if random.choice([True,False]) == True:\n",
    "            password += str(generate_random_digit())\n",
    "        else:\n",
    "            password += generate_random_letter()\n",
    "            \n",
    "    print(\"Generated Password: \", password)"
   ]
  },
  {
   "cell_type": "code",
   "execution_count": 237,
   "id": "ed0837d3",
   "metadata": {},
   "outputs": [
    {
     "name": "stdout",
     "output_type": "stream",
     "text": [
      "Generated Password:  dnbeq0\n"
     ]
    }
   ],
   "source": [
    "generate_password()"
   ]
  },
  {
   "cell_type": "markdown",
   "id": "05356ba4",
   "metadata": {},
   "source": [
    "# String Operation"
   ]
  },
  {
   "cell_type": "markdown",
   "id": "dd845dca",
   "metadata": {},
   "source": [
    "**Playing with the functions which are associate with the strings**"
   ]
  },
  {
   "cell_type": "markdown",
   "id": "cf353372",
   "metadata": {},
   "source": [
    "**strip()** - It strips the spaces **by default** from left as well as right, not from the middle rahul tiwari. If we want to strip any other value we can pass that inside the bracket for example: strip('-')\n",
    "\n",
    "\n",
    "**lstrip()** - It strips the spaces **by default** from the left only, we can pass lstrip('-') to strip -\n",
    "\n",
    "**rstrip()** - It strips the spaces **by default** from the right only, we can pass rstrip('-') to strip -"
   ]
  },
  {
   "cell_type": "code",
   "execution_count": 241,
   "id": "1c4a6202",
   "metadata": {},
   "outputs": [
    {
     "name": "stdout",
     "output_type": "stream",
     "text": [
      "Enter the city:             Surat            \n",
      "Your city Surat is present\n"
     ]
    }
   ],
   "source": [
    "cities = ['Surat','Ahmedabad','Mumbai','Delhi', 'Gurgaon']\n",
    "city = input('Enter the city: ').strip()\n",
    "\n",
    "if city in cities:\n",
    "    print('Your city', city, 'is present')\n",
    "else:\n",
    "    print('Your city', city, 'is not present')"
   ]
  },
  {
   "cell_type": "code",
   "execution_count": 242,
   "id": "6661d1ed",
   "metadata": {},
   "outputs": [
    {
     "name": "stdout",
     "output_type": "stream",
     "text": [
      "Enter the city: $$$$Surat$$$\n",
      "Your city Surat is present\n"
     ]
    }
   ],
   "source": [
    "cities = ['Surat','Ahmedabad','Mumbai','Delhi', 'Gurgaon']\n",
    "city = input('Enter the city: ').strip('$')\n",
    "\n",
    "if city in cities:\n",
    "    print('Your city', city, 'is present')\n",
    "else:\n",
    "    print('Your city', city, 'is not present')"
   ]
  },
  {
   "cell_type": "code",
   "execution_count": 243,
   "id": "612a9c4d",
   "metadata": {},
   "outputs": [
    {
     "name": "stdout",
     "output_type": "stream",
     "text": [
      "Enter the city: $$Surat\n"
     ]
    },
    {
     "ename": "TypeError",
     "evalue": "strip expected at most 1 argument, got 2",
     "output_type": "error",
     "traceback": [
      "\u001b[1;31m---------------------------------------------------------------------------\u001b[0m",
      "\u001b[1;31mTypeError\u001b[0m                                 Traceback (most recent call last)",
      "\u001b[1;32m~\\AppData\\Local\\Temp\\ipykernel_35512\\2790431085.py\u001b[0m in \u001b[0;36m<module>\u001b[1;34m\u001b[0m\n\u001b[0;32m      1\u001b[0m \u001b[0mcities\u001b[0m \u001b[1;33m=\u001b[0m \u001b[1;33m[\u001b[0m\u001b[1;34m'Surat'\u001b[0m\u001b[1;33m,\u001b[0m\u001b[1;34m'Ahmedabad'\u001b[0m\u001b[1;33m,\u001b[0m\u001b[1;34m'Mumbai'\u001b[0m\u001b[1;33m,\u001b[0m\u001b[1;34m'Delhi'\u001b[0m\u001b[1;33m,\u001b[0m \u001b[1;34m'Gurgaon'\u001b[0m\u001b[1;33m]\u001b[0m\u001b[1;33m\u001b[0m\u001b[1;33m\u001b[0m\u001b[0m\n\u001b[1;32m----> 2\u001b[1;33m \u001b[0mcity\u001b[0m \u001b[1;33m=\u001b[0m \u001b[0minput\u001b[0m\u001b[1;33m(\u001b[0m\u001b[1;34m'Enter the city: '\u001b[0m\u001b[1;33m)\u001b[0m\u001b[1;33m.\u001b[0m\u001b[0mstrip\u001b[0m\u001b[1;33m(\u001b[0m\u001b[1;34m'$'\u001b[0m\u001b[1;33m,\u001b[0m \u001b[1;34m' '\u001b[0m\u001b[1;33m)\u001b[0m\u001b[1;33m\u001b[0m\u001b[1;33m\u001b[0m\u001b[0m\n\u001b[0m\u001b[0;32m      3\u001b[0m \u001b[1;33m\u001b[0m\u001b[0m\n\u001b[0;32m      4\u001b[0m \u001b[1;32mif\u001b[0m \u001b[0mcity\u001b[0m \u001b[1;32min\u001b[0m \u001b[0mcities\u001b[0m\u001b[1;33m:\u001b[0m\u001b[1;33m\u001b[0m\u001b[1;33m\u001b[0m\u001b[0m\n\u001b[0;32m      5\u001b[0m     \u001b[0mprint\u001b[0m\u001b[1;33m(\u001b[0m\u001b[1;34m'Your city'\u001b[0m\u001b[1;33m,\u001b[0m \u001b[0mcity\u001b[0m\u001b[1;33m,\u001b[0m \u001b[1;34m'is present'\u001b[0m\u001b[1;33m)\u001b[0m\u001b[1;33m\u001b[0m\u001b[1;33m\u001b[0m\u001b[0m\n",
      "\u001b[1;31mTypeError\u001b[0m: strip expected at most 1 argument, got 2"
     ]
    }
   ],
   "source": [
    "cities = ['Surat','Ahmedabad','Mumbai','Delhi', 'Gurgaon']\n",
    "city = input('Enter the city: ').strip('$', ' ')\n",
    "\n",
    "if city in cities:\n",
    "    print('Your city', city, 'is present')\n",
    "else:\n",
    "    print('Your city', city, 'is not present')"
   ]
  },
  {
   "cell_type": "code",
   "execution_count": 244,
   "id": "e6a489ec",
   "metadata": {},
   "outputs": [
    {
     "name": "stdout",
     "output_type": "stream",
     "text": [
      "Enter the city:     Surat$$$$\n",
      "Your city Surat is present\n"
     ]
    }
   ],
   "source": [
    "cities = ['Surat','Ahmedabad','Mumbai','Delhi', 'Gurgaon']\n",
    "city = input('Enter the city: ').strip().strip('$')\n",
    "\n",
    "if city in cities:\n",
    "    print('Your city', city, 'is present')\n",
    "else:\n",
    "    print('Your city', city, 'is not present')"
   ]
  },
  {
   "cell_type": "markdown",
   "id": "5f909484",
   "metadata": {},
   "source": [
    "**find()** - It will give the first instance index of the character or a word which you are passing in the function, if the value is not present it will return -1, -1 does not mean reverese index. Here -1 means value does not exists\n",
    "\n",
    "We can give the range as well **name.find('I',4,9)**, it will look for I from 4 to 8 index, 9 will not participate. We can also write like this **name.find('I',4)**, it means we are looking for I from 4 till the end"
   ]
  },
  {
   "cell_type": "code",
   "execution_count": 251,
   "id": "fc370f50",
   "metadata": {},
   "outputs": [
    {
     "data": {
      "text/plain": [
       "6"
      ]
     },
     "execution_count": 251,
     "metadata": {},
     "output_type": "execute_result"
    }
   ],
   "source": [
    "name = 'ICICI PRU Life'\n",
    "name.find('P')"
   ]
  },
  {
   "cell_type": "code",
   "execution_count": 252,
   "id": "0b21341c",
   "metadata": {},
   "outputs": [
    {
     "data": {
      "text/plain": [
       "-1"
      ]
     },
     "execution_count": 252,
     "metadata": {},
     "output_type": "execute_result"
    }
   ],
   "source": [
    "name = 'ICICI PRU Life'\n",
    "name.find('Z')"
   ]
  },
  {
   "cell_type": "code",
   "execution_count": 255,
   "id": "208dbe46",
   "metadata": {},
   "outputs": [
    {
     "data": {
      "text/plain": [
       "4"
      ]
     },
     "execution_count": 255,
     "metadata": {},
     "output_type": "execute_result"
    }
   ],
   "source": [
    "name = 'ICICI PRU Life'\n",
    "name.find('I',4,9)"
   ]
  },
  {
   "cell_type": "markdown",
   "id": "2279126d",
   "metadata": {},
   "source": [
    "**rfind()** - It will give the first instance of the character or a word which you are passing in the function but from the back side, We will not get the reverse index because when the values are not present this function passes -1. It will find the value from the reverse but the index calculations will happen from the start\n",
    "\n",
    "**name = 'ICICI PRU Life'**\n",
    "\n",
    "**name.rfind('I',2,7)**\n",
    "\n",
    "In this example we will get the output as 4, because it will calculate the index from the start and checks the value I from the back"
   ]
  },
  {
   "cell_type": "code",
   "execution_count": 257,
   "id": "82f6aae4",
   "metadata": {},
   "outputs": [
    {
     "data": {
      "text/plain": [
       "4"
      ]
     },
     "execution_count": 257,
     "metadata": {},
     "output_type": "execute_result"
    }
   ],
   "source": [
    "name = 'ICICI PRU Life'\n",
    "name.rfind('I')"
   ]
  },
  {
   "cell_type": "code",
   "execution_count": 258,
   "id": "6186d4e0",
   "metadata": {},
   "outputs": [
    {
     "data": {
      "text/plain": [
       "-1"
      ]
     },
     "execution_count": 258,
     "metadata": {},
     "output_type": "execute_result"
    }
   ],
   "source": [
    "name = 'ICICI PRU Life'\n",
    "name.rfind('z')"
   ]
  },
  {
   "cell_type": "code",
   "execution_count": 259,
   "id": "f92678c0",
   "metadata": {},
   "outputs": [
    {
     "data": {
      "text/plain": [
       "4"
      ]
     },
     "execution_count": 259,
     "metadata": {},
     "output_type": "execute_result"
    }
   ],
   "source": [
    "name = 'ICICI PRU Life'\n",
    "name.rfind('I',2,7)"
   ]
  },
  {
   "cell_type": "markdown",
   "id": "e0c90952",
   "metadata": {},
   "source": [
    "**count()** - It will count the instances of the value which you are passing in the bracket, we can give the range and get the count in that range also"
   ]
  },
  {
   "cell_type": "code",
   "execution_count": 260,
   "id": "22a9ca58",
   "metadata": {},
   "outputs": [
    {
     "data": {
      "text/plain": [
       "3"
      ]
     },
     "execution_count": 260,
     "metadata": {},
     "output_type": "execute_result"
    }
   ],
   "source": [
    "name = 'ICICI PRU Life'\n",
    "name.count('I')"
   ]
  },
  {
   "cell_type": "code",
   "execution_count": 262,
   "id": "512d3423",
   "metadata": {},
   "outputs": [
    {
     "data": {
      "text/plain": [
       "1"
      ]
     },
     "execution_count": 262,
     "metadata": {},
     "output_type": "execute_result"
    }
   ],
   "source": [
    "name = 'ICICI PRU Life'\n",
    "name.count('I',3,7)"
   ]
  },
  {
   "cell_type": "markdown",
   "id": "2ef3921e",
   "metadata": {},
   "source": [
    "**replace()** - It will replace the value in the string"
   ]
  },
  {
   "cell_type": "code",
   "execution_count": 261,
   "id": "96c31ee8",
   "metadata": {},
   "outputs": [
    {
     "data": {
      "text/plain": [
       "'ICICI PRO Life'"
      ]
     },
     "execution_count": 261,
     "metadata": {},
     "output_type": "execute_result"
    }
   ],
   "source": [
    "name = 'ICICI PRU Life'\n",
    "name.replace('PRU','PRO')"
   ]
  },
  {
   "cell_type": "markdown",
   "id": "70dfe335",
   "metadata": {},
   "source": [
    "**split()** - Split the string based on the delimiter and it will give the output in the list format, we can split specific number of delimeter as well"
   ]
  },
  {
   "cell_type": "code",
   "execution_count": 263,
   "id": "e8fa69b6",
   "metadata": {},
   "outputs": [
    {
     "data": {
      "text/plain": [
       "['ICICI', 'PRU', 'Life']"
      ]
     },
     "execution_count": 263,
     "metadata": {},
     "output_type": "execute_result"
    }
   ],
   "source": [
    "name = 'ICICI PRU Life'\n",
    "name.split(' ')"
   ]
  },
  {
   "cell_type": "code",
   "execution_count": 264,
   "id": "1ab8b121",
   "metadata": {},
   "outputs": [
    {
     "data": {
      "text/plain": [
       "['ICICI', 'PRU Life']"
      ]
     },
     "execution_count": 264,
     "metadata": {},
     "output_type": "execute_result"
    }
   ],
   "source": [
    "name = 'ICICI PRU Life'\n",
    "name.split(' ',1)"
   ]
  },
  {
   "cell_type": "markdown",
   "id": "4a9a5940",
   "metadata": {},
   "source": [
    "**join()** - We can convert the list to the string "
   ]
  },
  {
   "cell_type": "code",
   "execution_count": 266,
   "id": "0f7b1933",
   "metadata": {},
   "outputs": [
    {
     "data": {
      "text/plain": [
       "'ICICI-PRU-Life'"
      ]
     },
     "execution_count": 266,
     "metadata": {},
     "output_type": "execute_result"
    }
   ],
   "source": [
    "list1 = ['ICICI', 'PRU', 'Life']\n",
    "'-'.join(list1)"
   ]
  },
  {
   "cell_type": "markdown",
   "id": "5a2b2db1",
   "metadata": {},
   "source": [
    "**upper()** - Upper will make all the characters as capital\n",
    "\n",
    "**lower()** - Lower will make all the characters as small\n",
    "\n",
    "**swapcase()** - Swapcase will swap the case i.e. caps will become small and small will become caps\n",
    "\n",
    "**title()** - Title will make all the first character of the words to capital\n",
    "\n",
    "**capitalize()** - Capitalize will make the first word of the entire sentance as captial rest all small"
   ]
  },
  {
   "cell_type": "code",
   "execution_count": 267,
   "id": "2c49d083",
   "metadata": {},
   "outputs": [],
   "source": [
    "data = 'Icici Is a nice bank with lot of employees'"
   ]
  },
  {
   "cell_type": "code",
   "execution_count": 273,
   "id": "6e71bc92",
   "metadata": {},
   "outputs": [
    {
     "name": "stdout",
     "output_type": "stream",
     "text": [
      "ICICI IS A NICE BANK WITH LOT OF EMPLOYEES\n",
      "icici is a nice bank with lot of employees\n",
      "iCICI iS A NICE BANK WITH LOT OF EMPLOYEES\n",
      "Icici Is A Nice Bank With Lot Of Employees\n",
      "Icici is a nice bank with lot of employees\n"
     ]
    }
   ],
   "source": [
    "print(data.upper())\n",
    "print(data.lower())\n",
    "print(data.swapcase())\n",
    "print(data.title())\n",
    "print(data.capitalize())"
   ]
  },
  {
   "cell_type": "markdown",
   "id": "33bd34d6",
   "metadata": {},
   "source": [
    "**startswith()** - It checks if the string starting with a character or not which you are passing in the bracket\n",
    "\n",
    "**endswith()** - It checks if the string ending with a character or not which you are passing in the bracket"
   ]
  },
  {
   "cell_type": "code",
   "execution_count": 278,
   "id": "484fc7cd",
   "metadata": {},
   "outputs": [
    {
     "name": "stdout",
     "output_type": "stream",
     "text": [
      "True\n",
      "True\n"
     ]
    }
   ],
   "source": [
    "print(data.startswith('I'))\n",
    "print(data.endswith('s'))"
   ]
  },
  {
   "cell_type": "markdown",
   "id": "5603b8dd",
   "metadata": {},
   "source": [
    "**isalnum()** - It checks if the string is alpha numeric or not, any string will act as alnum and it can further be segregated as alpha or numeric\n",
    "\n",
    "**isalpha()** - It checks if the string is alpha or not\n",
    "\n",
    "**isnumeric()** - It checks if the string is numeric or not\n",
    "\n",
    "**isupper()** - It checks if the string is upper or not\n",
    "\n",
    "**islower()** - It checks if the string is lower or not\n",
    "\n",
    "**istitle()** - It checks if the string is title or not\n",
    "\n",
    "**isspace()** - It checks for space only, we have to go to that space position and check if the space is there or not"
   ]
  },
  {
   "cell_type": "code",
   "execution_count": 281,
   "id": "e2bb129a",
   "metadata": {},
   "outputs": [
    {
     "name": "stdout",
     "output_type": "stream",
     "text": [
      "True\n",
      "False\n",
      "False\n"
     ]
    }
   ],
   "source": [
    "data = 'rahul123'\n",
    "print(data.isalnum())\n",
    "print(data.isalpha())\n",
    "print(data.isnumeric())"
   ]
  },
  {
   "cell_type": "code",
   "execution_count": 282,
   "id": "bfa711dd",
   "metadata": {},
   "outputs": [
    {
     "name": "stdout",
     "output_type": "stream",
     "text": [
      "True\n",
      "True\n",
      "False\n"
     ]
    }
   ],
   "source": [
    "data = 'rahul'\n",
    "print(data.isalnum())\n",
    "print(data.isalpha())\n",
    "print(data.isnumeric())"
   ]
  },
  {
   "cell_type": "code",
   "execution_count": 283,
   "id": "77439c68",
   "metadata": {},
   "outputs": [
    {
     "name": "stdout",
     "output_type": "stream",
     "text": [
      "True\n",
      "False\n",
      "True\n"
     ]
    }
   ],
   "source": [
    "data = '123'\n",
    "print(data.isalnum())\n",
    "print(data.isalpha())\n",
    "print(data.isnumeric())"
   ]
  },
  {
   "cell_type": "code",
   "execution_count": 286,
   "id": "369ab2d3",
   "metadata": {},
   "outputs": [
    {
     "name": "stdout",
     "output_type": "stream",
     "text": [
      "False\n",
      "False\n",
      "True\n"
     ]
    }
   ],
   "source": [
    "data = 'Rahul'\n",
    "print(data.isupper())\n",
    "print(data.islower())\n",
    "print(data.istitle())"
   ]
  },
  {
   "cell_type": "code",
   "execution_count": 287,
   "id": "359ee16d",
   "metadata": {},
   "outputs": [
    {
     "name": "stdout",
     "output_type": "stream",
     "text": [
      "True\n",
      "False\n",
      "False\n"
     ]
    }
   ],
   "source": [
    "data = 'RAHUL'\n",
    "print(data.isupper())\n",
    "print(data.islower())\n",
    "print(data.istitle())"
   ]
  },
  {
   "cell_type": "code",
   "execution_count": 288,
   "id": "52064933",
   "metadata": {},
   "outputs": [
    {
     "name": "stdout",
     "output_type": "stream",
     "text": [
      "False\n",
      "True\n",
      "False\n"
     ]
    }
   ],
   "source": [
    "data = 'rahul'\n",
    "print(data.isupper())\n",
    "print(data.islower())\n",
    "print(data.istitle())"
   ]
  },
  {
   "cell_type": "code",
   "execution_count": 289,
   "id": "830d6bf7",
   "metadata": {},
   "outputs": [
    {
     "name": "stdout",
     "output_type": "stream",
     "text": [
      "False\n"
     ]
    }
   ],
   "source": [
    "data = 'Rahul Tiwari'\n",
    "print(data.isspace())"
   ]
  },
  {
   "cell_type": "code",
   "execution_count": 290,
   "id": "628cb237",
   "metadata": {},
   "outputs": [
    {
     "name": "stdout",
     "output_type": "stream",
     "text": [
      "True\n"
     ]
    }
   ],
   "source": [
    "data = 'Rahul Tiwari'\n",
    "print(data[5].isspace())"
   ]
  },
  {
   "cell_type": "code",
   "execution_count": 291,
   "id": "535fe3c9",
   "metadata": {},
   "outputs": [
    {
     "name": "stdout",
     "output_type": "stream",
     "text": [
      "True\n"
     ]
    }
   ],
   "source": [
    "data = '      '\n",
    "print(data.isspace())"
   ]
  },
  {
   "cell_type": "code",
   "execution_count": 294,
   "id": "68b3b103",
   "metadata": {},
   "outputs": [
    {
     "name": "stdout",
     "output_type": "stream",
     "text": [
      "The account number is valid\n",
      "The account number is valid\n",
      "The account number is valid\n",
      "The account number is valid\n",
      "The account number is not valid\n"
     ]
    }
   ],
   "source": [
    "account_number = ['abc 123', 'xyz 321', 'pqr 456', 'zyx 789', 'qwe123']\n",
    "for i in account_number:\n",
    "    if i[3].isspace()==True:\n",
    "        print('The account number is valid')\n",
    "    else:\n",
    "        print('The account number is not valid')"
   ]
  }
 ],
 "metadata": {
  "kernelspec": {
   "display_name": "Python 3 (ipykernel)",
   "language": "python",
   "name": "python3"
  },
  "language_info": {
   "codemirror_mode": {
    "name": "ipython",
    "version": 3
   },
   "file_extension": ".py",
   "mimetype": "text/x-python",
   "name": "python",
   "nbconvert_exporter": "python",
   "pygments_lexer": "ipython3",
   "version": "3.9.13"
  }
 },
 "nbformat": 4,
 "nbformat_minor": 5
}
