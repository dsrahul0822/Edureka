{
 "cells": [
  {
   "cell_type": "markdown",
   "id": "6e6576fe",
   "metadata": {},
   "source": [
    "# Example for String operation using find command"
   ]
  },
  {
   "cell_type": "code",
   "execution_count": 3,
   "id": "45ec05bb",
   "metadata": {},
   "outputs": [
    {
     "name": "stdout",
     "output_type": "stream",
     "text": [
      "What are you looking for: l\n",
      "Found at index:  4\n",
      "Found at index:  6\n",
      "Found at index:  8\n"
     ]
    }
   ],
   "source": [
    "string = 'rahululul'\n",
    "lookingfor = input('What are you looking for: ')\n",
    "flag = False\n",
    "pos = -1\n",
    "n = len(string)\n",
    "while True:\n",
    "    pos = string.find(lookingfor, pos+1, n)\n",
    "    if pos==-1:\n",
    "        break\n",
    "    else:\n",
    "        print('Found at index: ', pos)\n",
    "        flag = True\n",
    "if flag == False:\n",
    "    print('Not Found')"
   ]
  },
  {
   "cell_type": "markdown",
   "id": "5fd8aaba",
   "metadata": {},
   "source": [
    "# Regular Expressions"
   ]
  },
  {
   "cell_type": "code",
   "execution_count": 4,
   "id": "8773f892",
   "metadata": {},
   "outputs": [],
   "source": [
    "import re"
   ]
  },
  {
   "cell_type": "markdown",
   "id": "d7479f49",
   "metadata": {},
   "source": [
    "**Regular Expression Documentation https://docs.python.org/3/library/re.html**"
   ]
  },
  {
   "cell_type": "markdown",
   "id": "2442c541",
   "metadata": {},
   "source": [
    "Important RE module functions \n",
    "\n",
    "finditer()\n",
    "\n",
    "match()\n",
    "\n",
    "fullmatch()\n",
    "\n",
    "search()\n",
    "\n",
    "findall()\n",
    "\n",
    "sub()\n",
    "\n",
    "subn()\n",
    "\n",
    "split()"
   ]
  },
  {
   "cell_type": "markdown",
   "id": "603681de",
   "metadata": {},
   "source": [
    "**Finditer() - It finds the iteration of the characters**"
   ]
  },
  {
   "cell_type": "markdown",
   "id": "375c41f6",
   "metadata": {},
   "source": [
    "**[abc] - We are looking for a or b or c**\n",
    "\n",
    "**[^abc] - We are looking for except a or b or c**\n",
    "\n",
    "**[a-z] - All the small letters**\n",
    "\n",
    "**[A-Z] - All the capital letters**\n",
    "\n",
    "**[a-zA-Z] - All letter no matter its caps or small**\n",
    "\n",
    "**[0-9] - All the numbers**\n",
    "\n",
    "**[a-zA-Z0-9] - All the numbers and alphabets**\n",
    "\n",
    "**[^a-zA-Z0-9] - All the special characters**"
   ]
  },
  {
   "cell_type": "code",
   "execution_count": 6,
   "id": "62a81ab8",
   "metadata": {},
   "outputs": [
    {
     "name": "stdout",
     "output_type": "stream",
     "text": [
      "0 ... 1 ... a\n",
      "2 ... 3 ... b\n",
      "3 ... 4 ... a\n",
      "6 ... 7 ... c\n"
     ]
    }
   ],
   "source": [
    "for i in re.finditer('[abc]','a7ba@kc9zx '):\n",
    "    print(i.start(), '...', i.end(), '...', i.group())"
   ]
  },
  {
   "cell_type": "code",
   "execution_count": 7,
   "id": "6d879145",
   "metadata": {},
   "outputs": [
    {
     "name": "stdout",
     "output_type": "stream",
     "text": [
      "1 ... 2 ... 7\n",
      "4 ... 5 ... @\n",
      "5 ... 6 ... k\n",
      "7 ... 8 ... 9\n",
      "8 ... 9 ... z\n",
      "9 ... 10 ... x\n",
      "10 ... 11 ...  \n"
     ]
    }
   ],
   "source": [
    "for i in re.finditer('[^abc]','a7ba@kc9zx '):\n",
    "    print(i.start(), '...', i.end(), '...', i.group())"
   ]
  },
  {
   "cell_type": "code",
   "execution_count": 8,
   "id": "8874cdff",
   "metadata": {},
   "outputs": [
    {
     "name": "stdout",
     "output_type": "stream",
     "text": [
      "0 ... 1 ... a\n",
      "2 ... 3 ... b\n",
      "3 ... 4 ... a\n",
      "5 ... 6 ... k\n",
      "6 ... 7 ... c\n",
      "8 ... 9 ... z\n",
      "9 ... 10 ... x\n"
     ]
    }
   ],
   "source": [
    "for i in re.finditer('[a-z]','a7ba@kc9zx '):\n",
    "    print(i.start(), '...', i.end(), '...', i.group())"
   ]
  },
  {
   "cell_type": "code",
   "execution_count": 9,
   "id": "e817fe40",
   "metadata": {},
   "outputs": [],
   "source": [
    "for i in re.finditer('[A-Z]','a7ba@kc9zx '):\n",
    "    print(i.start(), '...', i.end(), '...', i.group())"
   ]
  },
  {
   "cell_type": "code",
   "execution_count": 10,
   "id": "04da2bc6",
   "metadata": {},
   "outputs": [
    {
     "name": "stdout",
     "output_type": "stream",
     "text": [
      "0 ... 1 ... a\n",
      "2 ... 3 ... b\n",
      "3 ... 4 ... a\n",
      "5 ... 6 ... k\n",
      "6 ... 7 ... c\n",
      "8 ... 9 ... z\n",
      "9 ... 10 ... x\n"
     ]
    }
   ],
   "source": [
    "for i in re.finditer('[a-zA-Z]','a7ba@kc9zx '):\n",
    "    print(i.start(), '...', i.end(), '...', i.group())"
   ]
  },
  {
   "cell_type": "code",
   "execution_count": 11,
   "id": "7e675b77",
   "metadata": {},
   "outputs": [
    {
     "name": "stdout",
     "output_type": "stream",
     "text": [
      "1 ... 2 ... 7\n",
      "7 ... 8 ... 9\n"
     ]
    }
   ],
   "source": [
    "for i in re.finditer('[0-9]','a7ba@kc9zx '):\n",
    "    print(i.start(), '...', i.end(), '...', i.group())"
   ]
  },
  {
   "cell_type": "code",
   "execution_count": 12,
   "id": "df27b4e4",
   "metadata": {},
   "outputs": [
    {
     "name": "stdout",
     "output_type": "stream",
     "text": [
      "0 ... 1 ... a\n",
      "1 ... 2 ... 7\n",
      "2 ... 3 ... b\n",
      "3 ... 4 ... a\n",
      "5 ... 6 ... k\n",
      "6 ... 7 ... c\n",
      "7 ... 8 ... 9\n",
      "8 ... 9 ... z\n",
      "9 ... 10 ... x\n"
     ]
    }
   ],
   "source": [
    "for i in re.finditer('[a-zA-Z0-9]','a7ba@kc9zx '):\n",
    "    print(i.start(), '...', i.end(), '...', i.group())"
   ]
  },
  {
   "cell_type": "code",
   "execution_count": 13,
   "id": "323260d7",
   "metadata": {},
   "outputs": [
    {
     "name": "stdout",
     "output_type": "stream",
     "text": [
      "4 ... 5 ... @\n",
      "10 ... 11 ...  \n"
     ]
    }
   ],
   "source": [
    "for i in re.finditer('[^a-zA-Z0-9]','a7ba@kc9zx '):\n",
    "    print(i.start(), '...', i.end(), '...', i.group())"
   ]
  },
  {
   "cell_type": "markdown",
   "id": "92609e3f",
   "metadata": {},
   "source": [
    "**\\d -Any numbers**\n",
    "\n",
    "**\\s - spaces**\n",
    "\n",
    "**\\S - Except space**\n",
    "\n",
    "**\\D - Except numbers**\n",
    "\n",
    "**\\w - Alphanumeric**\n",
    "\n",
    "**\\W - Except alphanumeric**\n",
    "\n",
    "**. - All the characters including special characters**"
   ]
  },
  {
   "cell_type": "code",
   "execution_count": 14,
   "id": "b97e2314",
   "metadata": {},
   "outputs": [
    {
     "name": "stdout",
     "output_type": "stream",
     "text": [
      "1 ... 2 ... 7\n",
      "7 ... 8 ... 9\n"
     ]
    }
   ],
   "source": [
    "for i in re.finditer('\\d','a7ba@kc9zx '):\n",
    "    print(i.start(), '...', i.end(), '...', i.group())"
   ]
  },
  {
   "cell_type": "code",
   "execution_count": 15,
   "id": "05c36b2f",
   "metadata": {},
   "outputs": [
    {
     "name": "stdout",
     "output_type": "stream",
     "text": [
      "10 ... 11 ...  \n"
     ]
    }
   ],
   "source": [
    "for i in re.finditer('\\s','a7ba@kc9zx '):\n",
    "    print(i.start(), '...', i.end(), '...', i.group())"
   ]
  },
  {
   "cell_type": "code",
   "execution_count": 16,
   "id": "95e49cfa",
   "metadata": {},
   "outputs": [
    {
     "name": "stdout",
     "output_type": "stream",
     "text": [
      "0 ... 1 ... a\n",
      "1 ... 2 ... 7\n",
      "2 ... 3 ... b\n",
      "3 ... 4 ... a\n",
      "4 ... 5 ... @\n",
      "5 ... 6 ... k\n",
      "6 ... 7 ... c\n",
      "7 ... 8 ... 9\n",
      "8 ... 9 ... z\n",
      "9 ... 10 ... x\n"
     ]
    }
   ],
   "source": [
    "for i in re.finditer('\\S','a7ba@kc9zx '):\n",
    "    print(i.start(), '...', i.end(), '...', i.group())"
   ]
  },
  {
   "cell_type": "code",
   "execution_count": 17,
   "id": "85c9b272",
   "metadata": {},
   "outputs": [
    {
     "name": "stdout",
     "output_type": "stream",
     "text": [
      "0 ... 1 ... a\n",
      "2 ... 3 ... b\n",
      "3 ... 4 ... a\n",
      "4 ... 5 ... @\n",
      "5 ... 6 ... k\n",
      "6 ... 7 ... c\n",
      "8 ... 9 ... z\n",
      "9 ... 10 ... x\n",
      "10 ... 11 ...  \n"
     ]
    }
   ],
   "source": [
    "for i in re.finditer('\\D','a7ba@kc9zx '):\n",
    "    print(i.start(), '...', i.end(), '...', i.group())"
   ]
  },
  {
   "cell_type": "code",
   "execution_count": 18,
   "id": "bb7f0a75",
   "metadata": {},
   "outputs": [
    {
     "name": "stdout",
     "output_type": "stream",
     "text": [
      "0 ... 1 ... a\n",
      "1 ... 2 ... 7\n",
      "2 ... 3 ... b\n",
      "3 ... 4 ... a\n",
      "5 ... 6 ... k\n",
      "6 ... 7 ... c\n",
      "7 ... 8 ... 9\n",
      "8 ... 9 ... z\n",
      "9 ... 10 ... x\n"
     ]
    }
   ],
   "source": [
    "for i in re.finditer('\\w','a7ba@kc9zx '):\n",
    "    print(i.start(), '...', i.end(), '...', i.group())"
   ]
  },
  {
   "cell_type": "code",
   "execution_count": 19,
   "id": "3979bf60",
   "metadata": {},
   "outputs": [
    {
     "name": "stdout",
     "output_type": "stream",
     "text": [
      "4 ... 5 ... @\n",
      "10 ... 11 ...  \n"
     ]
    }
   ],
   "source": [
    "for i in re.finditer('\\W','a7ba@kc9zx '):\n",
    "    print(i.start(), '...', i.end(), '...', i.group())"
   ]
  },
  {
   "cell_type": "code",
   "execution_count": 20,
   "id": "6982613a",
   "metadata": {},
   "outputs": [
    {
     "name": "stdout",
     "output_type": "stream",
     "text": [
      "0 ... 1 ... a\n",
      "1 ... 2 ... 7\n",
      "2 ... 3 ... b\n",
      "3 ... 4 ... a\n",
      "4 ... 5 ... @\n",
      "5 ... 6 ... k\n",
      "6 ... 7 ... c\n",
      "7 ... 8 ... 9\n",
      "8 ... 9 ... z\n",
      "9 ... 10 ... x\n",
      "10 ... 11 ...  \n"
     ]
    }
   ],
   "source": [
    "for i in re.finditer('.','a7ba@kc9zx '):\n",
    "    print(i.start(), '...', i.end(), '...', i.group())"
   ]
  },
  {
   "cell_type": "markdown",
   "id": "bf1b5a4d",
   "metadata": {},
   "source": [
    "**In the below code we are looking for abc together**"
   ]
  },
  {
   "cell_type": "code",
   "execution_count": 22,
   "id": "ffb6f3a8",
   "metadata": {},
   "outputs": [
    {
     "name": "stdout",
     "output_type": "stream",
     "text": [
      "0 ... 3 ... abc\n"
     ]
    }
   ],
   "source": [
    "for i in re.finditer('abc', 'abc7ba@kc9zx '):\n",
    "    print(i.start(), '...', i.end(), '...', i.group())"
   ]
  },
  {
   "cell_type": "markdown",
   "id": "0cc5b832",
   "metadata": {},
   "source": [
    "**In the below code we are getting all the instances of c**"
   ]
  },
  {
   "cell_type": "code",
   "execution_count": 27,
   "id": "dd5abe47",
   "metadata": {},
   "outputs": [
    {
     "name": "stdout",
     "output_type": "stream",
     "text": [
      "0 ... 1 ... c\n",
      "2 ... 3 ... c\n",
      "3 ... 4 ... c\n",
      "5 ... 6 ... c\n",
      "6 ... 7 ... c\n",
      "7 ... 8 ... c\n"
     ]
    }
   ],
   "source": [
    "for i in re.finditer('c', 'cdccdcccd'):\n",
    "    print(i.start(), '...', i.end(), '...', i.group())"
   ]
  },
  {
   "cell_type": "code",
   "execution_count": 26,
   "id": "addc9db5",
   "metadata": {},
   "outputs": [
    {
     "name": "stdout",
     "output_type": "stream",
     "text": [
      "0 ... 1 ... c\n",
      "2 ... 3 ... c\n",
      "3 ... 4 ... c\n",
      "5 ... 6 ... c\n",
      "6 ... 7 ... c\n",
      "7 ... 8 ... c\n"
     ]
    }
   ],
   "source": [
    "for i in re.finditer('[c]', 'cdccdcccd'):\n",
    "    print(i.start(), '...', i.end(), '...', i.group())"
   ]
  },
  {
   "cell_type": "markdown",
   "id": "ddd5bf07",
   "metadata": {},
   "source": [
    "**In the below code we are looking for cd together however in the next code we are looking for either c or d**"
   ]
  },
  {
   "cell_type": "code",
   "execution_count": 28,
   "id": "d437ed8d",
   "metadata": {},
   "outputs": [
    {
     "name": "stdout",
     "output_type": "stream",
     "text": [
      "0 ... 2 ... cd\n",
      "3 ... 5 ... cd\n",
      "7 ... 9 ... cd\n"
     ]
    }
   ],
   "source": [
    "for i in re.finditer('cd', 'cdccdcccd'):\n",
    "    print(i.start(), '...', i.end(), '...', i.group())"
   ]
  },
  {
   "cell_type": "code",
   "execution_count": 29,
   "id": "6d9aee7e",
   "metadata": {},
   "outputs": [
    {
     "name": "stdout",
     "output_type": "stream",
     "text": [
      "0 ... 1 ... c\n",
      "1 ... 2 ... d\n",
      "2 ... 3 ... c\n",
      "3 ... 4 ... c\n",
      "4 ... 5 ... d\n",
      "5 ... 6 ... c\n",
      "6 ... 7 ... c\n",
      "7 ... 8 ... c\n",
      "8 ... 9 ... d\n"
     ]
    }
   ],
   "source": [
    "for i in re.finditer('[cd]', 'cdccdcccd'):\n",
    "    print(i.start(), '...', i.end(), '...', i.group())"
   ]
  },
  {
   "cell_type": "markdown",
   "id": "5ec19f21",
   "metadata": {},
   "source": [
    "**The below code will give me atleast 1 c or any number of continous c's**"
   ]
  },
  {
   "cell_type": "code",
   "execution_count": 30,
   "id": "39292d73",
   "metadata": {},
   "outputs": [
    {
     "name": "stdout",
     "output_type": "stream",
     "text": [
      "0 ... 1 ... c\n",
      "2 ... 4 ... cc\n",
      "5 ... 8 ... ccc\n"
     ]
    }
   ],
   "source": [
    "for i in re.finditer('c+', 'cdccdcccd'):\n",
    "    print(i.start(), '...', i.end(), '...', i.group())"
   ]
  },
  {
   "cell_type": "markdown",
   "id": "4a4320c6",
   "metadata": {},
   "source": [
    "**In this code we are getting any number of c's including 0**"
   ]
  },
  {
   "cell_type": "code",
   "execution_count": 31,
   "id": "b784c381",
   "metadata": {},
   "outputs": [
    {
     "name": "stdout",
     "output_type": "stream",
     "text": [
      "0 ... 1 ... c\n",
      "1 ... 1 ... \n",
      "2 ... 4 ... cc\n",
      "4 ... 4 ... \n",
      "5 ... 8 ... ccc\n",
      "8 ... 8 ... \n",
      "9 ... 9 ... \n"
     ]
    }
   ],
   "source": [
    "for i in re.finditer('c*', 'cdccdcccd'):\n",
    "    print(i.start(), '...', i.end(), '...', i.group())"
   ]
  },
  {
   "cell_type": "markdown",
   "id": "350ea3f3",
   "metadata": {},
   "source": [
    "**In the below code we are getting atmost 1 c**"
   ]
  },
  {
   "cell_type": "code",
   "execution_count": 32,
   "id": "692cd70e",
   "metadata": {},
   "outputs": [
    {
     "name": "stdout",
     "output_type": "stream",
     "text": [
      "0 ... 1 ... c\n",
      "1 ... 1 ... \n",
      "2 ... 3 ... c\n",
      "3 ... 4 ... c\n",
      "4 ... 4 ... \n",
      "5 ... 6 ... c\n",
      "6 ... 7 ... c\n",
      "7 ... 8 ... c\n",
      "8 ... 8 ... \n",
      "9 ... 9 ... \n"
     ]
    }
   ],
   "source": [
    "for i in re.finditer('c?', 'cdccdcccd'):\n",
    "    print(i.start(), '...', i.end(), '...', i.group())"
   ]
  },
  {
   "cell_type": "markdown",
   "id": "c5c514af",
   "metadata": {},
   "source": [
    "**In the below code we are getting c{n} - n c's , in the below example we are getting 2 c's**"
   ]
  },
  {
   "cell_type": "code",
   "execution_count": 37,
   "id": "bb1c1409",
   "metadata": {},
   "outputs": [
    {
     "name": "stdout",
     "output_type": "stream",
     "text": [
      "2 ... 4 ... cc\n",
      "5 ... 7 ... cc\n"
     ]
    }
   ],
   "source": [
    "for i in re.finditer('c{2}', 'cdccdcccd'):\n",
    "    print(i.start(), '...', i.end(), '...', i.group())"
   ]
  },
  {
   "cell_type": "markdown",
   "id": "b014a586",
   "metadata": {},
   "source": [
    "**In the below code we are getting c{n,m} i.e. either n numbers of c's or m number c's , in the below example we are getting 2 or 3 number of c's**"
   ]
  },
  {
   "cell_type": "code",
   "execution_count": 38,
   "id": "c0a8bb48",
   "metadata": {},
   "outputs": [
    {
     "name": "stdout",
     "output_type": "stream",
     "text": [
      "2 ... 4 ... cc\n",
      "5 ... 8 ... ccc\n"
     ]
    }
   ],
   "source": [
    "for i in re.finditer('c{2,3}', 'cdccdcccd'):\n",
    "    print(i.start(), '...', i.end(), '...', i.group())"
   ]
  },
  {
   "cell_type": "markdown",
   "id": "de80b7b6",
   "metadata": {},
   "source": [
    "**Except c**"
   ]
  },
  {
   "cell_type": "code",
   "execution_count": 39,
   "id": "ac1c809c",
   "metadata": {},
   "outputs": [
    {
     "name": "stdout",
     "output_type": "stream",
     "text": [
      "1 ... 2 ... d\n",
      "4 ... 5 ... d\n",
      "8 ... 9 ... d\n"
     ]
    }
   ],
   "source": [
    "for i in re.finditer('[^c]', 'cdccdcccd'):\n",
    "    print(i.start(), '...', i.end(), '...', i.group())"
   ]
  },
  {
   "cell_type": "markdown",
   "id": "219999d7",
   "metadata": {},
   "source": [
    "**It is checking if the string is starting with c or not**"
   ]
  },
  {
   "cell_type": "code",
   "execution_count": 42,
   "id": "df6eafb4",
   "metadata": {},
   "outputs": [
    {
     "name": "stdout",
     "output_type": "stream",
     "text": [
      "0 ... 1 ... c\n"
     ]
    }
   ],
   "source": [
    "for i in re.finditer('^c', 'cdccdcccd'):\n",
    "    print(i.start(), '...', i.end(), '...', i.group())"
   ]
  },
  {
   "cell_type": "markdown",
   "id": "18453da4",
   "metadata": {},
   "source": [
    "**When we are looking ending position of a string we can pass $, in the below example we are looking for if its ending with d or not**"
   ]
  },
  {
   "cell_type": "code",
   "execution_count": 43,
   "id": "f45f1ba5",
   "metadata": {},
   "outputs": [
    {
     "name": "stdout",
     "output_type": "stream",
     "text": [
      "8 ... 9 ... d\n"
     ]
    }
   ],
   "source": [
    "for i in re.finditer('d$', 'cdccdcccd'):\n",
    "    print(i.start(), '...', i.end(), '...', i.group())"
   ]
  },
  {
   "cell_type": "markdown",
   "id": "84d9d811",
   "metadata": {},
   "source": [
    "**Match() - It looks for characters from the start till any position**"
   ]
  },
  {
   "cell_type": "code",
   "execution_count": 50,
   "id": "037850c0",
   "metadata": {},
   "outputs": [
    {
     "name": "stdout",
     "output_type": "stream",
     "text": [
      "What are you looking for: one\n",
      "Match did not find\n"
     ]
    }
   ],
   "source": [
    "string = 'Python is one of the most powerful languages'\n",
    "lookingfor = input('What are you looking for: ')\n",
    "\n",
    "if re.match(lookingfor,string)!=None:\n",
    "    print('Match Found')\n",
    "else:\n",
    "    print('Match did not find')"
   ]
  },
  {
   "cell_type": "markdown",
   "id": "5fa87d3d",
   "metadata": {},
   "source": [
    "**Fullmatch() - It looks for characters from the start till the end**"
   ]
  },
  {
   "cell_type": "code",
   "execution_count": 53,
   "id": "6b172461",
   "metadata": {},
   "outputs": [
    {
     "name": "stdout",
     "output_type": "stream",
     "text": [
      "What are you looking for: Python is one of the most powerful languages\n",
      "Match Found\n"
     ]
    }
   ],
   "source": [
    "string = 'Python is one of the most powerful languages'\n",
    "lookingfor = input('What are you looking for: ')\n",
    "\n",
    "if re.fullmatch(lookingfor,string)!=None:\n",
    "    print('Match Found')\n",
    "else:\n",
    "    print('Match did not find')"
   ]
  },
  {
   "cell_type": "markdown",
   "id": "628104ca",
   "metadata": {},
   "source": [
    "**Search() - It looks for any character in the string, you can search any character, there is no limitation that we have to look from the start or something**"
   ]
  },
  {
   "cell_type": "code",
   "execution_count": 56,
   "id": "d476f1c2",
   "metadata": {},
   "outputs": [
    {
     "name": "stdout",
     "output_type": "stream",
     "text": [
      "What are you looking for: java\n",
      "Match did not find\n"
     ]
    }
   ],
   "source": [
    "string = 'Python is one of the most powerful languages'\n",
    "lookingfor = input('What are you looking for: ')\n",
    "\n",
    "if re.search(lookingfor,string)!=None:\n",
    "    print('Match Found')\n",
    "else:\n",
    "    print('Match did not find')"
   ]
  },
  {
   "cell_type": "markdown",
   "id": "d656677a",
   "metadata": {},
   "source": [
    "**Findall() - It will look for all the instances of the string which we are looking for**"
   ]
  },
  {
   "cell_type": "code",
   "execution_count": 61,
   "id": "5bcec3d4",
   "metadata": {},
   "outputs": [
    {
     "name": "stdout",
     "output_type": "stream",
     "text": [
      "What keyword are you looking for: Python\n",
      "Your resume got selected\n"
     ]
    }
   ],
   "source": [
    "resume = 'Python is powerful, Python is good, Python is the future, Python is open source'\n",
    "keyword = input('What keyword are you looking for: ')\n",
    "\n",
    "if len(re.findall(keyword, resume))>3:\n",
    "    print('Your resume got selected')\n",
    "else:\n",
    "    print('Your resume got rejected')"
   ]
  },
  {
   "cell_type": "markdown",
   "id": "2df923a6",
   "metadata": {},
   "source": [
    "**Sub() - It will substitute the values which we want to replace**"
   ]
  },
  {
   "cell_type": "code",
   "execution_count": 62,
   "id": "a8798eed",
   "metadata": {},
   "outputs": [
    {
     "name": "stdout",
     "output_type": "stream",
     "text": [
      "What you want to change: Python\n",
      "What value you want: Java\n"
     ]
    },
    {
     "data": {
      "text/plain": [
       "'Java is powerful, Java is good, Java is the future, Java is open source'"
      ]
     },
     "execution_count": 62,
     "metadata": {},
     "output_type": "execute_result"
    }
   ],
   "source": [
    "resume = 'Python is powerful, Python is good, Python is the future, Python is open source'\n",
    "whattochange = input('What you want to change: ')\n",
    "Withwhat = input('What value you want: ')\n",
    "\n",
    "re.sub(whattochange,Withwhat,resume)"
   ]
  },
  {
   "cell_type": "markdown",
   "id": "90eee95f",
   "metadata": {},
   "source": [
    "**Subn() - It will substitute the values which we want to replace, it will give the output in the form of a tuple, in that tuple we will have the replaced string and how many times the replacement happend that number will come**"
   ]
  },
  {
   "cell_type": "code",
   "execution_count": 63,
   "id": "fa01f939",
   "metadata": {},
   "outputs": [
    {
     "name": "stdout",
     "output_type": "stream",
     "text": [
      "What you want to change: Python\n",
      "What value you want: Java\n"
     ]
    },
    {
     "data": {
      "text/plain": [
       "('Java is powerful, Java is good, Java is the future, Java is open source', 4)"
      ]
     },
     "execution_count": 63,
     "metadata": {},
     "output_type": "execute_result"
    }
   ],
   "source": [
    "resume = 'Python is powerful, Python is good, Python is the future, Python is open source'\n",
    "whattochange = input('What you want to change: ')\n",
    "Withwhat = input('What value you want: ')\n",
    "\n",
    "re.subn(whattochange,Withwhat,resume)"
   ]
  },
  {
   "cell_type": "markdown",
   "id": "26eb9a95",
   "metadata": {},
   "source": [
    "**split() - It splits based on the delimiter**"
   ]
  },
  {
   "cell_type": "code",
   "execution_count": 64,
   "id": "c3090d0d",
   "metadata": {},
   "outputs": [
    {
     "data": {
      "text/plain": [
       "['10', '20', '30', '40', '50', '60']"
      ]
     },
     "execution_count": 64,
     "metadata": {},
     "output_type": "execute_result"
    }
   ],
   "source": [
    "re.split('-', '10-20-30-40-50-60')"
   ]
  },
  {
   "cell_type": "markdown",
   "id": "0440728e",
   "metadata": {},
   "source": [
    "**\\ is an escape character which can help python understand that . is not part of the code, it is a part of the string which we are looking for**"
   ]
  },
  {
   "cell_type": "code",
   "execution_count": 66,
   "id": "8ad11027",
   "metadata": {},
   "outputs": [
    {
     "data": {
      "text/plain": [
       "['www', 'iciciprulife', 'com']"
      ]
     },
     "execution_count": 66,
     "metadata": {},
     "output_type": "execute_result"
    }
   ],
   "source": [
    "re.split('\\.', 'www.iciciprulife.com')"
   ]
  },
  {
   "cell_type": "code",
   "execution_count": 67,
   "id": "55d82b3a",
   "metadata": {},
   "outputs": [
    {
     "data": {
      "text/plain": [
       "['www', 'iciciprulife', 'com']"
      ]
     },
     "execution_count": 67,
     "metadata": {},
     "output_type": "execute_result"
    }
   ],
   "source": [
    "re.split('[.]', 'www.iciciprulife.com')"
   ]
  },
  {
   "cell_type": "code",
   "execution_count": 68,
   "id": "2d128c0e",
   "metadata": {},
   "outputs": [
    {
     "data": {
      "text/plain": [
       "<re.Match object; span=(0, 5), match='Learn'>"
      ]
     },
     "execution_count": 68,
     "metadata": {},
     "output_type": "execute_result"
    }
   ],
   "source": [
    "string = 'Learning Python is very easy'\n",
    "re.search('^Learn', string)"
   ]
  },
  {
   "cell_type": "code",
   "execution_count": 69,
   "id": "4da0c57e",
   "metadata": {},
   "outputs": [
    {
     "data": {
      "text/plain": [
       "<re.Match object; span=(24, 28), match='easy'>"
      ]
     },
     "execution_count": 69,
     "metadata": {},
     "output_type": "execute_result"
    }
   ],
   "source": [
    "re.search('easy$', string)"
   ]
  },
  {
   "cell_type": "markdown",
   "id": "7aa59f3f",
   "metadata": {},
   "source": [
    "**IGNORECASE will ignore the case, it is making it case insensetive**"
   ]
  },
  {
   "cell_type": "code",
   "execution_count": 71,
   "id": "fc78d9c4",
   "metadata": {},
   "outputs": [
    {
     "data": {
      "text/plain": [
       "<re.Match object; span=(24, 28), match='easy'>"
      ]
     },
     "execution_count": 71,
     "metadata": {},
     "output_type": "execute_result"
    }
   ],
   "source": [
    "re.search('Easy$', string, re.IGNORECASE)"
   ]
  },
  {
   "cell_type": "markdown",
   "id": "1712c940",
   "metadata": {},
   "source": [
    "**1) Password Selection**\n",
    "\n",
    "    a) The allowable characters should be\n",
    "        a.1) Alphabets (A-Z,a-z)\n",
    "        a.2) Digits (0-9)\n",
    "        a.3) Hash - (#)\n",
    "            \n",
    "    b) First character should be a lowercase that too between (a-k)\n",
    "    c) Second character should be a number which is divisble by 3 i.e. 0,3,6,9\n",
    "    d) The length of the password \n",
    "        d.1) Should be exactly 5\n",
    "        d.2) Should be minimum 5 "
   ]
  },
  {
   "cell_type": "markdown",
   "id": "8e77deaa",
   "metadata": {},
   "source": [
    "**Scenario 1** - Where the password length is exactly 5"
   ]
  },
  {
   "cell_type": "code",
   "execution_count": 75,
   "id": "5b74df66",
   "metadata": {},
   "outputs": [
    {
     "name": "stdout",
     "output_type": "stream",
     "text": [
      "Create the password: a31234\n",
      "The password needs to be changed a31234\n"
     ]
    }
   ],
   "source": [
    "password = input('Create the password: ')\n",
    "if re.fullmatch('[a-k][0369][a-zA-Z0-9#]{3}',password)!=None:\n",
    "    print('The password you selected is fine', password)\n",
    "else:\n",
    "    print('The password needs to be changed', password)"
   ]
  },
  {
   "cell_type": "markdown",
   "id": "8e4ec14e",
   "metadata": {},
   "source": [
    "**Scenario 2** - Where the password length is minimum 5"
   ]
  },
  {
   "cell_type": "code",
   "execution_count": 83,
   "id": "3298611f",
   "metadata": {},
   "outputs": [
    {
     "name": "stdout",
     "output_type": "stream",
     "text": [
      "Create the password: a3###\n",
      "The password you selected is fine a3###\n"
     ]
    }
   ],
   "source": [
    "password = input('Create the password: ')\n",
    "if re.fullmatch('[a-k][0369][a-zA-Z0-9#]{3,}',password)!=None:\n",
    "    print('The password you selected is fine', password)\n",
    "else:\n",
    "    print('The password needs to be changed', password)"
   ]
  },
  {
   "cell_type": "markdown",
   "id": "d3d9f268",
   "metadata": {},
   "source": [
    "**2) Pan Card Verification**"
   ]
  },
  {
   "cell_type": "code",
   "execution_count": 86,
   "id": "f9593257",
   "metadata": {},
   "outputs": [
    {
     "name": "stdout",
     "output_type": "stream",
     "text": [
      "Enter the pancard number: 1AFUP1212K\n",
      "The pancard you passed is incorrect:  1AFUP1212K\n"
     ]
    }
   ],
   "source": [
    "pancard = input('Enter the pancard number: ')\n",
    "if re.fullmatch('[A-Z]{3}[CPHFATBLJG][A-Z][0-9]{4}[A-Z]',pancard):\n",
    "    print('The pancard you passed is correct: ', pancard)\n",
    "else:\n",
    "    print('The pancard you passed is incorrect: ', pancard)"
   ]
  },
  {
   "cell_type": "markdown",
   "id": "74574524",
   "metadata": {},
   "source": [
    "**3) Phone number verification**"
   ]
  },
  {
   "cell_type": "code",
   "execution_count": 87,
   "id": "8e6192ca",
   "metadata": {},
   "outputs": [
    {
     "name": "stdout",
     "output_type": "stream",
     "text": [
      "Enter the phone number: 9643393302\n",
      "The phone number is valid 9643393302\n"
     ]
    }
   ],
   "source": [
    "phone = input('Enter the phone number: ')\n",
    "if re.fullmatch('[6-9]\\d{9}',phone)!=None:\n",
    "    print('The phone number is valid', phone)\n",
    "else:\n",
    "    print('The phone number is invalid', phone)"
   ]
  },
  {
   "cell_type": "markdown",
   "id": "9e7fa182",
   "metadata": {},
   "source": [
    "**4) Email check**"
   ]
  },
  {
   "cell_type": "code",
   "execution_count": 90,
   "id": "81911e04",
   "metadata": {},
   "outputs": [
    {
     "name": "stdout",
     "output_type": "stream",
     "text": [
      "Enter the email: rahul@yhoo.com\n",
      "You are not eligible for the offer\n"
     ]
    }
   ],
   "source": [
    "email = input('Enter the email: ')\n",
    "if re.fullmatch('[a-zA-Z0-9_.]*@gmail[.]com',email)!=None:\n",
    "    print('You are eligible for the offer')\n",
    "else:\n",
    "    print('You are not eligible for the offer')"
   ]
  },
  {
   "cell_type": "code",
   "execution_count": 91,
   "id": "adf99b0a",
   "metadata": {},
   "outputs": [
    {
     "name": "stdout",
     "output_type": "stream",
     "text": [
      "Enter the email: rahul@yahoo.com\n",
      "You are eligible for the offer\n"
     ]
    }
   ],
   "source": [
    "email = input('Enter the email: ')\n",
    "if re.fullmatch('[a-zA-Z0-9_.]*@(gmail|yahoo)[.]com',email)!=None:\n",
    "    print('You are eligible for the offer')\n",
    "else:\n",
    "    print('You are not eligible for the offer')"
   ]
  },
  {
   "cell_type": "code",
   "execution_count": 92,
   "id": "5fd1ce7b",
   "metadata": {},
   "outputs": [
    {
     "name": "stdout",
     "output_type": "stream",
     "text": [
      "Enter the email: rahul@iciciprulife.com\n",
      "You are eligible for the offer\n"
     ]
    }
   ],
   "source": [
    "email = input('Enter the email: ')\n",
    "if re.fullmatch('[a-zA-Z0-9_.]*@[a-zA-Z0-9]*[.]com',email)!=None:\n",
    "    print('You are eligible for the offer')\n",
    "else:\n",
    "    print('You are not eligible for the offer')"
   ]
  },
  {
   "cell_type": "code",
   "execution_count": 94,
   "id": "f24d2253",
   "metadata": {},
   "outputs": [
    {
     "name": "stdout",
     "output_type": "stream",
     "text": [
      "Enter the email: rahul@gmail.in\n",
      "You are eligible for the offer\n"
     ]
    }
   ],
   "source": [
    "email = input('Enter the email: ')\n",
    "if re.fullmatch('[a-zA-Z0-9_.]*@[a-zA-Z0-9]*[.][a-zA-Z]*',email)!=None:\n",
    "    print('You are eligible for the offer')\n",
    "else:\n",
    "    print('You are not eligible for the offer')"
   ]
  },
  {
   "cell_type": "markdown",
   "id": "f83ade7f",
   "metadata": {},
   "source": [
    "**5) Reading the data from the site and get all the phone numbers**"
   ]
  },
  {
   "cell_type": "code",
   "execution_count": 96,
   "id": "87767c60",
   "metadata": {},
   "outputs": [
    {
     "data": {
      "text/plain": [
       "'<html>\\n<head>\\n\\t<title>Sample Addresses!</title>\\n<script async src=\"https://pagead2.googlesyndication.com/pagead/js/adsbygoogle.js?client=ca-pub-2760663110461940\"\\n     crossorigin=\"anonymous\"></script>\\n\\n</head>\\n<body>\\n<h1> A page full of sample addresses for your parsing enjoyment!</h1>\\n<h2> (All data is random....)</h2>\\n<ul>\\n\\n<script async src=\"https://pagead2.googlesyndication.com/pagead/js/adsbygoogle.js?client=ca-pub-2760663110461940\"\\n     crossorigin=\"anonymous\"></script>\\n<!-- summet.com-dmsi-addresses -->\\n<ins class=\"adsbygoogle\"\\n     style=\"display:block\"\\n     data-ad-client=\"ca-pub-2760663110461940\"\\n     data-ad-slot=\"5472586510\"\\n     data-ad-format=\"auto\"\\n     data-full-width-responsive=\"true\"></ins>\\n<script>\\n     (adsbygoogle = window.adsbygoogle || []).push({});\\n</script>\\n\\n<li>Cecilia Chapman<br/>711-2880 Nulla St.<br/>Mankato Mississippi 96522<br/>(257) 563-7401</li>\\n<li>Iris Watson<br/>P.O. Box 283 8562 Fusce Rd.<br/>Frederick Nebraska 20620<br/>(372) 587-2335</li>\\n<li>Celeste Slater<br/>606-3727 Ullamcorper. Street<br/>Roseville NH 11523<br/>(786) 713-8616</li>\\n<li>Theodore Lowe<br/>Ap #867-859 Sit Rd.<br/>Azusa New York 39531<br/>(793) 151-6230</li>\\n<li>Calista Wise<br/>7292 Dictum Av.<br/>San Antonio MI 47096<br/>(492) 709-6392</li>\\n<li>Kyla Olsen<br/>Ap #651-8679 Sodales Av.<br/>Tamuning PA 10855<br/>(654) 393-5734</li>\\n<li>Forrest Ray<br/>191-103 Integer Rd.<br/>Corona New Mexico 08219<br/>(404) 960-3807</li>\\n<li>Hiroko Potter<br/>P.O. Box 887 2508 Dolor. Av.<br/>Muskegon KY 12482<br/>(314) 244-6306</li>\\n<li>Nyssa Vazquez<br/>511-5762 At Rd.<br/>Chelsea MI 67708<br/>(947) 278-5929</li>\\n<li>Lawrence Moreno<br/>935-9940 Tortor. Street<br/>Santa Rosa MN 98804<br/>(684) 579-1879</li>\\n<li>Ina Moran<br/>P.O. Box 929 4189 Nunc Road<br/>Lebanon KY 69409<br/>(389) 737-2852</li>\\n<li>Aaron Hawkins<br/>5587 Nunc. Avenue<br/>Erie Rhode Island 24975<br/>(660) 663-4518</li>\\n<li>Hedy Greene<br/>Ap #696-3279 Viverra. Avenue<br/>Latrobe DE 38100<br/>(608) 265-2215</li>\\n<li>Melvin Porter<br/>P.O. Box 132 1599 Curabitur Rd.<br/>Bandera South Dakota 45149<br/>(959) 119-8364</li>\\n<li>Keefe Sellers<br/>347-7666 Iaculis St.<br/>Woodruff SC 49854<br/>(468) 353-2641</li>\\n<li>Joan Romero<br/>666-4366 Lacinia Avenue<br/>Idaho Falls Ohio 19253<br/>(248) 675-4007</li>\\n<li>Davis Patrick<br/>P.O. Box 147 2546 Sociosqu Rd.<br/>Bethlehem Utah 02913<br/>(939) 353-1107</li>\\n<li>Leilani Boyer<br/>557-6308 Lacinia Road<br/>San Bernardino ND 09289<br/>(570) 873-7090</li>\\n<li>Colby Bernard<br/>Ap #285-7193 Ullamcorper Avenue<br/>Amesbury HI 93373<br/>(302) 259-2375</li>\\n<li>Bryar Pitts<br/>5543 Aliquet St.<br/>Fort Dodge GA 20783<br/>(717) 450-4729</li>\\n<li>Rahim Henderson<br/>5037 Diam Rd.<br/>Daly City Ohio 90255<br/>(453) 391-4650</li>\\n<li>Noelle Adams<br/>6351 Fringilla Avenue<br/>Gardena Colorado 37547<br/>(559) 104-5475</li>\\n<li>Lillith Daniel<br/>935-1670 Neque. St.<br/>Centennial Delaware 48432<br/>(387) 142-9434</li>\\n<li>Adria Russell<br/>414-7533 Non Rd.<br/>Miami Beach North Dakota 58563<br/>(516) 745-4496</li>\\n<li>Hilda Haynes<br/>778-9383 Suspendisse Av.<br/>Weirton IN 93479<br/>(326) 677-3419</li>\\n<li>Sheila Mcintosh<br/>P.O. Box 360 4407 Et Rd.<br/>Santa Monica FL 30309<br/>(746) 679-2470</li>\\n<li>Rebecca Chambers<br/>P.O. Box 813 5982 Sit Ave<br/>Liberal Vermont 51324<br/>(455) 430-0989</li>\\n<li>Christian Emerson<br/>P.O. Box 886 4118 Arcu St.<br/>Rolling Hills Georgia 92358<br/>(490) 936-4694</li>\\n<li>Nevada Ware<br/>P.O. Box 597 4156 Tincidunt Ave<br/>Green Bay Indiana 19759<br/>(985) 834-8285</li>\\n<li>Margaret Joseph<br/>P.O. Box 508 3919 Gravida St.<br/>Tamuning Washington 55797<br/>(662) 661-1446</li>\\n<li>Edward Nieves<br/>928-3313 Vel Av.<br/>Idaho Falls Rhode Island 37232<br/>(802) 668-8240</li>\\n<li>Imani Talley<br/>P.O. Box 262 4978 Sit St.<br/>Yigo Massachusetts 50654<br/>(477) 768-9247</li>\\n<li>Bertha Riggs<br/>P.O. Box 206 6639 In St.<br/>Easthampton TN 31626<br/>(791) 239-9057</li>\\n<li>Wallace Ross<br/>313 Pellentesque Ave<br/>Villa Park Hawaii 43526<br/>(832) 109-0213</li>\\n<li>Chester Bennett<br/>3476 Aliquet. Ave<br/>Minot AZ 95302<br/>(837) 196-3274</li>\\n<li>Castor Richardson<br/>P.O. Box 902 3472 Ullamcorper Street<br/>Lynchburg DC 29738<br/>(268) 442-2428</li>\\n<li>Sonya Jordan<br/>Ap #443-336 Ullamcorper. Street<br/>Visalia VA 54886<br/>(850) 676-5117</li>\\n<li>Harrison Mcguire<br/>574-8633 Arcu Street<br/>San Fernando ID 77373<br/>(861) 546-5032</li>\\n<li>Malcolm Long<br/>9291 Proin Road<br/>Lake Charles Maine 11292<br/>(176) 805-4108</li>\\n<li>Raymond Levy<br/>Ap #643-7006 Risus St.<br/>Beaumont New Mexico 73585<br/>(715) 912-6931</li>\\n<li>Hedley Ingram<br/>737-2580 At Street<br/>Independence Texas 87535<br/>(993) 554-0563</li>\\n<li>David Mathews<br/>1011 Malesuada Road<br/>Moscow Kentucky 77382<br/>(357) 616-5411</li>\\n<li>Xyla Cash<br/>969-1762 Tincidunt Rd.<br/>Boise CT 35282<br/>(121) 347-0086</li>\\n<li>Madeline Gregory<br/>977-4841 Ut Ave<br/>Walla Walla Michigan 82776<br/>(304) 506-6314</li>\\n<li>Griffith Daniels<br/>6818 Eget St.<br/>Tacoma AL 92508<br/>(425) 288-2332</li>\\n<li>Anne Beasley<br/>987-4223 Urna St.<br/>Savannah Illinois 85794<br/>(145) 987-4962</li>\\n<li>Chaney Bennett<br/>P.O. Box 721 902 Dolor Rd.<br/>Fremont AK 19408<br/>(187) 582-9707</li>\\n<li>Daniel Bernard<br/>P.O. Box 567 1561 Duis Rd.<br/>Pomona TN 08609<br/>(750) 558-3965</li>\\n<li>Willow Hunt<br/>Ap #784-1887 Lobortis Ave<br/>Cudahy Ohio 31522<br/>(492) 467-3131</li>\\n<li>Judith Floyd<br/>361-7936 Feugiat St.<br/>Williston Nevada 58521<br/>(774) 914-2510</li>\\n<li>Seth Farley<br/>6216 Aenean Avenue<br/>Seattle Utah 81202<br/>(888) 106-8550</li>\\n<li>Zephania Sanders<br/>3714 Nascetur St.<br/>Hawthorne Louisiana 10626<br/>(539) 567-3573</li>\\n<li>Calista Merritt<br/>Ap #938-5470 Posuere Ave<br/>Chickasha LA 58520<br/>(693) 337-2849</li>\\n<li>Craig Williams<br/>P.O. Box 372 5634 Montes Rd.<br/>Springdale MO 57692<br/>(545) 604-9386</li>\\n<li>Lee Preston<br/>981 Eget Rd.<br/>Clemson GA 04645<br/>(221) 156-5026</li>\\n<li>Katelyn Cooper<br/>6059 Sollicitudin Road<br/>Burlingame Colorado 26278<br/>(414) 876-0865</li>\\n<li>Lacy Eaton<br/>1379 Nulla. Av.<br/>Asbury Park Montana 69679<br/>(932) 726-8645</li>\\n<li>Driscoll Leach<br/>P.O. Box 120 2410 Odio Avenue<br/>Pass Christian Delaware 03869<br/>(726) 710-9826</li>\\n<li>Merritt Watson<br/>P.O. Box 686 7014 Amet Street<br/>Corona Oklahoma 55246<br/>(622) 594-1662</li>\\n<li>Nehru Holmes<br/>P.O. Box 547 4764 Sed Road<br/>Grand Rapids CT 87323<br/>(948) 600-8503</li>\\n<li>Quamar Rivera<br/>427-5827 Ac St.<br/>Schaumburg Arkansas 84872<br/>(605) 900-7508</li>\\n<li>Hiram Mullins<br/>754-6427 Nunc Ave<br/>Kennewick AL 41329<br/>(716) 977-5775</li>\\n<li>Kim Fletcher<br/>Ap #345-3847 Metus Road<br/>Independence CO 30135<br/>(368) 239-8275</li>\\n<li>Rigel Koch<br/>P.O. Box 558 9561 Lacus. Road<br/>Laughlin Hawaii 99602<br/>(725) 342-0650</li>\\n<li>Jeanette Sharpe<br/>Ap #364-2006 Ipsum Avenue<br/>Wilmington Ohio 91750<br/>(711) 993-5187</li>\\n<li>Dahlia Lee<br/>1293 Tincidunt Street<br/>Atwater Pennsylvania 76865<br/>(882) 399-5084</li>\\n<li>Howard Hayden<br/>P.O. Box 847 8019 Facilisis Street<br/>Joliet SC 73490<br/>(287) 755-9948</li>\\n<li>Hyatt Kramer<br/>1011 Massa Av.<br/>Kent ID 63725<br/>(659) 551-3389</li>\\n<li>Sonya Ray<br/>Ap #315-8441 Eleifend Street<br/>Fairbanks RI 96892<br/>(275) 730-6868</li>\\n<li>Cara Whitehead<br/>4005 Praesent St.<br/>Torrance Wyoming 22767<br/>(725) 757-4047</li>\\n<li>Blythe Carroll<br/>7709 Justo. Ave<br/>Princeton TX 77987<br/>(314) 882-1496</li>\\n<li>Dale Griffin<br/>P.O. Box 854 8580 In Ave<br/>Revere South Dakota 43841<br/>(639) 360-7590</li>\\n<li>McKenzie Hernandez<br/>Ap #367-674 Mi Street<br/>Greensboro VT 40684<br/>(168) 222-1592</li>\\n<li>Haviva Holcomb<br/>P.O. Box 642 3450 In Road<br/>Isle of Palms New York 03828<br/>(896) 303-1164</li>\\n<li>Ezra Duffy<br/>Ap #782-7348 Dis Rd.<br/>Austin KY 50710<br/>(203) 982-6130</li>\\n<li>Eleanor Jennings<br/>9631 Semper Ave<br/>Astoria NJ 66309<br/>(906) 217-1470</li>\\n<li>Remedios Hester<br/>487-5787 Mollis St.<br/>City of Industry Louisiana 67973<br/>(614) 514-1269</li>\\n<li>Jasper Carney<br/>1195 Lobortis Rd.<br/>New Orleans New Hampshire 71983<br/>(763) 409-5446</li>\\n<li>Vielka Nielsen<br/>Ap #517-7326 Elementum Rd.<br/>Fort Smith North Dakota 79637<br/>(836) 292-5324</li>\\n<li>Wilma Pace<br/>Ap #676-6532 Odio Rd.<br/>Darlington CO 06963<br/>(926) 709-3295</li>\\n<li>Palmer Gay<br/>557-2026 Purus St.<br/>Watertown TN 07367<br/>(963) 356-9268</li>\\n<li>Lyle Sutton<br/>Ap #250-9843 Elementum St.<br/>South Gate Missouri 68999<br/>(736) 522-8584</li>\\n<li>Ina Burt<br/>Ap #130-1685 Ut Street<br/>Tyler KS 73510<br/>(410) 483-0352</li>\\n<li>Cleo Best<br/>282-8351 Tincidunt Ave<br/>Sedalia Utah 53700<br/>(252) 204-1434</li>\\n<li>Hu Park<br/>1429 Netus Rd.<br/>Reedsport NY 48247<br/>(874) 886-4174</li>\\n<li>Liberty Walton<br/>343-6527 Purus. Avenue<br/>Logan NV 12657<br/>(581) 379-7573</li>\\n<li>Aaron Trujillo<br/>Ap #146-3132 Cras Rd.<br/>Kingsport NH 56618<br/>(983) 632-8597</li>\\n<li>Elmo Lopez<br/>Ap #481-7473 Cum Rd.<br/>Yorba Linda South Carolina 28423<br/>(295) 983-3476</li>\\n<li>Emerson Espinoza<br/>Ap #247-5577 Tincidunt St.<br/>Corpus Christi WI 97020<br/>(873) 392-8802</li>\\n<li>Daniel Malone<br/>2136 Adipiscing Av.<br/>Lima RI 93490<br/>(360) 669-3923</li>\\n<li>Dante Bennett<br/>481-8762 Nulla Street<br/>Dearborn OR 62401<br/>(840) 987-9449</li>\\n<li>Sade Higgins<br/>Ap #287-3260 Ut St.<br/>Wilmington OR 05182<br/>(422) 517-6053</li>\\n<li>Zorita Anderson<br/>1964 Facilisis Avenue<br/>Bell Gardens Texas 87065<br/>(126) 940-2753</li>\\n<li>Jordan Calderon<br/>430-985 Eleifend St.<br/>Duluth Washington 92611<br/>(427) 930-5255</li>\\n<li>Ivor Delgado<br/>Ap #310-1678 Ut Av.<br/>Santa Barbara MT 88317<br/>(689) 721-5145</li>\\n<li>Pascale Patton<br/>P.O. Box 399 4275 Amet Street<br/>West Allis NC 36734<br/>(676) 334-2174</li>\\n<li>Nasim Strong<br/>Ap #630-3889 Nulla. Street<br/>Watervliet Oklahoma 70863<br/>(437) 994-5270</li>\\n<li>Keaton Underwood<br/>Ap #636-8082 Arcu Avenue<br/>Thiensville Maryland 19587<br/>(564) 908-6970</li>\\n<li>Keegan Blair<br/>Ap #761-2515 Egestas. Rd.<br/>Manitowoc TN 07528<br/>(577) 333-6244</li>\\n<li>Tamara Howe<br/>3415 Lobortis. Avenue<br/>Rocky Mount WA 48580<br/>(655) 840-6139</li>\\n </ul> </body></html>\\n'"
      ]
     },
     "execution_count": 96,
     "metadata": {},
     "output_type": "execute_result"
    }
   ],
   "source": [
    "import urllib.request\n",
    "url = 'https://www.summet.com/dmsi/html/codesamples/addresses.html'\n",
    "response = urllib.request.urlopen(url)\n",
    "data = response.read()\n",
    "data = data.decode()\n",
    "data"
   ]
  },
  {
   "cell_type": "code",
   "execution_count": 98,
   "id": "a37a1f10",
   "metadata": {},
   "outputs": [
    {
     "data": {
      "text/plain": [
       "['(257) 563-7401',\n",
       " '(372) 587-2335',\n",
       " '(786) 713-8616',\n",
       " '(793) 151-6230',\n",
       " '(492) 709-6392',\n",
       " '(654) 393-5734',\n",
       " '(404) 960-3807',\n",
       " '(314) 244-6306',\n",
       " '(947) 278-5929',\n",
       " '(684) 579-1879',\n",
       " '(389) 737-2852',\n",
       " '(660) 663-4518',\n",
       " '(608) 265-2215',\n",
       " '(959) 119-8364',\n",
       " '(468) 353-2641',\n",
       " '(248) 675-4007',\n",
       " '(939) 353-1107',\n",
       " '(570) 873-7090',\n",
       " '(302) 259-2375',\n",
       " '(717) 450-4729',\n",
       " '(453) 391-4650',\n",
       " '(559) 104-5475',\n",
       " '(387) 142-9434',\n",
       " '(516) 745-4496',\n",
       " '(326) 677-3419',\n",
       " '(746) 679-2470',\n",
       " '(455) 430-0989',\n",
       " '(490) 936-4694',\n",
       " '(985) 834-8285',\n",
       " '(662) 661-1446',\n",
       " '(802) 668-8240',\n",
       " '(477) 768-9247',\n",
       " '(791) 239-9057',\n",
       " '(832) 109-0213',\n",
       " '(837) 196-3274',\n",
       " '(268) 442-2428',\n",
       " '(850) 676-5117',\n",
       " '(861) 546-5032',\n",
       " '(176) 805-4108',\n",
       " '(715) 912-6931',\n",
       " '(993) 554-0563',\n",
       " '(357) 616-5411',\n",
       " '(121) 347-0086',\n",
       " '(304) 506-6314',\n",
       " '(425) 288-2332',\n",
       " '(145) 987-4962',\n",
       " '(187) 582-9707',\n",
       " '(750) 558-3965',\n",
       " '(492) 467-3131',\n",
       " '(774) 914-2510',\n",
       " '(888) 106-8550',\n",
       " '(539) 567-3573',\n",
       " '(693) 337-2849',\n",
       " '(545) 604-9386',\n",
       " '(221) 156-5026',\n",
       " '(414) 876-0865',\n",
       " '(932) 726-8645',\n",
       " '(726) 710-9826',\n",
       " '(622) 594-1662',\n",
       " '(948) 600-8503',\n",
       " '(605) 900-7508',\n",
       " '(716) 977-5775',\n",
       " '(368) 239-8275',\n",
       " '(725) 342-0650',\n",
       " '(711) 993-5187',\n",
       " '(882) 399-5084',\n",
       " '(287) 755-9948',\n",
       " '(659) 551-3389',\n",
       " '(275) 730-6868',\n",
       " '(725) 757-4047',\n",
       " '(314) 882-1496',\n",
       " '(639) 360-7590',\n",
       " '(168) 222-1592',\n",
       " '(896) 303-1164',\n",
       " '(203) 982-6130',\n",
       " '(906) 217-1470',\n",
       " '(614) 514-1269',\n",
       " '(763) 409-5446',\n",
       " '(836) 292-5324',\n",
       " '(926) 709-3295',\n",
       " '(963) 356-9268',\n",
       " '(736) 522-8584',\n",
       " '(410) 483-0352',\n",
       " '(252) 204-1434',\n",
       " '(874) 886-4174',\n",
       " '(581) 379-7573',\n",
       " '(983) 632-8597',\n",
       " '(295) 983-3476',\n",
       " '(873) 392-8802',\n",
       " '(360) 669-3923',\n",
       " '(840) 987-9449',\n",
       " '(422) 517-6053',\n",
       " '(126) 940-2753',\n",
       " '(427) 930-5255',\n",
       " '(689) 721-5145',\n",
       " '(676) 334-2174',\n",
       " '(437) 994-5270',\n",
       " '(564) 908-6970',\n",
       " '(577) 333-6244',\n",
       " '(655) 840-6139']"
      ]
     },
     "execution_count": 98,
     "metadata": {},
     "output_type": "execute_result"
    }
   ],
   "source": [
    "re.findall('\\(\\d{3}\\) \\d{3}-\\d{4}',data)"
   ]
  },
  {
   "cell_type": "markdown",
   "id": "b180ae6a",
   "metadata": {},
   "source": [
    "# Numpy - Numerical Python Library or Package"
   ]
  },
  {
   "cell_type": "markdown",
   "id": "58853697",
   "metadata": {},
   "source": [
    "**Website for Numpy** https://numpy.org/"
   ]
  },
  {
   "cell_type": "markdown",
   "id": "c5b2c63e",
   "metadata": {},
   "source": [
    "**Its a well optimised C code which makes the processing faster**"
   ]
  },
  {
   "cell_type": "code",
   "execution_count": 99,
   "id": "0650459b",
   "metadata": {},
   "outputs": [],
   "source": [
    "import numpy as np"
   ]
  },
  {
   "cell_type": "code",
   "execution_count": 100,
   "id": "1ffe4417",
   "metadata": {},
   "outputs": [
    {
     "data": {
      "text/plain": [
       "'1.21.5'"
      ]
     },
     "execution_count": 100,
     "metadata": {},
     "output_type": "execute_result"
    }
   ],
   "source": [
    "np.__version__"
   ]
  },
  {
   "cell_type": "markdown",
   "id": "3b1ebbf6",
   "metadata": {},
   "source": [
    "**Array is a basic data structure in numpy**\n",
    "\n",
    "    When we want to do complex calculation we need numpy\n",
    "        a) Creation of arrays\n",
    "        b) Perform several operations on the arrays\n",
    "        c) Integral calculus \n",
    "        d) Differential equations\n",
    "        e) Statistics related operations"
   ]
  },
  {
   "cell_type": "markdown",
   "id": "cfa52db5",
   "metadata": {},
   "source": [
    "**What is an array**\n",
    "    \n",
    "    a) An indexed collection of homogenous data elements \n",
    "    \n",
    "    b) It is most commonly used in the programming languages like c,c++ or java\n",
    "    \n",
    "    c) By default we dont have the array in Python, we have other data structures like list, tuple, etc\n"
   ]
  },
  {
   "cell_type": "code",
   "execution_count": 107,
   "id": "2f1a4f11",
   "metadata": {},
   "outputs": [
    {
     "data": {
      "text/plain": [
       "list"
      ]
     },
     "execution_count": 107,
     "metadata": {},
     "output_type": "execute_result"
    }
   ],
   "source": [
    "ages = [21,23,44,33,22,24,21]\n",
    "type(ages)"
   ]
  },
  {
   "cell_type": "code",
   "execution_count": 108,
   "id": "d2ecb40e",
   "metadata": {},
   "outputs": [
    {
     "data": {
      "text/plain": [
       "numpy.ndarray"
      ]
     },
     "execution_count": 108,
     "metadata": {},
     "output_type": "execute_result"
    }
   ],
   "source": [
    "ages_array = np.array(ages)\n",
    "type(ages_array)"
   ]
  },
  {
   "cell_type": "markdown",
   "id": "59442797",
   "metadata": {},
   "source": [
    "**Similaries between Lists and Array**\n",
    "\n",
    "    1) Both can be used to store the data\n",
    "\n",
    "    2) The order will be preserved in both, indexing and slicing concepts will remain the same\n",
    "    \n",
    "    3) Both are mutable in nature, we can change the values\n",
    "    "
   ]
  },
  {
   "cell_type": "markdown",
   "id": "a3862b6e",
   "metadata": {},
   "source": [
    "**Differences between Lists and Arrays**\n",
    "\n",
    "    1) List is by default comes in with Python, however we need numpy package to get arrays\n",
    "    \n",
    "    2) List can contain heterogenous data however, arrays can have homogeneous data\n",
    "    \n",
    "    3) On the list we cannot perform vector operationsm we can do that in the arrays\n",
    "    \n",
    "    4) Arrays consumes less memory than lists\n",
    "    \n",
    "    5) Arrays are superfast when we compare it with lists\n",
    "    \n",
    "    6) Arrays are more convinient for doing complex mathematical calculations"
   ]
  },
  {
   "cell_type": "code",
   "execution_count": 112,
   "id": "443c0c89",
   "metadata": {},
   "outputs": [
    {
     "data": {
      "text/plain": [
       "[21,\n",
       " 23,\n",
       " 44,\n",
       " 33,\n",
       " 22,\n",
       " 24,\n",
       " 21,\n",
       " 21,\n",
       " 23,\n",
       " 44,\n",
       " 33,\n",
       " 22,\n",
       " 24,\n",
       " 21,\n",
       " 21,\n",
       " 23,\n",
       " 44,\n",
       " 33,\n",
       " 22,\n",
       " 24,\n",
       " 21]"
      ]
     },
     "execution_count": 112,
     "metadata": {},
     "output_type": "execute_result"
    }
   ],
   "source": [
    "ages*3"
   ]
  },
  {
   "cell_type": "code",
   "execution_count": 111,
   "id": "691adc19",
   "metadata": {},
   "outputs": [
    {
     "data": {
      "text/plain": [
       "array([ 63,  69, 132,  99,  66,  72,  63])"
      ]
     },
     "execution_count": 111,
     "metadata": {},
     "output_type": "execute_result"
    }
   ],
   "source": [
    "ages_array*3"
   ]
  },
  {
   "cell_type": "markdown",
   "id": "7eaf48f6",
   "metadata": {},
   "source": [
    "**In the array string takes the priority, if string is not there than float will takes the priority, if float is not there than integer will takes the priority, and last boolean takes the priority**"
   ]
  },
  {
   "cell_type": "code",
   "execution_count": 122,
   "id": "094f9def",
   "metadata": {},
   "outputs": [],
   "source": [
    "list1 = [True]"
   ]
  },
  {
   "cell_type": "code",
   "execution_count": 124,
   "id": "f134a8cb",
   "metadata": {},
   "outputs": [],
   "source": [
    "array1= np.array(list1)"
   ]
  },
  {
   "cell_type": "code",
   "execution_count": 125,
   "id": "4080a7d0",
   "metadata": {},
   "outputs": [
    {
     "data": {
      "text/plain": [
       "array([ True])"
      ]
     },
     "execution_count": 125,
     "metadata": {},
     "output_type": "execute_result"
    }
   ],
   "source": [
    "array1"
   ]
  },
  {
   "cell_type": "markdown",
   "id": "8c76df67",
   "metadata": {},
   "source": [
    "**Arrays are faster than lists**"
   ]
  },
  {
   "cell_type": "code",
   "execution_count": 127,
   "id": "fa4a9d4f",
   "metadata": {},
   "outputs": [
    {
     "name": "stdout",
     "output_type": "stream",
     "text": [
      "0.12616550116550115\n",
      "0.07015959048479374\n",
      "0.09558823529411764\n",
      "0.1612002791346825\n"
     ]
    }
   ],
   "source": [
    "sales = [3432,3321,2312,1433]\n",
    "profit = [433,233,221,231]\n",
    "\n",
    "for i in range(0,len(sales)):\n",
    "    print(profit[i]/sales[i])"
   ]
  },
  {
   "cell_type": "code",
   "execution_count": 128,
   "id": "64958ba8",
   "metadata": {},
   "outputs": [],
   "source": [
    "sales_array = np.array(sales)\n",
    "profit_array = np.array(profit)"
   ]
  },
  {
   "cell_type": "code",
   "execution_count": 129,
   "id": "ce995bb7",
   "metadata": {},
   "outputs": [
    {
     "data": {
      "text/plain": [
       "array([3432, 3321, 2312, 1433])"
      ]
     },
     "execution_count": 129,
     "metadata": {},
     "output_type": "execute_result"
    }
   ],
   "source": [
    "sales_array"
   ]
  },
  {
   "cell_type": "code",
   "execution_count": 130,
   "id": "28ad8829",
   "metadata": {},
   "outputs": [
    {
     "data": {
      "text/plain": [
       "array([433, 233, 221, 231])"
      ]
     },
     "execution_count": 130,
     "metadata": {},
     "output_type": "execute_result"
    }
   ],
   "source": [
    "profit_array"
   ]
  },
  {
   "cell_type": "code",
   "execution_count": 131,
   "id": "b2f8115b",
   "metadata": {},
   "outputs": [
    {
     "data": {
      "text/plain": [
       "array([0.1261655 , 0.07015959, 0.09558824, 0.16120028])"
      ]
     },
     "execution_count": 131,
     "metadata": {},
     "output_type": "execute_result"
    }
   ],
   "source": [
    "profit_array/sales_array"
   ]
  },
  {
   "cell_type": "code",
   "execution_count": 135,
   "id": "60600737",
   "metadata": {},
   "outputs": [],
   "source": [
    "sales_array[1]=2222"
   ]
  },
  {
   "cell_type": "markdown",
   "id": "42948277",
   "metadata": {},
   "source": [
    "**Attributes** - Which is giving us the property of an array"
   ]
  },
  {
   "cell_type": "code",
   "execution_count": 139,
   "id": "544a3ddb",
   "metadata": {},
   "outputs": [
    {
     "data": {
      "text/plain": [
       "(4,)"
      ]
     },
     "execution_count": 139,
     "metadata": {},
     "output_type": "execute_result"
    }
   ],
   "source": [
    "sales_array.shape"
   ]
  },
  {
   "cell_type": "code",
   "execution_count": 140,
   "id": "0eedaee7",
   "metadata": {},
   "outputs": [
    {
     "data": {
      "text/plain": [
       "4"
      ]
     },
     "execution_count": 140,
     "metadata": {},
     "output_type": "execute_result"
    }
   ],
   "source": [
    "sales_array.size"
   ]
  },
  {
   "cell_type": "code",
   "execution_count": 141,
   "id": "ebcf1a1d",
   "metadata": {},
   "outputs": [
    {
     "data": {
      "text/plain": [
       "1"
      ]
     },
     "execution_count": 141,
     "metadata": {},
     "output_type": "execute_result"
    }
   ],
   "source": [
    "sales_array.ndim"
   ]
  },
  {
   "cell_type": "markdown",
   "id": "4f1db532",
   "metadata": {},
   "source": [
    "**Functions**"
   ]
  },
  {
   "cell_type": "code",
   "execution_count": 143,
   "id": "b4f87ebc",
   "metadata": {},
   "outputs": [
    {
     "data": {
      "text/plain": [
       "array([3432, 2222, 2312, 1433])"
      ]
     },
     "execution_count": 143,
     "metadata": {},
     "output_type": "execute_result"
    }
   ],
   "source": [
    "sales_array"
   ]
  },
  {
   "cell_type": "code",
   "execution_count": 142,
   "id": "562ccb9b",
   "metadata": {},
   "outputs": [
    {
     "data": {
      "text/plain": [
       "2349.75"
      ]
     },
     "execution_count": 142,
     "metadata": {},
     "output_type": "execute_result"
    }
   ],
   "source": [
    "sales_array.mean()"
   ]
  },
  {
   "cell_type": "markdown",
   "id": "c18b5a11",
   "metadata": {},
   "source": [
    "**How to create a matrix - 2 dimension array**"
   ]
  },
  {
   "cell_type": "code",
   "execution_count": 144,
   "id": "a2974e88",
   "metadata": {},
   "outputs": [],
   "source": [
    "sales_us = [4332,2112,2423,2111]\n",
    "sales_eu = [4443,2332,1222,1122]\n",
    "sales_ind = [4444,2232,1343,3333]"
   ]
  },
  {
   "cell_type": "code",
   "execution_count": 146,
   "id": "11fc61b3",
   "metadata": {},
   "outputs": [],
   "source": [
    "sales_matrix = np.array([sales_us,sales_eu,sales_ind])"
   ]
  },
  {
   "cell_type": "code",
   "execution_count": 147,
   "id": "11cd45d2",
   "metadata": {},
   "outputs": [
    {
     "data": {
      "text/plain": [
       "array([[4332, 2112, 2423, 2111],\n",
       "       [4443, 2332, 1222, 1122],\n",
       "       [4444, 2232, 1343, 3333]])"
      ]
     },
     "execution_count": 147,
     "metadata": {},
     "output_type": "execute_result"
    }
   ],
   "source": [
    "sales_matrix"
   ]
  },
  {
   "cell_type": "code",
   "execution_count": 148,
   "id": "23c1af3c",
   "metadata": {},
   "outputs": [
    {
     "data": {
      "text/plain": [
       "1343"
      ]
     },
     "execution_count": 148,
     "metadata": {},
     "output_type": "execute_result"
    }
   ],
   "source": [
    "sales_matrix[2,2]"
   ]
  },
  {
   "cell_type": "code",
   "execution_count": 152,
   "id": "63fa27da",
   "metadata": {},
   "outputs": [
    {
     "data": {
      "text/plain": [
       "array([[2332, 1222],\n",
       "       [2232, 1343]])"
      ]
     },
     "execution_count": 152,
     "metadata": {},
     "output_type": "execute_result"
    }
   ],
   "source": [
    "sales_matrix[1:,1:3]"
   ]
  },
  {
   "cell_type": "code",
   "execution_count": 151,
   "id": "51ffc6e3",
   "metadata": {},
   "outputs": [
    {
     "data": {
      "text/plain": [
       "array([[2332, 1222],\n",
       "       [2232, 1343]])"
      ]
     },
     "execution_count": 151,
     "metadata": {},
     "output_type": "execute_result"
    }
   ],
   "source": [
    "sales_matrix[1:3,1:3]"
   ]
  },
  {
   "cell_type": "code",
   "execution_count": 157,
   "id": "b21ef2a6",
   "metadata": {},
   "outputs": [
    {
     "data": {
      "text/plain": [
       "(4, 3)"
      ]
     },
     "execution_count": 157,
     "metadata": {},
     "output_type": "execute_result"
    }
   ],
   "source": [
    "sales_matrix.T.shape"
   ]
  },
  {
   "cell_type": "code",
   "execution_count": 156,
   "id": "a41b45fa",
   "metadata": {},
   "outputs": [
    {
     "data": {
      "text/plain": [
       "(3, 4)"
      ]
     },
     "execution_count": 156,
     "metadata": {},
     "output_type": "execute_result"
    }
   ],
   "source": [
    "sales_matrix.shape"
   ]
  },
  {
   "cell_type": "code",
   "execution_count": 158,
   "id": "1afa8729",
   "metadata": {},
   "outputs": [],
   "source": [
    "profit_us = [132,112,123,111]\n",
    "profit_eu = [243,232,222,222]\n",
    "profit_ind = [344,332,343,333]"
   ]
  },
  {
   "cell_type": "code",
   "execution_count": 159,
   "id": "6319e518",
   "metadata": {},
   "outputs": [],
   "source": [
    "profit_matrix = np.array([profit_us,profit_eu,profit_ind])"
   ]
  },
  {
   "cell_type": "code",
   "execution_count": 161,
   "id": "8a8a911f",
   "metadata": {},
   "outputs": [
    {
     "data": {
      "text/plain": [
       "(3, 4)"
      ]
     },
     "execution_count": 161,
     "metadata": {},
     "output_type": "execute_result"
    }
   ],
   "source": [
    "profit_matrix.shape"
   ]
  },
  {
   "cell_type": "code",
   "execution_count": 162,
   "id": "934674f4",
   "metadata": {},
   "outputs": [
    {
     "data": {
      "text/plain": [
       "array([[4332, 2112, 2423, 2111],\n",
       "       [4443, 2332, 1222, 1122],\n",
       "       [4444, 2232, 1343, 3333]])"
      ]
     },
     "execution_count": 162,
     "metadata": {},
     "output_type": "execute_result"
    }
   ],
   "source": [
    "sales_matrix"
   ]
  },
  {
   "cell_type": "code",
   "execution_count": 163,
   "id": "b1be7838",
   "metadata": {},
   "outputs": [
    {
     "data": {
      "text/plain": [
       "array([[132, 112, 123, 111],\n",
       "       [243, 232, 222, 222],\n",
       "       [344, 332, 343, 333]])"
      ]
     },
     "execution_count": 163,
     "metadata": {},
     "output_type": "execute_result"
    }
   ],
   "source": [
    "profit_matrix"
   ]
  },
  {
   "cell_type": "code",
   "execution_count": 165,
   "id": "44f0f685",
   "metadata": {},
   "outputs": [
    {
     "data": {
      "text/plain": [
       "array([[0.03, 0.05, 0.05, 0.05],\n",
       "       [0.05, 0.1 , 0.18, 0.2 ],\n",
       "       [0.08, 0.15, 0.26, 0.1 ]])"
      ]
     },
     "execution_count": 165,
     "metadata": {},
     "output_type": "execute_result"
    }
   ],
   "source": [
    "np.round(profit_matrix/sales_matrix,2)"
   ]
  },
  {
   "cell_type": "code",
   "execution_count": 166,
   "id": "1ca8d1b2",
   "metadata": {},
   "outputs": [
    {
     "data": {
      "text/plain": [
       "array([[4464, 2224, 2546, 2222],\n",
       "       [4686, 2564, 1444, 1344],\n",
       "       [4788, 2564, 1686, 3666]])"
      ]
     },
     "execution_count": 166,
     "metadata": {},
     "output_type": "execute_result"
    }
   ],
   "source": [
    "np.round(profit_matrix+sales_matrix,2)"
   ]
  },
  {
   "cell_type": "code",
   "execution_count": 167,
   "id": "620b9c85",
   "metadata": {},
   "outputs": [
    {
     "data": {
      "text/plain": [
       "array([[-4200, -2000, -2300, -2000],\n",
       "       [-4200, -2100, -1000,  -900],\n",
       "       [-4100, -1900, -1000, -3000]])"
      ]
     },
     "execution_count": 167,
     "metadata": {},
     "output_type": "execute_result"
    }
   ],
   "source": [
    "np.round(profit_matrix-sales_matrix,2)"
   ]
  },
  {
   "cell_type": "code",
   "execution_count": 168,
   "id": "31c59a4f",
   "metadata": {},
   "outputs": [
    {
     "data": {
      "text/plain": [
       "array([[ 571824,  236544,  298029,  234321],\n",
       "       [1079649,  541024,  271284,  249084],\n",
       "       [1528736,  741024,  460649, 1109889]])"
      ]
     },
     "execution_count": 168,
     "metadata": {},
     "output_type": "execute_result"
    }
   ],
   "source": [
    "np.round(profit_matrix*sales_matrix,2)"
   ]
  },
  {
   "cell_type": "code",
   "execution_count": 173,
   "id": "39927340",
   "metadata": {},
   "outputs": [],
   "source": [
    "import pandas as pd"
   ]
  },
  {
   "cell_type": "code",
   "execution_count": 175,
   "id": "944482ef",
   "metadata": {},
   "outputs": [
    {
     "data": {
      "text/html": [
       "<div>\n",
       "<style scoped>\n",
       "    .dataframe tbody tr th:only-of-type {\n",
       "        vertical-align: middle;\n",
       "    }\n",
       "\n",
       "    .dataframe tbody tr th {\n",
       "        vertical-align: top;\n",
       "    }\n",
       "\n",
       "    .dataframe thead th {\n",
       "        text-align: right;\n",
       "    }\n",
       "</style>\n",
       "<table border=\"1\" class=\"dataframe\">\n",
       "  <thead>\n",
       "    <tr style=\"text-align: right;\">\n",
       "      <th></th>\n",
       "      <th>Q1</th>\n",
       "      <th>Q2</th>\n",
       "      <th>Q3</th>\n",
       "      <th>Q4</th>\n",
       "    </tr>\n",
       "  </thead>\n",
       "  <tbody>\n",
       "    <tr>\n",
       "      <th>0</th>\n",
       "      <td>4332</td>\n",
       "      <td>2112</td>\n",
       "      <td>2423</td>\n",
       "      <td>2111</td>\n",
       "    </tr>\n",
       "    <tr>\n",
       "      <th>1</th>\n",
       "      <td>4443</td>\n",
       "      <td>2332</td>\n",
       "      <td>1222</td>\n",
       "      <td>1122</td>\n",
       "    </tr>\n",
       "    <tr>\n",
       "      <th>2</th>\n",
       "      <td>4444</td>\n",
       "      <td>2232</td>\n",
       "      <td>1343</td>\n",
       "      <td>3333</td>\n",
       "    </tr>\n",
       "  </tbody>\n",
       "</table>\n",
       "</div>"
      ],
      "text/plain": [
       "     Q1    Q2    Q3    Q4\n",
       "0  4332  2112  2423  2111\n",
       "1  4443  2332  1222  1122\n",
       "2  4444  2232  1343  3333"
      ]
     },
     "execution_count": 175,
     "metadata": {},
     "output_type": "execute_result"
    }
   ],
   "source": [
    "pd.DataFrame(sales_matrix,columns=['Q1','Q2','Q3','Q4'])"
   ]
  },
  {
   "cell_type": "code",
   "execution_count": 177,
   "id": "1166570c",
   "metadata": {},
   "outputs": [
    {
     "data": {
      "text/plain": [
       "2620.75"
      ]
     },
     "execution_count": 177,
     "metadata": {},
     "output_type": "execute_result"
    }
   ],
   "source": [
    "np.mean(sales_matrix)"
   ]
  },
  {
   "cell_type": "code",
   "execution_count": 178,
   "id": "f6e4f9a3",
   "metadata": {},
   "outputs": [
    {
     "data": {
      "text/plain": [
       "2620.75"
      ]
     },
     "execution_count": 178,
     "metadata": {},
     "output_type": "execute_result"
    }
   ],
   "source": [
    "sales_matrix.mean()"
   ]
  },
  {
   "cell_type": "markdown",
   "id": "46aadbab",
   "metadata": {},
   "source": [
    "**When we are passing axis = 1 that means we are calculating the mean row by row**"
   ]
  },
  {
   "cell_type": "code",
   "execution_count": 179,
   "id": "18e58998",
   "metadata": {},
   "outputs": [
    {
     "data": {
      "text/plain": [
       "array([2744.5 , 2279.75, 2838.  ])"
      ]
     },
     "execution_count": 179,
     "metadata": {},
     "output_type": "execute_result"
    }
   ],
   "source": [
    "np.mean(sales_matrix,axis=1)"
   ]
  },
  {
   "cell_type": "markdown",
   "id": "1f6f4127",
   "metadata": {},
   "source": [
    "**When we are passing axis = 0 that means we are calculating the mean column by column**"
   ]
  },
  {
   "cell_type": "code",
   "execution_count": 180,
   "id": "18a9191c",
   "metadata": {},
   "outputs": [
    {
     "data": {
      "text/plain": [
       "array([4406.33333333, 2225.33333333, 1662.66666667, 2188.66666667])"
      ]
     },
     "execution_count": 180,
     "metadata": {},
     "output_type": "execute_result"
    }
   ],
   "source": [
    "np.mean(sales_matrix,axis=0)"
   ]
  },
  {
   "cell_type": "code",
   "execution_count": 182,
   "id": "10e46d01",
   "metadata": {},
   "outputs": [
    {
     "data": {
      "text/plain": [
       "array([2267.5, 1777. , 2782.5])"
      ]
     },
     "execution_count": 182,
     "metadata": {},
     "output_type": "execute_result"
    }
   ],
   "source": [
    "np.median(sales_matrix,axis=1)"
   ]
  },
  {
   "cell_type": "code",
   "execution_count": 181,
   "id": "0c1aff0b",
   "metadata": {},
   "outputs": [
    {
     "data": {
      "text/plain": [
       "array([4443., 2232., 1343., 2111.])"
      ]
     },
     "execution_count": 181,
     "metadata": {},
     "output_type": "execute_result"
    }
   ],
   "source": [
    "np.median(sales_matrix,axis=0)"
   ]
  },
  {
   "cell_type": "code",
   "execution_count": 185,
   "id": "fec7720f",
   "metadata": {},
   "outputs": [
    {
     "data": {
      "text/plain": [
       "array([ 925.32386222, 1336.1886796 , 1164.74482184])"
      ]
     },
     "execution_count": 185,
     "metadata": {},
     "output_type": "execute_result"
    }
   ],
   "source": [
    "np.std(sales_matrix,axis=1)"
   ]
  },
  {
   "cell_type": "code",
   "execution_count": 183,
   "id": "5c41b63b",
   "metadata": {},
   "outputs": [
    {
     "data": {
      "text/plain": [
       "array([ 52.56318949,  89.93825042, 539.90143133, 904.30611828])"
      ]
     },
     "execution_count": 183,
     "metadata": {},
     "output_type": "execute_result"
    }
   ],
   "source": [
    "np.std(sales_matrix,axis=0)"
   ]
  },
  {
   "cell_type": "code",
   "execution_count": 187,
   "id": "03597df9",
   "metadata": {},
   "outputs": [
    {
     "data": {
      "text/plain": [
       "array([4332, 4443, 4444])"
      ]
     },
     "execution_count": 187,
     "metadata": {},
     "output_type": "execute_result"
    }
   ],
   "source": [
    "sales_matrix[np.where(sales_matrix>4000)]"
   ]
  },
  {
   "cell_type": "code",
   "execution_count": 189,
   "id": "c85453c6",
   "metadata": {},
   "outputs": [
    {
     "data": {
      "text/plain": [
       "array([[4332, 2112, 2423, 2111],\n",
       "       [4443, 2332, 1222, 1122],\n",
       "       [4444, 2232, 1343, 3333]])"
      ]
     },
     "execution_count": 189,
     "metadata": {},
     "output_type": "execute_result"
    }
   ],
   "source": [
    "sales_matrix"
   ]
  },
  {
   "cell_type": "markdown",
   "id": "66f42a55",
   "metadata": {},
   "source": [
    "**In the below output the left part is the index of the rows and the right part is the index of the columns**"
   ]
  },
  {
   "cell_type": "code",
   "execution_count": 188,
   "id": "308afc31",
   "metadata": {},
   "outputs": [
    {
     "data": {
      "text/plain": [
       "(array([0, 1, 2], dtype=int64), array([0, 0, 0], dtype=int64))"
      ]
     },
     "execution_count": 188,
     "metadata": {},
     "output_type": "execute_result"
    }
   ],
   "source": [
    "np.where(sales_matrix>4000)"
   ]
  },
  {
   "cell_type": "markdown",
   "id": "888b2786",
   "metadata": {},
   "source": [
    "# Pandas - To read the data from the external sources"
   ]
  },
  {
   "cell_type": "code",
   "execution_count": 190,
   "id": "233ebe6b",
   "metadata": {},
   "outputs": [],
   "source": [
    "import pandas as pd"
   ]
  },
  {
   "cell_type": "code",
   "execution_count": 191,
   "id": "9c2ccc35",
   "metadata": {},
   "outputs": [
    {
     "data": {
      "text/plain": [
       "'1.4.4'"
      ]
     },
     "execution_count": 191,
     "metadata": {},
     "output_type": "execute_result"
    }
   ],
   "source": [
    "pd.__version__"
   ]
  },
  {
   "cell_type": "markdown",
   "id": "34b8663e",
   "metadata": {},
   "source": [
    "**Website for Pandas** https://pandas.pydata.org/"
   ]
  },
  {
   "cell_type": "code",
   "execution_count": 192,
   "id": "dc72d3ba",
   "metadata": {},
   "outputs": [],
   "source": [
    "student_details = {'stuid':[1,2,3,4,5], 'stuname':['A','B','C','D','E'], 'sturegion':['N','S','S','E','W']}"
   ]
  },
  {
   "cell_type": "code",
   "execution_count": 193,
   "id": "e6854af9",
   "metadata": {},
   "outputs": [
    {
     "data": {
      "text/plain": [
       "{'stuid': [1, 2, 3, 4, 5],\n",
       " 'stuname': ['A', 'B', 'C', 'D', 'E'],\n",
       " 'sturegion': ['N', 'S', 'S', 'E', 'W']}"
      ]
     },
     "execution_count": 193,
     "metadata": {},
     "output_type": "execute_result"
    }
   ],
   "source": [
    "student_details"
   ]
  },
  {
   "cell_type": "code",
   "execution_count": 194,
   "id": "e89fdce3",
   "metadata": {},
   "outputs": [],
   "source": [
    "student_marks = {'stuid':[1,2,3,4,6], 'stusub':['Py','R','SQL','Py','Tab'], 'stumarks':[12,22,11,22,12]}"
   ]
  },
  {
   "cell_type": "code",
   "execution_count": 195,
   "id": "f84db60a",
   "metadata": {},
   "outputs": [
    {
     "data": {
      "text/plain": [
       "{'stuid': [1, 2, 3, 4, 6],\n",
       " 'stusub': ['Py', 'R', 'SQL', 'Py', 'Tab'],\n",
       " 'stumarks': [12, 22, 11, 22, 12]}"
      ]
     },
     "execution_count": 195,
     "metadata": {},
     "output_type": "execute_result"
    }
   ],
   "source": [
    "student_marks"
   ]
  },
  {
   "cell_type": "code",
   "execution_count": 196,
   "id": "6c3c2c1f",
   "metadata": {},
   "outputs": [],
   "source": [
    "df1 = pd.DataFrame(student_details)"
   ]
  },
  {
   "cell_type": "code",
   "execution_count": 197,
   "id": "cf68edb2",
   "metadata": {},
   "outputs": [],
   "source": [
    "df2 = pd.DataFrame(student_marks)"
   ]
  },
  {
   "cell_type": "code",
   "execution_count": 198,
   "id": "4bd946a8",
   "metadata": {},
   "outputs": [
    {
     "data": {
      "text/html": [
       "<div>\n",
       "<style scoped>\n",
       "    .dataframe tbody tr th:only-of-type {\n",
       "        vertical-align: middle;\n",
       "    }\n",
       "\n",
       "    .dataframe tbody tr th {\n",
       "        vertical-align: top;\n",
       "    }\n",
       "\n",
       "    .dataframe thead th {\n",
       "        text-align: right;\n",
       "    }\n",
       "</style>\n",
       "<table border=\"1\" class=\"dataframe\">\n",
       "  <thead>\n",
       "    <tr style=\"text-align: right;\">\n",
       "      <th></th>\n",
       "      <th>stuid</th>\n",
       "      <th>stuname</th>\n",
       "      <th>sturegion</th>\n",
       "    </tr>\n",
       "  </thead>\n",
       "  <tbody>\n",
       "    <tr>\n",
       "      <th>0</th>\n",
       "      <td>1</td>\n",
       "      <td>A</td>\n",
       "      <td>N</td>\n",
       "    </tr>\n",
       "    <tr>\n",
       "      <th>1</th>\n",
       "      <td>2</td>\n",
       "      <td>B</td>\n",
       "      <td>S</td>\n",
       "    </tr>\n",
       "    <tr>\n",
       "      <th>2</th>\n",
       "      <td>3</td>\n",
       "      <td>C</td>\n",
       "      <td>S</td>\n",
       "    </tr>\n",
       "    <tr>\n",
       "      <th>3</th>\n",
       "      <td>4</td>\n",
       "      <td>D</td>\n",
       "      <td>E</td>\n",
       "    </tr>\n",
       "    <tr>\n",
       "      <th>4</th>\n",
       "      <td>5</td>\n",
       "      <td>E</td>\n",
       "      <td>W</td>\n",
       "    </tr>\n",
       "  </tbody>\n",
       "</table>\n",
       "</div>"
      ],
      "text/plain": [
       "   stuid stuname sturegion\n",
       "0      1       A         N\n",
       "1      2       B         S\n",
       "2      3       C         S\n",
       "3      4       D         E\n",
       "4      5       E         W"
      ]
     },
     "execution_count": 198,
     "metadata": {},
     "output_type": "execute_result"
    }
   ],
   "source": [
    "df1"
   ]
  },
  {
   "cell_type": "code",
   "execution_count": 199,
   "id": "ef51a847",
   "metadata": {},
   "outputs": [
    {
     "data": {
      "text/html": [
       "<div>\n",
       "<style scoped>\n",
       "    .dataframe tbody tr th:only-of-type {\n",
       "        vertical-align: middle;\n",
       "    }\n",
       "\n",
       "    .dataframe tbody tr th {\n",
       "        vertical-align: top;\n",
       "    }\n",
       "\n",
       "    .dataframe thead th {\n",
       "        text-align: right;\n",
       "    }\n",
       "</style>\n",
       "<table border=\"1\" class=\"dataframe\">\n",
       "  <thead>\n",
       "    <tr style=\"text-align: right;\">\n",
       "      <th></th>\n",
       "      <th>stuid</th>\n",
       "      <th>stusub</th>\n",
       "      <th>stumarks</th>\n",
       "    </tr>\n",
       "  </thead>\n",
       "  <tbody>\n",
       "    <tr>\n",
       "      <th>0</th>\n",
       "      <td>1</td>\n",
       "      <td>Py</td>\n",
       "      <td>12</td>\n",
       "    </tr>\n",
       "    <tr>\n",
       "      <th>1</th>\n",
       "      <td>2</td>\n",
       "      <td>R</td>\n",
       "      <td>22</td>\n",
       "    </tr>\n",
       "    <tr>\n",
       "      <th>2</th>\n",
       "      <td>3</td>\n",
       "      <td>SQL</td>\n",
       "      <td>11</td>\n",
       "    </tr>\n",
       "    <tr>\n",
       "      <th>3</th>\n",
       "      <td>4</td>\n",
       "      <td>Py</td>\n",
       "      <td>22</td>\n",
       "    </tr>\n",
       "    <tr>\n",
       "      <th>4</th>\n",
       "      <td>6</td>\n",
       "      <td>Tab</td>\n",
       "      <td>12</td>\n",
       "    </tr>\n",
       "  </tbody>\n",
       "</table>\n",
       "</div>"
      ],
      "text/plain": [
       "   stuid stusub  stumarks\n",
       "0      1     Py        12\n",
       "1      2      R        22\n",
       "2      3    SQL        11\n",
       "3      4     Py        22\n",
       "4      6    Tab        12"
      ]
     },
     "execution_count": 199,
     "metadata": {},
     "output_type": "execute_result"
    }
   ],
   "source": [
    "df2"
   ]
  },
  {
   "cell_type": "markdown",
   "id": "c272c262",
   "metadata": {},
   "source": [
    "**inner join** - Only common records with participate i.e. Stuid 1,2,3,4, By default merge give the output as a inner join. Joining is happening on the common column. We can use on= as well when there are multiple common columns but we want to join on any specific column. \n",
    "\n",
    "Lets assume there are 4 common columns, and I want to join on 2 common columns in that case we will write on=['stuid','stuname']"
   ]
  },
  {
   "cell_type": "code",
   "execution_count": 208,
   "id": "c4562e31",
   "metadata": {},
   "outputs": [
    {
     "data": {
      "text/html": [
       "<div>\n",
       "<style scoped>\n",
       "    .dataframe tbody tr th:only-of-type {\n",
       "        vertical-align: middle;\n",
       "    }\n",
       "\n",
       "    .dataframe tbody tr th {\n",
       "        vertical-align: top;\n",
       "    }\n",
       "\n",
       "    .dataframe thead th {\n",
       "        text-align: right;\n",
       "    }\n",
       "</style>\n",
       "<table border=\"1\" class=\"dataframe\">\n",
       "  <thead>\n",
       "    <tr style=\"text-align: right;\">\n",
       "      <th></th>\n",
       "      <th>stuid</th>\n",
       "      <th>stuname</th>\n",
       "      <th>sturegion</th>\n",
       "      <th>stusub</th>\n",
       "      <th>stumarks</th>\n",
       "    </tr>\n",
       "  </thead>\n",
       "  <tbody>\n",
       "    <tr>\n",
       "      <th>0</th>\n",
       "      <td>1</td>\n",
       "      <td>A</td>\n",
       "      <td>N</td>\n",
       "      <td>Py</td>\n",
       "      <td>12</td>\n",
       "    </tr>\n",
       "    <tr>\n",
       "      <th>1</th>\n",
       "      <td>2</td>\n",
       "      <td>B</td>\n",
       "      <td>S</td>\n",
       "      <td>R</td>\n",
       "      <td>22</td>\n",
       "    </tr>\n",
       "    <tr>\n",
       "      <th>2</th>\n",
       "      <td>3</td>\n",
       "      <td>C</td>\n",
       "      <td>S</td>\n",
       "      <td>SQL</td>\n",
       "      <td>11</td>\n",
       "    </tr>\n",
       "    <tr>\n",
       "      <th>3</th>\n",
       "      <td>4</td>\n",
       "      <td>D</td>\n",
       "      <td>E</td>\n",
       "      <td>Py</td>\n",
       "      <td>22</td>\n",
       "    </tr>\n",
       "  </tbody>\n",
       "</table>\n",
       "</div>"
      ],
      "text/plain": [
       "   stuid stuname sturegion stusub  stumarks\n",
       "0      1       A         N     Py        12\n",
       "1      2       B         S      R        22\n",
       "2      3       C         S    SQL        11\n",
       "3      4       D         E     Py        22"
      ]
     },
     "execution_count": 208,
     "metadata": {},
     "output_type": "execute_result"
    }
   ],
   "source": [
    "pd.merge(df1,df2,on=['stuid'],how='inner')"
   ]
  },
  {
   "cell_type": "markdown",
   "id": "09ab762c",
   "metadata": {},
   "source": [
    "**left outer join** - All the records from the left table will participate and matching records from the right table will participate. Also, the table which we are putting first in the bracket python considers that as a left table"
   ]
  },
  {
   "cell_type": "code",
   "execution_count": 207,
   "id": "dd19a190",
   "metadata": {},
   "outputs": [
    {
     "data": {
      "text/html": [
       "<div>\n",
       "<style scoped>\n",
       "    .dataframe tbody tr th:only-of-type {\n",
       "        vertical-align: middle;\n",
       "    }\n",
       "\n",
       "    .dataframe tbody tr th {\n",
       "        vertical-align: top;\n",
       "    }\n",
       "\n",
       "    .dataframe thead th {\n",
       "        text-align: right;\n",
       "    }\n",
       "</style>\n",
       "<table border=\"1\" class=\"dataframe\">\n",
       "  <thead>\n",
       "    <tr style=\"text-align: right;\">\n",
       "      <th></th>\n",
       "      <th>stuid</th>\n",
       "      <th>stuname</th>\n",
       "      <th>sturegion</th>\n",
       "      <th>stusub</th>\n",
       "      <th>stumarks</th>\n",
       "    </tr>\n",
       "  </thead>\n",
       "  <tbody>\n",
       "    <tr>\n",
       "      <th>0</th>\n",
       "      <td>1</td>\n",
       "      <td>A</td>\n",
       "      <td>N</td>\n",
       "      <td>Py</td>\n",
       "      <td>12.0</td>\n",
       "    </tr>\n",
       "    <tr>\n",
       "      <th>1</th>\n",
       "      <td>2</td>\n",
       "      <td>B</td>\n",
       "      <td>S</td>\n",
       "      <td>R</td>\n",
       "      <td>22.0</td>\n",
       "    </tr>\n",
       "    <tr>\n",
       "      <th>2</th>\n",
       "      <td>3</td>\n",
       "      <td>C</td>\n",
       "      <td>S</td>\n",
       "      <td>SQL</td>\n",
       "      <td>11.0</td>\n",
       "    </tr>\n",
       "    <tr>\n",
       "      <th>3</th>\n",
       "      <td>4</td>\n",
       "      <td>D</td>\n",
       "      <td>E</td>\n",
       "      <td>Py</td>\n",
       "      <td>22.0</td>\n",
       "    </tr>\n",
       "    <tr>\n",
       "      <th>4</th>\n",
       "      <td>5</td>\n",
       "      <td>E</td>\n",
       "      <td>W</td>\n",
       "      <td>NaN</td>\n",
       "      <td>NaN</td>\n",
       "    </tr>\n",
       "  </tbody>\n",
       "</table>\n",
       "</div>"
      ],
      "text/plain": [
       "   stuid stuname sturegion stusub  stumarks\n",
       "0      1       A         N     Py      12.0\n",
       "1      2       B         S      R      22.0\n",
       "2      3       C         S    SQL      11.0\n",
       "3      4       D         E     Py      22.0\n",
       "4      5       E         W    NaN       NaN"
      ]
     },
     "execution_count": 207,
     "metadata": {},
     "output_type": "execute_result"
    }
   ],
   "source": [
    "pd.merge(df1,df2,on='stuid',how='left')"
   ]
  },
  {
   "cell_type": "markdown",
   "id": "014389fa",
   "metadata": {},
   "source": [
    "**right outer join** - All the records from the right table will participate and matching records from the left table will participate. Also, the table which we are putting second in the bracket python considers that as a right table"
   ]
  },
  {
   "cell_type": "code",
   "execution_count": 209,
   "id": "da79f215",
   "metadata": {},
   "outputs": [
    {
     "data": {
      "text/html": [
       "<div>\n",
       "<style scoped>\n",
       "    .dataframe tbody tr th:only-of-type {\n",
       "        vertical-align: middle;\n",
       "    }\n",
       "\n",
       "    .dataframe tbody tr th {\n",
       "        vertical-align: top;\n",
       "    }\n",
       "\n",
       "    .dataframe thead th {\n",
       "        text-align: right;\n",
       "    }\n",
       "</style>\n",
       "<table border=\"1\" class=\"dataframe\">\n",
       "  <thead>\n",
       "    <tr style=\"text-align: right;\">\n",
       "      <th></th>\n",
       "      <th>stuid</th>\n",
       "      <th>stuname</th>\n",
       "      <th>sturegion</th>\n",
       "      <th>stusub</th>\n",
       "      <th>stumarks</th>\n",
       "    </tr>\n",
       "  </thead>\n",
       "  <tbody>\n",
       "    <tr>\n",
       "      <th>0</th>\n",
       "      <td>1</td>\n",
       "      <td>A</td>\n",
       "      <td>N</td>\n",
       "      <td>Py</td>\n",
       "      <td>12</td>\n",
       "    </tr>\n",
       "    <tr>\n",
       "      <th>1</th>\n",
       "      <td>2</td>\n",
       "      <td>B</td>\n",
       "      <td>S</td>\n",
       "      <td>R</td>\n",
       "      <td>22</td>\n",
       "    </tr>\n",
       "    <tr>\n",
       "      <th>2</th>\n",
       "      <td>3</td>\n",
       "      <td>C</td>\n",
       "      <td>S</td>\n",
       "      <td>SQL</td>\n",
       "      <td>11</td>\n",
       "    </tr>\n",
       "    <tr>\n",
       "      <th>3</th>\n",
       "      <td>4</td>\n",
       "      <td>D</td>\n",
       "      <td>E</td>\n",
       "      <td>Py</td>\n",
       "      <td>22</td>\n",
       "    </tr>\n",
       "    <tr>\n",
       "      <th>4</th>\n",
       "      <td>6</td>\n",
       "      <td>NaN</td>\n",
       "      <td>NaN</td>\n",
       "      <td>Tab</td>\n",
       "      <td>12</td>\n",
       "    </tr>\n",
       "  </tbody>\n",
       "</table>\n",
       "</div>"
      ],
      "text/plain": [
       "   stuid stuname sturegion stusub  stumarks\n",
       "0      1       A         N     Py        12\n",
       "1      2       B         S      R        22\n",
       "2      3       C         S    SQL        11\n",
       "3      4       D         E     Py        22\n",
       "4      6     NaN       NaN    Tab        12"
      ]
     },
     "execution_count": 209,
     "metadata": {},
     "output_type": "execute_result"
    }
   ],
   "source": [
    "pd.merge(df1,df2,on='stuid',how='right')"
   ]
  },
  {
   "cell_type": "markdown",
   "id": "aa6bf45e",
   "metadata": {},
   "source": [
    "**full outer join** - All the records from both the tables will participate."
   ]
  },
  {
   "cell_type": "code",
   "execution_count": 210,
   "id": "913d275a",
   "metadata": {},
   "outputs": [
    {
     "data": {
      "text/html": [
       "<div>\n",
       "<style scoped>\n",
       "    .dataframe tbody tr th:only-of-type {\n",
       "        vertical-align: middle;\n",
       "    }\n",
       "\n",
       "    .dataframe tbody tr th {\n",
       "        vertical-align: top;\n",
       "    }\n",
       "\n",
       "    .dataframe thead th {\n",
       "        text-align: right;\n",
       "    }\n",
       "</style>\n",
       "<table border=\"1\" class=\"dataframe\">\n",
       "  <thead>\n",
       "    <tr style=\"text-align: right;\">\n",
       "      <th></th>\n",
       "      <th>stuid</th>\n",
       "      <th>stuname</th>\n",
       "      <th>sturegion</th>\n",
       "      <th>stusub</th>\n",
       "      <th>stumarks</th>\n",
       "    </tr>\n",
       "  </thead>\n",
       "  <tbody>\n",
       "    <tr>\n",
       "      <th>0</th>\n",
       "      <td>1</td>\n",
       "      <td>A</td>\n",
       "      <td>N</td>\n",
       "      <td>Py</td>\n",
       "      <td>12.0</td>\n",
       "    </tr>\n",
       "    <tr>\n",
       "      <th>1</th>\n",
       "      <td>2</td>\n",
       "      <td>B</td>\n",
       "      <td>S</td>\n",
       "      <td>R</td>\n",
       "      <td>22.0</td>\n",
       "    </tr>\n",
       "    <tr>\n",
       "      <th>2</th>\n",
       "      <td>3</td>\n",
       "      <td>C</td>\n",
       "      <td>S</td>\n",
       "      <td>SQL</td>\n",
       "      <td>11.0</td>\n",
       "    </tr>\n",
       "    <tr>\n",
       "      <th>3</th>\n",
       "      <td>4</td>\n",
       "      <td>D</td>\n",
       "      <td>E</td>\n",
       "      <td>Py</td>\n",
       "      <td>22.0</td>\n",
       "    </tr>\n",
       "    <tr>\n",
       "      <th>4</th>\n",
       "      <td>5</td>\n",
       "      <td>E</td>\n",
       "      <td>W</td>\n",
       "      <td>NaN</td>\n",
       "      <td>NaN</td>\n",
       "    </tr>\n",
       "    <tr>\n",
       "      <th>5</th>\n",
       "      <td>6</td>\n",
       "      <td>NaN</td>\n",
       "      <td>NaN</td>\n",
       "      <td>Tab</td>\n",
       "      <td>12.0</td>\n",
       "    </tr>\n",
       "  </tbody>\n",
       "</table>\n",
       "</div>"
      ],
      "text/plain": [
       "   stuid stuname sturegion stusub  stumarks\n",
       "0      1       A         N     Py      12.0\n",
       "1      2       B         S      R      22.0\n",
       "2      3       C         S    SQL      11.0\n",
       "3      4       D         E     Py      22.0\n",
       "4      5       E         W    NaN       NaN\n",
       "5      6     NaN       NaN    Tab      12.0"
      ]
     },
     "execution_count": 210,
     "metadata": {},
     "output_type": "execute_result"
    }
   ],
   "source": [
    "pd.merge(df1,df2,on='stuid',how='outer')"
   ]
  },
  {
   "cell_type": "code",
   "execution_count": 211,
   "id": "76d5382b",
   "metadata": {},
   "outputs": [],
   "source": [
    "student_details = {'stuid':[1,2,3,4,5], 'stuname':['A','B','C','D','E'], 'sturegion':['N','S','S','E','W']}\n",
    "student_marks = {'stu_id':[1,2,3,4,6], 'stusub':['Py','R','SQL','Py','Tab'], 'stumarks':[12,22,11,22,12]}"
   ]
  },
  {
   "cell_type": "code",
   "execution_count": 212,
   "id": "190050e4",
   "metadata": {},
   "outputs": [],
   "source": [
    "df1 = pd.DataFrame(student_details)\n",
    "df2 = pd.DataFrame(student_marks)"
   ]
  },
  {
   "cell_type": "code",
   "execution_count": 213,
   "id": "3fa8b4e0",
   "metadata": {},
   "outputs": [
    {
     "data": {
      "text/html": [
       "<div>\n",
       "<style scoped>\n",
       "    .dataframe tbody tr th:only-of-type {\n",
       "        vertical-align: middle;\n",
       "    }\n",
       "\n",
       "    .dataframe tbody tr th {\n",
       "        vertical-align: top;\n",
       "    }\n",
       "\n",
       "    .dataframe thead th {\n",
       "        text-align: right;\n",
       "    }\n",
       "</style>\n",
       "<table border=\"1\" class=\"dataframe\">\n",
       "  <thead>\n",
       "    <tr style=\"text-align: right;\">\n",
       "      <th></th>\n",
       "      <th>stuid</th>\n",
       "      <th>stuname</th>\n",
       "      <th>sturegion</th>\n",
       "    </tr>\n",
       "  </thead>\n",
       "  <tbody>\n",
       "    <tr>\n",
       "      <th>0</th>\n",
       "      <td>1</td>\n",
       "      <td>A</td>\n",
       "      <td>N</td>\n",
       "    </tr>\n",
       "    <tr>\n",
       "      <th>1</th>\n",
       "      <td>2</td>\n",
       "      <td>B</td>\n",
       "      <td>S</td>\n",
       "    </tr>\n",
       "    <tr>\n",
       "      <th>2</th>\n",
       "      <td>3</td>\n",
       "      <td>C</td>\n",
       "      <td>S</td>\n",
       "    </tr>\n",
       "    <tr>\n",
       "      <th>3</th>\n",
       "      <td>4</td>\n",
       "      <td>D</td>\n",
       "      <td>E</td>\n",
       "    </tr>\n",
       "    <tr>\n",
       "      <th>4</th>\n",
       "      <td>5</td>\n",
       "      <td>E</td>\n",
       "      <td>W</td>\n",
       "    </tr>\n",
       "  </tbody>\n",
       "</table>\n",
       "</div>"
      ],
      "text/plain": [
       "   stuid stuname sturegion\n",
       "0      1       A         N\n",
       "1      2       B         S\n",
       "2      3       C         S\n",
       "3      4       D         E\n",
       "4      5       E         W"
      ]
     },
     "execution_count": 213,
     "metadata": {},
     "output_type": "execute_result"
    }
   ],
   "source": [
    "df1"
   ]
  },
  {
   "cell_type": "code",
   "execution_count": 214,
   "id": "05a81cae",
   "metadata": {},
   "outputs": [
    {
     "data": {
      "text/html": [
       "<div>\n",
       "<style scoped>\n",
       "    .dataframe tbody tr th:only-of-type {\n",
       "        vertical-align: middle;\n",
       "    }\n",
       "\n",
       "    .dataframe tbody tr th {\n",
       "        vertical-align: top;\n",
       "    }\n",
       "\n",
       "    .dataframe thead th {\n",
       "        text-align: right;\n",
       "    }\n",
       "</style>\n",
       "<table border=\"1\" class=\"dataframe\">\n",
       "  <thead>\n",
       "    <tr style=\"text-align: right;\">\n",
       "      <th></th>\n",
       "      <th>stu_id</th>\n",
       "      <th>stusub</th>\n",
       "      <th>stumarks</th>\n",
       "    </tr>\n",
       "  </thead>\n",
       "  <tbody>\n",
       "    <tr>\n",
       "      <th>0</th>\n",
       "      <td>1</td>\n",
       "      <td>Py</td>\n",
       "      <td>12</td>\n",
       "    </tr>\n",
       "    <tr>\n",
       "      <th>1</th>\n",
       "      <td>2</td>\n",
       "      <td>R</td>\n",
       "      <td>22</td>\n",
       "    </tr>\n",
       "    <tr>\n",
       "      <th>2</th>\n",
       "      <td>3</td>\n",
       "      <td>SQL</td>\n",
       "      <td>11</td>\n",
       "    </tr>\n",
       "    <tr>\n",
       "      <th>3</th>\n",
       "      <td>4</td>\n",
       "      <td>Py</td>\n",
       "      <td>22</td>\n",
       "    </tr>\n",
       "    <tr>\n",
       "      <th>4</th>\n",
       "      <td>6</td>\n",
       "      <td>Tab</td>\n",
       "      <td>12</td>\n",
       "    </tr>\n",
       "  </tbody>\n",
       "</table>\n",
       "</div>"
      ],
      "text/plain": [
       "   stu_id stusub  stumarks\n",
       "0       1     Py        12\n",
       "1       2      R        22\n",
       "2       3    SQL        11\n",
       "3       4     Py        22\n",
       "4       6    Tab        12"
      ]
     },
     "execution_count": 214,
     "metadata": {},
     "output_type": "execute_result"
    }
   ],
   "source": [
    "df2"
   ]
  },
  {
   "cell_type": "markdown",
   "id": "06fe0b98",
   "metadata": {},
   "source": [
    "**When we have the different column names we can go with left_on and right_on**"
   ]
  },
  {
   "cell_type": "code",
   "execution_count": 216,
   "id": "d95e5877",
   "metadata": {},
   "outputs": [
    {
     "data": {
      "text/html": [
       "<div>\n",
       "<style scoped>\n",
       "    .dataframe tbody tr th:only-of-type {\n",
       "        vertical-align: middle;\n",
       "    }\n",
       "\n",
       "    .dataframe tbody tr th {\n",
       "        vertical-align: top;\n",
       "    }\n",
       "\n",
       "    .dataframe thead th {\n",
       "        text-align: right;\n",
       "    }\n",
       "</style>\n",
       "<table border=\"1\" class=\"dataframe\">\n",
       "  <thead>\n",
       "    <tr style=\"text-align: right;\">\n",
       "      <th></th>\n",
       "      <th>stuid</th>\n",
       "      <th>stuname</th>\n",
       "      <th>sturegion</th>\n",
       "      <th>stu_id</th>\n",
       "      <th>stusub</th>\n",
       "      <th>stumarks</th>\n",
       "    </tr>\n",
       "  </thead>\n",
       "  <tbody>\n",
       "    <tr>\n",
       "      <th>0</th>\n",
       "      <td>1</td>\n",
       "      <td>A</td>\n",
       "      <td>N</td>\n",
       "      <td>1</td>\n",
       "      <td>Py</td>\n",
       "      <td>12</td>\n",
       "    </tr>\n",
       "    <tr>\n",
       "      <th>1</th>\n",
       "      <td>2</td>\n",
       "      <td>B</td>\n",
       "      <td>S</td>\n",
       "      <td>2</td>\n",
       "      <td>R</td>\n",
       "      <td>22</td>\n",
       "    </tr>\n",
       "    <tr>\n",
       "      <th>2</th>\n",
       "      <td>3</td>\n",
       "      <td>C</td>\n",
       "      <td>S</td>\n",
       "      <td>3</td>\n",
       "      <td>SQL</td>\n",
       "      <td>11</td>\n",
       "    </tr>\n",
       "    <tr>\n",
       "      <th>3</th>\n",
       "      <td>4</td>\n",
       "      <td>D</td>\n",
       "      <td>E</td>\n",
       "      <td>4</td>\n",
       "      <td>Py</td>\n",
       "      <td>22</td>\n",
       "    </tr>\n",
       "  </tbody>\n",
       "</table>\n",
       "</div>"
      ],
      "text/plain": [
       "   stuid stuname sturegion  stu_id stusub  stumarks\n",
       "0      1       A         N       1     Py        12\n",
       "1      2       B         S       2      R        22\n",
       "2      3       C         S       3    SQL        11\n",
       "3      4       D         E       4     Py        22"
      ]
     },
     "execution_count": 216,
     "metadata": {},
     "output_type": "execute_result"
    }
   ],
   "source": [
    "pd.merge(df1,df2,left_on='stuid',right_on='stu_id',how='inner')"
   ]
  },
  {
   "cell_type": "code",
   "execution_count": 217,
   "id": "b09a854d",
   "metadata": {},
   "outputs": [
    {
     "data": {
      "text/html": [
       "<div>\n",
       "<style scoped>\n",
       "    .dataframe tbody tr th:only-of-type {\n",
       "        vertical-align: middle;\n",
       "    }\n",
       "\n",
       "    .dataframe tbody tr th {\n",
       "        vertical-align: top;\n",
       "    }\n",
       "\n",
       "    .dataframe thead th {\n",
       "        text-align: right;\n",
       "    }\n",
       "</style>\n",
       "<table border=\"1\" class=\"dataframe\">\n",
       "  <thead>\n",
       "    <tr style=\"text-align: right;\">\n",
       "      <th></th>\n",
       "      <th>stuid</th>\n",
       "      <th>stuname</th>\n",
       "      <th>sturegion</th>\n",
       "      <th>stu_id</th>\n",
       "      <th>stusub</th>\n",
       "      <th>stumarks</th>\n",
       "    </tr>\n",
       "  </thead>\n",
       "  <tbody>\n",
       "    <tr>\n",
       "      <th>0</th>\n",
       "      <td>1</td>\n",
       "      <td>A</td>\n",
       "      <td>N</td>\n",
       "      <td>1.0</td>\n",
       "      <td>Py</td>\n",
       "      <td>12.0</td>\n",
       "    </tr>\n",
       "    <tr>\n",
       "      <th>1</th>\n",
       "      <td>2</td>\n",
       "      <td>B</td>\n",
       "      <td>S</td>\n",
       "      <td>2.0</td>\n",
       "      <td>R</td>\n",
       "      <td>22.0</td>\n",
       "    </tr>\n",
       "    <tr>\n",
       "      <th>2</th>\n",
       "      <td>3</td>\n",
       "      <td>C</td>\n",
       "      <td>S</td>\n",
       "      <td>3.0</td>\n",
       "      <td>SQL</td>\n",
       "      <td>11.0</td>\n",
       "    </tr>\n",
       "    <tr>\n",
       "      <th>3</th>\n",
       "      <td>4</td>\n",
       "      <td>D</td>\n",
       "      <td>E</td>\n",
       "      <td>4.0</td>\n",
       "      <td>Py</td>\n",
       "      <td>22.0</td>\n",
       "    </tr>\n",
       "    <tr>\n",
       "      <th>4</th>\n",
       "      <td>5</td>\n",
       "      <td>E</td>\n",
       "      <td>W</td>\n",
       "      <td>NaN</td>\n",
       "      <td>NaN</td>\n",
       "      <td>NaN</td>\n",
       "    </tr>\n",
       "  </tbody>\n",
       "</table>\n",
       "</div>"
      ],
      "text/plain": [
       "   stuid stuname sturegion  stu_id stusub  stumarks\n",
       "0      1       A         N     1.0     Py      12.0\n",
       "1      2       B         S     2.0      R      22.0\n",
       "2      3       C         S     3.0    SQL      11.0\n",
       "3      4       D         E     4.0     Py      22.0\n",
       "4      5       E         W     NaN    NaN       NaN"
      ]
     },
     "execution_count": 217,
     "metadata": {},
     "output_type": "execute_result"
    }
   ],
   "source": [
    "pd.merge(df1,df2,left_on='stuid',right_on='stu_id',how='left')"
   ]
  },
  {
   "cell_type": "code",
   "execution_count": 218,
   "id": "c2150931",
   "metadata": {},
   "outputs": [
    {
     "data": {
      "text/html": [
       "<div>\n",
       "<style scoped>\n",
       "    .dataframe tbody tr th:only-of-type {\n",
       "        vertical-align: middle;\n",
       "    }\n",
       "\n",
       "    .dataframe tbody tr th {\n",
       "        vertical-align: top;\n",
       "    }\n",
       "\n",
       "    .dataframe thead th {\n",
       "        text-align: right;\n",
       "    }\n",
       "</style>\n",
       "<table border=\"1\" class=\"dataframe\">\n",
       "  <thead>\n",
       "    <tr style=\"text-align: right;\">\n",
       "      <th></th>\n",
       "      <th>stuid</th>\n",
       "      <th>stuname</th>\n",
       "      <th>sturegion</th>\n",
       "      <th>stu_id</th>\n",
       "      <th>stusub</th>\n",
       "      <th>stumarks</th>\n",
       "    </tr>\n",
       "  </thead>\n",
       "  <tbody>\n",
       "    <tr>\n",
       "      <th>0</th>\n",
       "      <td>1.0</td>\n",
       "      <td>A</td>\n",
       "      <td>N</td>\n",
       "      <td>1</td>\n",
       "      <td>Py</td>\n",
       "      <td>12</td>\n",
       "    </tr>\n",
       "    <tr>\n",
       "      <th>1</th>\n",
       "      <td>2.0</td>\n",
       "      <td>B</td>\n",
       "      <td>S</td>\n",
       "      <td>2</td>\n",
       "      <td>R</td>\n",
       "      <td>22</td>\n",
       "    </tr>\n",
       "    <tr>\n",
       "      <th>2</th>\n",
       "      <td>3.0</td>\n",
       "      <td>C</td>\n",
       "      <td>S</td>\n",
       "      <td>3</td>\n",
       "      <td>SQL</td>\n",
       "      <td>11</td>\n",
       "    </tr>\n",
       "    <tr>\n",
       "      <th>3</th>\n",
       "      <td>4.0</td>\n",
       "      <td>D</td>\n",
       "      <td>E</td>\n",
       "      <td>4</td>\n",
       "      <td>Py</td>\n",
       "      <td>22</td>\n",
       "    </tr>\n",
       "    <tr>\n",
       "      <th>4</th>\n",
       "      <td>NaN</td>\n",
       "      <td>NaN</td>\n",
       "      <td>NaN</td>\n",
       "      <td>6</td>\n",
       "      <td>Tab</td>\n",
       "      <td>12</td>\n",
       "    </tr>\n",
       "  </tbody>\n",
       "</table>\n",
       "</div>"
      ],
      "text/plain": [
       "   stuid stuname sturegion  stu_id stusub  stumarks\n",
       "0    1.0       A         N       1     Py        12\n",
       "1    2.0       B         S       2      R        22\n",
       "2    3.0       C         S       3    SQL        11\n",
       "3    4.0       D         E       4     Py        22\n",
       "4    NaN     NaN       NaN       6    Tab        12"
      ]
     },
     "execution_count": 218,
     "metadata": {},
     "output_type": "execute_result"
    }
   ],
   "source": [
    "pd.merge(df1,df2,left_on='stuid',right_on='stu_id',how='right')"
   ]
  },
  {
   "cell_type": "code",
   "execution_count": 219,
   "id": "7c8c6b77",
   "metadata": {},
   "outputs": [
    {
     "data": {
      "text/html": [
       "<div>\n",
       "<style scoped>\n",
       "    .dataframe tbody tr th:only-of-type {\n",
       "        vertical-align: middle;\n",
       "    }\n",
       "\n",
       "    .dataframe tbody tr th {\n",
       "        vertical-align: top;\n",
       "    }\n",
       "\n",
       "    .dataframe thead th {\n",
       "        text-align: right;\n",
       "    }\n",
       "</style>\n",
       "<table border=\"1\" class=\"dataframe\">\n",
       "  <thead>\n",
       "    <tr style=\"text-align: right;\">\n",
       "      <th></th>\n",
       "      <th>stuid</th>\n",
       "      <th>stuname</th>\n",
       "      <th>sturegion</th>\n",
       "      <th>stu_id</th>\n",
       "      <th>stusub</th>\n",
       "      <th>stumarks</th>\n",
       "    </tr>\n",
       "  </thead>\n",
       "  <tbody>\n",
       "    <tr>\n",
       "      <th>0</th>\n",
       "      <td>1.0</td>\n",
       "      <td>A</td>\n",
       "      <td>N</td>\n",
       "      <td>1.0</td>\n",
       "      <td>Py</td>\n",
       "      <td>12.0</td>\n",
       "    </tr>\n",
       "    <tr>\n",
       "      <th>1</th>\n",
       "      <td>2.0</td>\n",
       "      <td>B</td>\n",
       "      <td>S</td>\n",
       "      <td>2.0</td>\n",
       "      <td>R</td>\n",
       "      <td>22.0</td>\n",
       "    </tr>\n",
       "    <tr>\n",
       "      <th>2</th>\n",
       "      <td>3.0</td>\n",
       "      <td>C</td>\n",
       "      <td>S</td>\n",
       "      <td>3.0</td>\n",
       "      <td>SQL</td>\n",
       "      <td>11.0</td>\n",
       "    </tr>\n",
       "    <tr>\n",
       "      <th>3</th>\n",
       "      <td>4.0</td>\n",
       "      <td>D</td>\n",
       "      <td>E</td>\n",
       "      <td>4.0</td>\n",
       "      <td>Py</td>\n",
       "      <td>22.0</td>\n",
       "    </tr>\n",
       "    <tr>\n",
       "      <th>4</th>\n",
       "      <td>5.0</td>\n",
       "      <td>E</td>\n",
       "      <td>W</td>\n",
       "      <td>NaN</td>\n",
       "      <td>NaN</td>\n",
       "      <td>NaN</td>\n",
       "    </tr>\n",
       "    <tr>\n",
       "      <th>5</th>\n",
       "      <td>NaN</td>\n",
       "      <td>NaN</td>\n",
       "      <td>NaN</td>\n",
       "      <td>6.0</td>\n",
       "      <td>Tab</td>\n",
       "      <td>12.0</td>\n",
       "    </tr>\n",
       "  </tbody>\n",
       "</table>\n",
       "</div>"
      ],
      "text/plain": [
       "   stuid stuname sturegion  stu_id stusub  stumarks\n",
       "0    1.0       A         N     1.0     Py      12.0\n",
       "1    2.0       B         S     2.0      R      22.0\n",
       "2    3.0       C         S     3.0    SQL      11.0\n",
       "3    4.0       D         E     4.0     Py      22.0\n",
       "4    5.0       E         W     NaN    NaN       NaN\n",
       "5    NaN     NaN       NaN     6.0    Tab      12.0"
      ]
     },
     "execution_count": 219,
     "metadata": {},
     "output_type": "execute_result"
    }
   ],
   "source": [
    "pd.merge(df1,df2,left_on='stuid',right_on='stu_id',how='outer')"
   ]
  },
  {
   "cell_type": "markdown",
   "id": "3a0d0ec5",
   "metadata": {},
   "source": [
    "**When we have 3 tables how can we join all those together**"
   ]
  },
  {
   "cell_type": "code",
   "execution_count": 220,
   "id": "5161b08a",
   "metadata": {},
   "outputs": [],
   "source": [
    "customer_table = {'cust_id':[1,2,3,4,5], 'cust_name':['A','B','C','D','E'], 'cust_region':['N','S','S','W','E']}\n",
    "\n",
    "loan_table = {'cust_id':[1,2,3,4,5],'loan_id':[10,20,30,40,50],'loan_amt':[123,321,132,134,222]}\n",
    "\n",
    "agent_table = {'agent_id':[101,102,101,102,102], 'agent_name':['James','John','James','John','John'], 'loan_id':[10,20,30,40,50]}"
   ]
  },
  {
   "cell_type": "code",
   "execution_count": 221,
   "id": "d0a91a1b",
   "metadata": {},
   "outputs": [],
   "source": [
    "df1 = pd.DataFrame(customer_table)"
   ]
  },
  {
   "cell_type": "code",
   "execution_count": 222,
   "id": "3a6b94cc",
   "metadata": {},
   "outputs": [],
   "source": [
    "df2 = pd.DataFrame(loan_table)"
   ]
  },
  {
   "cell_type": "code",
   "execution_count": 223,
   "id": "9889ec72",
   "metadata": {},
   "outputs": [],
   "source": [
    "df3 = pd.DataFrame(agent_table)"
   ]
  },
  {
   "cell_type": "code",
   "execution_count": 224,
   "id": "9ab003a4",
   "metadata": {},
   "outputs": [
    {
     "data": {
      "text/html": [
       "<div>\n",
       "<style scoped>\n",
       "    .dataframe tbody tr th:only-of-type {\n",
       "        vertical-align: middle;\n",
       "    }\n",
       "\n",
       "    .dataframe tbody tr th {\n",
       "        vertical-align: top;\n",
       "    }\n",
       "\n",
       "    .dataframe thead th {\n",
       "        text-align: right;\n",
       "    }\n",
       "</style>\n",
       "<table border=\"1\" class=\"dataframe\">\n",
       "  <thead>\n",
       "    <tr style=\"text-align: right;\">\n",
       "      <th></th>\n",
       "      <th>cust_id</th>\n",
       "      <th>cust_name</th>\n",
       "      <th>cust_region</th>\n",
       "    </tr>\n",
       "  </thead>\n",
       "  <tbody>\n",
       "    <tr>\n",
       "      <th>0</th>\n",
       "      <td>1</td>\n",
       "      <td>A</td>\n",
       "      <td>N</td>\n",
       "    </tr>\n",
       "    <tr>\n",
       "      <th>1</th>\n",
       "      <td>2</td>\n",
       "      <td>B</td>\n",
       "      <td>S</td>\n",
       "    </tr>\n",
       "    <tr>\n",
       "      <th>2</th>\n",
       "      <td>3</td>\n",
       "      <td>C</td>\n",
       "      <td>S</td>\n",
       "    </tr>\n",
       "    <tr>\n",
       "      <th>3</th>\n",
       "      <td>4</td>\n",
       "      <td>D</td>\n",
       "      <td>W</td>\n",
       "    </tr>\n",
       "    <tr>\n",
       "      <th>4</th>\n",
       "      <td>5</td>\n",
       "      <td>E</td>\n",
       "      <td>E</td>\n",
       "    </tr>\n",
       "  </tbody>\n",
       "</table>\n",
       "</div>"
      ],
      "text/plain": [
       "   cust_id cust_name cust_region\n",
       "0        1         A           N\n",
       "1        2         B           S\n",
       "2        3         C           S\n",
       "3        4         D           W\n",
       "4        5         E           E"
      ]
     },
     "execution_count": 224,
     "metadata": {},
     "output_type": "execute_result"
    }
   ],
   "source": [
    "df1"
   ]
  },
  {
   "cell_type": "code",
   "execution_count": 225,
   "id": "0e5984ed",
   "metadata": {},
   "outputs": [
    {
     "data": {
      "text/html": [
       "<div>\n",
       "<style scoped>\n",
       "    .dataframe tbody tr th:only-of-type {\n",
       "        vertical-align: middle;\n",
       "    }\n",
       "\n",
       "    .dataframe tbody tr th {\n",
       "        vertical-align: top;\n",
       "    }\n",
       "\n",
       "    .dataframe thead th {\n",
       "        text-align: right;\n",
       "    }\n",
       "</style>\n",
       "<table border=\"1\" class=\"dataframe\">\n",
       "  <thead>\n",
       "    <tr style=\"text-align: right;\">\n",
       "      <th></th>\n",
       "      <th>cust_id</th>\n",
       "      <th>loan_id</th>\n",
       "      <th>loan_amt</th>\n",
       "    </tr>\n",
       "  </thead>\n",
       "  <tbody>\n",
       "    <tr>\n",
       "      <th>0</th>\n",
       "      <td>1</td>\n",
       "      <td>10</td>\n",
       "      <td>123</td>\n",
       "    </tr>\n",
       "    <tr>\n",
       "      <th>1</th>\n",
       "      <td>2</td>\n",
       "      <td>20</td>\n",
       "      <td>321</td>\n",
       "    </tr>\n",
       "    <tr>\n",
       "      <th>2</th>\n",
       "      <td>3</td>\n",
       "      <td>30</td>\n",
       "      <td>132</td>\n",
       "    </tr>\n",
       "    <tr>\n",
       "      <th>3</th>\n",
       "      <td>4</td>\n",
       "      <td>40</td>\n",
       "      <td>134</td>\n",
       "    </tr>\n",
       "    <tr>\n",
       "      <th>4</th>\n",
       "      <td>5</td>\n",
       "      <td>50</td>\n",
       "      <td>222</td>\n",
       "    </tr>\n",
       "  </tbody>\n",
       "</table>\n",
       "</div>"
      ],
      "text/plain": [
       "   cust_id  loan_id  loan_amt\n",
       "0        1       10       123\n",
       "1        2       20       321\n",
       "2        3       30       132\n",
       "3        4       40       134\n",
       "4        5       50       222"
      ]
     },
     "execution_count": 225,
     "metadata": {},
     "output_type": "execute_result"
    }
   ],
   "source": [
    "df2"
   ]
  },
  {
   "cell_type": "code",
   "execution_count": 226,
   "id": "8669c69e",
   "metadata": {},
   "outputs": [
    {
     "data": {
      "text/html": [
       "<div>\n",
       "<style scoped>\n",
       "    .dataframe tbody tr th:only-of-type {\n",
       "        vertical-align: middle;\n",
       "    }\n",
       "\n",
       "    .dataframe tbody tr th {\n",
       "        vertical-align: top;\n",
       "    }\n",
       "\n",
       "    .dataframe thead th {\n",
       "        text-align: right;\n",
       "    }\n",
       "</style>\n",
       "<table border=\"1\" class=\"dataframe\">\n",
       "  <thead>\n",
       "    <tr style=\"text-align: right;\">\n",
       "      <th></th>\n",
       "      <th>agent_id</th>\n",
       "      <th>agent_name</th>\n",
       "      <th>loan_id</th>\n",
       "    </tr>\n",
       "  </thead>\n",
       "  <tbody>\n",
       "    <tr>\n",
       "      <th>0</th>\n",
       "      <td>101</td>\n",
       "      <td>James</td>\n",
       "      <td>10</td>\n",
       "    </tr>\n",
       "    <tr>\n",
       "      <th>1</th>\n",
       "      <td>102</td>\n",
       "      <td>John</td>\n",
       "      <td>20</td>\n",
       "    </tr>\n",
       "    <tr>\n",
       "      <th>2</th>\n",
       "      <td>101</td>\n",
       "      <td>James</td>\n",
       "      <td>30</td>\n",
       "    </tr>\n",
       "    <tr>\n",
       "      <th>3</th>\n",
       "      <td>102</td>\n",
       "      <td>John</td>\n",
       "      <td>40</td>\n",
       "    </tr>\n",
       "    <tr>\n",
       "      <th>4</th>\n",
       "      <td>102</td>\n",
       "      <td>John</td>\n",
       "      <td>50</td>\n",
       "    </tr>\n",
       "  </tbody>\n",
       "</table>\n",
       "</div>"
      ],
      "text/plain": [
       "   agent_id agent_name  loan_id\n",
       "0       101      James       10\n",
       "1       102       John       20\n",
       "2       101      James       30\n",
       "3       102       John       40\n",
       "4       102       John       50"
      ]
     },
     "execution_count": 226,
     "metadata": {},
     "output_type": "execute_result"
    }
   ],
   "source": [
    "df3"
   ]
  },
  {
   "cell_type": "code",
   "execution_count": 228,
   "id": "59a38f27",
   "metadata": {},
   "outputs": [
    {
     "data": {
      "text/html": [
       "<div>\n",
       "<style scoped>\n",
       "    .dataframe tbody tr th:only-of-type {\n",
       "        vertical-align: middle;\n",
       "    }\n",
       "\n",
       "    .dataframe tbody tr th {\n",
       "        vertical-align: top;\n",
       "    }\n",
       "\n",
       "    .dataframe thead th {\n",
       "        text-align: right;\n",
       "    }\n",
       "</style>\n",
       "<table border=\"1\" class=\"dataframe\">\n",
       "  <thead>\n",
       "    <tr style=\"text-align: right;\">\n",
       "      <th></th>\n",
       "      <th>cust_id</th>\n",
       "      <th>cust_name</th>\n",
       "      <th>cust_region</th>\n",
       "      <th>loan_id</th>\n",
       "      <th>loan_amt</th>\n",
       "      <th>agent_id</th>\n",
       "      <th>agent_name</th>\n",
       "    </tr>\n",
       "  </thead>\n",
       "  <tbody>\n",
       "    <tr>\n",
       "      <th>0</th>\n",
       "      <td>1</td>\n",
       "      <td>A</td>\n",
       "      <td>N</td>\n",
       "      <td>10</td>\n",
       "      <td>123</td>\n",
       "      <td>101</td>\n",
       "      <td>James</td>\n",
       "    </tr>\n",
       "    <tr>\n",
       "      <th>1</th>\n",
       "      <td>2</td>\n",
       "      <td>B</td>\n",
       "      <td>S</td>\n",
       "      <td>20</td>\n",
       "      <td>321</td>\n",
       "      <td>102</td>\n",
       "      <td>John</td>\n",
       "    </tr>\n",
       "    <tr>\n",
       "      <th>2</th>\n",
       "      <td>3</td>\n",
       "      <td>C</td>\n",
       "      <td>S</td>\n",
       "      <td>30</td>\n",
       "      <td>132</td>\n",
       "      <td>101</td>\n",
       "      <td>James</td>\n",
       "    </tr>\n",
       "    <tr>\n",
       "      <th>3</th>\n",
       "      <td>4</td>\n",
       "      <td>D</td>\n",
       "      <td>W</td>\n",
       "      <td>40</td>\n",
       "      <td>134</td>\n",
       "      <td>102</td>\n",
       "      <td>John</td>\n",
       "    </tr>\n",
       "    <tr>\n",
       "      <th>4</th>\n",
       "      <td>5</td>\n",
       "      <td>E</td>\n",
       "      <td>E</td>\n",
       "      <td>50</td>\n",
       "      <td>222</td>\n",
       "      <td>102</td>\n",
       "      <td>John</td>\n",
       "    </tr>\n",
       "  </tbody>\n",
       "</table>\n",
       "</div>"
      ],
      "text/plain": [
       "   cust_id cust_name cust_region  loan_id  loan_amt  agent_id agent_name\n",
       "0        1         A           N       10       123       101      James\n",
       "1        2         B           S       20       321       102       John\n",
       "2        3         C           S       30       132       101      James\n",
       "3        4         D           W       40       134       102       John\n",
       "4        5         E           E       50       222       102       John"
      ]
     },
     "execution_count": 228,
     "metadata": {},
     "output_type": "execute_result"
    }
   ],
   "source": [
    "pd.merge(pd.merge(df1,df2),df3)"
   ]
  },
  {
   "cell_type": "markdown",
   "id": "9004488f",
   "metadata": {},
   "source": [
    "# Union & Union all & Index Join"
   ]
  },
  {
   "cell_type": "code",
   "execution_count": 229,
   "id": "00999a62",
   "metadata": {},
   "outputs": [],
   "source": [
    "customer_table_US = {'cust_id':[1,2,3,4,5], 'cust_name':['A','B','C','D','E'], 'cust_region':['N_US','S_US','S_US','W_US','E_US']}"
   ]
  },
  {
   "cell_type": "code",
   "execution_count": 230,
   "id": "c2746774",
   "metadata": {},
   "outputs": [
    {
     "data": {
      "text/plain": [
       "{'cust_id': [1, 2, 3, 4, 5],\n",
       " 'cust_name': ['A', 'B', 'C', 'D', 'E'],\n",
       " 'cust_region': ['N_US', 'S_US', 'S_US', 'W_US', 'E_US']}"
      ]
     },
     "execution_count": 230,
     "metadata": {},
     "output_type": "execute_result"
    }
   ],
   "source": [
    "customer_table_US"
   ]
  },
  {
   "cell_type": "code",
   "execution_count": 231,
   "id": "beb96ece",
   "metadata": {},
   "outputs": [],
   "source": [
    "customer_table_IND = {'cust_id':[6,7,8,9,5], 'cust_name':['P','Q','R','S','E'], 'cust_region':['N_IND','S_IND','S_IND','W_IND','E_US']}"
   ]
  },
  {
   "cell_type": "code",
   "execution_count": 232,
   "id": "c40a4d13",
   "metadata": {},
   "outputs": [
    {
     "data": {
      "text/plain": [
       "{'cust_id': [6, 7, 8, 9, 5],\n",
       " 'cust_name': ['P', 'Q', 'R', 'S', 'E'],\n",
       " 'cust_region': ['N_IND', 'S_IND', 'S_IND', 'W_IND', 'E_US']}"
      ]
     },
     "execution_count": 232,
     "metadata": {},
     "output_type": "execute_result"
    }
   ],
   "source": [
    "customer_table_IND"
   ]
  },
  {
   "cell_type": "code",
   "execution_count": 233,
   "id": "e04fc0e1",
   "metadata": {},
   "outputs": [],
   "source": [
    "cust_us = pd.DataFrame(customer_table_US)"
   ]
  },
  {
   "cell_type": "code",
   "execution_count": 234,
   "id": "c9481ed4",
   "metadata": {},
   "outputs": [
    {
     "data": {
      "text/html": [
       "<div>\n",
       "<style scoped>\n",
       "    .dataframe tbody tr th:only-of-type {\n",
       "        vertical-align: middle;\n",
       "    }\n",
       "\n",
       "    .dataframe tbody tr th {\n",
       "        vertical-align: top;\n",
       "    }\n",
       "\n",
       "    .dataframe thead th {\n",
       "        text-align: right;\n",
       "    }\n",
       "</style>\n",
       "<table border=\"1\" class=\"dataframe\">\n",
       "  <thead>\n",
       "    <tr style=\"text-align: right;\">\n",
       "      <th></th>\n",
       "      <th>cust_id</th>\n",
       "      <th>cust_name</th>\n",
       "      <th>cust_region</th>\n",
       "    </tr>\n",
       "  </thead>\n",
       "  <tbody>\n",
       "    <tr>\n",
       "      <th>0</th>\n",
       "      <td>1</td>\n",
       "      <td>A</td>\n",
       "      <td>N_US</td>\n",
       "    </tr>\n",
       "    <tr>\n",
       "      <th>1</th>\n",
       "      <td>2</td>\n",
       "      <td>B</td>\n",
       "      <td>S_US</td>\n",
       "    </tr>\n",
       "    <tr>\n",
       "      <th>2</th>\n",
       "      <td>3</td>\n",
       "      <td>C</td>\n",
       "      <td>S_US</td>\n",
       "    </tr>\n",
       "    <tr>\n",
       "      <th>3</th>\n",
       "      <td>4</td>\n",
       "      <td>D</td>\n",
       "      <td>W_US</td>\n",
       "    </tr>\n",
       "    <tr>\n",
       "      <th>4</th>\n",
       "      <td>5</td>\n",
       "      <td>E</td>\n",
       "      <td>E_US</td>\n",
       "    </tr>\n",
       "  </tbody>\n",
       "</table>\n",
       "</div>"
      ],
      "text/plain": [
       "   cust_id cust_name cust_region\n",
       "0        1         A        N_US\n",
       "1        2         B        S_US\n",
       "2        3         C        S_US\n",
       "3        4         D        W_US\n",
       "4        5         E        E_US"
      ]
     },
     "execution_count": 234,
     "metadata": {},
     "output_type": "execute_result"
    }
   ],
   "source": [
    "cust_us"
   ]
  },
  {
   "cell_type": "code",
   "execution_count": 235,
   "id": "ec391816",
   "metadata": {},
   "outputs": [],
   "source": [
    "cust_in = pd.DataFrame(customer_table_IND)"
   ]
  },
  {
   "cell_type": "code",
   "execution_count": 236,
   "id": "9e18598f",
   "metadata": {},
   "outputs": [
    {
     "data": {
      "text/html": [
       "<div>\n",
       "<style scoped>\n",
       "    .dataframe tbody tr th:only-of-type {\n",
       "        vertical-align: middle;\n",
       "    }\n",
       "\n",
       "    .dataframe tbody tr th {\n",
       "        vertical-align: top;\n",
       "    }\n",
       "\n",
       "    .dataframe thead th {\n",
       "        text-align: right;\n",
       "    }\n",
       "</style>\n",
       "<table border=\"1\" class=\"dataframe\">\n",
       "  <thead>\n",
       "    <tr style=\"text-align: right;\">\n",
       "      <th></th>\n",
       "      <th>cust_id</th>\n",
       "      <th>cust_name</th>\n",
       "      <th>cust_region</th>\n",
       "    </tr>\n",
       "  </thead>\n",
       "  <tbody>\n",
       "    <tr>\n",
       "      <th>0</th>\n",
       "      <td>6</td>\n",
       "      <td>P</td>\n",
       "      <td>N_IND</td>\n",
       "    </tr>\n",
       "    <tr>\n",
       "      <th>1</th>\n",
       "      <td>7</td>\n",
       "      <td>Q</td>\n",
       "      <td>S_IND</td>\n",
       "    </tr>\n",
       "    <tr>\n",
       "      <th>2</th>\n",
       "      <td>8</td>\n",
       "      <td>R</td>\n",
       "      <td>S_IND</td>\n",
       "    </tr>\n",
       "    <tr>\n",
       "      <th>3</th>\n",
       "      <td>9</td>\n",
       "      <td>S</td>\n",
       "      <td>W_IND</td>\n",
       "    </tr>\n",
       "    <tr>\n",
       "      <th>4</th>\n",
       "      <td>5</td>\n",
       "      <td>E</td>\n",
       "      <td>E_US</td>\n",
       "    </tr>\n",
       "  </tbody>\n",
       "</table>\n",
       "</div>"
      ],
      "text/plain": [
       "   cust_id cust_name cust_region\n",
       "0        6         P       N_IND\n",
       "1        7         Q       S_IND\n",
       "2        8         R       S_IND\n",
       "3        9         S       W_IND\n",
       "4        5         E        E_US"
      ]
     },
     "execution_count": 236,
     "metadata": {},
     "output_type": "execute_result"
    }
   ],
   "source": [
    "cust_in"
   ]
  },
  {
   "cell_type": "markdown",
   "id": "03da4529",
   "metadata": {},
   "source": [
    "**Union all - Where duplicates are entertained**"
   ]
  },
  {
   "cell_type": "markdown",
   "id": "11c6913f",
   "metadata": {},
   "source": [
    "**When we are passing axis=0, that means its a union or union all**"
   ]
  },
  {
   "cell_type": "code",
   "execution_count": 239,
   "id": "48fb2141",
   "metadata": {},
   "outputs": [
    {
     "data": {
      "text/html": [
       "<div>\n",
       "<style scoped>\n",
       "    .dataframe tbody tr th:only-of-type {\n",
       "        vertical-align: middle;\n",
       "    }\n",
       "\n",
       "    .dataframe tbody tr th {\n",
       "        vertical-align: top;\n",
       "    }\n",
       "\n",
       "    .dataframe thead th {\n",
       "        text-align: right;\n",
       "    }\n",
       "</style>\n",
       "<table border=\"1\" class=\"dataframe\">\n",
       "  <thead>\n",
       "    <tr style=\"text-align: right;\">\n",
       "      <th></th>\n",
       "      <th>cust_id</th>\n",
       "      <th>cust_name</th>\n",
       "      <th>cust_region</th>\n",
       "    </tr>\n",
       "  </thead>\n",
       "  <tbody>\n",
       "    <tr>\n",
       "      <th>0</th>\n",
       "      <td>1</td>\n",
       "      <td>A</td>\n",
       "      <td>N_US</td>\n",
       "    </tr>\n",
       "    <tr>\n",
       "      <th>1</th>\n",
       "      <td>2</td>\n",
       "      <td>B</td>\n",
       "      <td>S_US</td>\n",
       "    </tr>\n",
       "    <tr>\n",
       "      <th>2</th>\n",
       "      <td>3</td>\n",
       "      <td>C</td>\n",
       "      <td>S_US</td>\n",
       "    </tr>\n",
       "    <tr>\n",
       "      <th>3</th>\n",
       "      <td>4</td>\n",
       "      <td>D</td>\n",
       "      <td>W_US</td>\n",
       "    </tr>\n",
       "    <tr>\n",
       "      <th>4</th>\n",
       "      <td>5</td>\n",
       "      <td>E</td>\n",
       "      <td>E_US</td>\n",
       "    </tr>\n",
       "    <tr>\n",
       "      <th>0</th>\n",
       "      <td>6</td>\n",
       "      <td>P</td>\n",
       "      <td>N_IND</td>\n",
       "    </tr>\n",
       "    <tr>\n",
       "      <th>1</th>\n",
       "      <td>7</td>\n",
       "      <td>Q</td>\n",
       "      <td>S_IND</td>\n",
       "    </tr>\n",
       "    <tr>\n",
       "      <th>2</th>\n",
       "      <td>8</td>\n",
       "      <td>R</td>\n",
       "      <td>S_IND</td>\n",
       "    </tr>\n",
       "    <tr>\n",
       "      <th>3</th>\n",
       "      <td>9</td>\n",
       "      <td>S</td>\n",
       "      <td>W_IND</td>\n",
       "    </tr>\n",
       "    <tr>\n",
       "      <th>4</th>\n",
       "      <td>5</td>\n",
       "      <td>E</td>\n",
       "      <td>E_US</td>\n",
       "    </tr>\n",
       "  </tbody>\n",
       "</table>\n",
       "</div>"
      ],
      "text/plain": [
       "   cust_id cust_name cust_region\n",
       "0        1         A        N_US\n",
       "1        2         B        S_US\n",
       "2        3         C        S_US\n",
       "3        4         D        W_US\n",
       "4        5         E        E_US\n",
       "0        6         P       N_IND\n",
       "1        7         Q       S_IND\n",
       "2        8         R       S_IND\n",
       "3        9         S       W_IND\n",
       "4        5         E        E_US"
      ]
     },
     "execution_count": 239,
     "metadata": {},
     "output_type": "execute_result"
    }
   ],
   "source": [
    "pd.concat([cust_us,cust_in],axis=0)"
   ]
  },
  {
   "cell_type": "markdown",
   "id": "edab8dbb",
   "metadata": {},
   "source": [
    "**When we are passing axis=1 then it is index join**"
   ]
  },
  {
   "cell_type": "code",
   "execution_count": 240,
   "id": "7093ab91",
   "metadata": {},
   "outputs": [
    {
     "data": {
      "text/html": [
       "<div>\n",
       "<style scoped>\n",
       "    .dataframe tbody tr th:only-of-type {\n",
       "        vertical-align: middle;\n",
       "    }\n",
       "\n",
       "    .dataframe tbody tr th {\n",
       "        vertical-align: top;\n",
       "    }\n",
       "\n",
       "    .dataframe thead th {\n",
       "        text-align: right;\n",
       "    }\n",
       "</style>\n",
       "<table border=\"1\" class=\"dataframe\">\n",
       "  <thead>\n",
       "    <tr style=\"text-align: right;\">\n",
       "      <th></th>\n",
       "      <th>cust_id</th>\n",
       "      <th>cust_name</th>\n",
       "      <th>cust_region</th>\n",
       "      <th>cust_id</th>\n",
       "      <th>cust_name</th>\n",
       "      <th>cust_region</th>\n",
       "    </tr>\n",
       "  </thead>\n",
       "  <tbody>\n",
       "    <tr>\n",
       "      <th>0</th>\n",
       "      <td>1</td>\n",
       "      <td>A</td>\n",
       "      <td>N_US</td>\n",
       "      <td>6</td>\n",
       "      <td>P</td>\n",
       "      <td>N_IND</td>\n",
       "    </tr>\n",
       "    <tr>\n",
       "      <th>1</th>\n",
       "      <td>2</td>\n",
       "      <td>B</td>\n",
       "      <td>S_US</td>\n",
       "      <td>7</td>\n",
       "      <td>Q</td>\n",
       "      <td>S_IND</td>\n",
       "    </tr>\n",
       "    <tr>\n",
       "      <th>2</th>\n",
       "      <td>3</td>\n",
       "      <td>C</td>\n",
       "      <td>S_US</td>\n",
       "      <td>8</td>\n",
       "      <td>R</td>\n",
       "      <td>S_IND</td>\n",
       "    </tr>\n",
       "    <tr>\n",
       "      <th>3</th>\n",
       "      <td>4</td>\n",
       "      <td>D</td>\n",
       "      <td>W_US</td>\n",
       "      <td>9</td>\n",
       "      <td>S</td>\n",
       "      <td>W_IND</td>\n",
       "    </tr>\n",
       "    <tr>\n",
       "      <th>4</th>\n",
       "      <td>5</td>\n",
       "      <td>E</td>\n",
       "      <td>E_US</td>\n",
       "      <td>5</td>\n",
       "      <td>E</td>\n",
       "      <td>E_US</td>\n",
       "    </tr>\n",
       "  </tbody>\n",
       "</table>\n",
       "</div>"
      ],
      "text/plain": [
       "   cust_id cust_name cust_region  cust_id cust_name cust_region\n",
       "0        1         A        N_US        6         P       N_IND\n",
       "1        2         B        S_US        7         Q       S_IND\n",
       "2        3         C        S_US        8         R       S_IND\n",
       "3        4         D        W_US        9         S       W_IND\n",
       "4        5         E        E_US        5         E        E_US"
      ]
     },
     "execution_count": 240,
     "metadata": {},
     "output_type": "execute_result"
    }
   ],
   "source": [
    "pd.concat([cust_us,cust_in],axis=1)"
   ]
  },
  {
   "cell_type": "markdown",
   "id": "846d27b1",
   "metadata": {},
   "source": [
    "**Union - Where duplicates are not entertained**"
   ]
  },
  {
   "cell_type": "markdown",
   "id": "8a71cf32",
   "metadata": {},
   "source": [
    "**We are using nested functions to do the tasks, however we can do in step by step also, so doing this as single it will memory efficient as we are not creating the copies of the data, if you dont want to create the copies of the data we can overwrite the data in every step. Also while dropping the column we are passing axis=1 i.e. we are dropping the index column, that means when we want to drop a column we can pass axis=1**"
   ]
  },
  {
   "cell_type": "code",
   "execution_count": 246,
   "id": "9e1d3ad6",
   "metadata": {},
   "outputs": [],
   "source": [
    "final_output = pd.concat([cust_us,cust_in]).reset_index().drop('index',axis=1).drop_duplicates()"
   ]
  },
  {
   "cell_type": "code",
   "execution_count": 253,
   "id": "e318319f",
   "metadata": {},
   "outputs": [],
   "source": [
    "final_output.to_csv('today_data.csv')"
   ]
  },
  {
   "cell_type": "markdown",
   "id": "3cc04e23",
   "metadata": {},
   "source": [
    "**os is the operating system module which can help us to connect and play with the files in the local machine**\n",
    "\n",
    "**Getcwd is a function which is showing us the Get Current Working Directory**\n",
    "\n",
    "**Chdir is a function which is helping us to Change the Directory**"
   ]
  },
  {
   "cell_type": "code",
   "execution_count": 252,
   "id": "c6a54be3",
   "metadata": {},
   "outputs": [
    {
     "data": {
      "text/plain": [
       "'C:\\\\Users\\\\rahul\\\\OneDrive\\\\Desktop'"
      ]
     },
     "execution_count": 252,
     "metadata": {},
     "output_type": "execute_result"
    }
   ],
   "source": [
    "import os \n",
    "os.getcwd()"
   ]
  },
  {
   "cell_type": "code",
   "execution_count": 251,
   "id": "20d8c834",
   "metadata": {},
   "outputs": [],
   "source": [
    "os.chdir(r'C:\\Users\\rahul\\OneDrive\\Desktop')"
   ]
  }
 ],
 "metadata": {
  "kernelspec": {
   "display_name": "Python 3 (ipykernel)",
   "language": "python",
   "name": "python3"
  },
  "language_info": {
   "codemirror_mode": {
    "name": "ipython",
    "version": 3
   },
   "file_extension": ".py",
   "mimetype": "text/x-python",
   "name": "python",
   "nbconvert_exporter": "python",
   "pygments_lexer": "ipython3",
   "version": "3.9.13"
  }
 },
 "nbformat": 4,
 "nbformat_minor": 5
}
