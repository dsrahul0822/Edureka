{
 "cells": [
  {
   "cell_type": "markdown",
   "id": "3bb4156f",
   "metadata": {},
   "source": [
    "# Data Preprocessing\n",
    "\n",
    "**When we get the dataset we have to perform some pre processing steps to make the data ready for further analysis or predictions**\n",
    "\n",
    "    **1) Missing Value Treatment**\n",
    "        a) The missing value treatment is required on both categorical data or numerical data\n",
    "        b) Lets assume there are 1000 data points, we cannot manipulate more than 25% of the data, if the business is critical than we have to reduce this 25% to some less percentages \n",
    "        c) How can we populate/impute the missing\n",
    "            c.1) Numerical data\n",
    "                i) Mean - Populate the mean of the column, for example we have an age and there are some missing values we will populate those missing values with mean. This approach is good when there are no outliers in the dataset \n",
    "                ii) Median - Populate the median of the column when there are outliers in the dataset\n",
    "                iii) Rather doing the missing value treatment, first do the outlier treatment and then do the missing value treatment\n",
    "            c.2) Categorical data \n",
    "                i) Mode (Most Frequent) - Populate the missing value with the mode, if there is a gender column and in that there are more number of males, so we will populate the missing value using male\n",
    "                \n",
    "      d) There is one more algorithmic way to populate the missing value - K-nearest neighbour (It populates the missing value using the average of the nearest neighbours\n",
    "      \n",
    "**scikit-learn - This of the machine learning packages, this can solve the problem, we just have to import the package and corresponding module**\n",
    "\n",
    "**https://scikit-learn.org**\n",
    "\n",
    "    **2) Outlier Treatment**\n",
    "        a) There is an industry standard formula any value less than Q1-1.5*IQR or any value more than Q3+1.5*IQR are outliers\n",
    "        \n",
    "        \n",
    "        \n",
    "    **3) Encoding**\n",
    "        Converting the categorical columns to numerical columns, as we are dealing with mathematics and statistics we need to convert categoical columns to numerical columns\n",
    "        \n",
    "        a) Label encoding - It is a technique where we convert the data into numbers from 0,1,2.... however, it is not good for nominal data as there is no rank associated with nominal data, but it is good to have in the ordinal data\n",
    "        \n",
    "        b) One hot encoding - We are giving values in a binary type as in, if there are 4 states, S1 will be 1|0|0|0, S2 will be 0|1|0|0, S3 will be 0|0|1|0 and S4 will be 0|0|0|1. The problem with this approach is it will increase the dimensions. \n",
    "        \n",
    "       c) Encoding based on the dependent variable - When there is a regression problem, for example want to find the salary we can take the average of the salary by states and populate the average salary by states in the state column. If the problem statement is classification for example we need to predict if we get the promotion or not, in that case we will populate the state column by probabilty of P(S)/Total or P(F)/Total for that state\n",
    "       \n",
    "    **4) Feature Scaling**\n",
    "          Converting the data into the same scale. i.e. unit less. Because in the distance based algorithms it can give us biased distances, for example: if we have experience and salary, salary will be a bigger number than experience so the distance between the employees will be dominated by salary. Also, as  we are calculating the distance it will not make sense to find he distance based on the different units i.e. one is in year and other is in rupees.\n",
    "        \n"
   ]
  },
  {
   "cell_type": "code",
   "execution_count": 1,
   "id": "6c4e1f65",
   "metadata": {},
   "outputs": [],
   "source": [
    "import pandas as pd"
   ]
  },
  {
   "cell_type": "code",
   "execution_count": 2,
   "id": "6c4ccb5d",
   "metadata": {},
   "outputs": [],
   "source": [
    "df_missing_value = pd.read_clipboard()"
   ]
  },
  {
   "cell_type": "code",
   "execution_count": 15,
   "id": "da4a887d",
   "metadata": {},
   "outputs": [
    {
     "data": {
      "text/html": [
       "<div>\n",
       "<style scoped>\n",
       "    .dataframe tbody tr th:only-of-type {\n",
       "        vertical-align: middle;\n",
       "    }\n",
       "\n",
       "    .dataframe tbody tr th {\n",
       "        vertical-align: top;\n",
       "    }\n",
       "\n",
       "    .dataframe thead th {\n",
       "        text-align: right;\n",
       "    }\n",
       "</style>\n",
       "<table border=\"1\" class=\"dataframe\">\n",
       "  <thead>\n",
       "    <tr style=\"text-align: right;\">\n",
       "      <th></th>\n",
       "      <th>Student_Id</th>\n",
       "      <th>Marks_10</th>\n",
       "      <th>Marks_12</th>\n",
       "      <th>Marks_Grad</th>\n",
       "      <th>State</th>\n",
       "      <th>Salary</th>\n",
       "    </tr>\n",
       "  </thead>\n",
       "  <tbody>\n",
       "    <tr>\n",
       "      <th>0</th>\n",
       "      <td>1</td>\n",
       "      <td>45.0</td>\n",
       "      <td>NaN</td>\n",
       "      <td>56.0</td>\n",
       "      <td>1.0</td>\n",
       "      <td>10</td>\n",
       "    </tr>\n",
       "    <tr>\n",
       "      <th>1</th>\n",
       "      <td>2</td>\n",
       "      <td>NaN</td>\n",
       "      <td>65.0</td>\n",
       "      <td>67.0</td>\n",
       "      <td>1.0</td>\n",
       "      <td>12</td>\n",
       "    </tr>\n",
       "    <tr>\n",
       "      <th>2</th>\n",
       "      <td>3</td>\n",
       "      <td>54.0</td>\n",
       "      <td>68.0</td>\n",
       "      <td>57.0</td>\n",
       "      <td>0.0</td>\n",
       "      <td>14</td>\n",
       "    </tr>\n",
       "    <tr>\n",
       "      <th>3</th>\n",
       "      <td>4</td>\n",
       "      <td>89.0</td>\n",
       "      <td>88.0</td>\n",
       "      <td>NaN</td>\n",
       "      <td>NaN</td>\n",
       "      <td>18</td>\n",
       "    </tr>\n",
       "    <tr>\n",
       "      <th>4</th>\n",
       "      <td>5</td>\n",
       "      <td>NaN</td>\n",
       "      <td>87.0</td>\n",
       "      <td>84.0</td>\n",
       "      <td>1.0</td>\n",
       "      <td>21</td>\n",
       "    </tr>\n",
       "  </tbody>\n",
       "</table>\n",
       "</div>"
      ],
      "text/plain": [
       "   Student_Id  Marks_10  Marks_12  Marks_Grad  State  Salary\n",
       "0           1      45.0       NaN        56.0    1.0      10\n",
       "1           2       NaN      65.0        67.0    1.0      12\n",
       "2           3      54.0      68.0        57.0    0.0      14\n",
       "3           4      89.0      88.0         NaN    NaN      18\n",
       "4           5       NaN      87.0        84.0    1.0      21"
      ]
     },
     "execution_count": 15,
     "metadata": {},
     "output_type": "execute_result"
    }
   ],
   "source": [
    "df_missing_value"
   ]
  },
  {
   "cell_type": "markdown",
   "id": "36d7e537",
   "metadata": {},
   "source": [
    "**How to impute the missing values using sklearn**"
   ]
  },
  {
   "cell_type": "code",
   "execution_count": 16,
   "id": "e994e3a2",
   "metadata": {},
   "outputs": [],
   "source": [
    "x_mean = df_missing_value.iloc[:,0:6].values"
   ]
  },
  {
   "cell_type": "code",
   "execution_count": 17,
   "id": "6ab2ab82",
   "metadata": {},
   "outputs": [],
   "source": [
    "import numpy as np\n",
    "from sklearn.impute import SimpleImputer\n",
    "imp = SimpleImputer(missing_values=np.nan, strategy='mean')\n",
    "imputer = imp.fit(x_mean[:,1:4])\n",
    "x_mean[:,1:4] = imputer.transform(x_mean[:,1:4])"
   ]
  },
  {
   "cell_type": "code",
   "execution_count": 18,
   "id": "51eb56e3",
   "metadata": {},
   "outputs": [
    {
     "data": {
      "text/html": [
       "<div>\n",
       "<style scoped>\n",
       "    .dataframe tbody tr th:only-of-type {\n",
       "        vertical-align: middle;\n",
       "    }\n",
       "\n",
       "    .dataframe tbody tr th {\n",
       "        vertical-align: top;\n",
       "    }\n",
       "\n",
       "    .dataframe thead th {\n",
       "        text-align: right;\n",
       "    }\n",
       "</style>\n",
       "<table border=\"1\" class=\"dataframe\">\n",
       "  <thead>\n",
       "    <tr style=\"text-align: right;\">\n",
       "      <th></th>\n",
       "      <th>0</th>\n",
       "      <th>1</th>\n",
       "      <th>2</th>\n",
       "      <th>3</th>\n",
       "      <th>4</th>\n",
       "      <th>5</th>\n",
       "    </tr>\n",
       "  </thead>\n",
       "  <tbody>\n",
       "    <tr>\n",
       "      <th>0</th>\n",
       "      <td>1.0</td>\n",
       "      <td>45.000000</td>\n",
       "      <td>77.0</td>\n",
       "      <td>56.0</td>\n",
       "      <td>1.0</td>\n",
       "      <td>10.0</td>\n",
       "    </tr>\n",
       "    <tr>\n",
       "      <th>1</th>\n",
       "      <td>2.0</td>\n",
       "      <td>62.666667</td>\n",
       "      <td>65.0</td>\n",
       "      <td>67.0</td>\n",
       "      <td>1.0</td>\n",
       "      <td>12.0</td>\n",
       "    </tr>\n",
       "    <tr>\n",
       "      <th>2</th>\n",
       "      <td>3.0</td>\n",
       "      <td>54.000000</td>\n",
       "      <td>68.0</td>\n",
       "      <td>57.0</td>\n",
       "      <td>0.0</td>\n",
       "      <td>14.0</td>\n",
       "    </tr>\n",
       "    <tr>\n",
       "      <th>3</th>\n",
       "      <td>4.0</td>\n",
       "      <td>89.000000</td>\n",
       "      <td>88.0</td>\n",
       "      <td>66.0</td>\n",
       "      <td>NaN</td>\n",
       "      <td>18.0</td>\n",
       "    </tr>\n",
       "    <tr>\n",
       "      <th>4</th>\n",
       "      <td>5.0</td>\n",
       "      <td>62.666667</td>\n",
       "      <td>87.0</td>\n",
       "      <td>84.0</td>\n",
       "      <td>1.0</td>\n",
       "      <td>21.0</td>\n",
       "    </tr>\n",
       "  </tbody>\n",
       "</table>\n",
       "</div>"
      ],
      "text/plain": [
       "     0          1     2     3    4     5\n",
       "0  1.0  45.000000  77.0  56.0  1.0  10.0\n",
       "1  2.0  62.666667  65.0  67.0  1.0  12.0\n",
       "2  3.0  54.000000  68.0  57.0  0.0  14.0\n",
       "3  4.0  89.000000  88.0  66.0  NaN  18.0\n",
       "4  5.0  62.666667  87.0  84.0  1.0  21.0"
      ]
     },
     "execution_count": 18,
     "metadata": {},
     "output_type": "execute_result"
    }
   ],
   "source": [
    "pd.DataFrame(x_mean)"
   ]
  },
  {
   "cell_type": "code",
   "execution_count": 19,
   "id": "3593af83",
   "metadata": {},
   "outputs": [],
   "source": [
    "x_median = df_missing_value.iloc[:,0:6].values"
   ]
  },
  {
   "cell_type": "code",
   "execution_count": 20,
   "id": "2361336e",
   "metadata": {},
   "outputs": [],
   "source": [
    "import numpy as np\n",
    "from sklearn.impute import SimpleImputer\n",
    "imp = SimpleImputer(missing_values=np.nan, strategy='median')\n",
    "imputer = imp.fit(x_median[:,1:4])\n",
    "x_median[:,1:4] = imputer.transform(x_median[:,1:4])"
   ]
  },
  {
   "cell_type": "code",
   "execution_count": 21,
   "id": "18a0691c",
   "metadata": {},
   "outputs": [
    {
     "data": {
      "text/plain": [
       "array([[ 1. , 45. , 77.5, 56. ,  1. , 10. ],\n",
       "       [ 2. , 54. , 65. , 67. ,  1. , 12. ],\n",
       "       [ 3. , 54. , 68. , 57. ,  0. , 14. ],\n",
       "       [ 4. , 89. , 88. , 62. ,  nan, 18. ],\n",
       "       [ 5. , 54. , 87. , 84. ,  1. , 21. ]])"
      ]
     },
     "execution_count": 21,
     "metadata": {},
     "output_type": "execute_result"
    }
   ],
   "source": [
    "x_median"
   ]
  },
  {
   "cell_type": "code",
   "execution_count": 22,
   "id": "0066723a",
   "metadata": {},
   "outputs": [],
   "source": [
    "x_mode = df_missing_value.iloc[:,0:6].values"
   ]
  },
  {
   "cell_type": "code",
   "execution_count": 23,
   "id": "e6ede87d",
   "metadata": {},
   "outputs": [
    {
     "name": "stderr",
     "output_type": "stream",
     "text": [
      "C:\\Users\\rahul\\anaconda3\\lib\\site-packages\\sklearn\\impute\\_base.py:49: FutureWarning: Unlike other reduction functions (e.g. `skew`, `kurtosis`), the default behavior of `mode` typically preserves the axis it acts along. In SciPy 1.11.0, this behavior will change: the default value of `keepdims` will become False, the `axis` over which the statistic is taken will be eliminated, and the value None will no longer be accepted. Set `keepdims` to True or False to avoid this warning.\n",
      "  mode = stats.mode(array)\n"
     ]
    }
   ],
   "source": [
    "import numpy as np\n",
    "from sklearn.impute import SimpleImputer\n",
    "imp = SimpleImputer(missing_values=np.nan, strategy='most_frequent')\n",
    "imputer = imp.fit(x_mode[:,4:5])\n",
    "x_mode[:,4:5] = imputer.transform(x_mode[:,4:5])"
   ]
  },
  {
   "cell_type": "code",
   "execution_count": 24,
   "id": "bd87a914",
   "metadata": {},
   "outputs": [
    {
     "data": {
      "text/plain": [
       "array([[ 1., 45., nan, 56.,  1., 10.],\n",
       "       [ 2., nan, 65., 67.,  1., 12.],\n",
       "       [ 3., 54., 68., 57.,  0., 14.],\n",
       "       [ 4., 89., 88., nan,  1., 18.],\n",
       "       [ 5., nan, 87., 84.,  1., 21.]])"
      ]
     },
     "execution_count": 24,
     "metadata": {},
     "output_type": "execute_result"
    }
   ],
   "source": [
    "x_mode"
   ]
  },
  {
   "cell_type": "markdown",
   "id": "bf679a4b",
   "metadata": {},
   "source": [
    "**Using Dataframe directly we can populate the missing value**"
   ]
  },
  {
   "cell_type": "code",
   "execution_count": 26,
   "id": "316c6e9f",
   "metadata": {},
   "outputs": [],
   "source": [
    "df1 = df_missing_value.copy()"
   ]
  },
  {
   "cell_type": "code",
   "execution_count": 29,
   "id": "f0f4cd9c",
   "metadata": {},
   "outputs": [],
   "source": [
    "df1['Marks_10'] = df1['Marks_10'].fillna(df1['Marks_10'].mean())"
   ]
  },
  {
   "cell_type": "code",
   "execution_count": 32,
   "id": "ead83cee",
   "metadata": {},
   "outputs": [],
   "source": [
    "df1['Marks_12'] = df1['Marks_12'].fillna(df1['Marks_12'].median())"
   ]
  },
  {
   "cell_type": "code",
   "execution_count": 33,
   "id": "17aace96",
   "metadata": {},
   "outputs": [
    {
     "data": {
      "text/html": [
       "<div>\n",
       "<style scoped>\n",
       "    .dataframe tbody tr th:only-of-type {\n",
       "        vertical-align: middle;\n",
       "    }\n",
       "\n",
       "    .dataframe tbody tr th {\n",
       "        vertical-align: top;\n",
       "    }\n",
       "\n",
       "    .dataframe thead th {\n",
       "        text-align: right;\n",
       "    }\n",
       "</style>\n",
       "<table border=\"1\" class=\"dataframe\">\n",
       "  <thead>\n",
       "    <tr style=\"text-align: right;\">\n",
       "      <th></th>\n",
       "      <th>Student_Id</th>\n",
       "      <th>Marks_10</th>\n",
       "      <th>Marks_12</th>\n",
       "      <th>Marks_Grad</th>\n",
       "      <th>State</th>\n",
       "      <th>Salary</th>\n",
       "    </tr>\n",
       "  </thead>\n",
       "  <tbody>\n",
       "    <tr>\n",
       "      <th>0</th>\n",
       "      <td>1</td>\n",
       "      <td>45.000000</td>\n",
       "      <td>77.5</td>\n",
       "      <td>56.0</td>\n",
       "      <td>1.0</td>\n",
       "      <td>10</td>\n",
       "    </tr>\n",
       "    <tr>\n",
       "      <th>1</th>\n",
       "      <td>2</td>\n",
       "      <td>62.666667</td>\n",
       "      <td>65.0</td>\n",
       "      <td>67.0</td>\n",
       "      <td>1.0</td>\n",
       "      <td>12</td>\n",
       "    </tr>\n",
       "    <tr>\n",
       "      <th>2</th>\n",
       "      <td>3</td>\n",
       "      <td>54.000000</td>\n",
       "      <td>68.0</td>\n",
       "      <td>57.0</td>\n",
       "      <td>0.0</td>\n",
       "      <td>14</td>\n",
       "    </tr>\n",
       "    <tr>\n",
       "      <th>3</th>\n",
       "      <td>4</td>\n",
       "      <td>89.000000</td>\n",
       "      <td>88.0</td>\n",
       "      <td>NaN</td>\n",
       "      <td>NaN</td>\n",
       "      <td>18</td>\n",
       "    </tr>\n",
       "    <tr>\n",
       "      <th>4</th>\n",
       "      <td>5</td>\n",
       "      <td>62.666667</td>\n",
       "      <td>87.0</td>\n",
       "      <td>84.0</td>\n",
       "      <td>1.0</td>\n",
       "      <td>21</td>\n",
       "    </tr>\n",
       "  </tbody>\n",
       "</table>\n",
       "</div>"
      ],
      "text/plain": [
       "   Student_Id   Marks_10  Marks_12  Marks_Grad  State  Salary\n",
       "0           1  45.000000      77.5        56.0    1.0      10\n",
       "1           2  62.666667      65.0        67.0    1.0      12\n",
       "2           3  54.000000      68.0        57.0    0.0      14\n",
       "3           4  89.000000      88.0         NaN    NaN      18\n",
       "4           5  62.666667      87.0        84.0    1.0      21"
      ]
     },
     "execution_count": 33,
     "metadata": {},
     "output_type": "execute_result"
    }
   ],
   "source": [
    "df1"
   ]
  },
  {
   "cell_type": "markdown",
   "id": "3d1daab9",
   "metadata": {},
   "source": [
    "**Algorithmic Way - K-Nearest Neighbour**"
   ]
  },
  {
   "cell_type": "code",
   "execution_count": 41,
   "id": "b749e5fc",
   "metadata": {},
   "outputs": [],
   "source": [
    "x_knn = df_missing_value.iloc[:,0:6].values"
   ]
  },
  {
   "cell_type": "code",
   "execution_count": 42,
   "id": "57fb5184",
   "metadata": {},
   "outputs": [],
   "source": [
    "from sklearn.impute import KNNImputer\n",
    "imputer = KNNImputer(n_neighbors=1)\n",
    "x_knn = imputer.fit_transform(x_knn)"
   ]
  },
  {
   "cell_type": "code",
   "execution_count": 43,
   "id": "2a5bca4e",
   "metadata": {},
   "outputs": [
    {
     "data": {
      "text/plain": [
       "array([[ 1., 45., 68., 56.,  1., 10.],\n",
       "       [ 2., 54., 65., 67.,  1., 12.],\n",
       "       [ 3., 54., 68., 57.,  0., 14.],\n",
       "       [ 4., 89., 88., 84.,  1., 18.],\n",
       "       [ 5., 89., 87., 84.,  1., 21.]])"
      ]
     },
     "execution_count": 43,
     "metadata": {},
     "output_type": "execute_result"
    }
   ],
   "source": [
    "x_knn"
   ]
  },
  {
   "cell_type": "markdown",
   "id": "a93913ed",
   "metadata": {},
   "source": [
    "**Outlier Treatment**"
   ]
  },
  {
   "cell_type": "code",
   "execution_count": 44,
   "id": "53282d1b",
   "metadata": {},
   "outputs": [],
   "source": [
    "df_outlier_treatment = pd.read_clipboard()"
   ]
  },
  {
   "cell_type": "code",
   "execution_count": 45,
   "id": "dc3ca39e",
   "metadata": {},
   "outputs": [
    {
     "data": {
      "text/html": [
       "<div>\n",
       "<style scoped>\n",
       "    .dataframe tbody tr th:only-of-type {\n",
       "        vertical-align: middle;\n",
       "    }\n",
       "\n",
       "    .dataframe tbody tr th {\n",
       "        vertical-align: top;\n",
       "    }\n",
       "\n",
       "    .dataframe thead th {\n",
       "        text-align: right;\n",
       "    }\n",
       "</style>\n",
       "<table border=\"1\" class=\"dataframe\">\n",
       "  <thead>\n",
       "    <tr style=\"text-align: right;\">\n",
       "      <th></th>\n",
       "      <th>Department</th>\n",
       "      <th>Age</th>\n",
       "      <th>Experience</th>\n",
       "    </tr>\n",
       "  </thead>\n",
       "  <tbody>\n",
       "    <tr>\n",
       "      <th>0</th>\n",
       "      <td>HR</td>\n",
       "      <td>21</td>\n",
       "      <td>1</td>\n",
       "    </tr>\n",
       "    <tr>\n",
       "      <th>1</th>\n",
       "      <td>HR</td>\n",
       "      <td>33</td>\n",
       "      <td>12</td>\n",
       "    </tr>\n",
       "    <tr>\n",
       "      <th>2</th>\n",
       "      <td>IT</td>\n",
       "      <td>35</td>\n",
       "      <td>12</td>\n",
       "    </tr>\n",
       "    <tr>\n",
       "      <th>3</th>\n",
       "      <td>IT</td>\n",
       "      <td>36</td>\n",
       "      <td>12</td>\n",
       "    </tr>\n",
       "    <tr>\n",
       "      <th>4</th>\n",
       "      <td>HR</td>\n",
       "      <td>34</td>\n",
       "      <td>11</td>\n",
       "    </tr>\n",
       "    <tr>\n",
       "      <th>5</th>\n",
       "      <td>IT</td>\n",
       "      <td>33</td>\n",
       "      <td>13</td>\n",
       "    </tr>\n",
       "    <tr>\n",
       "      <th>6</th>\n",
       "      <td>Marketing</td>\n",
       "      <td>34</td>\n",
       "      <td>12</td>\n",
       "    </tr>\n",
       "    <tr>\n",
       "      <th>7</th>\n",
       "      <td>HR</td>\n",
       "      <td>32</td>\n",
       "      <td>10</td>\n",
       "    </tr>\n",
       "    <tr>\n",
       "      <th>8</th>\n",
       "      <td>Marketing</td>\n",
       "      <td>31</td>\n",
       "      <td>2</td>\n",
       "    </tr>\n",
       "    <tr>\n",
       "      <th>9</th>\n",
       "      <td>IT</td>\n",
       "      <td>55</td>\n",
       "      <td>35</td>\n",
       "    </tr>\n",
       "  </tbody>\n",
       "</table>\n",
       "</div>"
      ],
      "text/plain": [
       "  Department  Age  Experience\n",
       "0         HR   21           1\n",
       "1         HR   33          12\n",
       "2         IT   35          12\n",
       "3         IT   36          12\n",
       "4         HR   34          11\n",
       "5         IT   33          13\n",
       "6  Marketing   34          12\n",
       "7         HR   32          10\n",
       "8  Marketing   31           2\n",
       "9         IT   55          35"
      ]
     },
     "execution_count": 45,
     "metadata": {},
     "output_type": "execute_result"
    }
   ],
   "source": [
    "df_outlier_treatment"
   ]
  },
  {
   "cell_type": "code",
   "execution_count": 49,
   "id": "d29d367c",
   "metadata": {},
   "outputs": [],
   "source": [
    "q1 = df_outlier_treatment.quantile(0.25)"
   ]
  },
  {
   "cell_type": "code",
   "execution_count": 53,
   "id": "5ea59e89",
   "metadata": {},
   "outputs": [],
   "source": [
    "q3 = df_outlier_treatment.quantile(0.75)"
   ]
  },
  {
   "cell_type": "code",
   "execution_count": 51,
   "id": "c7bb0564",
   "metadata": {},
   "outputs": [],
   "source": [
    "iqr = df_outlier_treatment.quantile(0.75)-df_outlier_treatment.quantile(0.25)"
   ]
  },
  {
   "cell_type": "code",
   "execution_count": 55,
   "id": "7c30e8f6",
   "metadata": {},
   "outputs": [
    {
     "name": "stderr",
     "output_type": "stream",
     "text": [
      "C:\\Users\\rahul\\AppData\\Local\\Temp\\ipykernel_16560\\4278517277.py:1: FutureWarning: Automatic reindexing on DataFrame vs Series comparisons is deprecated and will raise ValueError in a future version. Do `left, right = left.align(right, axis=1, copy=False)` before e.g. `left == right`\n",
      "  df_outlier_treatment[~((df_outlier_treatment<(q1 - 1.5*iqr)) | (df_outlier_treatment>(q3+1.5*iqr))).any(axis=1)]\n"
     ]
    },
    {
     "data": {
      "text/html": [
       "<div>\n",
       "<style scoped>\n",
       "    .dataframe tbody tr th:only-of-type {\n",
       "        vertical-align: middle;\n",
       "    }\n",
       "\n",
       "    .dataframe tbody tr th {\n",
       "        vertical-align: top;\n",
       "    }\n",
       "\n",
       "    .dataframe thead th {\n",
       "        text-align: right;\n",
       "    }\n",
       "</style>\n",
       "<table border=\"1\" class=\"dataframe\">\n",
       "  <thead>\n",
       "    <tr style=\"text-align: right;\">\n",
       "      <th></th>\n",
       "      <th>Department</th>\n",
       "      <th>Age</th>\n",
       "      <th>Experience</th>\n",
       "    </tr>\n",
       "  </thead>\n",
       "  <tbody>\n",
       "    <tr>\n",
       "      <th>1</th>\n",
       "      <td>HR</td>\n",
       "      <td>33</td>\n",
       "      <td>12</td>\n",
       "    </tr>\n",
       "    <tr>\n",
       "      <th>2</th>\n",
       "      <td>IT</td>\n",
       "      <td>35</td>\n",
       "      <td>12</td>\n",
       "    </tr>\n",
       "    <tr>\n",
       "      <th>3</th>\n",
       "      <td>IT</td>\n",
       "      <td>36</td>\n",
       "      <td>12</td>\n",
       "    </tr>\n",
       "    <tr>\n",
       "      <th>4</th>\n",
       "      <td>HR</td>\n",
       "      <td>34</td>\n",
       "      <td>11</td>\n",
       "    </tr>\n",
       "    <tr>\n",
       "      <th>5</th>\n",
       "      <td>IT</td>\n",
       "      <td>33</td>\n",
       "      <td>13</td>\n",
       "    </tr>\n",
       "    <tr>\n",
       "      <th>6</th>\n",
       "      <td>Marketing</td>\n",
       "      <td>34</td>\n",
       "      <td>12</td>\n",
       "    </tr>\n",
       "    <tr>\n",
       "      <th>7</th>\n",
       "      <td>HR</td>\n",
       "      <td>32</td>\n",
       "      <td>10</td>\n",
       "    </tr>\n",
       "  </tbody>\n",
       "</table>\n",
       "</div>"
      ],
      "text/plain": [
       "  Department  Age  Experience\n",
       "1         HR   33          12\n",
       "2         IT   35          12\n",
       "3         IT   36          12\n",
       "4         HR   34          11\n",
       "5         IT   33          13\n",
       "6  Marketing   34          12\n",
       "7         HR   32          10"
      ]
     },
     "execution_count": 55,
     "metadata": {},
     "output_type": "execute_result"
    }
   ],
   "source": [
    "df_outlier_treatment[~((df_outlier_treatment<(q1 - 1.5*iqr)) | (df_outlier_treatment>(q3+1.5*iqr))).any(axis=1)]"
   ]
  },
  {
   "cell_type": "code",
   "execution_count": 56,
   "id": "d3f760ed",
   "metadata": {},
   "outputs": [],
   "source": [
    "def outlier_treatment(dataframe):\n",
    "    Q1 = dataframe.quantile(0.25)\n",
    "    Q3 = dataframe.quantile(0.75)\n",
    "    IQR = Q3-Q1\n",
    "    df_rem_out = dataframe[~((dataframe<(Q1 - 1.5*IQR)) | (dataframe>(Q3+1.5*IQR))).any(axis=1)]\n",
    "    return df_rem_out"
   ]
  },
  {
   "cell_type": "code",
   "execution_count": 57,
   "id": "bacf792d",
   "metadata": {},
   "outputs": [
    {
     "name": "stderr",
     "output_type": "stream",
     "text": [
      "C:\\Users\\rahul\\AppData\\Local\\Temp\\ipykernel_16560\\3352533567.py:5: FutureWarning: Automatic reindexing on DataFrame vs Series comparisons is deprecated and will raise ValueError in a future version. Do `left, right = left.align(right, axis=1, copy=False)` before e.g. `left == right`\n",
      "  df_rem_out = dataframe[~((dataframe<(Q1 - 1.5*IQR)) | (dataframe>(Q3+1.5*IQR))).any(axis=1)]\n"
     ]
    },
    {
     "data": {
      "text/html": [
       "<div>\n",
       "<style scoped>\n",
       "    .dataframe tbody tr th:only-of-type {\n",
       "        vertical-align: middle;\n",
       "    }\n",
       "\n",
       "    .dataframe tbody tr th {\n",
       "        vertical-align: top;\n",
       "    }\n",
       "\n",
       "    .dataframe thead th {\n",
       "        text-align: right;\n",
       "    }\n",
       "</style>\n",
       "<table border=\"1\" class=\"dataframe\">\n",
       "  <thead>\n",
       "    <tr style=\"text-align: right;\">\n",
       "      <th></th>\n",
       "      <th>Department</th>\n",
       "      <th>Age</th>\n",
       "      <th>Experience</th>\n",
       "    </tr>\n",
       "  </thead>\n",
       "  <tbody>\n",
       "    <tr>\n",
       "      <th>1</th>\n",
       "      <td>HR</td>\n",
       "      <td>33</td>\n",
       "      <td>12</td>\n",
       "    </tr>\n",
       "    <tr>\n",
       "      <th>2</th>\n",
       "      <td>IT</td>\n",
       "      <td>35</td>\n",
       "      <td>12</td>\n",
       "    </tr>\n",
       "    <tr>\n",
       "      <th>3</th>\n",
       "      <td>IT</td>\n",
       "      <td>36</td>\n",
       "      <td>12</td>\n",
       "    </tr>\n",
       "    <tr>\n",
       "      <th>4</th>\n",
       "      <td>HR</td>\n",
       "      <td>34</td>\n",
       "      <td>11</td>\n",
       "    </tr>\n",
       "    <tr>\n",
       "      <th>5</th>\n",
       "      <td>IT</td>\n",
       "      <td>33</td>\n",
       "      <td>13</td>\n",
       "    </tr>\n",
       "    <tr>\n",
       "      <th>6</th>\n",
       "      <td>Marketing</td>\n",
       "      <td>34</td>\n",
       "      <td>12</td>\n",
       "    </tr>\n",
       "    <tr>\n",
       "      <th>7</th>\n",
       "      <td>HR</td>\n",
       "      <td>32</td>\n",
       "      <td>10</td>\n",
       "    </tr>\n",
       "  </tbody>\n",
       "</table>\n",
       "</div>"
      ],
      "text/plain": [
       "  Department  Age  Experience\n",
       "1         HR   33          12\n",
       "2         IT   35          12\n",
       "3         IT   36          12\n",
       "4         HR   34          11\n",
       "5         IT   33          13\n",
       "6  Marketing   34          12\n",
       "7         HR   32          10"
      ]
     },
     "execution_count": 57,
     "metadata": {},
     "output_type": "execute_result"
    }
   ],
   "source": [
    "outlier_treatment(df_outlier_treatment)"
   ]
  },
  {
   "cell_type": "markdown",
   "id": "c876518e",
   "metadata": {},
   "source": [
    "**Encoding**"
   ]
  },
  {
   "cell_type": "markdown",
   "id": "7f3a2eac",
   "metadata": {},
   "source": [
    "**Label Encoding**"
   ]
  },
  {
   "cell_type": "code",
   "execution_count": 58,
   "id": "5e35ea6f",
   "metadata": {},
   "outputs": [],
   "source": [
    "from sklearn.preprocessing import LabelEncoder\n",
    "\n",
    "df_nominal = pd.DataFrame({'state':['CA','NY','TX','CA','TX','NY','CA'], 'salary':[50000,60000,70000,55000,65000,75000,60000]})"
   ]
  },
  {
   "cell_type": "code",
   "execution_count": 59,
   "id": "ea3f4e46",
   "metadata": {},
   "outputs": [
    {
     "data": {
      "text/html": [
       "<div>\n",
       "<style scoped>\n",
       "    .dataframe tbody tr th:only-of-type {\n",
       "        vertical-align: middle;\n",
       "    }\n",
       "\n",
       "    .dataframe tbody tr th {\n",
       "        vertical-align: top;\n",
       "    }\n",
       "\n",
       "    .dataframe thead th {\n",
       "        text-align: right;\n",
       "    }\n",
       "</style>\n",
       "<table border=\"1\" class=\"dataframe\">\n",
       "  <thead>\n",
       "    <tr style=\"text-align: right;\">\n",
       "      <th></th>\n",
       "      <th>state</th>\n",
       "      <th>salary</th>\n",
       "    </tr>\n",
       "  </thead>\n",
       "  <tbody>\n",
       "    <tr>\n",
       "      <th>0</th>\n",
       "      <td>CA</td>\n",
       "      <td>50000</td>\n",
       "    </tr>\n",
       "    <tr>\n",
       "      <th>1</th>\n",
       "      <td>NY</td>\n",
       "      <td>60000</td>\n",
       "    </tr>\n",
       "    <tr>\n",
       "      <th>2</th>\n",
       "      <td>TX</td>\n",
       "      <td>70000</td>\n",
       "    </tr>\n",
       "    <tr>\n",
       "      <th>3</th>\n",
       "      <td>CA</td>\n",
       "      <td>55000</td>\n",
       "    </tr>\n",
       "    <tr>\n",
       "      <th>4</th>\n",
       "      <td>TX</td>\n",
       "      <td>65000</td>\n",
       "    </tr>\n",
       "    <tr>\n",
       "      <th>5</th>\n",
       "      <td>NY</td>\n",
       "      <td>75000</td>\n",
       "    </tr>\n",
       "    <tr>\n",
       "      <th>6</th>\n",
       "      <td>CA</td>\n",
       "      <td>60000</td>\n",
       "    </tr>\n",
       "  </tbody>\n",
       "</table>\n",
       "</div>"
      ],
      "text/plain": [
       "  state  salary\n",
       "0    CA   50000\n",
       "1    NY   60000\n",
       "2    TX   70000\n",
       "3    CA   55000\n",
       "4    TX   65000\n",
       "5    NY   75000\n",
       "6    CA   60000"
      ]
     },
     "execution_count": 59,
     "metadata": {},
     "output_type": "execute_result"
    }
   ],
   "source": [
    "df_nominal"
   ]
  },
  {
   "cell_type": "code",
   "execution_count": 60,
   "id": "18d939c7",
   "metadata": {},
   "outputs": [],
   "source": [
    "encoder = LabelEncoder()\n",
    "df_nominal['state_encoded'] = encoder.fit_transform(df_nominal['state'])"
   ]
  },
  {
   "cell_type": "code",
   "execution_count": 61,
   "id": "83ff5784",
   "metadata": {},
   "outputs": [
    {
     "data": {
      "text/html": [
       "<div>\n",
       "<style scoped>\n",
       "    .dataframe tbody tr th:only-of-type {\n",
       "        vertical-align: middle;\n",
       "    }\n",
       "\n",
       "    .dataframe tbody tr th {\n",
       "        vertical-align: top;\n",
       "    }\n",
       "\n",
       "    .dataframe thead th {\n",
       "        text-align: right;\n",
       "    }\n",
       "</style>\n",
       "<table border=\"1\" class=\"dataframe\">\n",
       "  <thead>\n",
       "    <tr style=\"text-align: right;\">\n",
       "      <th></th>\n",
       "      <th>state</th>\n",
       "      <th>salary</th>\n",
       "      <th>state_encoded</th>\n",
       "    </tr>\n",
       "  </thead>\n",
       "  <tbody>\n",
       "    <tr>\n",
       "      <th>0</th>\n",
       "      <td>CA</td>\n",
       "      <td>50000</td>\n",
       "      <td>0</td>\n",
       "    </tr>\n",
       "    <tr>\n",
       "      <th>1</th>\n",
       "      <td>NY</td>\n",
       "      <td>60000</td>\n",
       "      <td>1</td>\n",
       "    </tr>\n",
       "    <tr>\n",
       "      <th>2</th>\n",
       "      <td>TX</td>\n",
       "      <td>70000</td>\n",
       "      <td>2</td>\n",
       "    </tr>\n",
       "    <tr>\n",
       "      <th>3</th>\n",
       "      <td>CA</td>\n",
       "      <td>55000</td>\n",
       "      <td>0</td>\n",
       "    </tr>\n",
       "    <tr>\n",
       "      <th>4</th>\n",
       "      <td>TX</td>\n",
       "      <td>65000</td>\n",
       "      <td>2</td>\n",
       "    </tr>\n",
       "    <tr>\n",
       "      <th>5</th>\n",
       "      <td>NY</td>\n",
       "      <td>75000</td>\n",
       "      <td>1</td>\n",
       "    </tr>\n",
       "    <tr>\n",
       "      <th>6</th>\n",
       "      <td>CA</td>\n",
       "      <td>60000</td>\n",
       "      <td>0</td>\n",
       "    </tr>\n",
       "  </tbody>\n",
       "</table>\n",
       "</div>"
      ],
      "text/plain": [
       "  state  salary  state_encoded\n",
       "0    CA   50000              0\n",
       "1    NY   60000              1\n",
       "2    TX   70000              2\n",
       "3    CA   55000              0\n",
       "4    TX   65000              2\n",
       "5    NY   75000              1\n",
       "6    CA   60000              0"
      ]
     },
     "execution_count": 61,
     "metadata": {},
     "output_type": "execute_result"
    }
   ],
   "source": [
    "df_nominal"
   ]
  },
  {
   "cell_type": "markdown",
   "id": "6d24b3a5",
   "metadata": {},
   "source": [
    "**One Hot Encoding**"
   ]
  },
  {
   "cell_type": "code",
   "execution_count": 69,
   "id": "db7caddd",
   "metadata": {},
   "outputs": [],
   "source": [
    "from sklearn.preprocessing import OneHotEncoder\n",
    "onehot_encoder = OneHotEncoder(sparse=False)"
   ]
  },
  {
   "cell_type": "code",
   "execution_count": 72,
   "id": "510620e6",
   "metadata": {},
   "outputs": [
    {
     "name": "stderr",
     "output_type": "stream",
     "text": [
      "C:\\Users\\rahul\\anaconda3\\lib\\site-packages\\sklearn\\utils\\deprecation.py:87: FutureWarning: Function get_feature_names is deprecated; get_feature_names is deprecated in 1.0 and will be removed in 1.2. Please use get_feature_names_out instead.\n",
      "  warnings.warn(msg, category=FutureWarning)\n"
     ]
    }
   ],
   "source": [
    "state_encoded = onehot_encoder.fit_transform(df_nominal[['state']])\n",
    "state_columns = onehot_encoder.get_feature_names(['state'])"
   ]
  },
  {
   "cell_type": "code",
   "execution_count": 74,
   "id": "efc99c9f",
   "metadata": {},
   "outputs": [],
   "source": [
    "df_state_encoded = pd.DataFrame(state_encoded,columns=state_columns)"
   ]
  },
  {
   "cell_type": "code",
   "execution_count": 76,
   "id": "e8e3e43c",
   "metadata": {},
   "outputs": [
    {
     "data": {
      "text/html": [
       "<div>\n",
       "<style scoped>\n",
       "    .dataframe tbody tr th:only-of-type {\n",
       "        vertical-align: middle;\n",
       "    }\n",
       "\n",
       "    .dataframe tbody tr th {\n",
       "        vertical-align: top;\n",
       "    }\n",
       "\n",
       "    .dataframe thead th {\n",
       "        text-align: right;\n",
       "    }\n",
       "</style>\n",
       "<table border=\"1\" class=\"dataframe\">\n",
       "  <thead>\n",
       "    <tr style=\"text-align: right;\">\n",
       "      <th></th>\n",
       "      <th>state</th>\n",
       "      <th>salary</th>\n",
       "      <th>state_encoded</th>\n",
       "      <th>state_CA</th>\n",
       "      <th>state_NY</th>\n",
       "      <th>state_TX</th>\n",
       "    </tr>\n",
       "  </thead>\n",
       "  <tbody>\n",
       "    <tr>\n",
       "      <th>0</th>\n",
       "      <td>CA</td>\n",
       "      <td>50000</td>\n",
       "      <td>0</td>\n",
       "      <td>1.0</td>\n",
       "      <td>0.0</td>\n",
       "      <td>0.0</td>\n",
       "    </tr>\n",
       "    <tr>\n",
       "      <th>1</th>\n",
       "      <td>NY</td>\n",
       "      <td>60000</td>\n",
       "      <td>1</td>\n",
       "      <td>0.0</td>\n",
       "      <td>1.0</td>\n",
       "      <td>0.0</td>\n",
       "    </tr>\n",
       "    <tr>\n",
       "      <th>2</th>\n",
       "      <td>TX</td>\n",
       "      <td>70000</td>\n",
       "      <td>2</td>\n",
       "      <td>0.0</td>\n",
       "      <td>0.0</td>\n",
       "      <td>1.0</td>\n",
       "    </tr>\n",
       "    <tr>\n",
       "      <th>3</th>\n",
       "      <td>CA</td>\n",
       "      <td>55000</td>\n",
       "      <td>0</td>\n",
       "      <td>1.0</td>\n",
       "      <td>0.0</td>\n",
       "      <td>0.0</td>\n",
       "    </tr>\n",
       "    <tr>\n",
       "      <th>4</th>\n",
       "      <td>TX</td>\n",
       "      <td>65000</td>\n",
       "      <td>2</td>\n",
       "      <td>0.0</td>\n",
       "      <td>0.0</td>\n",
       "      <td>1.0</td>\n",
       "    </tr>\n",
       "    <tr>\n",
       "      <th>5</th>\n",
       "      <td>NY</td>\n",
       "      <td>75000</td>\n",
       "      <td>1</td>\n",
       "      <td>0.0</td>\n",
       "      <td>1.0</td>\n",
       "      <td>0.0</td>\n",
       "    </tr>\n",
       "    <tr>\n",
       "      <th>6</th>\n",
       "      <td>CA</td>\n",
       "      <td>60000</td>\n",
       "      <td>0</td>\n",
       "      <td>1.0</td>\n",
       "      <td>0.0</td>\n",
       "      <td>0.0</td>\n",
       "    </tr>\n",
       "  </tbody>\n",
       "</table>\n",
       "</div>"
      ],
      "text/plain": [
       "  state  salary  state_encoded  state_CA  state_NY  state_TX\n",
       "0    CA   50000              0       1.0       0.0       0.0\n",
       "1    NY   60000              1       0.0       1.0       0.0\n",
       "2    TX   70000              2       0.0       0.0       1.0\n",
       "3    CA   55000              0       1.0       0.0       0.0\n",
       "4    TX   65000              2       0.0       0.0       1.0\n",
       "5    NY   75000              1       0.0       1.0       0.0\n",
       "6    CA   60000              0       1.0       0.0       0.0"
      ]
     },
     "execution_count": 76,
     "metadata": {},
     "output_type": "execute_result"
    }
   ],
   "source": [
    "pd.concat([df_nominal,df_state_encoded],axis=1)"
   ]
  },
  {
   "cell_type": "markdown",
   "id": "0c90561d",
   "metadata": {},
   "source": [
    "**Ordinal data encoding**"
   ]
  },
  {
   "cell_type": "code",
   "execution_count": 62,
   "id": "7bda0dc1",
   "metadata": {},
   "outputs": [],
   "source": [
    "df_ordinal = pd.DataFrame({'feedback':['Poor','Average', 'Good', 'Excellent', 'Good', 'Poor', 'Average']})"
   ]
  },
  {
   "cell_type": "code",
   "execution_count": 63,
   "id": "7a43eb07",
   "metadata": {},
   "outputs": [
    {
     "data": {
      "text/html": [
       "<div>\n",
       "<style scoped>\n",
       "    .dataframe tbody tr th:only-of-type {\n",
       "        vertical-align: middle;\n",
       "    }\n",
       "\n",
       "    .dataframe tbody tr th {\n",
       "        vertical-align: top;\n",
       "    }\n",
       "\n",
       "    .dataframe thead th {\n",
       "        text-align: right;\n",
       "    }\n",
       "</style>\n",
       "<table border=\"1\" class=\"dataframe\">\n",
       "  <thead>\n",
       "    <tr style=\"text-align: right;\">\n",
       "      <th></th>\n",
       "      <th>feedback</th>\n",
       "    </tr>\n",
       "  </thead>\n",
       "  <tbody>\n",
       "    <tr>\n",
       "      <th>0</th>\n",
       "      <td>Poor</td>\n",
       "    </tr>\n",
       "    <tr>\n",
       "      <th>1</th>\n",
       "      <td>Average</td>\n",
       "    </tr>\n",
       "    <tr>\n",
       "      <th>2</th>\n",
       "      <td>Good</td>\n",
       "    </tr>\n",
       "    <tr>\n",
       "      <th>3</th>\n",
       "      <td>Excellent</td>\n",
       "    </tr>\n",
       "    <tr>\n",
       "      <th>4</th>\n",
       "      <td>Good</td>\n",
       "    </tr>\n",
       "    <tr>\n",
       "      <th>5</th>\n",
       "      <td>Poor</td>\n",
       "    </tr>\n",
       "    <tr>\n",
       "      <th>6</th>\n",
       "      <td>Average</td>\n",
       "    </tr>\n",
       "  </tbody>\n",
       "</table>\n",
       "</div>"
      ],
      "text/plain": [
       "    feedback\n",
       "0       Poor\n",
       "1    Average\n",
       "2       Good\n",
       "3  Excellent\n",
       "4       Good\n",
       "5       Poor\n",
       "6    Average"
      ]
     },
     "execution_count": 63,
     "metadata": {},
     "output_type": "execute_result"
    }
   ],
   "source": [
    "df_ordinal"
   ]
  },
  {
   "cell_type": "code",
   "execution_count": 64,
   "id": "0535bf05",
   "metadata": {},
   "outputs": [],
   "source": [
    "label_mapping = {'Poor':0, 'Average':1, 'Good':2, 'Excellent':3}"
   ]
  },
  {
   "cell_type": "code",
   "execution_count": 65,
   "id": "0d7d2e76",
   "metadata": {},
   "outputs": [
    {
     "data": {
      "text/plain": [
       "{'Poor': 0, 'Average': 1, 'Good': 2, 'Excellent': 3}"
      ]
     },
     "execution_count": 65,
     "metadata": {},
     "output_type": "execute_result"
    }
   ],
   "source": [
    "label_mapping"
   ]
  },
  {
   "cell_type": "code",
   "execution_count": 66,
   "id": "cd932a61",
   "metadata": {},
   "outputs": [],
   "source": [
    "df_ordinal['feedback_encoded'] = df_ordinal['feedback'].map(label_mapping)"
   ]
  },
  {
   "cell_type": "code",
   "execution_count": 67,
   "id": "574bd419",
   "metadata": {},
   "outputs": [
    {
     "data": {
      "text/html": [
       "<div>\n",
       "<style scoped>\n",
       "    .dataframe tbody tr th:only-of-type {\n",
       "        vertical-align: middle;\n",
       "    }\n",
       "\n",
       "    .dataframe tbody tr th {\n",
       "        vertical-align: top;\n",
       "    }\n",
       "\n",
       "    .dataframe thead th {\n",
       "        text-align: right;\n",
       "    }\n",
       "</style>\n",
       "<table border=\"1\" class=\"dataframe\">\n",
       "  <thead>\n",
       "    <tr style=\"text-align: right;\">\n",
       "      <th></th>\n",
       "      <th>feedback</th>\n",
       "      <th>feedback_encoded</th>\n",
       "    </tr>\n",
       "  </thead>\n",
       "  <tbody>\n",
       "    <tr>\n",
       "      <th>0</th>\n",
       "      <td>Poor</td>\n",
       "      <td>0</td>\n",
       "    </tr>\n",
       "    <tr>\n",
       "      <th>1</th>\n",
       "      <td>Average</td>\n",
       "      <td>1</td>\n",
       "    </tr>\n",
       "    <tr>\n",
       "      <th>2</th>\n",
       "      <td>Good</td>\n",
       "      <td>2</td>\n",
       "    </tr>\n",
       "    <tr>\n",
       "      <th>3</th>\n",
       "      <td>Excellent</td>\n",
       "      <td>3</td>\n",
       "    </tr>\n",
       "    <tr>\n",
       "      <th>4</th>\n",
       "      <td>Good</td>\n",
       "      <td>2</td>\n",
       "    </tr>\n",
       "    <tr>\n",
       "      <th>5</th>\n",
       "      <td>Poor</td>\n",
       "      <td>0</td>\n",
       "    </tr>\n",
       "    <tr>\n",
       "      <th>6</th>\n",
       "      <td>Average</td>\n",
       "      <td>1</td>\n",
       "    </tr>\n",
       "  </tbody>\n",
       "</table>\n",
       "</div>"
      ],
      "text/plain": [
       "    feedback  feedback_encoded\n",
       "0       Poor                 0\n",
       "1    Average                 1\n",
       "2       Good                 2\n",
       "3  Excellent                 3\n",
       "4       Good                 2\n",
       "5       Poor                 0\n",
       "6    Average                 1"
      ]
     },
     "execution_count": 67,
     "metadata": {},
     "output_type": "execute_result"
    }
   ],
   "source": [
    "df_ordinal"
   ]
  },
  {
   "cell_type": "markdown",
   "id": "43b54396",
   "metadata": {},
   "source": [
    "**Feature Scaling**"
   ]
  },
  {
   "cell_type": "markdown",
   "id": "be903d17",
   "metadata": {},
   "source": [
    "**Standard Scaler** - SKLearn uses population standard deviation formula to do the calculations"
   ]
  },
  {
   "attachments": {
    "ss.PNG": {
     "image/png": "[encoded data removed]"
    }
   },
   "cell_type": "markdown",
   "id": "624e4c0c",
   "metadata": {},
   "source": [
    "![ss.PNG](attachment:ss.PNG)"
   ]
  },
  {
   "cell_type": "code",
   "execution_count": 79,
   "id": "3f2c53dc",
   "metadata": {},
   "outputs": [
    {
     "data": {
      "text/html": [
       "<div>\n",
       "<style scoped>\n",
       "    .dataframe tbody tr th:only-of-type {\n",
       "        vertical-align: middle;\n",
       "    }\n",
       "\n",
       "    .dataframe tbody tr th {\n",
       "        vertical-align: top;\n",
       "    }\n",
       "\n",
       "    .dataframe thead th {\n",
       "        text-align: right;\n",
       "    }\n",
       "</style>\n",
       "<table border=\"1\" class=\"dataframe\">\n",
       "  <thead>\n",
       "    <tr style=\"text-align: right;\">\n",
       "      <th></th>\n",
       "      <th>State</th>\n",
       "      <th>Age</th>\n",
       "      <th>Salary</th>\n",
       "      <th>Purchase</th>\n",
       "    </tr>\n",
       "  </thead>\n",
       "  <tbody>\n",
       "    <tr>\n",
       "      <th>0</th>\n",
       "      <td>California</td>\n",
       "      <td>21</td>\n",
       "      <td>21000</td>\n",
       "      <td>No</td>\n",
       "    </tr>\n",
       "    <tr>\n",
       "      <th>1</th>\n",
       "      <td>Texas</td>\n",
       "      <td>25</td>\n",
       "      <td>25000</td>\n",
       "      <td>No</td>\n",
       "    </tr>\n",
       "    <tr>\n",
       "      <th>2</th>\n",
       "      <td>Arizona</td>\n",
       "      <td>23</td>\n",
       "      <td>25000</td>\n",
       "      <td>Yes</td>\n",
       "    </tr>\n",
       "    <tr>\n",
       "      <th>3</th>\n",
       "      <td>Utah</td>\n",
       "      <td>33</td>\n",
       "      <td>30000</td>\n",
       "      <td>Yes</td>\n",
       "    </tr>\n",
       "    <tr>\n",
       "      <th>4</th>\n",
       "      <td>California</td>\n",
       "      <td>45</td>\n",
       "      <td>35000</td>\n",
       "      <td>Yes</td>\n",
       "    </tr>\n",
       "  </tbody>\n",
       "</table>\n",
       "</div>"
      ],
      "text/plain": [
       "        State  Age  Salary Purchase\n",
       "0  California   21   21000       No\n",
       "1       Texas   25   25000       No\n",
       "2     Arizona   23   25000      Yes\n",
       "3        Utah   33   30000      Yes\n",
       "4  California   45   35000      Yes"
      ]
     },
     "execution_count": 79,
     "metadata": {},
     "output_type": "execute_result"
    }
   ],
   "source": [
    "df_standard"
   ]
  },
  {
   "cell_type": "code",
   "execution_count": 80,
   "id": "07fb3355",
   "metadata": {},
   "outputs": [],
   "source": [
    "from sklearn.preprocessing import StandardScaler\n",
    "\n",
    "sc_x = StandardScaler()\n",
    "x_std = df_standard.iloc[:,1:3].values\n",
    "x_std = sc_x.fit_transform(x_std)"
   ]
  },
  {
   "cell_type": "code",
   "execution_count": 81,
   "id": "363b6196",
   "metadata": {},
   "outputs": [
    {
     "data": {
      "text/plain": [
       "array([[-0.95454545, -1.28278913],\n",
       "       [-0.5       , -0.45518324],\n",
       "       [-0.72727273, -0.45518324],\n",
       "       [ 0.40909091,  0.57932412],\n",
       "       [ 1.77272727,  1.61383148]])"
      ]
     },
     "execution_count": 81,
     "metadata": {},
     "output_type": "execute_result"
    }
   ],
   "source": [
    "x_std"
   ]
  },
  {
   "cell_type": "markdown",
   "id": "5820e0e7",
   "metadata": {},
   "source": [
    "**Min Max Scalar** - In the min max scaler the values will vary from 0 to 1 "
   ]
  },
  {
   "attachments": {
    "Capture.PNG": {
     "image/png": "[encoded data removed]"
    }
   },
   "cell_type": "markdown",
   "id": "33b3afdc",
   "metadata": {},
   "source": [
    "![Capture.PNG](attachment:Capture.PNG)"
   ]
  },
  {
   "cell_type": "code",
   "execution_count": 82,
   "id": "c65cdd7f",
   "metadata": {},
   "outputs": [],
   "source": [
    "from sklearn.preprocessing import MinMaxScaler\n",
    "\n",
    "mm_x = MinMaxScaler()\n",
    "x_mm = df_standard.iloc[:,1:3].values\n",
    "x_mm = mm_x.fit_transform(x_mm)"
   ]
  },
  {
   "cell_type": "code",
   "execution_count": 83,
   "id": "3c33b898",
   "metadata": {},
   "outputs": [
    {
     "data": {
      "text/plain": [
       "array([[0.        , 0.        ],\n",
       "       [0.16666667, 0.28571429],\n",
       "       [0.08333333, 0.28571429],\n",
       "       [0.5       , 0.64285714],\n",
       "       [1.        , 1.        ]])"
      ]
     },
     "execution_count": 83,
     "metadata": {},
     "output_type": "execute_result"
    }
   ],
   "source": [
    "x_mm"
   ]
  },
  {
   "cell_type": "markdown",
   "id": "3d2bceb7",
   "metadata": {},
   "source": [
    "**Robust Scaler** - We are using median and percentiles to transform the data"
   ]
  },
  {
   "attachments": {
    "ss.PNG": {
     "image/png": "[encoded data removed]"
    }
   },
   "cell_type": "markdown",
   "id": "c8645ab6",
   "metadata": {},
   "source": [
    "![ss.PNG](attachment:ss.PNG)"
   ]
  },
  {
   "cell_type": "code",
   "execution_count": 84,
   "id": "5ac6c936",
   "metadata": {},
   "outputs": [],
   "source": [
    "from sklearn.preprocessing import RobustScaler\n",
    "\n",
    "rb_x = RobustScaler()\n",
    "x_rb = df_standard.iloc[:,1:3].values\n",
    "x_rb = rb_x.fit_transform(x_rb)"
   ]
  },
  {
   "cell_type": "code",
   "execution_count": 85,
   "id": "8931e231",
   "metadata": {},
   "outputs": [
    {
     "data": {
      "text/plain": [
       "array([[-0.4, -0.8],\n",
       "       [ 0. ,  0. ],\n",
       "       [-0.2,  0. ],\n",
       "       [ 0.8,  1. ],\n",
       "       [ 2. ,  2. ]])"
      ]
     },
     "execution_count": 85,
     "metadata": {},
     "output_type": "execute_result"
    }
   ],
   "source": [
    "x_rb"
   ]
  },
  {
   "cell_type": "markdown",
   "id": "1755b86e",
   "metadata": {},
   "source": [
    "**Max Absolute Scaler** - Division of all the data points with the absolute value of max of x"
   ]
  },
  {
   "attachments": {
    "ss.PNG": {
     "image/png": "[encoded data removed]"
    }
   },
   "cell_type": "markdown",
   "id": "6af4b00e",
   "metadata": {},
   "source": [
    "![ss.PNG](attachment:ss.PNG)"
   ]
  },
  {
   "cell_type": "code",
   "execution_count": 86,
   "id": "c6f7704a",
   "metadata": {},
   "outputs": [],
   "source": [
    "from sklearn.preprocessing import MaxAbsScaler\n",
    "\n",
    "ma_x = MaxAbsScaler()\n",
    "x_ma = df_standard.iloc[:,1:3].values\n",
    "x_ma = ma_x.fit_transform(x_ma)"
   ]
  },
  {
   "cell_type": "code",
   "execution_count": 87,
   "id": "4fe4704a",
   "metadata": {},
   "outputs": [
    {
     "data": {
      "text/plain": [
       "array([[0.46666667, 0.6       ],\n",
       "       [0.55555556, 0.71428571],\n",
       "       [0.51111111, 0.71428571],\n",
       "       [0.73333333, 0.85714286],\n",
       "       [1.        , 1.        ]])"
      ]
     },
     "execution_count": 87,
     "metadata": {},
     "output_type": "execute_result"
    }
   ],
   "source": [
    "x_ma"
   ]
  }
 ],
 "metadata": {
  "kernelspec": {
   "display_name": "Python 3 (ipykernel)",
   "language": "python",
   "name": "python3"
  },
  "language_info": {
   "codemirror_mode": {
    "name": "ipython",
    "version": 3
   },
   "file_extension": ".py",
   "mimetype": "text/x-python",
   "name": "python",
   "nbconvert_exporter": "python",
   "pygments_lexer": "ipython3",
   "version": "3.9.13"
  }
 },
 "nbformat": 4,
 "nbformat_minor": 5
}
